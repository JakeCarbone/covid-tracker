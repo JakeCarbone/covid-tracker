{
 "cells": [
  {
   "cell_type": "markdown",
   "metadata": {},
   "source": [
    "# Exploring Our World in Data  COVID-19 data"
   ]
  },
  {
   "cell_type": "markdown",
   "metadata": {},
   "source": [
    "Imports"
   ]
  },
  {
   "cell_type": "code",
   "execution_count": 48,
   "metadata": {},
   "outputs": [],
   "source": [
    "import pandas as pd\n",
    "import numpy as np\n",
    "from tqdm import tqdm"
   ]
  },
  {
   "cell_type": "code",
   "execution_count": 49,
   "metadata": {},
   "outputs": [],
   "source": [
    "import datetime\n"
   ]
  },
  {
   "source": [
    "To seperate out the countries in this data we need country iso-3 codes. There is a data set of this all [here](https://www.iban.com/country-codes). Luckily we can download the data in one line of code with pandas read_html function."
   ],
   "cell_type": "markdown",
   "metadata": {}
  },
  {
   "cell_type": "code",
   "execution_count": 50,
   "metadata": {},
   "outputs": [],
   "source": [
    "country_codes = pd.read_html('https://www.iban.com/country-codes')[0]"
   ]
  },
  {
   "cell_type": "code",
   "execution_count": 51,
   "metadata": {},
   "outputs": [
    {
     "output_type": "execute_result",
     "data": {
      "text/plain": [
       "               Country Alpha-2 code Alpha-3 code  Numeric\n",
       "0          Afghanistan           AF          AFG        4\n",
       "1        Åland Islands           AX          ALA      248\n",
       "2              Albania           AL          ALB        8\n",
       "3              Algeria           DZ          DZA       12\n",
       "4       American Samoa           AS          ASM       16\n",
       "..                 ...          ...          ...      ...\n",
       "244  Wallis and Futuna           WF          WLF      876\n",
       "245     Western Sahara           EH          ESH      732\n",
       "246              Yemen           YE          YEM      887\n",
       "247             Zambia           ZM          ZMB      894\n",
       "248           Zimbabwe           ZW          ZWE      716\n",
       "\n",
       "[249 rows x 4 columns]"
      ],
      "text/html": "<div>\n<style scoped>\n    .dataframe tbody tr th:only-of-type {\n        vertical-align: middle;\n    }\n\n    .dataframe tbody tr th {\n        vertical-align: top;\n    }\n\n    .dataframe thead th {\n        text-align: right;\n    }\n</style>\n<table border=\"1\" class=\"dataframe\">\n  <thead>\n    <tr style=\"text-align: right;\">\n      <th></th>\n      <th>Country</th>\n      <th>Alpha-2 code</th>\n      <th>Alpha-3 code</th>\n      <th>Numeric</th>\n    </tr>\n  </thead>\n  <tbody>\n    <tr>\n      <th>0</th>\n      <td>Afghanistan</td>\n      <td>AF</td>\n      <td>AFG</td>\n      <td>4</td>\n    </tr>\n    <tr>\n      <th>1</th>\n      <td>Åland Islands</td>\n      <td>AX</td>\n      <td>ALA</td>\n      <td>248</td>\n    </tr>\n    <tr>\n      <th>2</th>\n      <td>Albania</td>\n      <td>AL</td>\n      <td>ALB</td>\n      <td>8</td>\n    </tr>\n    <tr>\n      <th>3</th>\n      <td>Algeria</td>\n      <td>DZ</td>\n      <td>DZA</td>\n      <td>12</td>\n    </tr>\n    <tr>\n      <th>4</th>\n      <td>American Samoa</td>\n      <td>AS</td>\n      <td>ASM</td>\n      <td>16</td>\n    </tr>\n    <tr>\n      <th>...</th>\n      <td>...</td>\n      <td>...</td>\n      <td>...</td>\n      <td>...</td>\n    </tr>\n    <tr>\n      <th>244</th>\n      <td>Wallis and Futuna</td>\n      <td>WF</td>\n      <td>WLF</td>\n      <td>876</td>\n    </tr>\n    <tr>\n      <th>245</th>\n      <td>Western Sahara</td>\n      <td>EH</td>\n      <td>ESH</td>\n      <td>732</td>\n    </tr>\n    <tr>\n      <th>246</th>\n      <td>Yemen</td>\n      <td>YE</td>\n      <td>YEM</td>\n      <td>887</td>\n    </tr>\n    <tr>\n      <th>247</th>\n      <td>Zambia</td>\n      <td>ZM</td>\n      <td>ZMB</td>\n      <td>894</td>\n    </tr>\n    <tr>\n      <th>248</th>\n      <td>Zimbabwe</td>\n      <td>ZW</td>\n      <td>ZWE</td>\n      <td>716</td>\n    </tr>\n  </tbody>\n</table>\n<p>249 rows × 4 columns</p>\n</div>"
     },
     "metadata": {},
     "execution_count": 51
    }
   ],
   "source": [
    "country_codes"
   ]
  },
  {
   "source": [
    "Lets save this for future use and incase the website ever goes down."
   ],
   "cell_type": "markdown",
   "metadata": {}
  },
  {
   "cell_type": "code",
   "execution_count": 52,
   "metadata": {},
   "outputs": [],
   "source": [
    "country_codes.to_csv('data/country_codes.csv', index=False)"
   ]
  },
  {
   "cell_type": "markdown",
   "metadata": {},
   "source": [
    "Using the github download link we can pull the latest OWID COVID data straight from github"
   ]
  },
  {
   "cell_type": "code",
   "execution_count": 53,
   "metadata": {},
   "outputs": [
    {
     "output_type": "execute_result",
     "data": {
      "text/plain": [
       "      iso_code continent     location        date  total_cases  new_cases  \\\n",
       "0          AFG      Asia  Afghanistan  2020-02-24          1.0        1.0   \n",
       "1          AFG      Asia  Afghanistan  2020-02-25          1.0        0.0   \n",
       "2          AFG      Asia  Afghanistan  2020-02-26          1.0        0.0   \n",
       "3          AFG      Asia  Afghanistan  2020-02-27          1.0        0.0   \n",
       "4          AFG      Asia  Afghanistan  2020-02-28          1.0        0.0   \n",
       "...        ...       ...          ...         ...          ...        ...   \n",
       "85166      ZWE    Africa     Zimbabwe  2021-04-26      38102.0       16.0   \n",
       "85167      ZWE    Africa     Zimbabwe  2021-04-27      38164.0       62.0   \n",
       "85168      ZWE    Africa     Zimbabwe  2021-04-28      38191.0       27.0   \n",
       "85169      ZWE    Africa     Zimbabwe  2021-04-29      38235.0       44.0   \n",
       "85170      ZWE    Africa     Zimbabwe  2021-04-30      38257.0       22.0   \n",
       "\n",
       "       new_cases_smoothed  total_deaths  new_deaths  new_deaths_smoothed  ...  \\\n",
       "0                     NaN           NaN         NaN                  NaN  ...   \n",
       "1                     NaN           NaN         NaN                  NaN  ...   \n",
       "2                     NaN           NaN         NaN                  NaN  ...   \n",
       "3                     NaN           NaN         NaN                  NaN  ...   \n",
       "4                     NaN           NaN         NaN                  NaN  ...   \n",
       "...                   ...           ...         ...                  ...  ...   \n",
       "85166              34.714        1560.0         3.0                1.000  ...   \n",
       "85167              41.286        1565.0         5.0                1.571  ...   \n",
       "85168              30.143        1565.0         0.0                1.429  ...   \n",
       "85169              31.000        1567.0         2.0                1.714  ...   \n",
       "85170              30.286        1567.0         0.0                1.571  ...   \n",
       "\n",
       "       gdp_per_capita  extreme_poverty  cardiovasc_death_rate  \\\n",
       "0            1803.987              NaN                597.029   \n",
       "1            1803.987              NaN                597.029   \n",
       "2            1803.987              NaN                597.029   \n",
       "3            1803.987              NaN                597.029   \n",
       "4            1803.987              NaN                597.029   \n",
       "...               ...              ...                    ...   \n",
       "85166        1899.775             21.4                307.846   \n",
       "85167        1899.775             21.4                307.846   \n",
       "85168        1899.775             21.4                307.846   \n",
       "85169        1899.775             21.4                307.846   \n",
       "85170        1899.775             21.4                307.846   \n",
       "\n",
       "       diabetes_prevalence  female_smokers  male_smokers  \\\n",
       "0                     9.59             NaN           NaN   \n",
       "1                     9.59             NaN           NaN   \n",
       "2                     9.59             NaN           NaN   \n",
       "3                     9.59             NaN           NaN   \n",
       "4                     9.59             NaN           NaN   \n",
       "...                    ...             ...           ...   \n",
       "85166                 1.82             1.6          30.7   \n",
       "85167                 1.82             1.6          30.7   \n",
       "85168                 1.82             1.6          30.7   \n",
       "85169                 1.82             1.6          30.7   \n",
       "85170                 1.82             1.6          30.7   \n",
       "\n",
       "       handwashing_facilities  hospital_beds_per_thousand  life_expectancy  \\\n",
       "0                      37.746                         0.5            64.83   \n",
       "1                      37.746                         0.5            64.83   \n",
       "2                      37.746                         0.5            64.83   \n",
       "3                      37.746                         0.5            64.83   \n",
       "4                      37.746                         0.5            64.83   \n",
       "...                       ...                         ...              ...   \n",
       "85166                  36.791                         1.7            61.49   \n",
       "85167                  36.791                         1.7            61.49   \n",
       "85168                  36.791                         1.7            61.49   \n",
       "85169                  36.791                         1.7            61.49   \n",
       "85170                  36.791                         1.7            61.49   \n",
       "\n",
       "       human_development_index  \n",
       "0                        0.511  \n",
       "1                        0.511  \n",
       "2                        0.511  \n",
       "3                        0.511  \n",
       "4                        0.511  \n",
       "...                        ...  \n",
       "85166                    0.571  \n",
       "85167                    0.571  \n",
       "85168                    0.571  \n",
       "85169                    0.571  \n",
       "85170                    0.571  \n",
       "\n",
       "[85171 rows x 59 columns]"
      ],
      "text/html": "<div>\n<style scoped>\n    .dataframe tbody tr th:only-of-type {\n        vertical-align: middle;\n    }\n\n    .dataframe tbody tr th {\n        vertical-align: top;\n    }\n\n    .dataframe thead th {\n        text-align: right;\n    }\n</style>\n<table border=\"1\" class=\"dataframe\">\n  <thead>\n    <tr style=\"text-align: right;\">\n      <th></th>\n      <th>iso_code</th>\n      <th>continent</th>\n      <th>location</th>\n      <th>date</th>\n      <th>total_cases</th>\n      <th>new_cases</th>\n      <th>new_cases_smoothed</th>\n      <th>total_deaths</th>\n      <th>new_deaths</th>\n      <th>new_deaths_smoothed</th>\n      <th>...</th>\n      <th>gdp_per_capita</th>\n      <th>extreme_poverty</th>\n      <th>cardiovasc_death_rate</th>\n      <th>diabetes_prevalence</th>\n      <th>female_smokers</th>\n      <th>male_smokers</th>\n      <th>handwashing_facilities</th>\n      <th>hospital_beds_per_thousand</th>\n      <th>life_expectancy</th>\n      <th>human_development_index</th>\n    </tr>\n  </thead>\n  <tbody>\n    <tr>\n      <th>0</th>\n      <td>AFG</td>\n      <td>Asia</td>\n      <td>Afghanistan</td>\n      <td>2020-02-24</td>\n      <td>1.0</td>\n      <td>1.0</td>\n      <td>NaN</td>\n      <td>NaN</td>\n      <td>NaN</td>\n      <td>NaN</td>\n      <td>...</td>\n      <td>1803.987</td>\n      <td>NaN</td>\n      <td>597.029</td>\n      <td>9.59</td>\n      <td>NaN</td>\n      <td>NaN</td>\n      <td>37.746</td>\n      <td>0.5</td>\n      <td>64.83</td>\n      <td>0.511</td>\n    </tr>\n    <tr>\n      <th>1</th>\n      <td>AFG</td>\n      <td>Asia</td>\n      <td>Afghanistan</td>\n      <td>2020-02-25</td>\n      <td>1.0</td>\n      <td>0.0</td>\n      <td>NaN</td>\n      <td>NaN</td>\n      <td>NaN</td>\n      <td>NaN</td>\n      <td>...</td>\n      <td>1803.987</td>\n      <td>NaN</td>\n      <td>597.029</td>\n      <td>9.59</td>\n      <td>NaN</td>\n      <td>NaN</td>\n      <td>37.746</td>\n      <td>0.5</td>\n      <td>64.83</td>\n      <td>0.511</td>\n    </tr>\n    <tr>\n      <th>2</th>\n      <td>AFG</td>\n      <td>Asia</td>\n      <td>Afghanistan</td>\n      <td>2020-02-26</td>\n      <td>1.0</td>\n      <td>0.0</td>\n      <td>NaN</td>\n      <td>NaN</td>\n      <td>NaN</td>\n      <td>NaN</td>\n      <td>...</td>\n      <td>1803.987</td>\n      <td>NaN</td>\n      <td>597.029</td>\n      <td>9.59</td>\n      <td>NaN</td>\n      <td>NaN</td>\n      <td>37.746</td>\n      <td>0.5</td>\n      <td>64.83</td>\n      <td>0.511</td>\n    </tr>\n    <tr>\n      <th>3</th>\n      <td>AFG</td>\n      <td>Asia</td>\n      <td>Afghanistan</td>\n      <td>2020-02-27</td>\n      <td>1.0</td>\n      <td>0.0</td>\n      <td>NaN</td>\n      <td>NaN</td>\n      <td>NaN</td>\n      <td>NaN</td>\n      <td>...</td>\n      <td>1803.987</td>\n      <td>NaN</td>\n      <td>597.029</td>\n      <td>9.59</td>\n      <td>NaN</td>\n      <td>NaN</td>\n      <td>37.746</td>\n      <td>0.5</td>\n      <td>64.83</td>\n      <td>0.511</td>\n    </tr>\n    <tr>\n      <th>4</th>\n      <td>AFG</td>\n      <td>Asia</td>\n      <td>Afghanistan</td>\n      <td>2020-02-28</td>\n      <td>1.0</td>\n      <td>0.0</td>\n      <td>NaN</td>\n      <td>NaN</td>\n      <td>NaN</td>\n      <td>NaN</td>\n      <td>...</td>\n      <td>1803.987</td>\n      <td>NaN</td>\n      <td>597.029</td>\n      <td>9.59</td>\n      <td>NaN</td>\n      <td>NaN</td>\n      <td>37.746</td>\n      <td>0.5</td>\n      <td>64.83</td>\n      <td>0.511</td>\n    </tr>\n    <tr>\n      <th>...</th>\n      <td>...</td>\n      <td>...</td>\n      <td>...</td>\n      <td>...</td>\n      <td>...</td>\n      <td>...</td>\n      <td>...</td>\n      <td>...</td>\n      <td>...</td>\n      <td>...</td>\n      <td>...</td>\n      <td>...</td>\n      <td>...</td>\n      <td>...</td>\n      <td>...</td>\n      <td>...</td>\n      <td>...</td>\n      <td>...</td>\n      <td>...</td>\n      <td>...</td>\n      <td>...</td>\n    </tr>\n    <tr>\n      <th>85166</th>\n      <td>ZWE</td>\n      <td>Africa</td>\n      <td>Zimbabwe</td>\n      <td>2021-04-26</td>\n      <td>38102.0</td>\n      <td>16.0</td>\n      <td>34.714</td>\n      <td>1560.0</td>\n      <td>3.0</td>\n      <td>1.000</td>\n      <td>...</td>\n      <td>1899.775</td>\n      <td>21.4</td>\n      <td>307.846</td>\n      <td>1.82</td>\n      <td>1.6</td>\n      <td>30.7</td>\n      <td>36.791</td>\n      <td>1.7</td>\n      <td>61.49</td>\n      <td>0.571</td>\n    </tr>\n    <tr>\n      <th>85167</th>\n      <td>ZWE</td>\n      <td>Africa</td>\n      <td>Zimbabwe</td>\n      <td>2021-04-27</td>\n      <td>38164.0</td>\n      <td>62.0</td>\n      <td>41.286</td>\n      <td>1565.0</td>\n      <td>5.0</td>\n      <td>1.571</td>\n      <td>...</td>\n      <td>1899.775</td>\n      <td>21.4</td>\n      <td>307.846</td>\n      <td>1.82</td>\n      <td>1.6</td>\n      <td>30.7</td>\n      <td>36.791</td>\n      <td>1.7</td>\n      <td>61.49</td>\n      <td>0.571</td>\n    </tr>\n    <tr>\n      <th>85168</th>\n      <td>ZWE</td>\n      <td>Africa</td>\n      <td>Zimbabwe</td>\n      <td>2021-04-28</td>\n      <td>38191.0</td>\n      <td>27.0</td>\n      <td>30.143</td>\n      <td>1565.0</td>\n      <td>0.0</td>\n      <td>1.429</td>\n      <td>...</td>\n      <td>1899.775</td>\n      <td>21.4</td>\n      <td>307.846</td>\n      <td>1.82</td>\n      <td>1.6</td>\n      <td>30.7</td>\n      <td>36.791</td>\n      <td>1.7</td>\n      <td>61.49</td>\n      <td>0.571</td>\n    </tr>\n    <tr>\n      <th>85169</th>\n      <td>ZWE</td>\n      <td>Africa</td>\n      <td>Zimbabwe</td>\n      <td>2021-04-29</td>\n      <td>38235.0</td>\n      <td>44.0</td>\n      <td>31.000</td>\n      <td>1567.0</td>\n      <td>2.0</td>\n      <td>1.714</td>\n      <td>...</td>\n      <td>1899.775</td>\n      <td>21.4</td>\n      <td>307.846</td>\n      <td>1.82</td>\n      <td>1.6</td>\n      <td>30.7</td>\n      <td>36.791</td>\n      <td>1.7</td>\n      <td>61.49</td>\n      <td>0.571</td>\n    </tr>\n    <tr>\n      <th>85170</th>\n      <td>ZWE</td>\n      <td>Africa</td>\n      <td>Zimbabwe</td>\n      <td>2021-04-30</td>\n      <td>38257.0</td>\n      <td>22.0</td>\n      <td>30.286</td>\n      <td>1567.0</td>\n      <td>0.0</td>\n      <td>1.571</td>\n      <td>...</td>\n      <td>1899.775</td>\n      <td>21.4</td>\n      <td>307.846</td>\n      <td>1.82</td>\n      <td>1.6</td>\n      <td>30.7</td>\n      <td>36.791</td>\n      <td>1.7</td>\n      <td>61.49</td>\n      <td>0.571</td>\n    </tr>\n  </tbody>\n</table>\n<p>85171 rows × 59 columns</p>\n</div>"
     },
     "metadata": {},
     "execution_count": 53
    }
   ],
   "source": [
    "data_link = 'https://github.com/owid/covid-19-data/raw/master/public/data/owid-covid-data.csv'\n",
    "\n",
    "df = pd.read_csv(data_link)\n",
    "\n",
    "df"
   ]
  },
  {
   "cell_type": "code",
   "execution_count": 54,
   "metadata": {},
   "outputs": [],
   "source": [
    "def interpret_date(value):\n",
    "    year, month, day = value.split('-')\n",
    "\n",
    "    return datetime.date(int(year), int(month), int(day))"
   ]
  },
  {
   "cell_type": "code",
   "execution_count": 55,
   "metadata": {},
   "outputs": [],
   "source": [
    "df['date'] = df['date'].apply(interpret_date)\n",
    "\n",
    "df = df.sort_values('date')"
   ]
  },
  {
   "cell_type": "code",
   "execution_count": 56,
   "metadata": {},
   "outputs": [
    {
     "output_type": "execute_result",
     "data": {
      "text/plain": [
       "      iso_code      continent    location        date  total_cases  new_cases  \\\n",
       "3061       ARG  South America   Argentina  2020-01-01          NaN        NaN   \n",
       "49485      MEX  North America      Mexico  2020-01-01          NaN        NaN   \n",
       "3062       ARG  South America   Argentina  2020-01-02          NaN        NaN   \n",
       "49486      MEX  North America      Mexico  2020-01-02          NaN        NaN   \n",
       "49487      MEX  North America      Mexico  2020-01-03          NaN        NaN   \n",
       "...        ...            ...         ...         ...          ...        ...   \n",
       "27361      FJI        Oceania        Fiji  2021-04-30        117.0        1.0   \n",
       "68821      SGP           Asia   Singapore  2021-04-30      61145.0       24.0   \n",
       "2568       AGO         Africa      Angola  2021-04-30      26652.0      221.0   \n",
       "67961      SYC         Africa  Seychelles  2021-04-30       5873.0      314.0   \n",
       "85170      ZWE         Africa    Zimbabwe  2021-04-30      38257.0       22.0   \n",
       "\n",
       "       new_cases_smoothed  total_deaths  new_deaths  new_deaths_smoothed  ...  \\\n",
       "3061                  NaN           NaN         NaN                  NaN  ...   \n",
       "49485                 NaN           NaN         NaN                  NaN  ...   \n",
       "3062                  NaN           NaN         NaN                  NaN  ...   \n",
       "49486                 NaN           NaN         NaN                  NaN  ...   \n",
       "49487                 NaN           NaN         NaN                  NaN  ...   \n",
       "...                   ...           ...         ...                  ...  ...   \n",
       "27361               4.429           2.0         0.0                0.000  ...   \n",
       "68821              28.857          30.0         0.0                0.000  ...   \n",
       "2568              196.143         596.0         2.0                3.143  ...   \n",
       "67961              95.286          28.0         2.0                0.286  ...   \n",
       "85170              30.286        1567.0         0.0                1.571  ...   \n",
       "\n",
       "       gdp_per_capita  extreme_poverty  cardiovasc_death_rate  \\\n",
       "3061        18933.907              0.6                191.032   \n",
       "49485       17336.469              2.5                152.783   \n",
       "3062        18933.907              0.6                191.032   \n",
       "49486       17336.469              2.5                152.783   \n",
       "49487       17336.469              2.5                152.783   \n",
       "...               ...              ...                    ...   \n",
       "27361        8702.975              1.4                412.820   \n",
       "68821       85535.383              NaN                 92.243   \n",
       "2568         5819.495              NaN                276.045   \n",
       "67961       26382.287              1.1                242.648   \n",
       "85170        1899.775             21.4                307.846   \n",
       "\n",
       "       diabetes_prevalence  female_smokers  male_smokers  \\\n",
       "3061                  5.50            16.2          27.7   \n",
       "49485                13.06             6.9          21.4   \n",
       "3062                  5.50            16.2          27.7   \n",
       "49486                13.06             6.9          21.4   \n",
       "49487                13.06             6.9          21.4   \n",
       "...                    ...             ...           ...   \n",
       "27361                14.49            10.2          34.8   \n",
       "68821                10.99             5.2          28.3   \n",
       "2568                  3.94             NaN           NaN   \n",
       "67961                10.55             7.1          35.7   \n",
       "85170                 1.82             1.6          30.7   \n",
       "\n",
       "       handwashing_facilities  hospital_beds_per_thousand  life_expectancy  \\\n",
       "3061                      NaN                        5.00            76.67   \n",
       "49485                  87.847                        1.38            75.05   \n",
       "3062                      NaN                        5.00            76.67   \n",
       "49486                  87.847                        1.38            75.05   \n",
       "49487                  87.847                        1.38            75.05   \n",
       "...                       ...                         ...              ...   \n",
       "27361                     NaN                        2.30            67.44   \n",
       "68821                     NaN                        2.40            83.62   \n",
       "2568                   26.664                         NaN            61.15   \n",
       "67961                     NaN                        3.60            73.40   \n",
       "85170                  36.791                        1.70            61.49   \n",
       "\n",
       "       human_development_index  \n",
       "3061                     0.845  \n",
       "49485                    0.779  \n",
       "3062                     0.845  \n",
       "49486                    0.779  \n",
       "49487                    0.779  \n",
       "...                        ...  \n",
       "27361                    0.743  \n",
       "68821                    0.938  \n",
       "2568                     0.581  \n",
       "67961                    0.796  \n",
       "85170                    0.571  \n",
       "\n",
       "[85171 rows x 59 columns]"
      ],
      "text/html": "<div>\n<style scoped>\n    .dataframe tbody tr th:only-of-type {\n        vertical-align: middle;\n    }\n\n    .dataframe tbody tr th {\n        vertical-align: top;\n    }\n\n    .dataframe thead th {\n        text-align: right;\n    }\n</style>\n<table border=\"1\" class=\"dataframe\">\n  <thead>\n    <tr style=\"text-align: right;\">\n      <th></th>\n      <th>iso_code</th>\n      <th>continent</th>\n      <th>location</th>\n      <th>date</th>\n      <th>total_cases</th>\n      <th>new_cases</th>\n      <th>new_cases_smoothed</th>\n      <th>total_deaths</th>\n      <th>new_deaths</th>\n      <th>new_deaths_smoothed</th>\n      <th>...</th>\n      <th>gdp_per_capita</th>\n      <th>extreme_poverty</th>\n      <th>cardiovasc_death_rate</th>\n      <th>diabetes_prevalence</th>\n      <th>female_smokers</th>\n      <th>male_smokers</th>\n      <th>handwashing_facilities</th>\n      <th>hospital_beds_per_thousand</th>\n      <th>life_expectancy</th>\n      <th>human_development_index</th>\n    </tr>\n  </thead>\n  <tbody>\n    <tr>\n      <th>3061</th>\n      <td>ARG</td>\n      <td>South America</td>\n      <td>Argentina</td>\n      <td>2020-01-01</td>\n      <td>NaN</td>\n      <td>NaN</td>\n      <td>NaN</td>\n      <td>NaN</td>\n      <td>NaN</td>\n      <td>NaN</td>\n      <td>...</td>\n      <td>18933.907</td>\n      <td>0.6</td>\n      <td>191.032</td>\n      <td>5.50</td>\n      <td>16.2</td>\n      <td>27.7</td>\n      <td>NaN</td>\n      <td>5.00</td>\n      <td>76.67</td>\n      <td>0.845</td>\n    </tr>\n    <tr>\n      <th>49485</th>\n      <td>MEX</td>\n      <td>North America</td>\n      <td>Mexico</td>\n      <td>2020-01-01</td>\n      <td>NaN</td>\n      <td>NaN</td>\n      <td>NaN</td>\n      <td>NaN</td>\n      <td>NaN</td>\n      <td>NaN</td>\n      <td>...</td>\n      <td>17336.469</td>\n      <td>2.5</td>\n      <td>152.783</td>\n      <td>13.06</td>\n      <td>6.9</td>\n      <td>21.4</td>\n      <td>87.847</td>\n      <td>1.38</td>\n      <td>75.05</td>\n      <td>0.779</td>\n    </tr>\n    <tr>\n      <th>3062</th>\n      <td>ARG</td>\n      <td>South America</td>\n      <td>Argentina</td>\n      <td>2020-01-02</td>\n      <td>NaN</td>\n      <td>NaN</td>\n      <td>NaN</td>\n      <td>NaN</td>\n      <td>NaN</td>\n      <td>NaN</td>\n      <td>...</td>\n      <td>18933.907</td>\n      <td>0.6</td>\n      <td>191.032</td>\n      <td>5.50</td>\n      <td>16.2</td>\n      <td>27.7</td>\n      <td>NaN</td>\n      <td>5.00</td>\n      <td>76.67</td>\n      <td>0.845</td>\n    </tr>\n    <tr>\n      <th>49486</th>\n      <td>MEX</td>\n      <td>North America</td>\n      <td>Mexico</td>\n      <td>2020-01-02</td>\n      <td>NaN</td>\n      <td>NaN</td>\n      <td>NaN</td>\n      <td>NaN</td>\n      <td>NaN</td>\n      <td>NaN</td>\n      <td>...</td>\n      <td>17336.469</td>\n      <td>2.5</td>\n      <td>152.783</td>\n      <td>13.06</td>\n      <td>6.9</td>\n      <td>21.4</td>\n      <td>87.847</td>\n      <td>1.38</td>\n      <td>75.05</td>\n      <td>0.779</td>\n    </tr>\n    <tr>\n      <th>49487</th>\n      <td>MEX</td>\n      <td>North America</td>\n      <td>Mexico</td>\n      <td>2020-01-03</td>\n      <td>NaN</td>\n      <td>NaN</td>\n      <td>NaN</td>\n      <td>NaN</td>\n      <td>NaN</td>\n      <td>NaN</td>\n      <td>...</td>\n      <td>17336.469</td>\n      <td>2.5</td>\n      <td>152.783</td>\n      <td>13.06</td>\n      <td>6.9</td>\n      <td>21.4</td>\n      <td>87.847</td>\n      <td>1.38</td>\n      <td>75.05</td>\n      <td>0.779</td>\n    </tr>\n    <tr>\n      <th>...</th>\n      <td>...</td>\n      <td>...</td>\n      <td>...</td>\n      <td>...</td>\n      <td>...</td>\n      <td>...</td>\n      <td>...</td>\n      <td>...</td>\n      <td>...</td>\n      <td>...</td>\n      <td>...</td>\n      <td>...</td>\n      <td>...</td>\n      <td>...</td>\n      <td>...</td>\n      <td>...</td>\n      <td>...</td>\n      <td>...</td>\n      <td>...</td>\n      <td>...</td>\n      <td>...</td>\n    </tr>\n    <tr>\n      <th>27361</th>\n      <td>FJI</td>\n      <td>Oceania</td>\n      <td>Fiji</td>\n      <td>2021-04-30</td>\n      <td>117.0</td>\n      <td>1.0</td>\n      <td>4.429</td>\n      <td>2.0</td>\n      <td>0.0</td>\n      <td>0.000</td>\n      <td>...</td>\n      <td>8702.975</td>\n      <td>1.4</td>\n      <td>412.820</td>\n      <td>14.49</td>\n      <td>10.2</td>\n      <td>34.8</td>\n      <td>NaN</td>\n      <td>2.30</td>\n      <td>67.44</td>\n      <td>0.743</td>\n    </tr>\n    <tr>\n      <th>68821</th>\n      <td>SGP</td>\n      <td>Asia</td>\n      <td>Singapore</td>\n      <td>2021-04-30</td>\n      <td>61145.0</td>\n      <td>24.0</td>\n      <td>28.857</td>\n      <td>30.0</td>\n      <td>0.0</td>\n      <td>0.000</td>\n      <td>...</td>\n      <td>85535.383</td>\n      <td>NaN</td>\n      <td>92.243</td>\n      <td>10.99</td>\n      <td>5.2</td>\n      <td>28.3</td>\n      <td>NaN</td>\n      <td>2.40</td>\n      <td>83.62</td>\n      <td>0.938</td>\n    </tr>\n    <tr>\n      <th>2568</th>\n      <td>AGO</td>\n      <td>Africa</td>\n      <td>Angola</td>\n      <td>2021-04-30</td>\n      <td>26652.0</td>\n      <td>221.0</td>\n      <td>196.143</td>\n      <td>596.0</td>\n      <td>2.0</td>\n      <td>3.143</td>\n      <td>...</td>\n      <td>5819.495</td>\n      <td>NaN</td>\n      <td>276.045</td>\n      <td>3.94</td>\n      <td>NaN</td>\n      <td>NaN</td>\n      <td>26.664</td>\n      <td>NaN</td>\n      <td>61.15</td>\n      <td>0.581</td>\n    </tr>\n    <tr>\n      <th>67961</th>\n      <td>SYC</td>\n      <td>Africa</td>\n      <td>Seychelles</td>\n      <td>2021-04-30</td>\n      <td>5873.0</td>\n      <td>314.0</td>\n      <td>95.286</td>\n      <td>28.0</td>\n      <td>2.0</td>\n      <td>0.286</td>\n      <td>...</td>\n      <td>26382.287</td>\n      <td>1.1</td>\n      <td>242.648</td>\n      <td>10.55</td>\n      <td>7.1</td>\n      <td>35.7</td>\n      <td>NaN</td>\n      <td>3.60</td>\n      <td>73.40</td>\n      <td>0.796</td>\n    </tr>\n    <tr>\n      <th>85170</th>\n      <td>ZWE</td>\n      <td>Africa</td>\n      <td>Zimbabwe</td>\n      <td>2021-04-30</td>\n      <td>38257.0</td>\n      <td>22.0</td>\n      <td>30.286</td>\n      <td>1567.0</td>\n      <td>0.0</td>\n      <td>1.571</td>\n      <td>...</td>\n      <td>1899.775</td>\n      <td>21.4</td>\n      <td>307.846</td>\n      <td>1.82</td>\n      <td>1.6</td>\n      <td>30.7</td>\n      <td>36.791</td>\n      <td>1.70</td>\n      <td>61.49</td>\n      <td>0.571</td>\n    </tr>\n  </tbody>\n</table>\n<p>85171 rows × 59 columns</p>\n</div>"
     },
     "metadata": {},
     "execution_count": 56
    }
   ],
   "source": [
    "df"
   ]
  },
  {
   "source": [
    "## Analysing the countries in the data set"
   ],
   "cell_type": "markdown",
   "metadata": {}
  },
  {
   "cell_type": "code",
   "execution_count": 57,
   "metadata": {},
   "outputs": [],
   "source": [
    "country_iso_3_codes = list(country_codes['Alpha-3 code'])"
   ]
  },
  {
   "cell_type": "code",
   "execution_count": 58,
   "metadata": {},
   "outputs": [],
   "source": [
    "country_df = df[df['iso_code'].isin(country_iso_3_codes)]"
   ]
  },
  {
   "cell_type": "code",
   "execution_count": 59,
   "metadata": {},
   "outputs": [
    {
     "output_type": "execute_result",
     "data": {
      "text/plain": [
       "      iso_code      continent    location        date  total_cases  new_cases  \\\n",
       "3061       ARG  South America   Argentina  2020-01-01          NaN        NaN   \n",
       "49485      MEX  North America      Mexico  2020-01-01          NaN        NaN   \n",
       "3062       ARG  South America   Argentina  2020-01-02          NaN        NaN   \n",
       "49486      MEX  North America      Mexico  2020-01-02          NaN        NaN   \n",
       "49487      MEX  North America      Mexico  2020-01-03          NaN        NaN   \n",
       "...        ...            ...         ...         ...          ...        ...   \n",
       "27361      FJI        Oceania        Fiji  2021-04-30        117.0        1.0   \n",
       "68821      SGP           Asia   Singapore  2021-04-30      61145.0       24.0   \n",
       "2568       AGO         Africa      Angola  2021-04-30      26652.0      221.0   \n",
       "67961      SYC         Africa  Seychelles  2021-04-30       5873.0      314.0   \n",
       "85170      ZWE         Africa    Zimbabwe  2021-04-30      38257.0       22.0   \n",
       "\n",
       "       new_cases_smoothed  total_deaths  new_deaths  new_deaths_smoothed  ...  \\\n",
       "3061                  NaN           NaN         NaN                  NaN  ...   \n",
       "49485                 NaN           NaN         NaN                  NaN  ...   \n",
       "3062                  NaN           NaN         NaN                  NaN  ...   \n",
       "49486                 NaN           NaN         NaN                  NaN  ...   \n",
       "49487                 NaN           NaN         NaN                  NaN  ...   \n",
       "...                   ...           ...         ...                  ...  ...   \n",
       "27361               4.429           2.0         0.0                0.000  ...   \n",
       "68821              28.857          30.0         0.0                0.000  ...   \n",
       "2568              196.143         596.0         2.0                3.143  ...   \n",
       "67961              95.286          28.0         2.0                0.286  ...   \n",
       "85170              30.286        1567.0         0.0                1.571  ...   \n",
       "\n",
       "       gdp_per_capita  extreme_poverty  cardiovasc_death_rate  \\\n",
       "3061        18933.907              0.6                191.032   \n",
       "49485       17336.469              2.5                152.783   \n",
       "3062        18933.907              0.6                191.032   \n",
       "49486       17336.469              2.5                152.783   \n",
       "49487       17336.469              2.5                152.783   \n",
       "...               ...              ...                    ...   \n",
       "27361        8702.975              1.4                412.820   \n",
       "68821       85535.383              NaN                 92.243   \n",
       "2568         5819.495              NaN                276.045   \n",
       "67961       26382.287              1.1                242.648   \n",
       "85170        1899.775             21.4                307.846   \n",
       "\n",
       "       diabetes_prevalence  female_smokers  male_smokers  \\\n",
       "3061                  5.50            16.2          27.7   \n",
       "49485                13.06             6.9          21.4   \n",
       "3062                  5.50            16.2          27.7   \n",
       "49486                13.06             6.9          21.4   \n",
       "49487                13.06             6.9          21.4   \n",
       "...                    ...             ...           ...   \n",
       "27361                14.49            10.2          34.8   \n",
       "68821                10.99             5.2          28.3   \n",
       "2568                  3.94             NaN           NaN   \n",
       "67961                10.55             7.1          35.7   \n",
       "85170                 1.82             1.6          30.7   \n",
       "\n",
       "       handwashing_facilities  hospital_beds_per_thousand  life_expectancy  \\\n",
       "3061                      NaN                        5.00            76.67   \n",
       "49485                  87.847                        1.38            75.05   \n",
       "3062                      NaN                        5.00            76.67   \n",
       "49486                  87.847                        1.38            75.05   \n",
       "49487                  87.847                        1.38            75.05   \n",
       "...                       ...                         ...              ...   \n",
       "27361                     NaN                        2.30            67.44   \n",
       "68821                     NaN                        2.40            83.62   \n",
       "2568                   26.664                         NaN            61.15   \n",
       "67961                     NaN                        3.60            73.40   \n",
       "85170                  36.791                        1.70            61.49   \n",
       "\n",
       "       human_development_index  \n",
       "3061                     0.845  \n",
       "49485                    0.779  \n",
       "3062                     0.845  \n",
       "49486                    0.779  \n",
       "49487                    0.779  \n",
       "...                        ...  \n",
       "27361                    0.743  \n",
       "68821                    0.938  \n",
       "2568                     0.581  \n",
       "67961                    0.796  \n",
       "85170                    0.571  \n",
       "\n",
       "[80547 rows x 59 columns]"
      ],
      "text/html": "<div>\n<style scoped>\n    .dataframe tbody tr th:only-of-type {\n        vertical-align: middle;\n    }\n\n    .dataframe tbody tr th {\n        vertical-align: top;\n    }\n\n    .dataframe thead th {\n        text-align: right;\n    }\n</style>\n<table border=\"1\" class=\"dataframe\">\n  <thead>\n    <tr style=\"text-align: right;\">\n      <th></th>\n      <th>iso_code</th>\n      <th>continent</th>\n      <th>location</th>\n      <th>date</th>\n      <th>total_cases</th>\n      <th>new_cases</th>\n      <th>new_cases_smoothed</th>\n      <th>total_deaths</th>\n      <th>new_deaths</th>\n      <th>new_deaths_smoothed</th>\n      <th>...</th>\n      <th>gdp_per_capita</th>\n      <th>extreme_poverty</th>\n      <th>cardiovasc_death_rate</th>\n      <th>diabetes_prevalence</th>\n      <th>female_smokers</th>\n      <th>male_smokers</th>\n      <th>handwashing_facilities</th>\n      <th>hospital_beds_per_thousand</th>\n      <th>life_expectancy</th>\n      <th>human_development_index</th>\n    </tr>\n  </thead>\n  <tbody>\n    <tr>\n      <th>3061</th>\n      <td>ARG</td>\n      <td>South America</td>\n      <td>Argentina</td>\n      <td>2020-01-01</td>\n      <td>NaN</td>\n      <td>NaN</td>\n      <td>NaN</td>\n      <td>NaN</td>\n      <td>NaN</td>\n      <td>NaN</td>\n      <td>...</td>\n      <td>18933.907</td>\n      <td>0.6</td>\n      <td>191.032</td>\n      <td>5.50</td>\n      <td>16.2</td>\n      <td>27.7</td>\n      <td>NaN</td>\n      <td>5.00</td>\n      <td>76.67</td>\n      <td>0.845</td>\n    </tr>\n    <tr>\n      <th>49485</th>\n      <td>MEX</td>\n      <td>North America</td>\n      <td>Mexico</td>\n      <td>2020-01-01</td>\n      <td>NaN</td>\n      <td>NaN</td>\n      <td>NaN</td>\n      <td>NaN</td>\n      <td>NaN</td>\n      <td>NaN</td>\n      <td>...</td>\n      <td>17336.469</td>\n      <td>2.5</td>\n      <td>152.783</td>\n      <td>13.06</td>\n      <td>6.9</td>\n      <td>21.4</td>\n      <td>87.847</td>\n      <td>1.38</td>\n      <td>75.05</td>\n      <td>0.779</td>\n    </tr>\n    <tr>\n      <th>3062</th>\n      <td>ARG</td>\n      <td>South America</td>\n      <td>Argentina</td>\n      <td>2020-01-02</td>\n      <td>NaN</td>\n      <td>NaN</td>\n      <td>NaN</td>\n      <td>NaN</td>\n      <td>NaN</td>\n      <td>NaN</td>\n      <td>...</td>\n      <td>18933.907</td>\n      <td>0.6</td>\n      <td>191.032</td>\n      <td>5.50</td>\n      <td>16.2</td>\n      <td>27.7</td>\n      <td>NaN</td>\n      <td>5.00</td>\n      <td>76.67</td>\n      <td>0.845</td>\n    </tr>\n    <tr>\n      <th>49486</th>\n      <td>MEX</td>\n      <td>North America</td>\n      <td>Mexico</td>\n      <td>2020-01-02</td>\n      <td>NaN</td>\n      <td>NaN</td>\n      <td>NaN</td>\n      <td>NaN</td>\n      <td>NaN</td>\n      <td>NaN</td>\n      <td>...</td>\n      <td>17336.469</td>\n      <td>2.5</td>\n      <td>152.783</td>\n      <td>13.06</td>\n      <td>6.9</td>\n      <td>21.4</td>\n      <td>87.847</td>\n      <td>1.38</td>\n      <td>75.05</td>\n      <td>0.779</td>\n    </tr>\n    <tr>\n      <th>49487</th>\n      <td>MEX</td>\n      <td>North America</td>\n      <td>Mexico</td>\n      <td>2020-01-03</td>\n      <td>NaN</td>\n      <td>NaN</td>\n      <td>NaN</td>\n      <td>NaN</td>\n      <td>NaN</td>\n      <td>NaN</td>\n      <td>...</td>\n      <td>17336.469</td>\n      <td>2.5</td>\n      <td>152.783</td>\n      <td>13.06</td>\n      <td>6.9</td>\n      <td>21.4</td>\n      <td>87.847</td>\n      <td>1.38</td>\n      <td>75.05</td>\n      <td>0.779</td>\n    </tr>\n    <tr>\n      <th>...</th>\n      <td>...</td>\n      <td>...</td>\n      <td>...</td>\n      <td>...</td>\n      <td>...</td>\n      <td>...</td>\n      <td>...</td>\n      <td>...</td>\n      <td>...</td>\n      <td>...</td>\n      <td>...</td>\n      <td>...</td>\n      <td>...</td>\n      <td>...</td>\n      <td>...</td>\n      <td>...</td>\n      <td>...</td>\n      <td>...</td>\n      <td>...</td>\n      <td>...</td>\n      <td>...</td>\n    </tr>\n    <tr>\n      <th>27361</th>\n      <td>FJI</td>\n      <td>Oceania</td>\n      <td>Fiji</td>\n      <td>2021-04-30</td>\n      <td>117.0</td>\n      <td>1.0</td>\n      <td>4.429</td>\n      <td>2.0</td>\n      <td>0.0</td>\n      <td>0.000</td>\n      <td>...</td>\n      <td>8702.975</td>\n      <td>1.4</td>\n      <td>412.820</td>\n      <td>14.49</td>\n      <td>10.2</td>\n      <td>34.8</td>\n      <td>NaN</td>\n      <td>2.30</td>\n      <td>67.44</td>\n      <td>0.743</td>\n    </tr>\n    <tr>\n      <th>68821</th>\n      <td>SGP</td>\n      <td>Asia</td>\n      <td>Singapore</td>\n      <td>2021-04-30</td>\n      <td>61145.0</td>\n      <td>24.0</td>\n      <td>28.857</td>\n      <td>30.0</td>\n      <td>0.0</td>\n      <td>0.000</td>\n      <td>...</td>\n      <td>85535.383</td>\n      <td>NaN</td>\n      <td>92.243</td>\n      <td>10.99</td>\n      <td>5.2</td>\n      <td>28.3</td>\n      <td>NaN</td>\n      <td>2.40</td>\n      <td>83.62</td>\n      <td>0.938</td>\n    </tr>\n    <tr>\n      <th>2568</th>\n      <td>AGO</td>\n      <td>Africa</td>\n      <td>Angola</td>\n      <td>2021-04-30</td>\n      <td>26652.0</td>\n      <td>221.0</td>\n      <td>196.143</td>\n      <td>596.0</td>\n      <td>2.0</td>\n      <td>3.143</td>\n      <td>...</td>\n      <td>5819.495</td>\n      <td>NaN</td>\n      <td>276.045</td>\n      <td>3.94</td>\n      <td>NaN</td>\n      <td>NaN</td>\n      <td>26.664</td>\n      <td>NaN</td>\n      <td>61.15</td>\n      <td>0.581</td>\n    </tr>\n    <tr>\n      <th>67961</th>\n      <td>SYC</td>\n      <td>Africa</td>\n      <td>Seychelles</td>\n      <td>2021-04-30</td>\n      <td>5873.0</td>\n      <td>314.0</td>\n      <td>95.286</td>\n      <td>28.0</td>\n      <td>2.0</td>\n      <td>0.286</td>\n      <td>...</td>\n      <td>26382.287</td>\n      <td>1.1</td>\n      <td>242.648</td>\n      <td>10.55</td>\n      <td>7.1</td>\n      <td>35.7</td>\n      <td>NaN</td>\n      <td>3.60</td>\n      <td>73.40</td>\n      <td>0.796</td>\n    </tr>\n    <tr>\n      <th>85170</th>\n      <td>ZWE</td>\n      <td>Africa</td>\n      <td>Zimbabwe</td>\n      <td>2021-04-30</td>\n      <td>38257.0</td>\n      <td>22.0</td>\n      <td>30.286</td>\n      <td>1567.0</td>\n      <td>0.0</td>\n      <td>1.571</td>\n      <td>...</td>\n      <td>1899.775</td>\n      <td>21.4</td>\n      <td>307.846</td>\n      <td>1.82</td>\n      <td>1.6</td>\n      <td>30.7</td>\n      <td>36.791</td>\n      <td>1.70</td>\n      <td>61.49</td>\n      <td>0.571</td>\n    </tr>\n  </tbody>\n</table>\n<p>80547 rows × 59 columns</p>\n</div>"
     },
     "metadata": {},
     "execution_count": 59
    }
   ],
   "source": [
    "country_df"
   ]
  },
  {
   "cell_type": "code",
   "execution_count": 60,
   "metadata": {},
   "outputs": [],
   "source": [
    "country_data_header = ['iso_code',\n",
    " 'continent',\n",
    " 'location',\n",
    " 'population',\n",
    " 'population_density',\n",
    " 'median_age',\n",
    " 'aged_65_older',\n",
    " 'aged_70_older',\n",
    " 'gdp_per_capita',\n",
    " 'extreme_poverty',\n",
    " 'cardiovasc_death_rate',\n",
    " 'diabetes_prevalence',\n",
    " 'female_smokers',\n",
    " 'male_smokers',\n",
    " 'handwashing_facilities',\n",
    " 'hospital_beds_per_thousand',\n",
    " 'life_expectancy',\n",
    " 'human_development_index']"
   ]
  },
  {
   "cell_type": "code",
   "execution_count": 61,
   "metadata": {},
   "outputs": [
    {
     "output_type": "execute_result",
     "data": {
      "text/plain": [
       "    iso_code continent                      location  population  \\\n",
       "0        QAT      Asia                         Qatar   2881060.0   \n",
       "1        MAC      Asia                         Macao    649342.0   \n",
       "2        LUX    Europe                    Luxembourg    625976.0   \n",
       "3        SGP      Asia                     Singapore   5850343.0   \n",
       "4        BRN      Asia                        Brunei    437483.0   \n",
       "..       ...       ...                           ...         ...   \n",
       "183      NER    Africa                         Niger  24206636.0   \n",
       "184      COD    Africa  Democratic Republic of Congo  89561404.0   \n",
       "185      LBR    Africa                       Liberia   5057677.0   \n",
       "186      BDI    Africa                       Burundi  11890781.0   \n",
       "187      CAF    Africa      Central African Republic   4829764.0   \n",
       "\n",
       "     population_density  median_age  aged_65_older  aged_70_older  \\\n",
       "0               227.322        31.9          1.307          0.617   \n",
       "1             20546.766        39.2          9.798          4.991   \n",
       "2               231.447        39.7         14.312          9.842   \n",
       "3              7915.731        42.4         12.922          7.049   \n",
       "4                81.347        32.4          4.591          2.382   \n",
       "..                  ...         ...            ...            ...   \n",
       "183              16.955        15.1          2.553          1.378   \n",
       "184              35.879        17.0          3.020          1.745   \n",
       "185              49.127        19.2          3.057          1.756   \n",
       "186             423.062        17.5          2.562          1.504   \n",
       "187               7.479        18.3          3.655          2.251   \n",
       "\n",
       "     gdp_per_capita  extreme_poverty  cardiovasc_death_rate  \\\n",
       "0        116935.600              NaN                176.690   \n",
       "1        104861.851              NaN                    NaN   \n",
       "2         94277.965              0.2                128.275   \n",
       "3         85535.383              NaN                 92.243   \n",
       "4         71809.251              NaN                201.285   \n",
       "..              ...              ...                    ...   \n",
       "183         926.000             44.5                238.339   \n",
       "184         808.133             77.1                318.949   \n",
       "185         752.788             38.6                272.509   \n",
       "186         702.225             71.7                293.068   \n",
       "187         661.240              NaN                435.727   \n",
       "\n",
       "     diabetes_prevalence  female_smokers  male_smokers  \\\n",
       "0                  16.52             0.8          26.9   \n",
       "1                    NaN             NaN           NaN   \n",
       "2                   4.42            20.9          26.0   \n",
       "3                  10.99             5.2          28.3   \n",
       "4                  12.79             2.0          30.9   \n",
       "..                   ...             ...           ...   \n",
       "183                 2.42             0.1          15.4   \n",
       "184                 6.10             NaN           NaN   \n",
       "185                 2.42             1.5          18.1   \n",
       "186                 6.05             NaN           NaN   \n",
       "187                 6.10             NaN           NaN   \n",
       "\n",
       "     handwashing_facilities  hospital_beds_per_thousand  life_expectancy  \\\n",
       "0                       NaN                        1.20            80.23   \n",
       "1                       NaN                         NaN            84.24   \n",
       "2                       NaN                        4.51            82.25   \n",
       "3                       NaN                        2.40            83.62   \n",
       "4                       NaN                        2.70            75.86   \n",
       "..                      ...                         ...              ...   \n",
       "183                   8.978                        0.30            62.42   \n",
       "184                   4.472                         NaN            60.68   \n",
       "185                   1.188                        0.80            64.10   \n",
       "186                   6.144                        0.80            61.58   \n",
       "187                  16.603                        1.00            53.28   \n",
       "\n",
       "     human_development_index  \n",
       "0                      0.848  \n",
       "1                        NaN  \n",
       "2                      0.916  \n",
       "3                      0.938  \n",
       "4                      0.838  \n",
       "..                       ...  \n",
       "183                    0.394  \n",
       "184                    0.480  \n",
       "185                    0.480  \n",
       "186                    0.433  \n",
       "187                    0.397  \n",
       "\n",
       "[188 rows x 18 columns]"
      ],
      "text/html": "<div>\n<style scoped>\n    .dataframe tbody tr th:only-of-type {\n        vertical-align: middle;\n    }\n\n    .dataframe tbody tr th {\n        vertical-align: top;\n    }\n\n    .dataframe thead th {\n        text-align: right;\n    }\n</style>\n<table border=\"1\" class=\"dataframe\">\n  <thead>\n    <tr style=\"text-align: right;\">\n      <th></th>\n      <th>iso_code</th>\n      <th>continent</th>\n      <th>location</th>\n      <th>population</th>\n      <th>population_density</th>\n      <th>median_age</th>\n      <th>aged_65_older</th>\n      <th>aged_70_older</th>\n      <th>gdp_per_capita</th>\n      <th>extreme_poverty</th>\n      <th>cardiovasc_death_rate</th>\n      <th>diabetes_prevalence</th>\n      <th>female_smokers</th>\n      <th>male_smokers</th>\n      <th>handwashing_facilities</th>\n      <th>hospital_beds_per_thousand</th>\n      <th>life_expectancy</th>\n      <th>human_development_index</th>\n    </tr>\n  </thead>\n  <tbody>\n    <tr>\n      <th>0</th>\n      <td>QAT</td>\n      <td>Asia</td>\n      <td>Qatar</td>\n      <td>2881060.0</td>\n      <td>227.322</td>\n      <td>31.9</td>\n      <td>1.307</td>\n      <td>0.617</td>\n      <td>116935.600</td>\n      <td>NaN</td>\n      <td>176.690</td>\n      <td>16.52</td>\n      <td>0.8</td>\n      <td>26.9</td>\n      <td>NaN</td>\n      <td>1.20</td>\n      <td>80.23</td>\n      <td>0.848</td>\n    </tr>\n    <tr>\n      <th>1</th>\n      <td>MAC</td>\n      <td>Asia</td>\n      <td>Macao</td>\n      <td>649342.0</td>\n      <td>20546.766</td>\n      <td>39.2</td>\n      <td>9.798</td>\n      <td>4.991</td>\n      <td>104861.851</td>\n      <td>NaN</td>\n      <td>NaN</td>\n      <td>NaN</td>\n      <td>NaN</td>\n      <td>NaN</td>\n      <td>NaN</td>\n      <td>NaN</td>\n      <td>84.24</td>\n      <td>NaN</td>\n    </tr>\n    <tr>\n      <th>2</th>\n      <td>LUX</td>\n      <td>Europe</td>\n      <td>Luxembourg</td>\n      <td>625976.0</td>\n      <td>231.447</td>\n      <td>39.7</td>\n      <td>14.312</td>\n      <td>9.842</td>\n      <td>94277.965</td>\n      <td>0.2</td>\n      <td>128.275</td>\n      <td>4.42</td>\n      <td>20.9</td>\n      <td>26.0</td>\n      <td>NaN</td>\n      <td>4.51</td>\n      <td>82.25</td>\n      <td>0.916</td>\n    </tr>\n    <tr>\n      <th>3</th>\n      <td>SGP</td>\n      <td>Asia</td>\n      <td>Singapore</td>\n      <td>5850343.0</td>\n      <td>7915.731</td>\n      <td>42.4</td>\n      <td>12.922</td>\n      <td>7.049</td>\n      <td>85535.383</td>\n      <td>NaN</td>\n      <td>92.243</td>\n      <td>10.99</td>\n      <td>5.2</td>\n      <td>28.3</td>\n      <td>NaN</td>\n      <td>2.40</td>\n      <td>83.62</td>\n      <td>0.938</td>\n    </tr>\n    <tr>\n      <th>4</th>\n      <td>BRN</td>\n      <td>Asia</td>\n      <td>Brunei</td>\n      <td>437483.0</td>\n      <td>81.347</td>\n      <td>32.4</td>\n      <td>4.591</td>\n      <td>2.382</td>\n      <td>71809.251</td>\n      <td>NaN</td>\n      <td>201.285</td>\n      <td>12.79</td>\n      <td>2.0</td>\n      <td>30.9</td>\n      <td>NaN</td>\n      <td>2.70</td>\n      <td>75.86</td>\n      <td>0.838</td>\n    </tr>\n    <tr>\n      <th>...</th>\n      <td>...</td>\n      <td>...</td>\n      <td>...</td>\n      <td>...</td>\n      <td>...</td>\n      <td>...</td>\n      <td>...</td>\n      <td>...</td>\n      <td>...</td>\n      <td>...</td>\n      <td>...</td>\n      <td>...</td>\n      <td>...</td>\n      <td>...</td>\n      <td>...</td>\n      <td>...</td>\n      <td>...</td>\n      <td>...</td>\n    </tr>\n    <tr>\n      <th>183</th>\n      <td>NER</td>\n      <td>Africa</td>\n      <td>Niger</td>\n      <td>24206636.0</td>\n      <td>16.955</td>\n      <td>15.1</td>\n      <td>2.553</td>\n      <td>1.378</td>\n      <td>926.000</td>\n      <td>44.5</td>\n      <td>238.339</td>\n      <td>2.42</td>\n      <td>0.1</td>\n      <td>15.4</td>\n      <td>8.978</td>\n      <td>0.30</td>\n      <td>62.42</td>\n      <td>0.394</td>\n    </tr>\n    <tr>\n      <th>184</th>\n      <td>COD</td>\n      <td>Africa</td>\n      <td>Democratic Republic of Congo</td>\n      <td>89561404.0</td>\n      <td>35.879</td>\n      <td>17.0</td>\n      <td>3.020</td>\n      <td>1.745</td>\n      <td>808.133</td>\n      <td>77.1</td>\n      <td>318.949</td>\n      <td>6.10</td>\n      <td>NaN</td>\n      <td>NaN</td>\n      <td>4.472</td>\n      <td>NaN</td>\n      <td>60.68</td>\n      <td>0.480</td>\n    </tr>\n    <tr>\n      <th>185</th>\n      <td>LBR</td>\n      <td>Africa</td>\n      <td>Liberia</td>\n      <td>5057677.0</td>\n      <td>49.127</td>\n      <td>19.2</td>\n      <td>3.057</td>\n      <td>1.756</td>\n      <td>752.788</td>\n      <td>38.6</td>\n      <td>272.509</td>\n      <td>2.42</td>\n      <td>1.5</td>\n      <td>18.1</td>\n      <td>1.188</td>\n      <td>0.80</td>\n      <td>64.10</td>\n      <td>0.480</td>\n    </tr>\n    <tr>\n      <th>186</th>\n      <td>BDI</td>\n      <td>Africa</td>\n      <td>Burundi</td>\n      <td>11890781.0</td>\n      <td>423.062</td>\n      <td>17.5</td>\n      <td>2.562</td>\n      <td>1.504</td>\n      <td>702.225</td>\n      <td>71.7</td>\n      <td>293.068</td>\n      <td>6.05</td>\n      <td>NaN</td>\n      <td>NaN</td>\n      <td>6.144</td>\n      <td>0.80</td>\n      <td>61.58</td>\n      <td>0.433</td>\n    </tr>\n    <tr>\n      <th>187</th>\n      <td>CAF</td>\n      <td>Africa</td>\n      <td>Central African Republic</td>\n      <td>4829764.0</td>\n      <td>7.479</td>\n      <td>18.3</td>\n      <td>3.655</td>\n      <td>2.251</td>\n      <td>661.240</td>\n      <td>NaN</td>\n      <td>435.727</td>\n      <td>6.10</td>\n      <td>NaN</td>\n      <td>NaN</td>\n      <td>16.603</td>\n      <td>1.00</td>\n      <td>53.28</td>\n      <td>0.397</td>\n    </tr>\n  </tbody>\n</table>\n<p>188 rows × 18 columns</p>\n</div>"
     },
     "metadata": {},
     "execution_count": 61
    }
   ],
   "source": [
    "country_data = country_df.drop_duplicates(subset = 'location')[country_data_header].sort_values('gdp_per_capita', ascending=False).reset_index(drop=True).dropna(subset=['gdp_per_capita'])\n",
    "\n",
    "country_data"
   ]
  },
  {
   "source": [
    "We now have a dataset with all our country specific data. To analyse this data by country gdp level we need to sort the dataset by gdp per capita and seperate it out into four sections; 1, 2, 3, 4 where 1 is the top perctile etc"
   ],
   "cell_type": "markdown",
   "metadata": {}
  },
  {
   "cell_type": "code",
   "execution_count": 62,
   "metadata": {},
   "outputs": [],
   "source": [
    "gdp_percentile_list = []\n",
    "number_of_countries = len(country_data)\n",
    "number_of_sections = 4\n",
    "section = 1\n",
    "for index, row in country_data.iterrows():\n",
    "    if index < (section/number_of_sections)*number_of_countries:\n",
    "        gdp_percentile_list.append(section)\n",
    "    else:\n",
    "        section += 1\n",
    "        gdp_percentile_list.append(section)"
   ]
  },
  {
   "cell_type": "code",
   "execution_count": 63,
   "metadata": {},
   "outputs": [
    {
     "output_type": "execute_result",
     "data": {
      "text/plain": [
       "    iso_code continent                      location  population  \\\n",
       "0        QAT      Asia                         Qatar   2881060.0   \n",
       "1        MAC      Asia                         Macao    649342.0   \n",
       "2        LUX    Europe                    Luxembourg    625976.0   \n",
       "3        SGP      Asia                     Singapore   5850343.0   \n",
       "4        BRN      Asia                        Brunei    437483.0   \n",
       "..       ...       ...                           ...         ...   \n",
       "183      NER    Africa                         Niger  24206636.0   \n",
       "184      COD    Africa  Democratic Republic of Congo  89561404.0   \n",
       "185      LBR    Africa                       Liberia   5057677.0   \n",
       "186      BDI    Africa                       Burundi  11890781.0   \n",
       "187      CAF    Africa      Central African Republic   4829764.0   \n",
       "\n",
       "     population_density  median_age  aged_65_older  aged_70_older  \\\n",
       "0               227.322        31.9          1.307          0.617   \n",
       "1             20546.766        39.2          9.798          4.991   \n",
       "2               231.447        39.7         14.312          9.842   \n",
       "3              7915.731        42.4         12.922          7.049   \n",
       "4                81.347        32.4          4.591          2.382   \n",
       "..                  ...         ...            ...            ...   \n",
       "183              16.955        15.1          2.553          1.378   \n",
       "184              35.879        17.0          3.020          1.745   \n",
       "185              49.127        19.2          3.057          1.756   \n",
       "186             423.062        17.5          2.562          1.504   \n",
       "187               7.479        18.3          3.655          2.251   \n",
       "\n",
       "     gdp_per_capita  extreme_poverty  cardiovasc_death_rate  \\\n",
       "0        116935.600              NaN                176.690   \n",
       "1        104861.851              NaN                    NaN   \n",
       "2         94277.965              0.2                128.275   \n",
       "3         85535.383              NaN                 92.243   \n",
       "4         71809.251              NaN                201.285   \n",
       "..              ...              ...                    ...   \n",
       "183         926.000             44.5                238.339   \n",
       "184         808.133             77.1                318.949   \n",
       "185         752.788             38.6                272.509   \n",
       "186         702.225             71.7                293.068   \n",
       "187         661.240              NaN                435.727   \n",
       "\n",
       "     diabetes_prevalence  female_smokers  male_smokers  \\\n",
       "0                  16.52             0.8          26.9   \n",
       "1                    NaN             NaN           NaN   \n",
       "2                   4.42            20.9          26.0   \n",
       "3                  10.99             5.2          28.3   \n",
       "4                  12.79             2.0          30.9   \n",
       "..                   ...             ...           ...   \n",
       "183                 2.42             0.1          15.4   \n",
       "184                 6.10             NaN           NaN   \n",
       "185                 2.42             1.5          18.1   \n",
       "186                 6.05             NaN           NaN   \n",
       "187                 6.10             NaN           NaN   \n",
       "\n",
       "     handwashing_facilities  hospital_beds_per_thousand  life_expectancy  \\\n",
       "0                       NaN                        1.20            80.23   \n",
       "1                       NaN                         NaN            84.24   \n",
       "2                       NaN                        4.51            82.25   \n",
       "3                       NaN                        2.40            83.62   \n",
       "4                       NaN                        2.70            75.86   \n",
       "..                      ...                         ...              ...   \n",
       "183                   8.978                        0.30            62.42   \n",
       "184                   4.472                         NaN            60.68   \n",
       "185                   1.188                        0.80            64.10   \n",
       "186                   6.144                        0.80            61.58   \n",
       "187                  16.603                        1.00            53.28   \n",
       "\n",
       "     human_development_index  gdp_per_cap_percentile  \n",
       "0                      0.848                       1  \n",
       "1                        NaN                       1  \n",
       "2                      0.916                       1  \n",
       "3                      0.938                       1  \n",
       "4                      0.838                       1  \n",
       "..                       ...                     ...  \n",
       "183                    0.394                       4  \n",
       "184                    0.480                       4  \n",
       "185                    0.480                       4  \n",
       "186                    0.433                       4  \n",
       "187                    0.397                       4  \n",
       "\n",
       "[188 rows x 19 columns]"
      ],
      "text/html": "<div>\n<style scoped>\n    .dataframe tbody tr th:only-of-type {\n        vertical-align: middle;\n    }\n\n    .dataframe tbody tr th {\n        vertical-align: top;\n    }\n\n    .dataframe thead th {\n        text-align: right;\n    }\n</style>\n<table border=\"1\" class=\"dataframe\">\n  <thead>\n    <tr style=\"text-align: right;\">\n      <th></th>\n      <th>iso_code</th>\n      <th>continent</th>\n      <th>location</th>\n      <th>population</th>\n      <th>population_density</th>\n      <th>median_age</th>\n      <th>aged_65_older</th>\n      <th>aged_70_older</th>\n      <th>gdp_per_capita</th>\n      <th>extreme_poverty</th>\n      <th>cardiovasc_death_rate</th>\n      <th>diabetes_prevalence</th>\n      <th>female_smokers</th>\n      <th>male_smokers</th>\n      <th>handwashing_facilities</th>\n      <th>hospital_beds_per_thousand</th>\n      <th>life_expectancy</th>\n      <th>human_development_index</th>\n      <th>gdp_per_cap_percentile</th>\n    </tr>\n  </thead>\n  <tbody>\n    <tr>\n      <th>0</th>\n      <td>QAT</td>\n      <td>Asia</td>\n      <td>Qatar</td>\n      <td>2881060.0</td>\n      <td>227.322</td>\n      <td>31.9</td>\n      <td>1.307</td>\n      <td>0.617</td>\n      <td>116935.600</td>\n      <td>NaN</td>\n      <td>176.690</td>\n      <td>16.52</td>\n      <td>0.8</td>\n      <td>26.9</td>\n      <td>NaN</td>\n      <td>1.20</td>\n      <td>80.23</td>\n      <td>0.848</td>\n      <td>1</td>\n    </tr>\n    <tr>\n      <th>1</th>\n      <td>MAC</td>\n      <td>Asia</td>\n      <td>Macao</td>\n      <td>649342.0</td>\n      <td>20546.766</td>\n      <td>39.2</td>\n      <td>9.798</td>\n      <td>4.991</td>\n      <td>104861.851</td>\n      <td>NaN</td>\n      <td>NaN</td>\n      <td>NaN</td>\n      <td>NaN</td>\n      <td>NaN</td>\n      <td>NaN</td>\n      <td>NaN</td>\n      <td>84.24</td>\n      <td>NaN</td>\n      <td>1</td>\n    </tr>\n    <tr>\n      <th>2</th>\n      <td>LUX</td>\n      <td>Europe</td>\n      <td>Luxembourg</td>\n      <td>625976.0</td>\n      <td>231.447</td>\n      <td>39.7</td>\n      <td>14.312</td>\n      <td>9.842</td>\n      <td>94277.965</td>\n      <td>0.2</td>\n      <td>128.275</td>\n      <td>4.42</td>\n      <td>20.9</td>\n      <td>26.0</td>\n      <td>NaN</td>\n      <td>4.51</td>\n      <td>82.25</td>\n      <td>0.916</td>\n      <td>1</td>\n    </tr>\n    <tr>\n      <th>3</th>\n      <td>SGP</td>\n      <td>Asia</td>\n      <td>Singapore</td>\n      <td>5850343.0</td>\n      <td>7915.731</td>\n      <td>42.4</td>\n      <td>12.922</td>\n      <td>7.049</td>\n      <td>85535.383</td>\n      <td>NaN</td>\n      <td>92.243</td>\n      <td>10.99</td>\n      <td>5.2</td>\n      <td>28.3</td>\n      <td>NaN</td>\n      <td>2.40</td>\n      <td>83.62</td>\n      <td>0.938</td>\n      <td>1</td>\n    </tr>\n    <tr>\n      <th>4</th>\n      <td>BRN</td>\n      <td>Asia</td>\n      <td>Brunei</td>\n      <td>437483.0</td>\n      <td>81.347</td>\n      <td>32.4</td>\n      <td>4.591</td>\n      <td>2.382</td>\n      <td>71809.251</td>\n      <td>NaN</td>\n      <td>201.285</td>\n      <td>12.79</td>\n      <td>2.0</td>\n      <td>30.9</td>\n      <td>NaN</td>\n      <td>2.70</td>\n      <td>75.86</td>\n      <td>0.838</td>\n      <td>1</td>\n    </tr>\n    <tr>\n      <th>...</th>\n      <td>...</td>\n      <td>...</td>\n      <td>...</td>\n      <td>...</td>\n      <td>...</td>\n      <td>...</td>\n      <td>...</td>\n      <td>...</td>\n      <td>...</td>\n      <td>...</td>\n      <td>...</td>\n      <td>...</td>\n      <td>...</td>\n      <td>...</td>\n      <td>...</td>\n      <td>...</td>\n      <td>...</td>\n      <td>...</td>\n      <td>...</td>\n    </tr>\n    <tr>\n      <th>183</th>\n      <td>NER</td>\n      <td>Africa</td>\n      <td>Niger</td>\n      <td>24206636.0</td>\n      <td>16.955</td>\n      <td>15.1</td>\n      <td>2.553</td>\n      <td>1.378</td>\n      <td>926.000</td>\n      <td>44.5</td>\n      <td>238.339</td>\n      <td>2.42</td>\n      <td>0.1</td>\n      <td>15.4</td>\n      <td>8.978</td>\n      <td>0.30</td>\n      <td>62.42</td>\n      <td>0.394</td>\n      <td>4</td>\n    </tr>\n    <tr>\n      <th>184</th>\n      <td>COD</td>\n      <td>Africa</td>\n      <td>Democratic Republic of Congo</td>\n      <td>89561404.0</td>\n      <td>35.879</td>\n      <td>17.0</td>\n      <td>3.020</td>\n      <td>1.745</td>\n      <td>808.133</td>\n      <td>77.1</td>\n      <td>318.949</td>\n      <td>6.10</td>\n      <td>NaN</td>\n      <td>NaN</td>\n      <td>4.472</td>\n      <td>NaN</td>\n      <td>60.68</td>\n      <td>0.480</td>\n      <td>4</td>\n    </tr>\n    <tr>\n      <th>185</th>\n      <td>LBR</td>\n      <td>Africa</td>\n      <td>Liberia</td>\n      <td>5057677.0</td>\n      <td>49.127</td>\n      <td>19.2</td>\n      <td>3.057</td>\n      <td>1.756</td>\n      <td>752.788</td>\n      <td>38.6</td>\n      <td>272.509</td>\n      <td>2.42</td>\n      <td>1.5</td>\n      <td>18.1</td>\n      <td>1.188</td>\n      <td>0.80</td>\n      <td>64.10</td>\n      <td>0.480</td>\n      <td>4</td>\n    </tr>\n    <tr>\n      <th>186</th>\n      <td>BDI</td>\n      <td>Africa</td>\n      <td>Burundi</td>\n      <td>11890781.0</td>\n      <td>423.062</td>\n      <td>17.5</td>\n      <td>2.562</td>\n      <td>1.504</td>\n      <td>702.225</td>\n      <td>71.7</td>\n      <td>293.068</td>\n      <td>6.05</td>\n      <td>NaN</td>\n      <td>NaN</td>\n      <td>6.144</td>\n      <td>0.80</td>\n      <td>61.58</td>\n      <td>0.433</td>\n      <td>4</td>\n    </tr>\n    <tr>\n      <th>187</th>\n      <td>CAF</td>\n      <td>Africa</td>\n      <td>Central African Republic</td>\n      <td>4829764.0</td>\n      <td>7.479</td>\n      <td>18.3</td>\n      <td>3.655</td>\n      <td>2.251</td>\n      <td>661.240</td>\n      <td>NaN</td>\n      <td>435.727</td>\n      <td>6.10</td>\n      <td>NaN</td>\n      <td>NaN</td>\n      <td>16.603</td>\n      <td>1.00</td>\n      <td>53.28</td>\n      <td>0.397</td>\n      <td>4</td>\n    </tr>\n  </tbody>\n</table>\n<p>188 rows × 19 columns</p>\n</div>"
     },
     "metadata": {},
     "execution_count": 63
    }
   ],
   "source": [
    "country_data['gdp_per_cap_percentile'] = gdp_percentile_list\n",
    "\n",
    "country_data"
   ]
  },
  {
   "cell_type": "code",
   "execution_count": 64,
   "metadata": {},
   "outputs": [],
   "source": [
    "country_data.to_csv('data/country_data.csv', index=False)"
   ]
  },
  {
   "source": [
    "Testing that worked okay. Each of the percentile sections should have the same number of countries in them"
   ],
   "cell_type": "markdown",
   "metadata": {}
  },
  {
   "cell_type": "code",
   "execution_count": 65,
   "metadata": {},
   "outputs": [
    {
     "output_type": "stream",
     "name": "stdout",
     "text": [
      "1 47\n2 47\n3 47\n4 47\n"
     ]
    }
   ],
   "source": [
    "for option in country_data['gdp_per_cap_percentile'].drop_duplicates():\n",
    "    print(option, len(country_data[country_data['gdp_per_cap_percentile'] == option]))"
   ]
  },
  {
   "source": [
    "Finally lets apply this back to the country df, which is the dataset with all the country specific coviid data"
   ],
   "cell_type": "markdown",
   "metadata": {}
  },
  {
   "cell_type": "code",
   "execution_count": 66,
   "metadata": {},
   "outputs": [],
   "source": [
    "gdp_percentile_dict = country_data.set_index('iso_code').to_dict('dict')['gdp_per_cap_percentile']"
   ]
  },
  {
   "cell_type": "code",
   "execution_count": 67,
   "metadata": {},
   "outputs": [],
   "source": [
    "def get_gdp_percentile(iso_code):\n",
    "    try: return int(round(gdp_percentile_dict[iso_code]))\n",
    "    except: return np.nan"
   ]
  },
  {
   "cell_type": "code",
   "execution_count": 68,
   "metadata": {},
   "outputs": [
    {
     "output_type": "stream",
     "name": "stderr",
     "text": [
      "ipykernel_launcher:1: SettingWithCopyWarning: \nA value is trying to be set on a copy of a slice from a DataFrame.\nTry using .loc[row_indexer,col_indexer] = value instead\n\nSee the caveats in the documentation: https://pandas.pydata.org/pandas-docs/stable/user_guide/indexing.html#returning-a-view-versus-a-copy\n"
     ]
    },
    {
     "output_type": "execute_result",
     "data": {
      "text/plain": [
       "      iso_code      continent    location        date  total_cases  new_cases  \\\n",
       "3061       ARG  South America   Argentina  2020-01-01          NaN        NaN   \n",
       "49485      MEX  North America      Mexico  2020-01-01          NaN        NaN   \n",
       "3062       ARG  South America   Argentina  2020-01-02          NaN        NaN   \n",
       "49486      MEX  North America      Mexico  2020-01-02          NaN        NaN   \n",
       "49487      MEX  North America      Mexico  2020-01-03          NaN        NaN   \n",
       "...        ...            ...         ...         ...          ...        ...   \n",
       "27361      FJI        Oceania        Fiji  2021-04-30        117.0        1.0   \n",
       "68821      SGP           Asia   Singapore  2021-04-30      61145.0       24.0   \n",
       "2568       AGO         Africa      Angola  2021-04-30      26652.0      221.0   \n",
       "67961      SYC         Africa  Seychelles  2021-04-30       5873.0      314.0   \n",
       "85170      ZWE         Africa    Zimbabwe  2021-04-30      38257.0       22.0   \n",
       "\n",
       "       new_cases_smoothed  total_deaths  new_deaths  new_deaths_smoothed  ...  \\\n",
       "3061                  NaN           NaN         NaN                  NaN  ...   \n",
       "49485                 NaN           NaN         NaN                  NaN  ...   \n",
       "3062                  NaN           NaN         NaN                  NaN  ...   \n",
       "49486                 NaN           NaN         NaN                  NaN  ...   \n",
       "49487                 NaN           NaN         NaN                  NaN  ...   \n",
       "...                   ...           ...         ...                  ...  ...   \n",
       "27361               4.429           2.0         0.0                0.000  ...   \n",
       "68821              28.857          30.0         0.0                0.000  ...   \n",
       "2568              196.143         596.0         2.0                3.143  ...   \n",
       "67961              95.286          28.0         2.0                0.286  ...   \n",
       "85170              30.286        1567.0         0.0                1.571  ...   \n",
       "\n",
       "       extreme_poverty  cardiovasc_death_rate  diabetes_prevalence  \\\n",
       "3061               0.6                191.032                 5.50   \n",
       "49485              2.5                152.783                13.06   \n",
       "3062               0.6                191.032                 5.50   \n",
       "49486              2.5                152.783                13.06   \n",
       "49487              2.5                152.783                13.06   \n",
       "...                ...                    ...                  ...   \n",
       "27361              1.4                412.820                14.49   \n",
       "68821              NaN                 92.243                10.99   \n",
       "2568               NaN                276.045                 3.94   \n",
       "67961              1.1                242.648                10.55   \n",
       "85170             21.4                307.846                 1.82   \n",
       "\n",
       "       female_smokers  male_smokers  handwashing_facilities  \\\n",
       "3061             16.2          27.7                     NaN   \n",
       "49485             6.9          21.4                  87.847   \n",
       "3062             16.2          27.7                     NaN   \n",
       "49486             6.9          21.4                  87.847   \n",
       "49487             6.9          21.4                  87.847   \n",
       "...               ...           ...                     ...   \n",
       "27361            10.2          34.8                     NaN   \n",
       "68821             5.2          28.3                     NaN   \n",
       "2568              NaN           NaN                  26.664   \n",
       "67961             7.1          35.7                     NaN   \n",
       "85170             1.6          30.7                  36.791   \n",
       "\n",
       "       hospital_beds_per_thousand  life_expectancy  human_development_index  \\\n",
       "3061                         5.00            76.67                    0.845   \n",
       "49485                        1.38            75.05                    0.779   \n",
       "3062                         5.00            76.67                    0.845   \n",
       "49486                        1.38            75.05                    0.779   \n",
       "49487                        1.38            75.05                    0.779   \n",
       "...                           ...              ...                      ...   \n",
       "27361                        2.30            67.44                    0.743   \n",
       "68821                        2.40            83.62                    0.938   \n",
       "2568                          NaN            61.15                    0.581   \n",
       "67961                        3.60            73.40                    0.796   \n",
       "85170                        1.70            61.49                    0.571   \n",
       "\n",
       "       gdp_per_cap_percentile  \n",
       "3061                      2.0  \n",
       "49485                     2.0  \n",
       "3062                      2.0  \n",
       "49486                     2.0  \n",
       "49487                     2.0  \n",
       "...                       ...  \n",
       "27361                     3.0  \n",
       "68821                     1.0  \n",
       "2568                      3.0  \n",
       "67961                     2.0  \n",
       "85170                     4.0  \n",
       "\n",
       "[80547 rows x 60 columns]"
      ],
      "text/html": "<div>\n<style scoped>\n    .dataframe tbody tr th:only-of-type {\n        vertical-align: middle;\n    }\n\n    .dataframe tbody tr th {\n        vertical-align: top;\n    }\n\n    .dataframe thead th {\n        text-align: right;\n    }\n</style>\n<table border=\"1\" class=\"dataframe\">\n  <thead>\n    <tr style=\"text-align: right;\">\n      <th></th>\n      <th>iso_code</th>\n      <th>continent</th>\n      <th>location</th>\n      <th>date</th>\n      <th>total_cases</th>\n      <th>new_cases</th>\n      <th>new_cases_smoothed</th>\n      <th>total_deaths</th>\n      <th>new_deaths</th>\n      <th>new_deaths_smoothed</th>\n      <th>...</th>\n      <th>extreme_poverty</th>\n      <th>cardiovasc_death_rate</th>\n      <th>diabetes_prevalence</th>\n      <th>female_smokers</th>\n      <th>male_smokers</th>\n      <th>handwashing_facilities</th>\n      <th>hospital_beds_per_thousand</th>\n      <th>life_expectancy</th>\n      <th>human_development_index</th>\n      <th>gdp_per_cap_percentile</th>\n    </tr>\n  </thead>\n  <tbody>\n    <tr>\n      <th>3061</th>\n      <td>ARG</td>\n      <td>South America</td>\n      <td>Argentina</td>\n      <td>2020-01-01</td>\n      <td>NaN</td>\n      <td>NaN</td>\n      <td>NaN</td>\n      <td>NaN</td>\n      <td>NaN</td>\n      <td>NaN</td>\n      <td>...</td>\n      <td>0.6</td>\n      <td>191.032</td>\n      <td>5.50</td>\n      <td>16.2</td>\n      <td>27.7</td>\n      <td>NaN</td>\n      <td>5.00</td>\n      <td>76.67</td>\n      <td>0.845</td>\n      <td>2.0</td>\n    </tr>\n    <tr>\n      <th>49485</th>\n      <td>MEX</td>\n      <td>North America</td>\n      <td>Mexico</td>\n      <td>2020-01-01</td>\n      <td>NaN</td>\n      <td>NaN</td>\n      <td>NaN</td>\n      <td>NaN</td>\n      <td>NaN</td>\n      <td>NaN</td>\n      <td>...</td>\n      <td>2.5</td>\n      <td>152.783</td>\n      <td>13.06</td>\n      <td>6.9</td>\n      <td>21.4</td>\n      <td>87.847</td>\n      <td>1.38</td>\n      <td>75.05</td>\n      <td>0.779</td>\n      <td>2.0</td>\n    </tr>\n    <tr>\n      <th>3062</th>\n      <td>ARG</td>\n      <td>South America</td>\n      <td>Argentina</td>\n      <td>2020-01-02</td>\n      <td>NaN</td>\n      <td>NaN</td>\n      <td>NaN</td>\n      <td>NaN</td>\n      <td>NaN</td>\n      <td>NaN</td>\n      <td>...</td>\n      <td>0.6</td>\n      <td>191.032</td>\n      <td>5.50</td>\n      <td>16.2</td>\n      <td>27.7</td>\n      <td>NaN</td>\n      <td>5.00</td>\n      <td>76.67</td>\n      <td>0.845</td>\n      <td>2.0</td>\n    </tr>\n    <tr>\n      <th>49486</th>\n      <td>MEX</td>\n      <td>North America</td>\n      <td>Mexico</td>\n      <td>2020-01-02</td>\n      <td>NaN</td>\n      <td>NaN</td>\n      <td>NaN</td>\n      <td>NaN</td>\n      <td>NaN</td>\n      <td>NaN</td>\n      <td>...</td>\n      <td>2.5</td>\n      <td>152.783</td>\n      <td>13.06</td>\n      <td>6.9</td>\n      <td>21.4</td>\n      <td>87.847</td>\n      <td>1.38</td>\n      <td>75.05</td>\n      <td>0.779</td>\n      <td>2.0</td>\n    </tr>\n    <tr>\n      <th>49487</th>\n      <td>MEX</td>\n      <td>North America</td>\n      <td>Mexico</td>\n      <td>2020-01-03</td>\n      <td>NaN</td>\n      <td>NaN</td>\n      <td>NaN</td>\n      <td>NaN</td>\n      <td>NaN</td>\n      <td>NaN</td>\n      <td>...</td>\n      <td>2.5</td>\n      <td>152.783</td>\n      <td>13.06</td>\n      <td>6.9</td>\n      <td>21.4</td>\n      <td>87.847</td>\n      <td>1.38</td>\n      <td>75.05</td>\n      <td>0.779</td>\n      <td>2.0</td>\n    </tr>\n    <tr>\n      <th>...</th>\n      <td>...</td>\n      <td>...</td>\n      <td>...</td>\n      <td>...</td>\n      <td>...</td>\n      <td>...</td>\n      <td>...</td>\n      <td>...</td>\n      <td>...</td>\n      <td>...</td>\n      <td>...</td>\n      <td>...</td>\n      <td>...</td>\n      <td>...</td>\n      <td>...</td>\n      <td>...</td>\n      <td>...</td>\n      <td>...</td>\n      <td>...</td>\n      <td>...</td>\n      <td>...</td>\n    </tr>\n    <tr>\n      <th>27361</th>\n      <td>FJI</td>\n      <td>Oceania</td>\n      <td>Fiji</td>\n      <td>2021-04-30</td>\n      <td>117.0</td>\n      <td>1.0</td>\n      <td>4.429</td>\n      <td>2.0</td>\n      <td>0.0</td>\n      <td>0.000</td>\n      <td>...</td>\n      <td>1.4</td>\n      <td>412.820</td>\n      <td>14.49</td>\n      <td>10.2</td>\n      <td>34.8</td>\n      <td>NaN</td>\n      <td>2.30</td>\n      <td>67.44</td>\n      <td>0.743</td>\n      <td>3.0</td>\n    </tr>\n    <tr>\n      <th>68821</th>\n      <td>SGP</td>\n      <td>Asia</td>\n      <td>Singapore</td>\n      <td>2021-04-30</td>\n      <td>61145.0</td>\n      <td>24.0</td>\n      <td>28.857</td>\n      <td>30.0</td>\n      <td>0.0</td>\n      <td>0.000</td>\n      <td>...</td>\n      <td>NaN</td>\n      <td>92.243</td>\n      <td>10.99</td>\n      <td>5.2</td>\n      <td>28.3</td>\n      <td>NaN</td>\n      <td>2.40</td>\n      <td>83.62</td>\n      <td>0.938</td>\n      <td>1.0</td>\n    </tr>\n    <tr>\n      <th>2568</th>\n      <td>AGO</td>\n      <td>Africa</td>\n      <td>Angola</td>\n      <td>2021-04-30</td>\n      <td>26652.0</td>\n      <td>221.0</td>\n      <td>196.143</td>\n      <td>596.0</td>\n      <td>2.0</td>\n      <td>3.143</td>\n      <td>...</td>\n      <td>NaN</td>\n      <td>276.045</td>\n      <td>3.94</td>\n      <td>NaN</td>\n      <td>NaN</td>\n      <td>26.664</td>\n      <td>NaN</td>\n      <td>61.15</td>\n      <td>0.581</td>\n      <td>3.0</td>\n    </tr>\n    <tr>\n      <th>67961</th>\n      <td>SYC</td>\n      <td>Africa</td>\n      <td>Seychelles</td>\n      <td>2021-04-30</td>\n      <td>5873.0</td>\n      <td>314.0</td>\n      <td>95.286</td>\n      <td>28.0</td>\n      <td>2.0</td>\n      <td>0.286</td>\n      <td>...</td>\n      <td>1.1</td>\n      <td>242.648</td>\n      <td>10.55</td>\n      <td>7.1</td>\n      <td>35.7</td>\n      <td>NaN</td>\n      <td>3.60</td>\n      <td>73.40</td>\n      <td>0.796</td>\n      <td>2.0</td>\n    </tr>\n    <tr>\n      <th>85170</th>\n      <td>ZWE</td>\n      <td>Africa</td>\n      <td>Zimbabwe</td>\n      <td>2021-04-30</td>\n      <td>38257.0</td>\n      <td>22.0</td>\n      <td>30.286</td>\n      <td>1567.0</td>\n      <td>0.0</td>\n      <td>1.571</td>\n      <td>...</td>\n      <td>21.4</td>\n      <td>307.846</td>\n      <td>1.82</td>\n      <td>1.6</td>\n      <td>30.7</td>\n      <td>36.791</td>\n      <td>1.70</td>\n      <td>61.49</td>\n      <td>0.571</td>\n      <td>4.0</td>\n    </tr>\n  </tbody>\n</table>\n<p>80547 rows × 60 columns</p>\n</div>"
     },
     "metadata": {},
     "execution_count": 68
    }
   ],
   "source": [
    "country_df['gdp_per_cap_percentile'] = country_df['iso_code'].apply(get_gdp_percentile)\n",
    "\n",
    "country_df"
   ]
  },
  {
   "cell_type": "code",
   "execution_count": 69,
   "metadata": {},
   "outputs": [],
   "source": [
    "country_df.to_csv('data/country_covid_data.csv', index=False)"
   ]
  },
  {
   "source": [
    "## Aggregating covid data"
   ],
   "cell_type": "markdown",
   "metadata": {}
  },
  {
   "source": [
    "Finally we can look at the covid data by country gdp per capita percentile"
   ],
   "cell_type": "markdown",
   "metadata": {}
  },
  {
   "cell_type": "code",
   "execution_count": 70,
   "metadata": {},
   "outputs": [],
   "source": [
    "covid_fields = [\n",
    " 'total_cases',\n",
    " 'new_cases',\n",
    " 'new_cases_smoothed',\n",
    " 'total_deaths',\n",
    " 'new_deaths',\n",
    " 'new_deaths_smoothed',\n",
    " 'icu_patients',\n",
    " 'hosp_patients',\n",
    " 'weekly_icu_admissions',\n",
    " 'weekly_hosp_admissions',\n",
    " 'new_tests',\n",
    " 'total_tests',\n",
    " 'new_tests_smoothed',\n",
    " 'positive_rate',\n",
    "#  'tests_units',\n",
    " 'total_vaccinations',\n",
    " 'people_vaccinated',\n",
    " 'people_fully_vaccinated',\n",
    " 'new_vaccinations',\n",
    " 'new_vaccinations_smoothed',\n",
    "#  'population',\n",
    "#  'aged_65_older',\n",
    "#  'aged_70_older',\n",
    " ]"
   ]
  },
  {
   "cell_type": "code",
   "execution_count": 71,
   "metadata": {},
   "outputs": [],
   "source": [
    "percentile_options = list(country_df['gdp_per_cap_percentile'].drop_duplicates())\n",
    "\n",
    "dates = list(country_df['date'].drop_duplicates())"
   ]
  },
  {
   "cell_type": "code",
   "execution_count": 72,
   "metadata": {},
   "outputs": [],
   "source": [
    "def prep_numbers(value):\n",
    "    try: return float(value)\n",
    "    except: return np.nan"
   ]
  },
  {
   "cell_type": "code",
   "execution_count": 73,
   "metadata": {},
   "outputs": [
    {
     "output_type": "stream",
     "name": "stderr",
     "text": [
      "100%|██████████| 5/5 [00:38<00:00,  7.68s/it]\n"
     ]
    }
   ],
   "source": [
    "new_data = []\n",
    "new_header = ['gdp_per_cap_percentile', 'date'] + covid_fields\n",
    "for percentile_option in tqdm(percentile_options):\n",
    "    df_temp = country_df[country_df['gdp_per_cap_percentile'] == percentile_option]\n",
    "\n",
    "    for date in dates:\n",
    "        new_row = [percentile_option, date]\n",
    "        df_temp_date = df_temp[df_temp['date'] == date]\n",
    "\n",
    "        for field in covid_fields:\n",
    "            new_value = df_temp_date[field].apply(prep_numbers).dropna().sum()\n",
    "            new_row.append(new_value)\n",
    "\n",
    "        # if len(df_temp_date) == 47: \n",
    "        new_data.append(new_row)\n",
    "\n",
    "gdp_percentile_data = pd.DataFrame(new_data, columns = new_header)"
   ]
  },
  {
   "cell_type": "code",
   "execution_count": 74,
   "metadata": {},
   "outputs": [
    {
     "output_type": "execute_result",
     "data": {
      "text/plain": [
       "['gdp_per_cap_percentile',\n",
       " 'date',\n",
       " 'total_cases',\n",
       " 'new_cases',\n",
       " 'new_cases_smoothed',\n",
       " 'total_deaths',\n",
       " 'new_deaths',\n",
       " 'new_deaths_smoothed',\n",
       " 'icu_patients',\n",
       " 'hosp_patients',\n",
       " 'weekly_icu_admissions',\n",
       " 'weekly_hosp_admissions',\n",
       " 'new_tests',\n",
       " 'total_tests',\n",
       " 'new_tests_smoothed',\n",
       " 'positive_rate',\n",
       " 'total_vaccinations',\n",
       " 'people_vaccinated',\n",
       " 'people_fully_vaccinated',\n",
       " 'new_vaccinations',\n",
       " 'new_vaccinations_smoothed']"
      ]
     },
     "metadata": {},
     "execution_count": 74
    }
   ],
   "source": [
    "list(gdp_percentile_data)"
   ]
  },
  {
   "cell_type": "code",
   "execution_count": 75,
   "metadata": {},
   "outputs": [
    {
     "output_type": "execute_result",
     "data": {
      "text/plain": [
       "   gdp_per_cap_percentile        date  total_cases  new_cases  \\\n",
       "0                     2.0  2020-01-01          0.0        0.0   \n",
       "1                     2.0  2020-01-02          0.0        0.0   \n",
       "2                     2.0  2020-01-03          0.0        0.0   \n",
       "3                     2.0  2020-01-04          0.0        0.0   \n",
       "4                     2.0  2020-01-05          0.0        0.0   \n",
       "\n",
       "   new_cases_smoothed  total_deaths  new_deaths  new_deaths_smoothed  \\\n",
       "0                 0.0           0.0         0.0                  0.0   \n",
       "1                 0.0           0.0         0.0                  0.0   \n",
       "2                 0.0           0.0         0.0                  0.0   \n",
       "3                 0.0           0.0         0.0                  0.0   \n",
       "4                 0.0           0.0         0.0                  0.0   \n",
       "\n",
       "   icu_patients  hosp_patients  ...  weekly_hosp_admissions  new_tests  \\\n",
       "0           0.0            0.0  ...                     0.0       27.0   \n",
       "1           0.0            0.0  ...                     0.0      108.0   \n",
       "2           0.0            0.0  ...                     0.0       93.0   \n",
       "3           0.0            0.0  ...                     0.0      112.0   \n",
       "4           0.0            0.0  ...                     0.0       91.0   \n",
       "\n",
       "   total_tests  new_tests_smoothed  positive_rate  total_vaccinations  \\\n",
       "0         27.0                 0.0            0.0                 0.0   \n",
       "1        135.0                 0.0            0.0                 0.0   \n",
       "2        228.0                 0.0            0.0                 0.0   \n",
       "3        340.0                 0.0            0.0                 0.0   \n",
       "4        431.0                 0.0            0.0                 0.0   \n",
       "\n",
       "   people_vaccinated  people_fully_vaccinated  new_vaccinations  \\\n",
       "0                0.0                      0.0               0.0   \n",
       "1                0.0                      0.0               0.0   \n",
       "2                0.0                      0.0               0.0   \n",
       "3                0.0                      0.0               0.0   \n",
       "4                0.0                      0.0               0.0   \n",
       "\n",
       "   new_vaccinations_smoothed  \n",
       "0                        0.0  \n",
       "1                        0.0  \n",
       "2                        0.0  \n",
       "3                        0.0  \n",
       "4                        0.0  \n",
       "\n",
       "[5 rows x 21 columns]"
      ],
      "text/html": "<div>\n<style scoped>\n    .dataframe tbody tr th:only-of-type {\n        vertical-align: middle;\n    }\n\n    .dataframe tbody tr th {\n        vertical-align: top;\n    }\n\n    .dataframe thead th {\n        text-align: right;\n    }\n</style>\n<table border=\"1\" class=\"dataframe\">\n  <thead>\n    <tr style=\"text-align: right;\">\n      <th></th>\n      <th>gdp_per_cap_percentile</th>\n      <th>date</th>\n      <th>total_cases</th>\n      <th>new_cases</th>\n      <th>new_cases_smoothed</th>\n      <th>total_deaths</th>\n      <th>new_deaths</th>\n      <th>new_deaths_smoothed</th>\n      <th>icu_patients</th>\n      <th>hosp_patients</th>\n      <th>...</th>\n      <th>weekly_hosp_admissions</th>\n      <th>new_tests</th>\n      <th>total_tests</th>\n      <th>new_tests_smoothed</th>\n      <th>positive_rate</th>\n      <th>total_vaccinations</th>\n      <th>people_vaccinated</th>\n      <th>people_fully_vaccinated</th>\n      <th>new_vaccinations</th>\n      <th>new_vaccinations_smoothed</th>\n    </tr>\n  </thead>\n  <tbody>\n    <tr>\n      <th>0</th>\n      <td>2.0</td>\n      <td>2020-01-01</td>\n      <td>0.0</td>\n      <td>0.0</td>\n      <td>0.0</td>\n      <td>0.0</td>\n      <td>0.0</td>\n      <td>0.0</td>\n      <td>0.0</td>\n      <td>0.0</td>\n      <td>...</td>\n      <td>0.0</td>\n      <td>27.0</td>\n      <td>27.0</td>\n      <td>0.0</td>\n      <td>0.0</td>\n      <td>0.0</td>\n      <td>0.0</td>\n      <td>0.0</td>\n      <td>0.0</td>\n      <td>0.0</td>\n    </tr>\n    <tr>\n      <th>1</th>\n      <td>2.0</td>\n      <td>2020-01-02</td>\n      <td>0.0</td>\n      <td>0.0</td>\n      <td>0.0</td>\n      <td>0.0</td>\n      <td>0.0</td>\n      <td>0.0</td>\n      <td>0.0</td>\n      <td>0.0</td>\n      <td>...</td>\n      <td>0.0</td>\n      <td>108.0</td>\n      <td>135.0</td>\n      <td>0.0</td>\n      <td>0.0</td>\n      <td>0.0</td>\n      <td>0.0</td>\n      <td>0.0</td>\n      <td>0.0</td>\n      <td>0.0</td>\n    </tr>\n    <tr>\n      <th>2</th>\n      <td>2.0</td>\n      <td>2020-01-03</td>\n      <td>0.0</td>\n      <td>0.0</td>\n      <td>0.0</td>\n      <td>0.0</td>\n      <td>0.0</td>\n      <td>0.0</td>\n      <td>0.0</td>\n      <td>0.0</td>\n      <td>...</td>\n      <td>0.0</td>\n      <td>93.0</td>\n      <td>228.0</td>\n      <td>0.0</td>\n      <td>0.0</td>\n      <td>0.0</td>\n      <td>0.0</td>\n      <td>0.0</td>\n      <td>0.0</td>\n      <td>0.0</td>\n    </tr>\n    <tr>\n      <th>3</th>\n      <td>2.0</td>\n      <td>2020-01-04</td>\n      <td>0.0</td>\n      <td>0.0</td>\n      <td>0.0</td>\n      <td>0.0</td>\n      <td>0.0</td>\n      <td>0.0</td>\n      <td>0.0</td>\n      <td>0.0</td>\n      <td>...</td>\n      <td>0.0</td>\n      <td>112.0</td>\n      <td>340.0</td>\n      <td>0.0</td>\n      <td>0.0</td>\n      <td>0.0</td>\n      <td>0.0</td>\n      <td>0.0</td>\n      <td>0.0</td>\n      <td>0.0</td>\n    </tr>\n    <tr>\n      <th>4</th>\n      <td>2.0</td>\n      <td>2020-01-05</td>\n      <td>0.0</td>\n      <td>0.0</td>\n      <td>0.0</td>\n      <td>0.0</td>\n      <td>0.0</td>\n      <td>0.0</td>\n      <td>0.0</td>\n      <td>0.0</td>\n      <td>...</td>\n      <td>0.0</td>\n      <td>91.0</td>\n      <td>431.0</td>\n      <td>0.0</td>\n      <td>0.0</td>\n      <td>0.0</td>\n      <td>0.0</td>\n      <td>0.0</td>\n      <td>0.0</td>\n      <td>0.0</td>\n    </tr>\n  </tbody>\n</table>\n<p>5 rows × 21 columns</p>\n</div>"
     },
     "metadata": {},
     "execution_count": 75
    }
   ],
   "source": [
    "gdp_percentile_data.head(5)"
   ]
  },
  {
   "cell_type": "code",
   "execution_count": 76,
   "metadata": {},
   "outputs": [],
   "source": [
    "gdp_percentile_data.to_csv('data/gdp_percentile_data.csv', index=False)"
   ]
  },
  {
   "source": [
    "## Rearanging data to work in the d3 streamgraph"
   ],
   "cell_type": "markdown",
   "metadata": {}
  },
  {
   "cell_type": "code",
   "execution_count": 77,
   "metadata": {},
   "outputs": [],
   "source": [
    "value_type = 'total_vaccinations'"
   ]
  },
  {
   "cell_type": "code",
   "execution_count": 78,
   "metadata": {},
   "outputs": [
    {
     "output_type": "execute_result",
     "data": {
      "text/plain": [
       "   gdp_per_cap_percentile        date  total_cases  new_cases  \\\n",
       "0                     2.0  2020-01-01          0.0        0.0   \n",
       "1                     2.0  2020-01-02          0.0        0.0   \n",
       "2                     2.0  2020-01-03          0.0        0.0   \n",
       "3                     2.0  2020-01-04          0.0        0.0   \n",
       "4                     2.0  2020-01-05          0.0        0.0   \n",
       "\n",
       "   new_cases_smoothed  total_deaths  new_deaths  new_deaths_smoothed  \\\n",
       "0                 0.0           0.0         0.0                  0.0   \n",
       "1                 0.0           0.0         0.0                  0.0   \n",
       "2                 0.0           0.0         0.0                  0.0   \n",
       "3                 0.0           0.0         0.0                  0.0   \n",
       "4                 0.0           0.0         0.0                  0.0   \n",
       "\n",
       "   icu_patients  hosp_patients  ...  weekly_hosp_admissions  new_tests  \\\n",
       "0           0.0            0.0  ...                     0.0       27.0   \n",
       "1           0.0            0.0  ...                     0.0      108.0   \n",
       "2           0.0            0.0  ...                     0.0       93.0   \n",
       "3           0.0            0.0  ...                     0.0      112.0   \n",
       "4           0.0            0.0  ...                     0.0       91.0   \n",
       "\n",
       "   total_tests  new_tests_smoothed  positive_rate  total_vaccinations  \\\n",
       "0         27.0                 0.0            0.0                 0.0   \n",
       "1        135.0                 0.0            0.0                 0.0   \n",
       "2        228.0                 0.0            0.0                 0.0   \n",
       "3        340.0                 0.0            0.0                 0.0   \n",
       "4        431.0                 0.0            0.0                 0.0   \n",
       "\n",
       "   people_vaccinated  people_fully_vaccinated  new_vaccinations  \\\n",
       "0                0.0                      0.0               0.0   \n",
       "1                0.0                      0.0               0.0   \n",
       "2                0.0                      0.0               0.0   \n",
       "3                0.0                      0.0               0.0   \n",
       "4                0.0                      0.0               0.0   \n",
       "\n",
       "   new_vaccinations_smoothed  \n",
       "0                        0.0  \n",
       "1                        0.0  \n",
       "2                        0.0  \n",
       "3                        0.0  \n",
       "4                        0.0  \n",
       "\n",
       "[5 rows x 21 columns]"
      ],
      "text/html": "<div>\n<style scoped>\n    .dataframe tbody tr th:only-of-type {\n        vertical-align: middle;\n    }\n\n    .dataframe tbody tr th {\n        vertical-align: top;\n    }\n\n    .dataframe thead th {\n        text-align: right;\n    }\n</style>\n<table border=\"1\" class=\"dataframe\">\n  <thead>\n    <tr style=\"text-align: right;\">\n      <th></th>\n      <th>gdp_per_cap_percentile</th>\n      <th>date</th>\n      <th>total_cases</th>\n      <th>new_cases</th>\n      <th>new_cases_smoothed</th>\n      <th>total_deaths</th>\n      <th>new_deaths</th>\n      <th>new_deaths_smoothed</th>\n      <th>icu_patients</th>\n      <th>hosp_patients</th>\n      <th>...</th>\n      <th>weekly_hosp_admissions</th>\n      <th>new_tests</th>\n      <th>total_tests</th>\n      <th>new_tests_smoothed</th>\n      <th>positive_rate</th>\n      <th>total_vaccinations</th>\n      <th>people_vaccinated</th>\n      <th>people_fully_vaccinated</th>\n      <th>new_vaccinations</th>\n      <th>new_vaccinations_smoothed</th>\n    </tr>\n  </thead>\n  <tbody>\n    <tr>\n      <th>0</th>\n      <td>2.0</td>\n      <td>2020-01-01</td>\n      <td>0.0</td>\n      <td>0.0</td>\n      <td>0.0</td>\n      <td>0.0</td>\n      <td>0.0</td>\n      <td>0.0</td>\n      <td>0.0</td>\n      <td>0.0</td>\n      <td>...</td>\n      <td>0.0</td>\n      <td>27.0</td>\n      <td>27.0</td>\n      <td>0.0</td>\n      <td>0.0</td>\n      <td>0.0</td>\n      <td>0.0</td>\n      <td>0.0</td>\n      <td>0.0</td>\n      <td>0.0</td>\n    </tr>\n    <tr>\n      <th>1</th>\n      <td>2.0</td>\n      <td>2020-01-02</td>\n      <td>0.0</td>\n      <td>0.0</td>\n      <td>0.0</td>\n      <td>0.0</td>\n      <td>0.0</td>\n      <td>0.0</td>\n      <td>0.0</td>\n      <td>0.0</td>\n      <td>...</td>\n      <td>0.0</td>\n      <td>108.0</td>\n      <td>135.0</td>\n      <td>0.0</td>\n      <td>0.0</td>\n      <td>0.0</td>\n      <td>0.0</td>\n      <td>0.0</td>\n      <td>0.0</td>\n      <td>0.0</td>\n    </tr>\n    <tr>\n      <th>2</th>\n      <td>2.0</td>\n      <td>2020-01-03</td>\n      <td>0.0</td>\n      <td>0.0</td>\n      <td>0.0</td>\n      <td>0.0</td>\n      <td>0.0</td>\n      <td>0.0</td>\n      <td>0.0</td>\n      <td>0.0</td>\n      <td>...</td>\n      <td>0.0</td>\n      <td>93.0</td>\n      <td>228.0</td>\n      <td>0.0</td>\n      <td>0.0</td>\n      <td>0.0</td>\n      <td>0.0</td>\n      <td>0.0</td>\n      <td>0.0</td>\n      <td>0.0</td>\n    </tr>\n    <tr>\n      <th>3</th>\n      <td>2.0</td>\n      <td>2020-01-04</td>\n      <td>0.0</td>\n      <td>0.0</td>\n      <td>0.0</td>\n      <td>0.0</td>\n      <td>0.0</td>\n      <td>0.0</td>\n      <td>0.0</td>\n      <td>0.0</td>\n      <td>...</td>\n      <td>0.0</td>\n      <td>112.0</td>\n      <td>340.0</td>\n      <td>0.0</td>\n      <td>0.0</td>\n      <td>0.0</td>\n      <td>0.0</td>\n      <td>0.0</td>\n      <td>0.0</td>\n      <td>0.0</td>\n    </tr>\n    <tr>\n      <th>4</th>\n      <td>2.0</td>\n      <td>2020-01-05</td>\n      <td>0.0</td>\n      <td>0.0</td>\n      <td>0.0</td>\n      <td>0.0</td>\n      <td>0.0</td>\n      <td>0.0</td>\n      <td>0.0</td>\n      <td>0.0</td>\n      <td>...</td>\n      <td>0.0</td>\n      <td>91.0</td>\n      <td>431.0</td>\n      <td>0.0</td>\n      <td>0.0</td>\n      <td>0.0</td>\n      <td>0.0</td>\n      <td>0.0</td>\n      <td>0.0</td>\n      <td>0.0</td>\n    </tr>\n  </tbody>\n</table>\n<p>5 rows × 21 columns</p>\n</div>"
     },
     "metadata": {},
     "execution_count": 78
    }
   ],
   "source": [
    "gdp_percentile_data.head(5)"
   ]
  },
  {
   "cell_type": "code",
   "execution_count": 79,
   "metadata": {},
   "outputs": [],
   "source": [
    "def gdp_stringifyer(value):\n",
    "    option_dict = {\n",
    "        1: \"High\",\n",
    "        2: \"Upper middle\",\n",
    "        3: \"Lower middle\",\n",
    "        4: \"Low\"\n",
    "    }\n",
    "\n",
    "    try: return option_dict[int(value)]\n",
    "    except: return np.nan"
   ]
  },
  {
   "cell_type": "code",
   "execution_count": 80,
   "metadata": {},
   "outputs": [
    {
     "output_type": "execute_result",
     "data": {
      "text/plain": [
       "      gdp_per_cap_percentile        date  total_cases  new_cases  \\\n",
       "0                        2.0  2020-01-01          0.0        0.0   \n",
       "1                        2.0  2020-01-02          0.0        0.0   \n",
       "2                        2.0  2020-01-03          0.0        0.0   \n",
       "3                        2.0  2020-01-04          0.0        0.0   \n",
       "4                        2.0  2020-01-05          0.0        0.0   \n",
       "...                      ...         ...          ...        ...   \n",
       "2425                     4.0  2021-04-26    2352458.0     9848.0   \n",
       "2426                     4.0  2021-04-27    2363406.0    10948.0   \n",
       "2427                     4.0  2021-04-28    2375708.0    12302.0   \n",
       "2428                     4.0  2021-04-29    2393378.0    17670.0   \n",
       "2429                     4.0  2021-04-30    2405064.0    11686.0   \n",
       "\n",
       "      new_cases_smoothed  total_deaths  new_deaths  new_deaths_smoothed  \\\n",
       "0                  0.000           0.0         0.0                0.000   \n",
       "1                  0.000           0.0         0.0                0.000   \n",
       "2                  0.000           0.0         0.0                0.000   \n",
       "3                  0.000           0.0         0.0                0.000   \n",
       "4                  0.000           0.0         0.0                0.000   \n",
       "...                  ...           ...         ...                  ...   \n",
       "2425           10971.571       38701.0       216.0              216.146   \n",
       "2426           10975.428       38910.0       209.0              213.570   \n",
       "2427           11095.145       39122.0       212.0              212.002   \n",
       "2428           11942.717       39443.0       321.0              228.289   \n",
       "2429           11872.571       39615.0       172.0              220.288   \n",
       "\n",
       "      icu_patients  hosp_patients  ...  new_tests  total_tests  \\\n",
       "0              0.0            0.0  ...       27.0         27.0   \n",
       "1              0.0            0.0  ...      108.0        135.0   \n",
       "2              0.0            0.0  ...       93.0        228.0   \n",
       "3              0.0            0.0  ...      112.0        340.0   \n",
       "4              0.0            0.0  ...       91.0        431.0   \n",
       "...            ...            ...  ...        ...          ...   \n",
       "2425           0.0            0.0  ...    63033.0   18230273.0   \n",
       "2426           0.0            0.0  ...    61045.0   17145920.0   \n",
       "2427           0.0            0.0  ...    59485.0   15845036.0   \n",
       "2428           0.0            0.0  ...    45293.0   12033725.0   \n",
       "2429           0.0            0.0  ...        0.0    1664435.0   \n",
       "\n",
       "      new_tests_smoothed  positive_rate  total_vaccinations  \\\n",
       "0                    0.0          0.000                 0.0   \n",
       "1                    0.0          0.000                 0.0   \n",
       "2                    0.0          0.000                 0.0   \n",
       "3                    0.0          0.000                 0.0   \n",
       "4                    0.0          0.000                 0.0   \n",
       "...                  ...            ...                 ...   \n",
       "2425             68780.0          1.594          14015307.0   \n",
       "2426             68194.0          1.575          14333595.0   \n",
       "2427             65876.0          1.476          13236251.0   \n",
       "2428             48752.0          0.568          12413247.0   \n",
       "2429              5682.0          0.000           3991508.0   \n",
       "\n",
       "      people_vaccinated  people_fully_vaccinated  new_vaccinations  \\\n",
       "0                   0.0                      0.0               0.0   \n",
       "1                   0.0                      0.0               0.0   \n",
       "2                   0.0                      0.0               0.0   \n",
       "3                   0.0                      0.0               0.0   \n",
       "4                   0.0                      0.0               0.0   \n",
       "...                 ...                      ...               ...   \n",
       "2425         10680363.0                3334944.0          216907.0   \n",
       "2426         10823178.0                3510417.0          254082.0   \n",
       "2427         10422676.0                2813575.0          209426.0   \n",
       "2428          8566479.0                3846768.0          150777.0   \n",
       "2429          2960679.0                1030829.0           81400.0   \n",
       "\n",
       "      new_vaccinations_smoothed  wealth_group  \n",
       "0                           0.0  Upper middle  \n",
       "1                           0.0  Upper middle  \n",
       "2                           0.0  Upper middle  \n",
       "3                           0.0  Upper middle  \n",
       "4                           0.0  Upper middle  \n",
       "...                         ...           ...  \n",
       "2425                   269774.0           Low  \n",
       "2426                   266171.0           Low  \n",
       "2427                   265744.0           Low  \n",
       "2428                   215655.0           Low  \n",
       "2429                    83012.0           Low  \n",
       "\n",
       "[2430 rows x 22 columns]"
      ],
      "text/html": "<div>\n<style scoped>\n    .dataframe tbody tr th:only-of-type {\n        vertical-align: middle;\n    }\n\n    .dataframe tbody tr th {\n        vertical-align: top;\n    }\n\n    .dataframe thead th {\n        text-align: right;\n    }\n</style>\n<table border=\"1\" class=\"dataframe\">\n  <thead>\n    <tr style=\"text-align: right;\">\n      <th></th>\n      <th>gdp_per_cap_percentile</th>\n      <th>date</th>\n      <th>total_cases</th>\n      <th>new_cases</th>\n      <th>new_cases_smoothed</th>\n      <th>total_deaths</th>\n      <th>new_deaths</th>\n      <th>new_deaths_smoothed</th>\n      <th>icu_patients</th>\n      <th>hosp_patients</th>\n      <th>...</th>\n      <th>new_tests</th>\n      <th>total_tests</th>\n      <th>new_tests_smoothed</th>\n      <th>positive_rate</th>\n      <th>total_vaccinations</th>\n      <th>people_vaccinated</th>\n      <th>people_fully_vaccinated</th>\n      <th>new_vaccinations</th>\n      <th>new_vaccinations_smoothed</th>\n      <th>wealth_group</th>\n    </tr>\n  </thead>\n  <tbody>\n    <tr>\n      <th>0</th>\n      <td>2.0</td>\n      <td>2020-01-01</td>\n      <td>0.0</td>\n      <td>0.0</td>\n      <td>0.000</td>\n      <td>0.0</td>\n      <td>0.0</td>\n      <td>0.000</td>\n      <td>0.0</td>\n      <td>0.0</td>\n      <td>...</td>\n      <td>27.0</td>\n      <td>27.0</td>\n      <td>0.0</td>\n      <td>0.000</td>\n      <td>0.0</td>\n      <td>0.0</td>\n      <td>0.0</td>\n      <td>0.0</td>\n      <td>0.0</td>\n      <td>Upper middle</td>\n    </tr>\n    <tr>\n      <th>1</th>\n      <td>2.0</td>\n      <td>2020-01-02</td>\n      <td>0.0</td>\n      <td>0.0</td>\n      <td>0.000</td>\n      <td>0.0</td>\n      <td>0.0</td>\n      <td>0.000</td>\n      <td>0.0</td>\n      <td>0.0</td>\n      <td>...</td>\n      <td>108.0</td>\n      <td>135.0</td>\n      <td>0.0</td>\n      <td>0.000</td>\n      <td>0.0</td>\n      <td>0.0</td>\n      <td>0.0</td>\n      <td>0.0</td>\n      <td>0.0</td>\n      <td>Upper middle</td>\n    </tr>\n    <tr>\n      <th>2</th>\n      <td>2.0</td>\n      <td>2020-01-03</td>\n      <td>0.0</td>\n      <td>0.0</td>\n      <td>0.000</td>\n      <td>0.0</td>\n      <td>0.0</td>\n      <td>0.000</td>\n      <td>0.0</td>\n      <td>0.0</td>\n      <td>...</td>\n      <td>93.0</td>\n      <td>228.0</td>\n      <td>0.0</td>\n      <td>0.000</td>\n      <td>0.0</td>\n      <td>0.0</td>\n      <td>0.0</td>\n      <td>0.0</td>\n      <td>0.0</td>\n      <td>Upper middle</td>\n    </tr>\n    <tr>\n      <th>3</th>\n      <td>2.0</td>\n      <td>2020-01-04</td>\n      <td>0.0</td>\n      <td>0.0</td>\n      <td>0.000</td>\n      <td>0.0</td>\n      <td>0.0</td>\n      <td>0.000</td>\n      <td>0.0</td>\n      <td>0.0</td>\n      <td>...</td>\n      <td>112.0</td>\n      <td>340.0</td>\n      <td>0.0</td>\n      <td>0.000</td>\n      <td>0.0</td>\n      <td>0.0</td>\n      <td>0.0</td>\n      <td>0.0</td>\n      <td>0.0</td>\n      <td>Upper middle</td>\n    </tr>\n    <tr>\n      <th>4</th>\n      <td>2.0</td>\n      <td>2020-01-05</td>\n      <td>0.0</td>\n      <td>0.0</td>\n      <td>0.000</td>\n      <td>0.0</td>\n      <td>0.0</td>\n      <td>0.000</td>\n      <td>0.0</td>\n      <td>0.0</td>\n      <td>...</td>\n      <td>91.0</td>\n      <td>431.0</td>\n      <td>0.0</td>\n      <td>0.000</td>\n      <td>0.0</td>\n      <td>0.0</td>\n      <td>0.0</td>\n      <td>0.0</td>\n      <td>0.0</td>\n      <td>Upper middle</td>\n    </tr>\n    <tr>\n      <th>...</th>\n      <td>...</td>\n      <td>...</td>\n      <td>...</td>\n      <td>...</td>\n      <td>...</td>\n      <td>...</td>\n      <td>...</td>\n      <td>...</td>\n      <td>...</td>\n      <td>...</td>\n      <td>...</td>\n      <td>...</td>\n      <td>...</td>\n      <td>...</td>\n      <td>...</td>\n      <td>...</td>\n      <td>...</td>\n      <td>...</td>\n      <td>...</td>\n      <td>...</td>\n      <td>...</td>\n    </tr>\n    <tr>\n      <th>2425</th>\n      <td>4.0</td>\n      <td>2021-04-26</td>\n      <td>2352458.0</td>\n      <td>9848.0</td>\n      <td>10971.571</td>\n      <td>38701.0</td>\n      <td>216.0</td>\n      <td>216.146</td>\n      <td>0.0</td>\n      <td>0.0</td>\n      <td>...</td>\n      <td>63033.0</td>\n      <td>18230273.0</td>\n      <td>68780.0</td>\n      <td>1.594</td>\n      <td>14015307.0</td>\n      <td>10680363.0</td>\n      <td>3334944.0</td>\n      <td>216907.0</td>\n      <td>269774.0</td>\n      <td>Low</td>\n    </tr>\n    <tr>\n      <th>2426</th>\n      <td>4.0</td>\n      <td>2021-04-27</td>\n      <td>2363406.0</td>\n      <td>10948.0</td>\n      <td>10975.428</td>\n      <td>38910.0</td>\n      <td>209.0</td>\n      <td>213.570</td>\n      <td>0.0</td>\n      <td>0.0</td>\n      <td>...</td>\n      <td>61045.0</td>\n      <td>17145920.0</td>\n      <td>68194.0</td>\n      <td>1.575</td>\n      <td>14333595.0</td>\n      <td>10823178.0</td>\n      <td>3510417.0</td>\n      <td>254082.0</td>\n      <td>266171.0</td>\n      <td>Low</td>\n    </tr>\n    <tr>\n      <th>2427</th>\n      <td>4.0</td>\n      <td>2021-04-28</td>\n      <td>2375708.0</td>\n      <td>12302.0</td>\n      <td>11095.145</td>\n      <td>39122.0</td>\n      <td>212.0</td>\n      <td>212.002</td>\n      <td>0.0</td>\n      <td>0.0</td>\n      <td>...</td>\n      <td>59485.0</td>\n      <td>15845036.0</td>\n      <td>65876.0</td>\n      <td>1.476</td>\n      <td>13236251.0</td>\n      <td>10422676.0</td>\n      <td>2813575.0</td>\n      <td>209426.0</td>\n      <td>265744.0</td>\n      <td>Low</td>\n    </tr>\n    <tr>\n      <th>2428</th>\n      <td>4.0</td>\n      <td>2021-04-29</td>\n      <td>2393378.0</td>\n      <td>17670.0</td>\n      <td>11942.717</td>\n      <td>39443.0</td>\n      <td>321.0</td>\n      <td>228.289</td>\n      <td>0.0</td>\n      <td>0.0</td>\n      <td>...</td>\n      <td>45293.0</td>\n      <td>12033725.0</td>\n      <td>48752.0</td>\n      <td>0.568</td>\n      <td>12413247.0</td>\n      <td>8566479.0</td>\n      <td>3846768.0</td>\n      <td>150777.0</td>\n      <td>215655.0</td>\n      <td>Low</td>\n    </tr>\n    <tr>\n      <th>2429</th>\n      <td>4.0</td>\n      <td>2021-04-30</td>\n      <td>2405064.0</td>\n      <td>11686.0</td>\n      <td>11872.571</td>\n      <td>39615.0</td>\n      <td>172.0</td>\n      <td>220.288</td>\n      <td>0.0</td>\n      <td>0.0</td>\n      <td>...</td>\n      <td>0.0</td>\n      <td>1664435.0</td>\n      <td>5682.0</td>\n      <td>0.000</td>\n      <td>3991508.0</td>\n      <td>2960679.0</td>\n      <td>1030829.0</td>\n      <td>81400.0</td>\n      <td>83012.0</td>\n      <td>Low</td>\n    </tr>\n  </tbody>\n</table>\n<p>2430 rows × 22 columns</p>\n</div>"
     },
     "metadata": {},
     "execution_count": 80
    }
   ],
   "source": [
    "gdp_percentile_data['wealth_group'] = gdp_percentile_data['gdp_per_cap_percentile'].apply(gdp_stringifyer)\n",
    "\n",
    "gdp_percentile_data"
   ]
  },
  {
   "cell_type": "code",
   "execution_count": 86,
   "metadata": {},
   "outputs": [],
   "source": [
    "dates = list(gdp_percentile_data['date'].sort_values().drop_duplicates())\n",
    "wealth_groups = list(gdp_percentile_data['wealth_group'].sort_values().drop_duplicates().dropna())"
   ]
  },
  {
   "cell_type": "code",
   "execution_count": 87,
   "metadata": {},
   "outputs": [],
   "source": [
    "new_data = []\n",
    "new_header = ['date'] + wealth_groups\n",
    "for date in dates:\n",
    "    new_row = [date]\n",
    "    date_df = gdp_percentile_data[gdp_percentile_data['date'] == date]\n",
    "    for group in wealth_groups:\n",
    "        group_date_df = date_df[date_df['wealth_group'] == group]\n",
    "\n",
    "        try:\n",
    "            value = list(group_date_df[value_type])[0]\n",
    "        except:\n",
    "            value = 0\n",
    "        \n",
    "        new_row.append(value)\n",
    "\n",
    "    new_data.append(new_row)\n",
    "\n",
    "stream_graph_data = pd.DataFrame(new_data, columns = new_header)\n"
   ]
  },
  {
   "cell_type": "code",
   "execution_count": 88,
   "metadata": {},
   "outputs": [],
   "source": [
    "stream_graph_data = stream_graph_data[stream_graph_data['date'] >= datetime.date(2020, 12, 8)]"
   ]
  },
  {
   "cell_type": "code",
   "execution_count": 89,
   "metadata": {},
   "outputs": [
    {
     "output_type": "execute_result",
     "data": {
      "text/plain": [
       "           date         High         Low  Lower middle  Upper middle\n",
       "342  2020-12-08          0.0         0.0           0.0           0.0\n",
       "343  2020-12-09          0.0         0.0           0.0           0.0\n",
       "344  2020-12-10          0.0         0.0           0.0           0.0\n",
       "345  2020-12-11          0.0         0.0           0.0           0.0\n",
       "346  2020-12-12          0.0         0.0           0.0           0.0\n",
       "..          ...          ...         ...           ...           ...\n",
       "481  2021-04-26  434218982.0  14015307.0   180580641.0   374445548.0\n",
       "482  2021-04-27  449315782.0  14333595.0   184210490.0   396008673.0\n",
       "483  2021-04-28  453353925.0  13236251.0   184885713.0   395678849.0\n",
       "484  2021-04-29  452792498.0  12413247.0   179375293.0   420841546.0\n",
       "485  2021-04-30  325649947.0   3991508.0   187372040.0   397172958.0\n",
       "\n",
       "[144 rows x 5 columns]"
      ],
      "text/html": "<div>\n<style scoped>\n    .dataframe tbody tr th:only-of-type {\n        vertical-align: middle;\n    }\n\n    .dataframe tbody tr th {\n        vertical-align: top;\n    }\n\n    .dataframe thead th {\n        text-align: right;\n    }\n</style>\n<table border=\"1\" class=\"dataframe\">\n  <thead>\n    <tr style=\"text-align: right;\">\n      <th></th>\n      <th>date</th>\n      <th>High</th>\n      <th>Low</th>\n      <th>Lower middle</th>\n      <th>Upper middle</th>\n    </tr>\n  </thead>\n  <tbody>\n    <tr>\n      <th>342</th>\n      <td>2020-12-08</td>\n      <td>0.0</td>\n      <td>0.0</td>\n      <td>0.0</td>\n      <td>0.0</td>\n    </tr>\n    <tr>\n      <th>343</th>\n      <td>2020-12-09</td>\n      <td>0.0</td>\n      <td>0.0</td>\n      <td>0.0</td>\n      <td>0.0</td>\n    </tr>\n    <tr>\n      <th>344</th>\n      <td>2020-12-10</td>\n      <td>0.0</td>\n      <td>0.0</td>\n      <td>0.0</td>\n      <td>0.0</td>\n    </tr>\n    <tr>\n      <th>345</th>\n      <td>2020-12-11</td>\n      <td>0.0</td>\n      <td>0.0</td>\n      <td>0.0</td>\n      <td>0.0</td>\n    </tr>\n    <tr>\n      <th>346</th>\n      <td>2020-12-12</td>\n      <td>0.0</td>\n      <td>0.0</td>\n      <td>0.0</td>\n      <td>0.0</td>\n    </tr>\n    <tr>\n      <th>...</th>\n      <td>...</td>\n      <td>...</td>\n      <td>...</td>\n      <td>...</td>\n      <td>...</td>\n    </tr>\n    <tr>\n      <th>481</th>\n      <td>2021-04-26</td>\n      <td>434218982.0</td>\n      <td>14015307.0</td>\n      <td>180580641.0</td>\n      <td>374445548.0</td>\n    </tr>\n    <tr>\n      <th>482</th>\n      <td>2021-04-27</td>\n      <td>449315782.0</td>\n      <td>14333595.0</td>\n      <td>184210490.0</td>\n      <td>396008673.0</td>\n    </tr>\n    <tr>\n      <th>483</th>\n      <td>2021-04-28</td>\n      <td>453353925.0</td>\n      <td>13236251.0</td>\n      <td>184885713.0</td>\n      <td>395678849.0</td>\n    </tr>\n    <tr>\n      <th>484</th>\n      <td>2021-04-29</td>\n      <td>452792498.0</td>\n      <td>12413247.0</td>\n      <td>179375293.0</td>\n      <td>420841546.0</td>\n    </tr>\n    <tr>\n      <th>485</th>\n      <td>2021-04-30</td>\n      <td>325649947.0</td>\n      <td>3991508.0</td>\n      <td>187372040.0</td>\n      <td>397172958.0</td>\n    </tr>\n  </tbody>\n</table>\n<p>144 rows × 5 columns</p>\n</div>"
     },
     "metadata": {},
     "execution_count": 89
    }
   ],
   "source": [
    "stream_graph_data"
   ]
  },
  {
   "cell_type": "code",
   "execution_count": 90,
   "metadata": {},
   "outputs": [],
   "source": [
    "stream_graph_data.to_csv('data/vaccine_stream_data.csv', index = False)"
   ]
  },
  {
   "cell_type": "code",
   "execution_count": null,
   "metadata": {},
   "outputs": [],
   "source": []
  }
 ],
 "metadata": {
  "kernelspec": {
   "name": "python374jvsc74a57bd05e98c824ef30c57fed549efa009181d056e304fc9dac7ebd3cb5f873eb313ade",
   "display_name": "Python 3.7.4 64-bit ('my_environment': conda)"
  },
  "language_info": {
   "codemirror_mode": {
    "name": "ipython",
    "version": 3
   },
   "file_extension": ".py",
   "mimetype": "text/x-python",
   "name": "python",
   "nbconvert_exporter": "python",
   "pygments_lexer": "ipython3",
   "version": "3.7.4"
  }
 },
 "nbformat": 4,
 "nbformat_minor": 4
}