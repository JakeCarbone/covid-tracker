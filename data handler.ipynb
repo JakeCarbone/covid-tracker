{
 "cells": [
  {
   "cell_type": "markdown",
   "metadata": {},
   "source": [
    "# Exploring Our World in Data  COVID-19 data"
   ]
  },
  {
   "cell_type": "markdown",
   "metadata": {},
   "source": [
    "Imports"
   ]
  },
  {
   "cell_type": "code",
   "execution_count": 93,
   "metadata": {},
   "outputs": [],
   "source": [
    "import pandas as pd\n",
    "import numpy as np\n",
    "from tqdm import tqdm"
   ]
  },
  {
   "cell_type": "code",
   "execution_count": 94,
   "metadata": {},
   "outputs": [],
   "source": [
    "import datetime\n"
   ]
  },
  {
   "source": [
    "To seperate out the countries in this data we need country iso-3 codes. There is a data set of this all [here](https://www.iban.com/country-codes). Luckily we can download the data in one line of code with pandas read_html function."
   ],
   "cell_type": "markdown",
   "metadata": {}
  },
  {
   "cell_type": "code",
   "execution_count": 95,
   "metadata": {},
   "outputs": [],
   "source": [
    "country_codes = pd.read_html('https://www.iban.com/country-codes')[0]"
   ]
  },
  {
   "cell_type": "code",
   "execution_count": 96,
   "metadata": {},
   "outputs": [
    {
     "output_type": "execute_result",
     "data": {
      "text/plain": [
       "               Country Alpha-2 code Alpha-3 code  Numeric\n",
       "0          Afghanistan           AF          AFG        4\n",
       "1        Åland Islands           AX          ALA      248\n",
       "2              Albania           AL          ALB        8\n",
       "3              Algeria           DZ          DZA       12\n",
       "4       American Samoa           AS          ASM       16\n",
       "..                 ...          ...          ...      ...\n",
       "244  Wallis and Futuna           WF          WLF      876\n",
       "245     Western Sahara           EH          ESH      732\n",
       "246              Yemen           YE          YEM      887\n",
       "247             Zambia           ZM          ZMB      894\n",
       "248           Zimbabwe           ZW          ZWE      716\n",
       "\n",
       "[249 rows x 4 columns]"
      ],
      "text/html": "<div>\n<style scoped>\n    .dataframe tbody tr th:only-of-type {\n        vertical-align: middle;\n    }\n\n    .dataframe tbody tr th {\n        vertical-align: top;\n    }\n\n    .dataframe thead th {\n        text-align: right;\n    }\n</style>\n<table border=\"1\" class=\"dataframe\">\n  <thead>\n    <tr style=\"text-align: right;\">\n      <th></th>\n      <th>Country</th>\n      <th>Alpha-2 code</th>\n      <th>Alpha-3 code</th>\n      <th>Numeric</th>\n    </tr>\n  </thead>\n  <tbody>\n    <tr>\n      <th>0</th>\n      <td>Afghanistan</td>\n      <td>AF</td>\n      <td>AFG</td>\n      <td>4</td>\n    </tr>\n    <tr>\n      <th>1</th>\n      <td>Åland Islands</td>\n      <td>AX</td>\n      <td>ALA</td>\n      <td>248</td>\n    </tr>\n    <tr>\n      <th>2</th>\n      <td>Albania</td>\n      <td>AL</td>\n      <td>ALB</td>\n      <td>8</td>\n    </tr>\n    <tr>\n      <th>3</th>\n      <td>Algeria</td>\n      <td>DZ</td>\n      <td>DZA</td>\n      <td>12</td>\n    </tr>\n    <tr>\n      <th>4</th>\n      <td>American Samoa</td>\n      <td>AS</td>\n      <td>ASM</td>\n      <td>16</td>\n    </tr>\n    <tr>\n      <th>...</th>\n      <td>...</td>\n      <td>...</td>\n      <td>...</td>\n      <td>...</td>\n    </tr>\n    <tr>\n      <th>244</th>\n      <td>Wallis and Futuna</td>\n      <td>WF</td>\n      <td>WLF</td>\n      <td>876</td>\n    </tr>\n    <tr>\n      <th>245</th>\n      <td>Western Sahara</td>\n      <td>EH</td>\n      <td>ESH</td>\n      <td>732</td>\n    </tr>\n    <tr>\n      <th>246</th>\n      <td>Yemen</td>\n      <td>YE</td>\n      <td>YEM</td>\n      <td>887</td>\n    </tr>\n    <tr>\n      <th>247</th>\n      <td>Zambia</td>\n      <td>ZM</td>\n      <td>ZMB</td>\n      <td>894</td>\n    </tr>\n    <tr>\n      <th>248</th>\n      <td>Zimbabwe</td>\n      <td>ZW</td>\n      <td>ZWE</td>\n      <td>716</td>\n    </tr>\n  </tbody>\n</table>\n<p>249 rows × 4 columns</p>\n</div>"
     },
     "metadata": {},
     "execution_count": 96
    }
   ],
   "source": [
    "country_codes"
   ]
  },
  {
   "source": [
    "Lets save this for future use and incase the website ever goes down."
   ],
   "cell_type": "markdown",
   "metadata": {}
  },
  {
   "cell_type": "code",
   "execution_count": 97,
   "metadata": {},
   "outputs": [],
   "source": [
    "country_codes.to_csv('data/country_codes.csv', index=False)"
   ]
  },
  {
   "cell_type": "markdown",
   "metadata": {},
   "source": [
    "Using the github download link we can pull the latest OWID COVID data straight from github"
   ]
  },
  {
   "cell_type": "code",
   "execution_count": 98,
   "metadata": {},
   "outputs": [
    {
     "output_type": "execute_result",
     "data": {
      "text/plain": [
       "      iso_code continent     location        date  total_cases  new_cases  \\\n",
       "0          AFG      Asia  Afghanistan  2020-02-24          1.0        1.0   \n",
       "1          AFG      Asia  Afghanistan  2020-02-25          1.0        0.0   \n",
       "2          AFG      Asia  Afghanistan  2020-02-26          1.0        0.0   \n",
       "3          AFG      Asia  Afghanistan  2020-02-27          1.0        0.0   \n",
       "4          AFG      Asia  Afghanistan  2020-02-28          1.0        0.0   \n",
       "...        ...       ...          ...         ...          ...        ...   \n",
       "84959      ZWE    Africa     Zimbabwe  2021-04-25      38086.0       22.0   \n",
       "84960      ZWE    Africa     Zimbabwe  2021-04-26      38102.0       16.0   \n",
       "84961      ZWE    Africa     Zimbabwe  2021-04-27      38164.0       62.0   \n",
       "84962      ZWE    Africa     Zimbabwe  2021-04-28      38191.0       27.0   \n",
       "84963      ZWE    Africa     Zimbabwe  2021-04-29      38235.0       44.0   \n",
       "\n",
       "       new_cases_smoothed  total_deaths  new_deaths  new_deaths_smoothed  ...  \\\n",
       "0                     NaN           NaN         NaN                  NaN  ...   \n",
       "1                     NaN           NaN         NaN                  NaN  ...   \n",
       "2                     NaN           NaN         NaN                  NaN  ...   \n",
       "3                     NaN           NaN         NaN                  NaN  ...   \n",
       "4                     NaN           NaN         NaN                  NaN  ...   \n",
       "...                   ...           ...         ...                  ...  ...   \n",
       "84959              47.857        1557.0         1.0                0.571  ...   \n",
       "84960              34.714        1560.0         3.0                1.000  ...   \n",
       "84961              41.286        1565.0         5.0                1.571  ...   \n",
       "84962              30.143        1565.0         0.0                1.429  ...   \n",
       "84963              31.000        1567.0         2.0                1.714  ...   \n",
       "\n",
       "       gdp_per_capita  extreme_poverty  cardiovasc_death_rate  \\\n",
       "0            1803.987              NaN                597.029   \n",
       "1            1803.987              NaN                597.029   \n",
       "2            1803.987              NaN                597.029   \n",
       "3            1803.987              NaN                597.029   \n",
       "4            1803.987              NaN                597.029   \n",
       "...               ...              ...                    ...   \n",
       "84959        1899.775             21.4                307.846   \n",
       "84960        1899.775             21.4                307.846   \n",
       "84961        1899.775             21.4                307.846   \n",
       "84962        1899.775             21.4                307.846   \n",
       "84963        1899.775             21.4                307.846   \n",
       "\n",
       "       diabetes_prevalence  female_smokers  male_smokers  \\\n",
       "0                     9.59             NaN           NaN   \n",
       "1                     9.59             NaN           NaN   \n",
       "2                     9.59             NaN           NaN   \n",
       "3                     9.59             NaN           NaN   \n",
       "4                     9.59             NaN           NaN   \n",
       "...                    ...             ...           ...   \n",
       "84959                 1.82             1.6          30.7   \n",
       "84960                 1.82             1.6          30.7   \n",
       "84961                 1.82             1.6          30.7   \n",
       "84962                 1.82             1.6          30.7   \n",
       "84963                 1.82             1.6          30.7   \n",
       "\n",
       "       handwashing_facilities  hospital_beds_per_thousand  life_expectancy  \\\n",
       "0                      37.746                         0.5            64.83   \n",
       "1                      37.746                         0.5            64.83   \n",
       "2                      37.746                         0.5            64.83   \n",
       "3                      37.746                         0.5            64.83   \n",
       "4                      37.746                         0.5            64.83   \n",
       "...                       ...                         ...              ...   \n",
       "84959                  36.791                         1.7            61.49   \n",
       "84960                  36.791                         1.7            61.49   \n",
       "84961                  36.791                         1.7            61.49   \n",
       "84962                  36.791                         1.7            61.49   \n",
       "84963                  36.791                         1.7            61.49   \n",
       "\n",
       "       human_development_index  \n",
       "0                        0.511  \n",
       "1                        0.511  \n",
       "2                        0.511  \n",
       "3                        0.511  \n",
       "4                        0.511  \n",
       "...                        ...  \n",
       "84959                    0.571  \n",
       "84960                    0.571  \n",
       "84961                    0.571  \n",
       "84962                    0.571  \n",
       "84963                    0.571  \n",
       "\n",
       "[84964 rows x 59 columns]"
      ],
      "text/html": "<div>\n<style scoped>\n    .dataframe tbody tr th:only-of-type {\n        vertical-align: middle;\n    }\n\n    .dataframe tbody tr th {\n        vertical-align: top;\n    }\n\n    .dataframe thead th {\n        text-align: right;\n    }\n</style>\n<table border=\"1\" class=\"dataframe\">\n  <thead>\n    <tr style=\"text-align: right;\">\n      <th></th>\n      <th>iso_code</th>\n      <th>continent</th>\n      <th>location</th>\n      <th>date</th>\n      <th>total_cases</th>\n      <th>new_cases</th>\n      <th>new_cases_smoothed</th>\n      <th>total_deaths</th>\n      <th>new_deaths</th>\n      <th>new_deaths_smoothed</th>\n      <th>...</th>\n      <th>gdp_per_capita</th>\n      <th>extreme_poverty</th>\n      <th>cardiovasc_death_rate</th>\n      <th>diabetes_prevalence</th>\n      <th>female_smokers</th>\n      <th>male_smokers</th>\n      <th>handwashing_facilities</th>\n      <th>hospital_beds_per_thousand</th>\n      <th>life_expectancy</th>\n      <th>human_development_index</th>\n    </tr>\n  </thead>\n  <tbody>\n    <tr>\n      <th>0</th>\n      <td>AFG</td>\n      <td>Asia</td>\n      <td>Afghanistan</td>\n      <td>2020-02-24</td>\n      <td>1.0</td>\n      <td>1.0</td>\n      <td>NaN</td>\n      <td>NaN</td>\n      <td>NaN</td>\n      <td>NaN</td>\n      <td>...</td>\n      <td>1803.987</td>\n      <td>NaN</td>\n      <td>597.029</td>\n      <td>9.59</td>\n      <td>NaN</td>\n      <td>NaN</td>\n      <td>37.746</td>\n      <td>0.5</td>\n      <td>64.83</td>\n      <td>0.511</td>\n    </tr>\n    <tr>\n      <th>1</th>\n      <td>AFG</td>\n      <td>Asia</td>\n      <td>Afghanistan</td>\n      <td>2020-02-25</td>\n      <td>1.0</td>\n      <td>0.0</td>\n      <td>NaN</td>\n      <td>NaN</td>\n      <td>NaN</td>\n      <td>NaN</td>\n      <td>...</td>\n      <td>1803.987</td>\n      <td>NaN</td>\n      <td>597.029</td>\n      <td>9.59</td>\n      <td>NaN</td>\n      <td>NaN</td>\n      <td>37.746</td>\n      <td>0.5</td>\n      <td>64.83</td>\n      <td>0.511</td>\n    </tr>\n    <tr>\n      <th>2</th>\n      <td>AFG</td>\n      <td>Asia</td>\n      <td>Afghanistan</td>\n      <td>2020-02-26</td>\n      <td>1.0</td>\n      <td>0.0</td>\n      <td>NaN</td>\n      <td>NaN</td>\n      <td>NaN</td>\n      <td>NaN</td>\n      <td>...</td>\n      <td>1803.987</td>\n      <td>NaN</td>\n      <td>597.029</td>\n      <td>9.59</td>\n      <td>NaN</td>\n      <td>NaN</td>\n      <td>37.746</td>\n      <td>0.5</td>\n      <td>64.83</td>\n      <td>0.511</td>\n    </tr>\n    <tr>\n      <th>3</th>\n      <td>AFG</td>\n      <td>Asia</td>\n      <td>Afghanistan</td>\n      <td>2020-02-27</td>\n      <td>1.0</td>\n      <td>0.0</td>\n      <td>NaN</td>\n      <td>NaN</td>\n      <td>NaN</td>\n      <td>NaN</td>\n      <td>...</td>\n      <td>1803.987</td>\n      <td>NaN</td>\n      <td>597.029</td>\n      <td>9.59</td>\n      <td>NaN</td>\n      <td>NaN</td>\n      <td>37.746</td>\n      <td>0.5</td>\n      <td>64.83</td>\n      <td>0.511</td>\n    </tr>\n    <tr>\n      <th>4</th>\n      <td>AFG</td>\n      <td>Asia</td>\n      <td>Afghanistan</td>\n      <td>2020-02-28</td>\n      <td>1.0</td>\n      <td>0.0</td>\n      <td>NaN</td>\n      <td>NaN</td>\n      <td>NaN</td>\n      <td>NaN</td>\n      <td>...</td>\n      <td>1803.987</td>\n      <td>NaN</td>\n      <td>597.029</td>\n      <td>9.59</td>\n      <td>NaN</td>\n      <td>NaN</td>\n      <td>37.746</td>\n      <td>0.5</td>\n      <td>64.83</td>\n      <td>0.511</td>\n    </tr>\n    <tr>\n      <th>...</th>\n      <td>...</td>\n      <td>...</td>\n      <td>...</td>\n      <td>...</td>\n      <td>...</td>\n      <td>...</td>\n      <td>...</td>\n      <td>...</td>\n      <td>...</td>\n      <td>...</td>\n      <td>...</td>\n      <td>...</td>\n      <td>...</td>\n      <td>...</td>\n      <td>...</td>\n      <td>...</td>\n      <td>...</td>\n      <td>...</td>\n      <td>...</td>\n      <td>...</td>\n      <td>...</td>\n    </tr>\n    <tr>\n      <th>84959</th>\n      <td>ZWE</td>\n      <td>Africa</td>\n      <td>Zimbabwe</td>\n      <td>2021-04-25</td>\n      <td>38086.0</td>\n      <td>22.0</td>\n      <td>47.857</td>\n      <td>1557.0</td>\n      <td>1.0</td>\n      <td>0.571</td>\n      <td>...</td>\n      <td>1899.775</td>\n      <td>21.4</td>\n      <td>307.846</td>\n      <td>1.82</td>\n      <td>1.6</td>\n      <td>30.7</td>\n      <td>36.791</td>\n      <td>1.7</td>\n      <td>61.49</td>\n      <td>0.571</td>\n    </tr>\n    <tr>\n      <th>84960</th>\n      <td>ZWE</td>\n      <td>Africa</td>\n      <td>Zimbabwe</td>\n      <td>2021-04-26</td>\n      <td>38102.0</td>\n      <td>16.0</td>\n      <td>34.714</td>\n      <td>1560.0</td>\n      <td>3.0</td>\n      <td>1.000</td>\n      <td>...</td>\n      <td>1899.775</td>\n      <td>21.4</td>\n      <td>307.846</td>\n      <td>1.82</td>\n      <td>1.6</td>\n      <td>30.7</td>\n      <td>36.791</td>\n      <td>1.7</td>\n      <td>61.49</td>\n      <td>0.571</td>\n    </tr>\n    <tr>\n      <th>84961</th>\n      <td>ZWE</td>\n      <td>Africa</td>\n      <td>Zimbabwe</td>\n      <td>2021-04-27</td>\n      <td>38164.0</td>\n      <td>62.0</td>\n      <td>41.286</td>\n      <td>1565.0</td>\n      <td>5.0</td>\n      <td>1.571</td>\n      <td>...</td>\n      <td>1899.775</td>\n      <td>21.4</td>\n      <td>307.846</td>\n      <td>1.82</td>\n      <td>1.6</td>\n      <td>30.7</td>\n      <td>36.791</td>\n      <td>1.7</td>\n      <td>61.49</td>\n      <td>0.571</td>\n    </tr>\n    <tr>\n      <th>84962</th>\n      <td>ZWE</td>\n      <td>Africa</td>\n      <td>Zimbabwe</td>\n      <td>2021-04-28</td>\n      <td>38191.0</td>\n      <td>27.0</td>\n      <td>30.143</td>\n      <td>1565.0</td>\n      <td>0.0</td>\n      <td>1.429</td>\n      <td>...</td>\n      <td>1899.775</td>\n      <td>21.4</td>\n      <td>307.846</td>\n      <td>1.82</td>\n      <td>1.6</td>\n      <td>30.7</td>\n      <td>36.791</td>\n      <td>1.7</td>\n      <td>61.49</td>\n      <td>0.571</td>\n    </tr>\n    <tr>\n      <th>84963</th>\n      <td>ZWE</td>\n      <td>Africa</td>\n      <td>Zimbabwe</td>\n      <td>2021-04-29</td>\n      <td>38235.0</td>\n      <td>44.0</td>\n      <td>31.000</td>\n      <td>1567.0</td>\n      <td>2.0</td>\n      <td>1.714</td>\n      <td>...</td>\n      <td>1899.775</td>\n      <td>21.4</td>\n      <td>307.846</td>\n      <td>1.82</td>\n      <td>1.6</td>\n      <td>30.7</td>\n      <td>36.791</td>\n      <td>1.7</td>\n      <td>61.49</td>\n      <td>0.571</td>\n    </tr>\n  </tbody>\n</table>\n<p>84964 rows × 59 columns</p>\n</div>"
     },
     "metadata": {},
     "execution_count": 98
    }
   ],
   "source": [
    "data_link = 'https://github.com/owid/covid-19-data/raw/master/public/data/owid-covid-data.csv'\n",
    "\n",
    "df = pd.read_csv(data_link)\n",
    "\n",
    "df"
   ]
  },
  {
   "cell_type": "code",
   "execution_count": 99,
   "metadata": {},
   "outputs": [],
   "source": [
    "def interpret_date(value):\n",
    "    year, month, day = value.split('-')\n",
    "\n",
    "    return datetime.datetime(int(year), int(month), int(day))"
   ]
  },
  {
   "cell_type": "code",
   "execution_count": 100,
   "metadata": {},
   "outputs": [],
   "source": [
    "df['date'] = df['date'].apply(interpret_date)"
   ]
  },
  {
   "source": [
    "## Analysing the countries in the data set"
   ],
   "cell_type": "markdown",
   "metadata": {}
  },
  {
   "cell_type": "code",
   "execution_count": 101,
   "metadata": {},
   "outputs": [],
   "source": [
    "country_iso_3_codes = list(country_codes['Alpha-3 code'])"
   ]
  },
  {
   "cell_type": "code",
   "execution_count": 102,
   "metadata": {},
   "outputs": [],
   "source": [
    "country_df = df[df['iso_code'].isin(country_iso_3_codes)]"
   ]
  },
  {
   "cell_type": "code",
   "execution_count": 103,
   "metadata": {},
   "outputs": [
    {
     "output_type": "execute_result",
     "data": {
      "text/plain": [
       "      iso_code continent     location       date  total_cases  new_cases  \\\n",
       "0          AFG      Asia  Afghanistan 2020-02-24          1.0        1.0   \n",
       "1          AFG      Asia  Afghanistan 2020-02-25          1.0        0.0   \n",
       "2          AFG      Asia  Afghanistan 2020-02-26          1.0        0.0   \n",
       "3          AFG      Asia  Afghanistan 2020-02-27          1.0        0.0   \n",
       "4          AFG      Asia  Afghanistan 2020-02-28          1.0        0.0   \n",
       "...        ...       ...          ...        ...          ...        ...   \n",
       "84959      ZWE    Africa     Zimbabwe 2021-04-25      38086.0       22.0   \n",
       "84960      ZWE    Africa     Zimbabwe 2021-04-26      38102.0       16.0   \n",
       "84961      ZWE    Africa     Zimbabwe 2021-04-27      38164.0       62.0   \n",
       "84962      ZWE    Africa     Zimbabwe 2021-04-28      38191.0       27.0   \n",
       "84963      ZWE    Africa     Zimbabwe 2021-04-29      38235.0       44.0   \n",
       "\n",
       "       new_cases_smoothed  total_deaths  new_deaths  new_deaths_smoothed  ...  \\\n",
       "0                     NaN           NaN         NaN                  NaN  ...   \n",
       "1                     NaN           NaN         NaN                  NaN  ...   \n",
       "2                     NaN           NaN         NaN                  NaN  ...   \n",
       "3                     NaN           NaN         NaN                  NaN  ...   \n",
       "4                     NaN           NaN         NaN                  NaN  ...   \n",
       "...                   ...           ...         ...                  ...  ...   \n",
       "84959              47.857        1557.0         1.0                0.571  ...   \n",
       "84960              34.714        1560.0         3.0                1.000  ...   \n",
       "84961              41.286        1565.0         5.0                1.571  ...   \n",
       "84962              30.143        1565.0         0.0                1.429  ...   \n",
       "84963              31.000        1567.0         2.0                1.714  ...   \n",
       "\n",
       "       gdp_per_capita  extreme_poverty  cardiovasc_death_rate  \\\n",
       "0            1803.987              NaN                597.029   \n",
       "1            1803.987              NaN                597.029   \n",
       "2            1803.987              NaN                597.029   \n",
       "3            1803.987              NaN                597.029   \n",
       "4            1803.987              NaN                597.029   \n",
       "...               ...              ...                    ...   \n",
       "84959        1899.775             21.4                307.846   \n",
       "84960        1899.775             21.4                307.846   \n",
       "84961        1899.775             21.4                307.846   \n",
       "84962        1899.775             21.4                307.846   \n",
       "84963        1899.775             21.4                307.846   \n",
       "\n",
       "       diabetes_prevalence  female_smokers  male_smokers  \\\n",
       "0                     9.59             NaN           NaN   \n",
       "1                     9.59             NaN           NaN   \n",
       "2                     9.59             NaN           NaN   \n",
       "3                     9.59             NaN           NaN   \n",
       "4                     9.59             NaN           NaN   \n",
       "...                    ...             ...           ...   \n",
       "84959                 1.82             1.6          30.7   \n",
       "84960                 1.82             1.6          30.7   \n",
       "84961                 1.82             1.6          30.7   \n",
       "84962                 1.82             1.6          30.7   \n",
       "84963                 1.82             1.6          30.7   \n",
       "\n",
       "       handwashing_facilities  hospital_beds_per_thousand  life_expectancy  \\\n",
       "0                      37.746                         0.5            64.83   \n",
       "1                      37.746                         0.5            64.83   \n",
       "2                      37.746                         0.5            64.83   \n",
       "3                      37.746                         0.5            64.83   \n",
       "4                      37.746                         0.5            64.83   \n",
       "...                       ...                         ...              ...   \n",
       "84959                  36.791                         1.7            61.49   \n",
       "84960                  36.791                         1.7            61.49   \n",
       "84961                  36.791                         1.7            61.49   \n",
       "84962                  36.791                         1.7            61.49   \n",
       "84963                  36.791                         1.7            61.49   \n",
       "\n",
       "       human_development_index  \n",
       "0                        0.511  \n",
       "1                        0.511  \n",
       "2                        0.511  \n",
       "3                        0.511  \n",
       "4                        0.511  \n",
       "...                        ...  \n",
       "84959                    0.571  \n",
       "84960                    0.571  \n",
       "84961                    0.571  \n",
       "84962                    0.571  \n",
       "84963                    0.571  \n",
       "\n",
       "[80350 rows x 59 columns]"
      ],
      "text/html": "<div>\n<style scoped>\n    .dataframe tbody tr th:only-of-type {\n        vertical-align: middle;\n    }\n\n    .dataframe tbody tr th {\n        vertical-align: top;\n    }\n\n    .dataframe thead th {\n        text-align: right;\n    }\n</style>\n<table border=\"1\" class=\"dataframe\">\n  <thead>\n    <tr style=\"text-align: right;\">\n      <th></th>\n      <th>iso_code</th>\n      <th>continent</th>\n      <th>location</th>\n      <th>date</th>\n      <th>total_cases</th>\n      <th>new_cases</th>\n      <th>new_cases_smoothed</th>\n      <th>total_deaths</th>\n      <th>new_deaths</th>\n      <th>new_deaths_smoothed</th>\n      <th>...</th>\n      <th>gdp_per_capita</th>\n      <th>extreme_poverty</th>\n      <th>cardiovasc_death_rate</th>\n      <th>diabetes_prevalence</th>\n      <th>female_smokers</th>\n      <th>male_smokers</th>\n      <th>handwashing_facilities</th>\n      <th>hospital_beds_per_thousand</th>\n      <th>life_expectancy</th>\n      <th>human_development_index</th>\n    </tr>\n  </thead>\n  <tbody>\n    <tr>\n      <th>0</th>\n      <td>AFG</td>\n      <td>Asia</td>\n      <td>Afghanistan</td>\n      <td>2020-02-24</td>\n      <td>1.0</td>\n      <td>1.0</td>\n      <td>NaN</td>\n      <td>NaN</td>\n      <td>NaN</td>\n      <td>NaN</td>\n      <td>...</td>\n      <td>1803.987</td>\n      <td>NaN</td>\n      <td>597.029</td>\n      <td>9.59</td>\n      <td>NaN</td>\n      <td>NaN</td>\n      <td>37.746</td>\n      <td>0.5</td>\n      <td>64.83</td>\n      <td>0.511</td>\n    </tr>\n    <tr>\n      <th>1</th>\n      <td>AFG</td>\n      <td>Asia</td>\n      <td>Afghanistan</td>\n      <td>2020-02-25</td>\n      <td>1.0</td>\n      <td>0.0</td>\n      <td>NaN</td>\n      <td>NaN</td>\n      <td>NaN</td>\n      <td>NaN</td>\n      <td>...</td>\n      <td>1803.987</td>\n      <td>NaN</td>\n      <td>597.029</td>\n      <td>9.59</td>\n      <td>NaN</td>\n      <td>NaN</td>\n      <td>37.746</td>\n      <td>0.5</td>\n      <td>64.83</td>\n      <td>0.511</td>\n    </tr>\n    <tr>\n      <th>2</th>\n      <td>AFG</td>\n      <td>Asia</td>\n      <td>Afghanistan</td>\n      <td>2020-02-26</td>\n      <td>1.0</td>\n      <td>0.0</td>\n      <td>NaN</td>\n      <td>NaN</td>\n      <td>NaN</td>\n      <td>NaN</td>\n      <td>...</td>\n      <td>1803.987</td>\n      <td>NaN</td>\n      <td>597.029</td>\n      <td>9.59</td>\n      <td>NaN</td>\n      <td>NaN</td>\n      <td>37.746</td>\n      <td>0.5</td>\n      <td>64.83</td>\n      <td>0.511</td>\n    </tr>\n    <tr>\n      <th>3</th>\n      <td>AFG</td>\n      <td>Asia</td>\n      <td>Afghanistan</td>\n      <td>2020-02-27</td>\n      <td>1.0</td>\n      <td>0.0</td>\n      <td>NaN</td>\n      <td>NaN</td>\n      <td>NaN</td>\n      <td>NaN</td>\n      <td>...</td>\n      <td>1803.987</td>\n      <td>NaN</td>\n      <td>597.029</td>\n      <td>9.59</td>\n      <td>NaN</td>\n      <td>NaN</td>\n      <td>37.746</td>\n      <td>0.5</td>\n      <td>64.83</td>\n      <td>0.511</td>\n    </tr>\n    <tr>\n      <th>4</th>\n      <td>AFG</td>\n      <td>Asia</td>\n      <td>Afghanistan</td>\n      <td>2020-02-28</td>\n      <td>1.0</td>\n      <td>0.0</td>\n      <td>NaN</td>\n      <td>NaN</td>\n      <td>NaN</td>\n      <td>NaN</td>\n      <td>...</td>\n      <td>1803.987</td>\n      <td>NaN</td>\n      <td>597.029</td>\n      <td>9.59</td>\n      <td>NaN</td>\n      <td>NaN</td>\n      <td>37.746</td>\n      <td>0.5</td>\n      <td>64.83</td>\n      <td>0.511</td>\n    </tr>\n    <tr>\n      <th>...</th>\n      <td>...</td>\n      <td>...</td>\n      <td>...</td>\n      <td>...</td>\n      <td>...</td>\n      <td>...</td>\n      <td>...</td>\n      <td>...</td>\n      <td>...</td>\n      <td>...</td>\n      <td>...</td>\n      <td>...</td>\n      <td>...</td>\n      <td>...</td>\n      <td>...</td>\n      <td>...</td>\n      <td>...</td>\n      <td>...</td>\n      <td>...</td>\n      <td>...</td>\n      <td>...</td>\n    </tr>\n    <tr>\n      <th>84959</th>\n      <td>ZWE</td>\n      <td>Africa</td>\n      <td>Zimbabwe</td>\n      <td>2021-04-25</td>\n      <td>38086.0</td>\n      <td>22.0</td>\n      <td>47.857</td>\n      <td>1557.0</td>\n      <td>1.0</td>\n      <td>0.571</td>\n      <td>...</td>\n      <td>1899.775</td>\n      <td>21.4</td>\n      <td>307.846</td>\n      <td>1.82</td>\n      <td>1.6</td>\n      <td>30.7</td>\n      <td>36.791</td>\n      <td>1.7</td>\n      <td>61.49</td>\n      <td>0.571</td>\n    </tr>\n    <tr>\n      <th>84960</th>\n      <td>ZWE</td>\n      <td>Africa</td>\n      <td>Zimbabwe</td>\n      <td>2021-04-26</td>\n      <td>38102.0</td>\n      <td>16.0</td>\n      <td>34.714</td>\n      <td>1560.0</td>\n      <td>3.0</td>\n      <td>1.000</td>\n      <td>...</td>\n      <td>1899.775</td>\n      <td>21.4</td>\n      <td>307.846</td>\n      <td>1.82</td>\n      <td>1.6</td>\n      <td>30.7</td>\n      <td>36.791</td>\n      <td>1.7</td>\n      <td>61.49</td>\n      <td>0.571</td>\n    </tr>\n    <tr>\n      <th>84961</th>\n      <td>ZWE</td>\n      <td>Africa</td>\n      <td>Zimbabwe</td>\n      <td>2021-04-27</td>\n      <td>38164.0</td>\n      <td>62.0</td>\n      <td>41.286</td>\n      <td>1565.0</td>\n      <td>5.0</td>\n      <td>1.571</td>\n      <td>...</td>\n      <td>1899.775</td>\n      <td>21.4</td>\n      <td>307.846</td>\n      <td>1.82</td>\n      <td>1.6</td>\n      <td>30.7</td>\n      <td>36.791</td>\n      <td>1.7</td>\n      <td>61.49</td>\n      <td>0.571</td>\n    </tr>\n    <tr>\n      <th>84962</th>\n      <td>ZWE</td>\n      <td>Africa</td>\n      <td>Zimbabwe</td>\n      <td>2021-04-28</td>\n      <td>38191.0</td>\n      <td>27.0</td>\n      <td>30.143</td>\n      <td>1565.0</td>\n      <td>0.0</td>\n      <td>1.429</td>\n      <td>...</td>\n      <td>1899.775</td>\n      <td>21.4</td>\n      <td>307.846</td>\n      <td>1.82</td>\n      <td>1.6</td>\n      <td>30.7</td>\n      <td>36.791</td>\n      <td>1.7</td>\n      <td>61.49</td>\n      <td>0.571</td>\n    </tr>\n    <tr>\n      <th>84963</th>\n      <td>ZWE</td>\n      <td>Africa</td>\n      <td>Zimbabwe</td>\n      <td>2021-04-29</td>\n      <td>38235.0</td>\n      <td>44.0</td>\n      <td>31.000</td>\n      <td>1567.0</td>\n      <td>2.0</td>\n      <td>1.714</td>\n      <td>...</td>\n      <td>1899.775</td>\n      <td>21.4</td>\n      <td>307.846</td>\n      <td>1.82</td>\n      <td>1.6</td>\n      <td>30.7</td>\n      <td>36.791</td>\n      <td>1.7</td>\n      <td>61.49</td>\n      <td>0.571</td>\n    </tr>\n  </tbody>\n</table>\n<p>80350 rows × 59 columns</p>\n</div>"
     },
     "metadata": {},
     "execution_count": 103
    }
   ],
   "source": [
    "country_df"
   ]
  },
  {
   "cell_type": "code",
   "execution_count": 104,
   "metadata": {},
   "outputs": [],
   "source": [
    "country_data_header = ['iso_code',\n",
    " 'continent',\n",
    " 'location',\n",
    " 'population',\n",
    " 'population_density',\n",
    " 'median_age',\n",
    " 'aged_65_older',\n",
    " 'aged_70_older',\n",
    " 'gdp_per_capita',\n",
    " 'extreme_poverty',\n",
    " 'cardiovasc_death_rate',\n",
    " 'diabetes_prevalence',\n",
    " 'female_smokers',\n",
    " 'male_smokers',\n",
    " 'handwashing_facilities',\n",
    " 'hospital_beds_per_thousand',\n",
    " 'life_expectancy',\n",
    " 'human_development_index']"
   ]
  },
  {
   "cell_type": "code",
   "execution_count": 105,
   "metadata": {},
   "outputs": [
    {
     "output_type": "execute_result",
     "data": {
      "text/plain": [
       "    iso_code continent                      location  population  \\\n",
       "0        QAT      Asia                         Qatar   2881060.0   \n",
       "1        MAC      Asia                         Macao    649342.0   \n",
       "2        LUX    Europe                    Luxembourg    625976.0   \n",
       "3        SGP      Asia                     Singapore   5850343.0   \n",
       "4        BRN      Asia                        Brunei    437483.0   \n",
       "..       ...       ...                           ...         ...   \n",
       "183      NER    Africa                         Niger  24206636.0   \n",
       "184      COD    Africa  Democratic Republic of Congo  89561404.0   \n",
       "185      LBR    Africa                       Liberia   5057677.0   \n",
       "186      BDI    Africa                       Burundi  11890781.0   \n",
       "187      CAF    Africa      Central African Republic   4829764.0   \n",
       "\n",
       "     population_density  median_age  aged_65_older  aged_70_older  \\\n",
       "0               227.322        31.9          1.307          0.617   \n",
       "1             20546.766        39.2          9.798          4.991   \n",
       "2               231.447        39.7         14.312          9.842   \n",
       "3              7915.731        42.4         12.922          7.049   \n",
       "4                81.347        32.4          4.591          2.382   \n",
       "..                  ...         ...            ...            ...   \n",
       "183              16.955        15.1          2.553          1.378   \n",
       "184              35.879        17.0          3.020          1.745   \n",
       "185              49.127        19.2          3.057          1.756   \n",
       "186             423.062        17.5          2.562          1.504   \n",
       "187               7.479        18.3          3.655          2.251   \n",
       "\n",
       "     gdp_per_capita  extreme_poverty  cardiovasc_death_rate  \\\n",
       "0        116935.600              NaN                176.690   \n",
       "1        104861.851              NaN                    NaN   \n",
       "2         94277.965              0.2                128.275   \n",
       "3         85535.383              NaN                 92.243   \n",
       "4         71809.251              NaN                201.285   \n",
       "..              ...              ...                    ...   \n",
       "183         926.000             44.5                238.339   \n",
       "184         808.133             77.1                318.949   \n",
       "185         752.788             38.6                272.509   \n",
       "186         702.225             71.7                293.068   \n",
       "187         661.240              NaN                435.727   \n",
       "\n",
       "     diabetes_prevalence  female_smokers  male_smokers  \\\n",
       "0                  16.52             0.8          26.9   \n",
       "1                    NaN             NaN           NaN   \n",
       "2                   4.42            20.9          26.0   \n",
       "3                  10.99             5.2          28.3   \n",
       "4                  12.79             2.0          30.9   \n",
       "..                   ...             ...           ...   \n",
       "183                 2.42             0.1          15.4   \n",
       "184                 6.10             NaN           NaN   \n",
       "185                 2.42             1.5          18.1   \n",
       "186                 6.05             NaN           NaN   \n",
       "187                 6.10             NaN           NaN   \n",
       "\n",
       "     handwashing_facilities  hospital_beds_per_thousand  life_expectancy  \\\n",
       "0                       NaN                        1.20            80.23   \n",
       "1                       NaN                         NaN            84.24   \n",
       "2                       NaN                        4.51            82.25   \n",
       "3                       NaN                        2.40            83.62   \n",
       "4                       NaN                        2.70            75.86   \n",
       "..                      ...                         ...              ...   \n",
       "183                   8.978                        0.30            62.42   \n",
       "184                   4.472                         NaN            60.68   \n",
       "185                   1.188                        0.80            64.10   \n",
       "186                   6.144                        0.80            61.58   \n",
       "187                  16.603                        1.00            53.28   \n",
       "\n",
       "     human_development_index  \n",
       "0                      0.848  \n",
       "1                        NaN  \n",
       "2                      0.916  \n",
       "3                      0.938  \n",
       "4                      0.838  \n",
       "..                       ...  \n",
       "183                    0.394  \n",
       "184                    0.480  \n",
       "185                    0.480  \n",
       "186                    0.433  \n",
       "187                    0.397  \n",
       "\n",
       "[188 rows x 18 columns]"
      ],
      "text/html": "<div>\n<style scoped>\n    .dataframe tbody tr th:only-of-type {\n        vertical-align: middle;\n    }\n\n    .dataframe tbody tr th {\n        vertical-align: top;\n    }\n\n    .dataframe thead th {\n        text-align: right;\n    }\n</style>\n<table border=\"1\" class=\"dataframe\">\n  <thead>\n    <tr style=\"text-align: right;\">\n      <th></th>\n      <th>iso_code</th>\n      <th>continent</th>\n      <th>location</th>\n      <th>population</th>\n      <th>population_density</th>\n      <th>median_age</th>\n      <th>aged_65_older</th>\n      <th>aged_70_older</th>\n      <th>gdp_per_capita</th>\n      <th>extreme_poverty</th>\n      <th>cardiovasc_death_rate</th>\n      <th>diabetes_prevalence</th>\n      <th>female_smokers</th>\n      <th>male_smokers</th>\n      <th>handwashing_facilities</th>\n      <th>hospital_beds_per_thousand</th>\n      <th>life_expectancy</th>\n      <th>human_development_index</th>\n    </tr>\n  </thead>\n  <tbody>\n    <tr>\n      <th>0</th>\n      <td>QAT</td>\n      <td>Asia</td>\n      <td>Qatar</td>\n      <td>2881060.0</td>\n      <td>227.322</td>\n      <td>31.9</td>\n      <td>1.307</td>\n      <td>0.617</td>\n      <td>116935.600</td>\n      <td>NaN</td>\n      <td>176.690</td>\n      <td>16.52</td>\n      <td>0.8</td>\n      <td>26.9</td>\n      <td>NaN</td>\n      <td>1.20</td>\n      <td>80.23</td>\n      <td>0.848</td>\n    </tr>\n    <tr>\n      <th>1</th>\n      <td>MAC</td>\n      <td>Asia</td>\n      <td>Macao</td>\n      <td>649342.0</td>\n      <td>20546.766</td>\n      <td>39.2</td>\n      <td>9.798</td>\n      <td>4.991</td>\n      <td>104861.851</td>\n      <td>NaN</td>\n      <td>NaN</td>\n      <td>NaN</td>\n      <td>NaN</td>\n      <td>NaN</td>\n      <td>NaN</td>\n      <td>NaN</td>\n      <td>84.24</td>\n      <td>NaN</td>\n    </tr>\n    <tr>\n      <th>2</th>\n      <td>LUX</td>\n      <td>Europe</td>\n      <td>Luxembourg</td>\n      <td>625976.0</td>\n      <td>231.447</td>\n      <td>39.7</td>\n      <td>14.312</td>\n      <td>9.842</td>\n      <td>94277.965</td>\n      <td>0.2</td>\n      <td>128.275</td>\n      <td>4.42</td>\n      <td>20.9</td>\n      <td>26.0</td>\n      <td>NaN</td>\n      <td>4.51</td>\n      <td>82.25</td>\n      <td>0.916</td>\n    </tr>\n    <tr>\n      <th>3</th>\n      <td>SGP</td>\n      <td>Asia</td>\n      <td>Singapore</td>\n      <td>5850343.0</td>\n      <td>7915.731</td>\n      <td>42.4</td>\n      <td>12.922</td>\n      <td>7.049</td>\n      <td>85535.383</td>\n      <td>NaN</td>\n      <td>92.243</td>\n      <td>10.99</td>\n      <td>5.2</td>\n      <td>28.3</td>\n      <td>NaN</td>\n      <td>2.40</td>\n      <td>83.62</td>\n      <td>0.938</td>\n    </tr>\n    <tr>\n      <th>4</th>\n      <td>BRN</td>\n      <td>Asia</td>\n      <td>Brunei</td>\n      <td>437483.0</td>\n      <td>81.347</td>\n      <td>32.4</td>\n      <td>4.591</td>\n      <td>2.382</td>\n      <td>71809.251</td>\n      <td>NaN</td>\n      <td>201.285</td>\n      <td>12.79</td>\n      <td>2.0</td>\n      <td>30.9</td>\n      <td>NaN</td>\n      <td>2.70</td>\n      <td>75.86</td>\n      <td>0.838</td>\n    </tr>\n    <tr>\n      <th>...</th>\n      <td>...</td>\n      <td>...</td>\n      <td>...</td>\n      <td>...</td>\n      <td>...</td>\n      <td>...</td>\n      <td>...</td>\n      <td>...</td>\n      <td>...</td>\n      <td>...</td>\n      <td>...</td>\n      <td>...</td>\n      <td>...</td>\n      <td>...</td>\n      <td>...</td>\n      <td>...</td>\n      <td>...</td>\n      <td>...</td>\n    </tr>\n    <tr>\n      <th>183</th>\n      <td>NER</td>\n      <td>Africa</td>\n      <td>Niger</td>\n      <td>24206636.0</td>\n      <td>16.955</td>\n      <td>15.1</td>\n      <td>2.553</td>\n      <td>1.378</td>\n      <td>926.000</td>\n      <td>44.5</td>\n      <td>238.339</td>\n      <td>2.42</td>\n      <td>0.1</td>\n      <td>15.4</td>\n      <td>8.978</td>\n      <td>0.30</td>\n      <td>62.42</td>\n      <td>0.394</td>\n    </tr>\n    <tr>\n      <th>184</th>\n      <td>COD</td>\n      <td>Africa</td>\n      <td>Democratic Republic of Congo</td>\n      <td>89561404.0</td>\n      <td>35.879</td>\n      <td>17.0</td>\n      <td>3.020</td>\n      <td>1.745</td>\n      <td>808.133</td>\n      <td>77.1</td>\n      <td>318.949</td>\n      <td>6.10</td>\n      <td>NaN</td>\n      <td>NaN</td>\n      <td>4.472</td>\n      <td>NaN</td>\n      <td>60.68</td>\n      <td>0.480</td>\n    </tr>\n    <tr>\n      <th>185</th>\n      <td>LBR</td>\n      <td>Africa</td>\n      <td>Liberia</td>\n      <td>5057677.0</td>\n      <td>49.127</td>\n      <td>19.2</td>\n      <td>3.057</td>\n      <td>1.756</td>\n      <td>752.788</td>\n      <td>38.6</td>\n      <td>272.509</td>\n      <td>2.42</td>\n      <td>1.5</td>\n      <td>18.1</td>\n      <td>1.188</td>\n      <td>0.80</td>\n      <td>64.10</td>\n      <td>0.480</td>\n    </tr>\n    <tr>\n      <th>186</th>\n      <td>BDI</td>\n      <td>Africa</td>\n      <td>Burundi</td>\n      <td>11890781.0</td>\n      <td>423.062</td>\n      <td>17.5</td>\n      <td>2.562</td>\n      <td>1.504</td>\n      <td>702.225</td>\n      <td>71.7</td>\n      <td>293.068</td>\n      <td>6.05</td>\n      <td>NaN</td>\n      <td>NaN</td>\n      <td>6.144</td>\n      <td>0.80</td>\n      <td>61.58</td>\n      <td>0.433</td>\n    </tr>\n    <tr>\n      <th>187</th>\n      <td>CAF</td>\n      <td>Africa</td>\n      <td>Central African Republic</td>\n      <td>4829764.0</td>\n      <td>7.479</td>\n      <td>18.3</td>\n      <td>3.655</td>\n      <td>2.251</td>\n      <td>661.240</td>\n      <td>NaN</td>\n      <td>435.727</td>\n      <td>6.10</td>\n      <td>NaN</td>\n      <td>NaN</td>\n      <td>16.603</td>\n      <td>1.00</td>\n      <td>53.28</td>\n      <td>0.397</td>\n    </tr>\n  </tbody>\n</table>\n<p>188 rows × 18 columns</p>\n</div>"
     },
     "metadata": {},
     "execution_count": 105
    }
   ],
   "source": [
    "country_data = country_df.drop_duplicates(subset = 'location')[country_data_header].sort_values('gdp_per_capita', ascending=False).reset_index(drop=True).dropna(subset=['gdp_per_capita'])\n",
    "\n",
    "country_data"
   ]
  },
  {
   "source": [
    "We now have a dataset with all our country specific data. To analyse this data by country gdp level we need to sort the dataset by gdp per capita and seperate it out into four sections; 1, 2, 3, 4 where 1 is the top perctile etc"
   ],
   "cell_type": "markdown",
   "metadata": {}
  },
  {
   "cell_type": "code",
   "execution_count": 106,
   "metadata": {},
   "outputs": [],
   "source": [
    "gdp_percentile_list = []\n",
    "number_of_countries = len(country_data)\n",
    "number_of_sections = 4\n",
    "section = 1\n",
    "for index, row in country_data.iterrows():\n",
    "    if index < (section/number_of_sections)*number_of_countries:\n",
    "        gdp_percentile_list.append(section)\n",
    "    else:\n",
    "        section += 1\n",
    "        gdp_percentile_list.append(section)"
   ]
  },
  {
   "cell_type": "code",
   "execution_count": 107,
   "metadata": {},
   "outputs": [
    {
     "output_type": "execute_result",
     "data": {
      "text/plain": [
       "    iso_code continent                      location  population  \\\n",
       "0        QAT      Asia                         Qatar   2881060.0   \n",
       "1        MAC      Asia                         Macao    649342.0   \n",
       "2        LUX    Europe                    Luxembourg    625976.0   \n",
       "3        SGP      Asia                     Singapore   5850343.0   \n",
       "4        BRN      Asia                        Brunei    437483.0   \n",
       "..       ...       ...                           ...         ...   \n",
       "183      NER    Africa                         Niger  24206636.0   \n",
       "184      COD    Africa  Democratic Republic of Congo  89561404.0   \n",
       "185      LBR    Africa                       Liberia   5057677.0   \n",
       "186      BDI    Africa                       Burundi  11890781.0   \n",
       "187      CAF    Africa      Central African Republic   4829764.0   \n",
       "\n",
       "     population_density  median_age  aged_65_older  aged_70_older  \\\n",
       "0               227.322        31.9          1.307          0.617   \n",
       "1             20546.766        39.2          9.798          4.991   \n",
       "2               231.447        39.7         14.312          9.842   \n",
       "3              7915.731        42.4         12.922          7.049   \n",
       "4                81.347        32.4          4.591          2.382   \n",
       "..                  ...         ...            ...            ...   \n",
       "183              16.955        15.1          2.553          1.378   \n",
       "184              35.879        17.0          3.020          1.745   \n",
       "185              49.127        19.2          3.057          1.756   \n",
       "186             423.062        17.5          2.562          1.504   \n",
       "187               7.479        18.3          3.655          2.251   \n",
       "\n",
       "     gdp_per_capita  extreme_poverty  cardiovasc_death_rate  \\\n",
       "0        116935.600              NaN                176.690   \n",
       "1        104861.851              NaN                    NaN   \n",
       "2         94277.965              0.2                128.275   \n",
       "3         85535.383              NaN                 92.243   \n",
       "4         71809.251              NaN                201.285   \n",
       "..              ...              ...                    ...   \n",
       "183         926.000             44.5                238.339   \n",
       "184         808.133             77.1                318.949   \n",
       "185         752.788             38.6                272.509   \n",
       "186         702.225             71.7                293.068   \n",
       "187         661.240              NaN                435.727   \n",
       "\n",
       "     diabetes_prevalence  female_smokers  male_smokers  \\\n",
       "0                  16.52             0.8          26.9   \n",
       "1                    NaN             NaN           NaN   \n",
       "2                   4.42            20.9          26.0   \n",
       "3                  10.99             5.2          28.3   \n",
       "4                  12.79             2.0          30.9   \n",
       "..                   ...             ...           ...   \n",
       "183                 2.42             0.1          15.4   \n",
       "184                 6.10             NaN           NaN   \n",
       "185                 2.42             1.5          18.1   \n",
       "186                 6.05             NaN           NaN   \n",
       "187                 6.10             NaN           NaN   \n",
       "\n",
       "     handwashing_facilities  hospital_beds_per_thousand  life_expectancy  \\\n",
       "0                       NaN                        1.20            80.23   \n",
       "1                       NaN                         NaN            84.24   \n",
       "2                       NaN                        4.51            82.25   \n",
       "3                       NaN                        2.40            83.62   \n",
       "4                       NaN                        2.70            75.86   \n",
       "..                      ...                         ...              ...   \n",
       "183                   8.978                        0.30            62.42   \n",
       "184                   4.472                         NaN            60.68   \n",
       "185                   1.188                        0.80            64.10   \n",
       "186                   6.144                        0.80            61.58   \n",
       "187                  16.603                        1.00            53.28   \n",
       "\n",
       "     human_development_index  gdp_per_cap_percentile  \n",
       "0                      0.848                       1  \n",
       "1                        NaN                       1  \n",
       "2                      0.916                       1  \n",
       "3                      0.938                       1  \n",
       "4                      0.838                       1  \n",
       "..                       ...                     ...  \n",
       "183                    0.394                       4  \n",
       "184                    0.480                       4  \n",
       "185                    0.480                       4  \n",
       "186                    0.433                       4  \n",
       "187                    0.397                       4  \n",
       "\n",
       "[188 rows x 19 columns]"
      ],
      "text/html": "<div>\n<style scoped>\n    .dataframe tbody tr th:only-of-type {\n        vertical-align: middle;\n    }\n\n    .dataframe tbody tr th {\n        vertical-align: top;\n    }\n\n    .dataframe thead th {\n        text-align: right;\n    }\n</style>\n<table border=\"1\" class=\"dataframe\">\n  <thead>\n    <tr style=\"text-align: right;\">\n      <th></th>\n      <th>iso_code</th>\n      <th>continent</th>\n      <th>location</th>\n      <th>population</th>\n      <th>population_density</th>\n      <th>median_age</th>\n      <th>aged_65_older</th>\n      <th>aged_70_older</th>\n      <th>gdp_per_capita</th>\n      <th>extreme_poverty</th>\n      <th>cardiovasc_death_rate</th>\n      <th>diabetes_prevalence</th>\n      <th>female_smokers</th>\n      <th>male_smokers</th>\n      <th>handwashing_facilities</th>\n      <th>hospital_beds_per_thousand</th>\n      <th>life_expectancy</th>\n      <th>human_development_index</th>\n      <th>gdp_per_cap_percentile</th>\n    </tr>\n  </thead>\n  <tbody>\n    <tr>\n      <th>0</th>\n      <td>QAT</td>\n      <td>Asia</td>\n      <td>Qatar</td>\n      <td>2881060.0</td>\n      <td>227.322</td>\n      <td>31.9</td>\n      <td>1.307</td>\n      <td>0.617</td>\n      <td>116935.600</td>\n      <td>NaN</td>\n      <td>176.690</td>\n      <td>16.52</td>\n      <td>0.8</td>\n      <td>26.9</td>\n      <td>NaN</td>\n      <td>1.20</td>\n      <td>80.23</td>\n      <td>0.848</td>\n      <td>1</td>\n    </tr>\n    <tr>\n      <th>1</th>\n      <td>MAC</td>\n      <td>Asia</td>\n      <td>Macao</td>\n      <td>649342.0</td>\n      <td>20546.766</td>\n      <td>39.2</td>\n      <td>9.798</td>\n      <td>4.991</td>\n      <td>104861.851</td>\n      <td>NaN</td>\n      <td>NaN</td>\n      <td>NaN</td>\n      <td>NaN</td>\n      <td>NaN</td>\n      <td>NaN</td>\n      <td>NaN</td>\n      <td>84.24</td>\n      <td>NaN</td>\n      <td>1</td>\n    </tr>\n    <tr>\n      <th>2</th>\n      <td>LUX</td>\n      <td>Europe</td>\n      <td>Luxembourg</td>\n      <td>625976.0</td>\n      <td>231.447</td>\n      <td>39.7</td>\n      <td>14.312</td>\n      <td>9.842</td>\n      <td>94277.965</td>\n      <td>0.2</td>\n      <td>128.275</td>\n      <td>4.42</td>\n      <td>20.9</td>\n      <td>26.0</td>\n      <td>NaN</td>\n      <td>4.51</td>\n      <td>82.25</td>\n      <td>0.916</td>\n      <td>1</td>\n    </tr>\n    <tr>\n      <th>3</th>\n      <td>SGP</td>\n      <td>Asia</td>\n      <td>Singapore</td>\n      <td>5850343.0</td>\n      <td>7915.731</td>\n      <td>42.4</td>\n      <td>12.922</td>\n      <td>7.049</td>\n      <td>85535.383</td>\n      <td>NaN</td>\n      <td>92.243</td>\n      <td>10.99</td>\n      <td>5.2</td>\n      <td>28.3</td>\n      <td>NaN</td>\n      <td>2.40</td>\n      <td>83.62</td>\n      <td>0.938</td>\n      <td>1</td>\n    </tr>\n    <tr>\n      <th>4</th>\n      <td>BRN</td>\n      <td>Asia</td>\n      <td>Brunei</td>\n      <td>437483.0</td>\n      <td>81.347</td>\n      <td>32.4</td>\n      <td>4.591</td>\n      <td>2.382</td>\n      <td>71809.251</td>\n      <td>NaN</td>\n      <td>201.285</td>\n      <td>12.79</td>\n      <td>2.0</td>\n      <td>30.9</td>\n      <td>NaN</td>\n      <td>2.70</td>\n      <td>75.86</td>\n      <td>0.838</td>\n      <td>1</td>\n    </tr>\n    <tr>\n      <th>...</th>\n      <td>...</td>\n      <td>...</td>\n      <td>...</td>\n      <td>...</td>\n      <td>...</td>\n      <td>...</td>\n      <td>...</td>\n      <td>...</td>\n      <td>...</td>\n      <td>...</td>\n      <td>...</td>\n      <td>...</td>\n      <td>...</td>\n      <td>...</td>\n      <td>...</td>\n      <td>...</td>\n      <td>...</td>\n      <td>...</td>\n      <td>...</td>\n    </tr>\n    <tr>\n      <th>183</th>\n      <td>NER</td>\n      <td>Africa</td>\n      <td>Niger</td>\n      <td>24206636.0</td>\n      <td>16.955</td>\n      <td>15.1</td>\n      <td>2.553</td>\n      <td>1.378</td>\n      <td>926.000</td>\n      <td>44.5</td>\n      <td>238.339</td>\n      <td>2.42</td>\n      <td>0.1</td>\n      <td>15.4</td>\n      <td>8.978</td>\n      <td>0.30</td>\n      <td>62.42</td>\n      <td>0.394</td>\n      <td>4</td>\n    </tr>\n    <tr>\n      <th>184</th>\n      <td>COD</td>\n      <td>Africa</td>\n      <td>Democratic Republic of Congo</td>\n      <td>89561404.0</td>\n      <td>35.879</td>\n      <td>17.0</td>\n      <td>3.020</td>\n      <td>1.745</td>\n      <td>808.133</td>\n      <td>77.1</td>\n      <td>318.949</td>\n      <td>6.10</td>\n      <td>NaN</td>\n      <td>NaN</td>\n      <td>4.472</td>\n      <td>NaN</td>\n      <td>60.68</td>\n      <td>0.480</td>\n      <td>4</td>\n    </tr>\n    <tr>\n      <th>185</th>\n      <td>LBR</td>\n      <td>Africa</td>\n      <td>Liberia</td>\n      <td>5057677.0</td>\n      <td>49.127</td>\n      <td>19.2</td>\n      <td>3.057</td>\n      <td>1.756</td>\n      <td>752.788</td>\n      <td>38.6</td>\n      <td>272.509</td>\n      <td>2.42</td>\n      <td>1.5</td>\n      <td>18.1</td>\n      <td>1.188</td>\n      <td>0.80</td>\n      <td>64.10</td>\n      <td>0.480</td>\n      <td>4</td>\n    </tr>\n    <tr>\n      <th>186</th>\n      <td>BDI</td>\n      <td>Africa</td>\n      <td>Burundi</td>\n      <td>11890781.0</td>\n      <td>423.062</td>\n      <td>17.5</td>\n      <td>2.562</td>\n      <td>1.504</td>\n      <td>702.225</td>\n      <td>71.7</td>\n      <td>293.068</td>\n      <td>6.05</td>\n      <td>NaN</td>\n      <td>NaN</td>\n      <td>6.144</td>\n      <td>0.80</td>\n      <td>61.58</td>\n      <td>0.433</td>\n      <td>4</td>\n    </tr>\n    <tr>\n      <th>187</th>\n      <td>CAF</td>\n      <td>Africa</td>\n      <td>Central African Republic</td>\n      <td>4829764.0</td>\n      <td>7.479</td>\n      <td>18.3</td>\n      <td>3.655</td>\n      <td>2.251</td>\n      <td>661.240</td>\n      <td>NaN</td>\n      <td>435.727</td>\n      <td>6.10</td>\n      <td>NaN</td>\n      <td>NaN</td>\n      <td>16.603</td>\n      <td>1.00</td>\n      <td>53.28</td>\n      <td>0.397</td>\n      <td>4</td>\n    </tr>\n  </tbody>\n</table>\n<p>188 rows × 19 columns</p>\n</div>"
     },
     "metadata": {},
     "execution_count": 107
    }
   ],
   "source": [
    "country_data['gdp_per_cap_percentile'] = gdp_percentile_list\n",
    "\n",
    "country_data"
   ]
  },
  {
   "cell_type": "code",
   "execution_count": 108,
   "metadata": {},
   "outputs": [],
   "source": [
    "country_data.to_csv('data/country_data.csv', index=False)"
   ]
  },
  {
   "source": [
    "Testing that worked okay. Each of the percentile sections should have the same number of countries in them"
   ],
   "cell_type": "markdown",
   "metadata": {}
  },
  {
   "cell_type": "code",
   "execution_count": 109,
   "metadata": {},
   "outputs": [
    {
     "output_type": "stream",
     "name": "stdout",
     "text": [
      "1 47\n2 47\n3 47\n4 47\n"
     ]
    }
   ],
   "source": [
    "for option in country_data['gdp_per_cap_percentile'].drop_duplicates():\n",
    "    print(option, len(country_data[country_data['gdp_per_cap_percentile'] == option]))"
   ]
  },
  {
   "source": [
    "Finally lets apply this back to the country df, which is the dataset with all the country specific coviid data"
   ],
   "cell_type": "markdown",
   "metadata": {}
  },
  {
   "cell_type": "code",
   "execution_count": 110,
   "metadata": {},
   "outputs": [],
   "source": [
    "gdp_percentile_dict = country_data.set_index('iso_code').to_dict('dict')['gdp_per_cap_percentile']"
   ]
  },
  {
   "cell_type": "code",
   "execution_count": 111,
   "metadata": {},
   "outputs": [],
   "source": [
    "def get_gdp_percentile(iso_code):\n",
    "    try: return int(round(gdp_percentile_dict[iso_code]))\n",
    "    except: return np.nan"
   ]
  },
  {
   "cell_type": "code",
   "execution_count": 112,
   "metadata": {},
   "outputs": [
    {
     "output_type": "stream",
     "name": "stderr",
     "text": [
      "ipykernel_launcher:1: SettingWithCopyWarning: \nA value is trying to be set on a copy of a slice from a DataFrame.\nTry using .loc[row_indexer,col_indexer] = value instead\n\nSee the caveats in the documentation: https://pandas.pydata.org/pandas-docs/stable/user_guide/indexing.html#returning-a-view-versus-a-copy\n"
     ]
    },
    {
     "output_type": "execute_result",
     "data": {
      "text/plain": [
       "      iso_code continent     location       date  total_cases  new_cases  \\\n",
       "0          AFG      Asia  Afghanistan 2020-02-24          1.0        1.0   \n",
       "1          AFG      Asia  Afghanistan 2020-02-25          1.0        0.0   \n",
       "2          AFG      Asia  Afghanistan 2020-02-26          1.0        0.0   \n",
       "3          AFG      Asia  Afghanistan 2020-02-27          1.0        0.0   \n",
       "4          AFG      Asia  Afghanistan 2020-02-28          1.0        0.0   \n",
       "...        ...       ...          ...        ...          ...        ...   \n",
       "84959      ZWE    Africa     Zimbabwe 2021-04-25      38086.0       22.0   \n",
       "84960      ZWE    Africa     Zimbabwe 2021-04-26      38102.0       16.0   \n",
       "84961      ZWE    Africa     Zimbabwe 2021-04-27      38164.0       62.0   \n",
       "84962      ZWE    Africa     Zimbabwe 2021-04-28      38191.0       27.0   \n",
       "84963      ZWE    Africa     Zimbabwe 2021-04-29      38235.0       44.0   \n",
       "\n",
       "       new_cases_smoothed  total_deaths  new_deaths  new_deaths_smoothed  ...  \\\n",
       "0                     NaN           NaN         NaN                  NaN  ...   \n",
       "1                     NaN           NaN         NaN                  NaN  ...   \n",
       "2                     NaN           NaN         NaN                  NaN  ...   \n",
       "3                     NaN           NaN         NaN                  NaN  ...   \n",
       "4                     NaN           NaN         NaN                  NaN  ...   \n",
       "...                   ...           ...         ...                  ...  ...   \n",
       "84959              47.857        1557.0         1.0                0.571  ...   \n",
       "84960              34.714        1560.0         3.0                1.000  ...   \n",
       "84961              41.286        1565.0         5.0                1.571  ...   \n",
       "84962              30.143        1565.0         0.0                1.429  ...   \n",
       "84963              31.000        1567.0         2.0                1.714  ...   \n",
       "\n",
       "       extreme_poverty  cardiovasc_death_rate  diabetes_prevalence  \\\n",
       "0                  NaN                597.029                 9.59   \n",
       "1                  NaN                597.029                 9.59   \n",
       "2                  NaN                597.029                 9.59   \n",
       "3                  NaN                597.029                 9.59   \n",
       "4                  NaN                597.029                 9.59   \n",
       "...                ...                    ...                  ...   \n",
       "84959             21.4                307.846                 1.82   \n",
       "84960             21.4                307.846                 1.82   \n",
       "84961             21.4                307.846                 1.82   \n",
       "84962             21.4                307.846                 1.82   \n",
       "84963             21.4                307.846                 1.82   \n",
       "\n",
       "       female_smokers  male_smokers  handwashing_facilities  \\\n",
       "0                 NaN           NaN                  37.746   \n",
       "1                 NaN           NaN                  37.746   \n",
       "2                 NaN           NaN                  37.746   \n",
       "3                 NaN           NaN                  37.746   \n",
       "4                 NaN           NaN                  37.746   \n",
       "...               ...           ...                     ...   \n",
       "84959             1.6          30.7                  36.791   \n",
       "84960             1.6          30.7                  36.791   \n",
       "84961             1.6          30.7                  36.791   \n",
       "84962             1.6          30.7                  36.791   \n",
       "84963             1.6          30.7                  36.791   \n",
       "\n",
       "       hospital_beds_per_thousand  life_expectancy  human_development_index  \\\n",
       "0                             0.5            64.83                    0.511   \n",
       "1                             0.5            64.83                    0.511   \n",
       "2                             0.5            64.83                    0.511   \n",
       "3                             0.5            64.83                    0.511   \n",
       "4                             0.5            64.83                    0.511   \n",
       "...                           ...              ...                      ...   \n",
       "84959                         1.7            61.49                    0.571   \n",
       "84960                         1.7            61.49                    0.571   \n",
       "84961                         1.7            61.49                    0.571   \n",
       "84962                         1.7            61.49                    0.571   \n",
       "84963                         1.7            61.49                    0.571   \n",
       "\n",
       "       gdp_per_cap_percentile  \n",
       "0                         4.0  \n",
       "1                         4.0  \n",
       "2                         4.0  \n",
       "3                         4.0  \n",
       "4                         4.0  \n",
       "...                       ...  \n",
       "84959                     4.0  \n",
       "84960                     4.0  \n",
       "84961                     4.0  \n",
       "84962                     4.0  \n",
       "84963                     4.0  \n",
       "\n",
       "[80350 rows x 60 columns]"
      ],
      "text/html": "<div>\n<style scoped>\n    .dataframe tbody tr th:only-of-type {\n        vertical-align: middle;\n    }\n\n    .dataframe tbody tr th {\n        vertical-align: top;\n    }\n\n    .dataframe thead th {\n        text-align: right;\n    }\n</style>\n<table border=\"1\" class=\"dataframe\">\n  <thead>\n    <tr style=\"text-align: right;\">\n      <th></th>\n      <th>iso_code</th>\n      <th>continent</th>\n      <th>location</th>\n      <th>date</th>\n      <th>total_cases</th>\n      <th>new_cases</th>\n      <th>new_cases_smoothed</th>\n      <th>total_deaths</th>\n      <th>new_deaths</th>\n      <th>new_deaths_smoothed</th>\n      <th>...</th>\n      <th>extreme_poverty</th>\n      <th>cardiovasc_death_rate</th>\n      <th>diabetes_prevalence</th>\n      <th>female_smokers</th>\n      <th>male_smokers</th>\n      <th>handwashing_facilities</th>\n      <th>hospital_beds_per_thousand</th>\n      <th>life_expectancy</th>\n      <th>human_development_index</th>\n      <th>gdp_per_cap_percentile</th>\n    </tr>\n  </thead>\n  <tbody>\n    <tr>\n      <th>0</th>\n      <td>AFG</td>\n      <td>Asia</td>\n      <td>Afghanistan</td>\n      <td>2020-02-24</td>\n      <td>1.0</td>\n      <td>1.0</td>\n      <td>NaN</td>\n      <td>NaN</td>\n      <td>NaN</td>\n      <td>NaN</td>\n      <td>...</td>\n      <td>NaN</td>\n      <td>597.029</td>\n      <td>9.59</td>\n      <td>NaN</td>\n      <td>NaN</td>\n      <td>37.746</td>\n      <td>0.5</td>\n      <td>64.83</td>\n      <td>0.511</td>\n      <td>4.0</td>\n    </tr>\n    <tr>\n      <th>1</th>\n      <td>AFG</td>\n      <td>Asia</td>\n      <td>Afghanistan</td>\n      <td>2020-02-25</td>\n      <td>1.0</td>\n      <td>0.0</td>\n      <td>NaN</td>\n      <td>NaN</td>\n      <td>NaN</td>\n      <td>NaN</td>\n      <td>...</td>\n      <td>NaN</td>\n      <td>597.029</td>\n      <td>9.59</td>\n      <td>NaN</td>\n      <td>NaN</td>\n      <td>37.746</td>\n      <td>0.5</td>\n      <td>64.83</td>\n      <td>0.511</td>\n      <td>4.0</td>\n    </tr>\n    <tr>\n      <th>2</th>\n      <td>AFG</td>\n      <td>Asia</td>\n      <td>Afghanistan</td>\n      <td>2020-02-26</td>\n      <td>1.0</td>\n      <td>0.0</td>\n      <td>NaN</td>\n      <td>NaN</td>\n      <td>NaN</td>\n      <td>NaN</td>\n      <td>...</td>\n      <td>NaN</td>\n      <td>597.029</td>\n      <td>9.59</td>\n      <td>NaN</td>\n      <td>NaN</td>\n      <td>37.746</td>\n      <td>0.5</td>\n      <td>64.83</td>\n      <td>0.511</td>\n      <td>4.0</td>\n    </tr>\n    <tr>\n      <th>3</th>\n      <td>AFG</td>\n      <td>Asia</td>\n      <td>Afghanistan</td>\n      <td>2020-02-27</td>\n      <td>1.0</td>\n      <td>0.0</td>\n      <td>NaN</td>\n      <td>NaN</td>\n      <td>NaN</td>\n      <td>NaN</td>\n      <td>...</td>\n      <td>NaN</td>\n      <td>597.029</td>\n      <td>9.59</td>\n      <td>NaN</td>\n      <td>NaN</td>\n      <td>37.746</td>\n      <td>0.5</td>\n      <td>64.83</td>\n      <td>0.511</td>\n      <td>4.0</td>\n    </tr>\n    <tr>\n      <th>4</th>\n      <td>AFG</td>\n      <td>Asia</td>\n      <td>Afghanistan</td>\n      <td>2020-02-28</td>\n      <td>1.0</td>\n      <td>0.0</td>\n      <td>NaN</td>\n      <td>NaN</td>\n      <td>NaN</td>\n      <td>NaN</td>\n      <td>...</td>\n      <td>NaN</td>\n      <td>597.029</td>\n      <td>9.59</td>\n      <td>NaN</td>\n      <td>NaN</td>\n      <td>37.746</td>\n      <td>0.5</td>\n      <td>64.83</td>\n      <td>0.511</td>\n      <td>4.0</td>\n    </tr>\n    <tr>\n      <th>...</th>\n      <td>...</td>\n      <td>...</td>\n      <td>...</td>\n      <td>...</td>\n      <td>...</td>\n      <td>...</td>\n      <td>...</td>\n      <td>...</td>\n      <td>...</td>\n      <td>...</td>\n      <td>...</td>\n      <td>...</td>\n      <td>...</td>\n      <td>...</td>\n      <td>...</td>\n      <td>...</td>\n      <td>...</td>\n      <td>...</td>\n      <td>...</td>\n      <td>...</td>\n      <td>...</td>\n    </tr>\n    <tr>\n      <th>84959</th>\n      <td>ZWE</td>\n      <td>Africa</td>\n      <td>Zimbabwe</td>\n      <td>2021-04-25</td>\n      <td>38086.0</td>\n      <td>22.0</td>\n      <td>47.857</td>\n      <td>1557.0</td>\n      <td>1.0</td>\n      <td>0.571</td>\n      <td>...</td>\n      <td>21.4</td>\n      <td>307.846</td>\n      <td>1.82</td>\n      <td>1.6</td>\n      <td>30.7</td>\n      <td>36.791</td>\n      <td>1.7</td>\n      <td>61.49</td>\n      <td>0.571</td>\n      <td>4.0</td>\n    </tr>\n    <tr>\n      <th>84960</th>\n      <td>ZWE</td>\n      <td>Africa</td>\n      <td>Zimbabwe</td>\n      <td>2021-04-26</td>\n      <td>38102.0</td>\n      <td>16.0</td>\n      <td>34.714</td>\n      <td>1560.0</td>\n      <td>3.0</td>\n      <td>1.000</td>\n      <td>...</td>\n      <td>21.4</td>\n      <td>307.846</td>\n      <td>1.82</td>\n      <td>1.6</td>\n      <td>30.7</td>\n      <td>36.791</td>\n      <td>1.7</td>\n      <td>61.49</td>\n      <td>0.571</td>\n      <td>4.0</td>\n    </tr>\n    <tr>\n      <th>84961</th>\n      <td>ZWE</td>\n      <td>Africa</td>\n      <td>Zimbabwe</td>\n      <td>2021-04-27</td>\n      <td>38164.0</td>\n      <td>62.0</td>\n      <td>41.286</td>\n      <td>1565.0</td>\n      <td>5.0</td>\n      <td>1.571</td>\n      <td>...</td>\n      <td>21.4</td>\n      <td>307.846</td>\n      <td>1.82</td>\n      <td>1.6</td>\n      <td>30.7</td>\n      <td>36.791</td>\n      <td>1.7</td>\n      <td>61.49</td>\n      <td>0.571</td>\n      <td>4.0</td>\n    </tr>\n    <tr>\n      <th>84962</th>\n      <td>ZWE</td>\n      <td>Africa</td>\n      <td>Zimbabwe</td>\n      <td>2021-04-28</td>\n      <td>38191.0</td>\n      <td>27.0</td>\n      <td>30.143</td>\n      <td>1565.0</td>\n      <td>0.0</td>\n      <td>1.429</td>\n      <td>...</td>\n      <td>21.4</td>\n      <td>307.846</td>\n      <td>1.82</td>\n      <td>1.6</td>\n      <td>30.7</td>\n      <td>36.791</td>\n      <td>1.7</td>\n      <td>61.49</td>\n      <td>0.571</td>\n      <td>4.0</td>\n    </tr>\n    <tr>\n      <th>84963</th>\n      <td>ZWE</td>\n      <td>Africa</td>\n      <td>Zimbabwe</td>\n      <td>2021-04-29</td>\n      <td>38235.0</td>\n      <td>44.0</td>\n      <td>31.000</td>\n      <td>1567.0</td>\n      <td>2.0</td>\n      <td>1.714</td>\n      <td>...</td>\n      <td>21.4</td>\n      <td>307.846</td>\n      <td>1.82</td>\n      <td>1.6</td>\n      <td>30.7</td>\n      <td>36.791</td>\n      <td>1.7</td>\n      <td>61.49</td>\n      <td>0.571</td>\n      <td>4.0</td>\n    </tr>\n  </tbody>\n</table>\n<p>80350 rows × 60 columns</p>\n</div>"
     },
     "metadata": {},
     "execution_count": 112
    }
   ],
   "source": [
    "country_df['gdp_per_cap_percentile'] = country_df['iso_code'].apply(get_gdp_percentile)\n",
    "\n",
    "country_df"
   ]
  },
  {
   "cell_type": "code",
   "execution_count": 113,
   "metadata": {},
   "outputs": [],
   "source": [
    "country_df.to_csv('data/country_covid_data.csv', index=False)"
   ]
  },
  {
   "source": [
    "## Aggregating covid data"
   ],
   "cell_type": "markdown",
   "metadata": {}
  },
  {
   "source": [
    "Finally we can look at the covid data by country gdp per capita percentile"
   ],
   "cell_type": "markdown",
   "metadata": {}
  },
  {
   "cell_type": "code",
   "execution_count": 114,
   "metadata": {},
   "outputs": [],
   "source": [
    "covid_fields = [\n",
    " 'total_cases',\n",
    " 'new_cases',\n",
    " 'new_cases_smoothed',\n",
    " 'total_deaths',\n",
    " 'new_deaths',\n",
    " 'new_deaths_smoothed',\n",
    " 'icu_patients',\n",
    " 'hosp_patients',\n",
    " 'weekly_icu_admissions',\n",
    " 'weekly_hosp_admissions',\n",
    " 'new_tests',\n",
    " 'total_tests',\n",
    " 'new_tests_smoothed',\n",
    " 'positive_rate',\n",
    "#  'tests_units',\n",
    " 'total_vaccinations',\n",
    " 'people_vaccinated',\n",
    " 'people_fully_vaccinated',\n",
    " 'new_vaccinations',\n",
    " 'new_vaccinations_smoothed',\n",
    " 'population',\n",
    " 'aged_65_older',\n",
    " 'aged_70_older',\n",
    " ]"
   ]
  },
  {
   "cell_type": "code",
   "execution_count": 115,
   "metadata": {},
   "outputs": [],
   "source": [
    "percentile_options = list(country_df['gdp_per_cap_percentile'].drop_duplicates())\n",
    "\n",
    "dates = list(country_df['date'].drop_duplicates())"
   ]
  },
  {
   "cell_type": "code",
   "execution_count": 116,
   "metadata": {},
   "outputs": [
    {
     "output_type": "stream",
     "name": "stderr",
     "text": [
      "100%|██████████| 5/5 [00:53<00:00, 10.67s/it]\n"
     ]
    }
   ],
   "source": [
    "new_data = []\n",
    "new_header = ['gdp_per_cap_percentile', 'date'] + covid_fields\n",
    "for percentile_option in tqdm(percentile_options):\n",
    "    df_temp = country_df[country_df['gdp_per_cap_percentile'] == percentile_option]\n",
    "\n",
    "    for date in dates:\n",
    "        new_row = [percentile_option, date]\n",
    "        df_temp_date = df_temp[df_temp['date'] == date]\n",
    "\n",
    "        for field in covid_fields:\n",
    "            new_value = df_temp_date[field].dropna().sum()\n",
    "            new_row.append(new_value)\n",
    "\n",
    "        new_data.append(new_row)\n",
    "\n",
    "gdp_percentile_data = pd.DataFrame(new_data, columns = new_header)"
   ]
  },
  {
   "cell_type": "code",
   "execution_count": 117,
   "metadata": {},
   "outputs": [
    {
     "output_type": "execute_result",
     "data": {
      "text/plain": [
       "      gdp_per_cap_percentile       date  total_cases  new_cases  \\\n",
       "1944                     1.0 2020-02-24       1433.0      323.0   \n",
       "1945                     1.0 2020-02-25       1732.0      299.0   \n",
       "1946                     1.0 2020-02-26       2223.0      491.0   \n",
       "1947                     1.0 2020-02-27       3038.0      815.0   \n",
       "1948                     1.0 2020-02-28       3940.0      902.0   \n",
       "...                      ...        ...          ...        ...   \n",
       "2425                     1.0 2020-02-20        387.0       85.0   \n",
       "2426                     1.0 2020-02-21        527.0      140.0   \n",
       "2427                     1.0 2020-02-22        827.0      300.0   \n",
       "2428                     1.0 2020-02-23       1110.0      283.0   \n",
       "2429                     1.0 2021-04-30          0.0        0.0   \n",
       "\n",
       "      new_cases_smoothed  total_deaths  new_deaths  new_deaths_smoothed  \\\n",
       "1944             164.714          18.0         6.0                2.286   \n",
       "1945             200.001          24.0         6.0                3.001   \n",
       "1946             264.858          29.0         5.0                3.714   \n",
       "1947             365.001          36.0         7.0                4.572   \n",
       "1948             472.143          41.0         5.0                5.000   \n",
       "...                  ...           ...         ...                  ...   \n",
       "2425              24.571           4.0         1.0                0.429   \n",
       "2426              41.572           6.0         2.0                0.715   \n",
       "2427              82.000           7.0         1.0                0.715   \n",
       "2428             120.857          12.0         5.0                1.429   \n",
       "2429               0.000           0.0         0.0                0.000   \n",
       "\n",
       "      icu_patients  hosp_patients  ...  new_tests_smoothed  positive_rate  \\\n",
       "1944          26.0          127.0  ...              4110.0          0.249   \n",
       "1945          35.0          151.0  ...              5043.0          0.243   \n",
       "1946          36.0          169.0  ...              6194.0          0.227   \n",
       "1947          65.0          331.0  ...              7694.0          0.244   \n",
       "1948          72.0          421.0  ...             10333.0          0.234   \n",
       "...            ...            ...  ...                 ...            ...   \n",
       "2425           0.0           11.0  ...              1745.0          0.158   \n",
       "2426           0.0            1.0  ...              2074.0          0.184   \n",
       "2427           0.0            0.0  ...              3104.0          0.216   \n",
       "2428           0.0            1.0  ...              3365.0          0.238   \n",
       "2429          68.0          179.0  ...                 0.0          0.000   \n",
       "\n",
       "      total_vaccinations  people_vaccinated  people_fully_vaccinated  \\\n",
       "1944                 0.0                0.0                      0.0   \n",
       "1945                 0.0                0.0                      0.0   \n",
       "1946                 0.0                0.0                      0.0   \n",
       "1947                 0.0                0.0                      0.0   \n",
       "1948                 0.0                0.0                      0.0   \n",
       "...                  ...                ...                      ...   \n",
       "2425                 0.0                0.0                      0.0   \n",
       "2426                 0.0                0.0                      0.0   \n",
       "2427                 0.0                0.0                      0.0   \n",
       "2428                 0.0                0.0                      0.0   \n",
       "2429                 0.0                0.0                      0.0   \n",
       "\n",
       "      new_vaccinations  new_vaccinations_smoothed    population  \\\n",
       "1944               0.0                        0.0  9.706679e+08   \n",
       "1945               0.0                        0.0  9.883289e+08   \n",
       "1946               0.0                        0.0  9.950767e+08   \n",
       "1947               0.0                        0.0  1.012587e+09   \n",
       "1948               0.0                        0.0  1.017409e+09   \n",
       "...                ...                        ...           ...   \n",
       "2425               0.0                        0.0  9.589631e+08   \n",
       "2426               0.0                        0.0  9.589631e+08   \n",
       "2427               0.0                        0.0  9.589631e+08   \n",
       "2428               0.0                        0.0  9.745811e+08   \n",
       "2429               0.0                        0.0  8.655541e+06   \n",
       "\n",
       "      aged_65_older  aged_70_older  \n",
       "1944        356.141        234.307  \n",
       "1945        393.779        260.699  \n",
       "1946        430.052        285.003  \n",
       "1947        463.262        306.091  \n",
       "1948        478.584        315.811  \n",
       "...             ...            ...  \n",
       "2425        334.757        220.434  \n",
       "2426        334.757        220.434  \n",
       "2427        334.757        220.434  \n",
       "2428        373.080        246.171  \n",
       "2429         11.733          7.359  \n",
       "\n",
       "[486 rows x 24 columns]"
      ],
      "text/html": "<div>\n<style scoped>\n    .dataframe tbody tr th:only-of-type {\n        vertical-align: middle;\n    }\n\n    .dataframe tbody tr th {\n        vertical-align: top;\n    }\n\n    .dataframe thead th {\n        text-align: right;\n    }\n</style>\n<table border=\"1\" class=\"dataframe\">\n  <thead>\n    <tr style=\"text-align: right;\">\n      <th></th>\n      <th>gdp_per_cap_percentile</th>\n      <th>date</th>\n      <th>total_cases</th>\n      <th>new_cases</th>\n      <th>new_cases_smoothed</th>\n      <th>total_deaths</th>\n      <th>new_deaths</th>\n      <th>new_deaths_smoothed</th>\n      <th>icu_patients</th>\n      <th>hosp_patients</th>\n      <th>...</th>\n      <th>new_tests_smoothed</th>\n      <th>positive_rate</th>\n      <th>total_vaccinations</th>\n      <th>people_vaccinated</th>\n      <th>people_fully_vaccinated</th>\n      <th>new_vaccinations</th>\n      <th>new_vaccinations_smoothed</th>\n      <th>population</th>\n      <th>aged_65_older</th>\n      <th>aged_70_older</th>\n    </tr>\n  </thead>\n  <tbody>\n    <tr>\n      <th>1944</th>\n      <td>1.0</td>\n      <td>2020-02-24</td>\n      <td>1433.0</td>\n      <td>323.0</td>\n      <td>164.714</td>\n      <td>18.0</td>\n      <td>6.0</td>\n      <td>2.286</td>\n      <td>26.0</td>\n      <td>127.0</td>\n      <td>...</td>\n      <td>4110.0</td>\n      <td>0.249</td>\n      <td>0.0</td>\n      <td>0.0</td>\n      <td>0.0</td>\n      <td>0.0</td>\n      <td>0.0</td>\n      <td>9.706679e+08</td>\n      <td>356.141</td>\n      <td>234.307</td>\n    </tr>\n    <tr>\n      <th>1945</th>\n      <td>1.0</td>\n      <td>2020-02-25</td>\n      <td>1732.0</td>\n      <td>299.0</td>\n      <td>200.001</td>\n      <td>24.0</td>\n      <td>6.0</td>\n      <td>3.001</td>\n      <td>35.0</td>\n      <td>151.0</td>\n      <td>...</td>\n      <td>5043.0</td>\n      <td>0.243</td>\n      <td>0.0</td>\n      <td>0.0</td>\n      <td>0.0</td>\n      <td>0.0</td>\n      <td>0.0</td>\n      <td>9.883289e+08</td>\n      <td>393.779</td>\n      <td>260.699</td>\n    </tr>\n    <tr>\n      <th>1946</th>\n      <td>1.0</td>\n      <td>2020-02-26</td>\n      <td>2223.0</td>\n      <td>491.0</td>\n      <td>264.858</td>\n      <td>29.0</td>\n      <td>5.0</td>\n      <td>3.714</td>\n      <td>36.0</td>\n      <td>169.0</td>\n      <td>...</td>\n      <td>6194.0</td>\n      <td>0.227</td>\n      <td>0.0</td>\n      <td>0.0</td>\n      <td>0.0</td>\n      <td>0.0</td>\n      <td>0.0</td>\n      <td>9.950767e+08</td>\n      <td>430.052</td>\n      <td>285.003</td>\n    </tr>\n    <tr>\n      <th>1947</th>\n      <td>1.0</td>\n      <td>2020-02-27</td>\n      <td>3038.0</td>\n      <td>815.0</td>\n      <td>365.001</td>\n      <td>36.0</td>\n      <td>7.0</td>\n      <td>4.572</td>\n      <td>65.0</td>\n      <td>331.0</td>\n      <td>...</td>\n      <td>7694.0</td>\n      <td>0.244</td>\n      <td>0.0</td>\n      <td>0.0</td>\n      <td>0.0</td>\n      <td>0.0</td>\n      <td>0.0</td>\n      <td>1.012587e+09</td>\n      <td>463.262</td>\n      <td>306.091</td>\n    </tr>\n    <tr>\n      <th>1948</th>\n      <td>1.0</td>\n      <td>2020-02-28</td>\n      <td>3940.0</td>\n      <td>902.0</td>\n      <td>472.143</td>\n      <td>41.0</td>\n      <td>5.0</td>\n      <td>5.000</td>\n      <td>72.0</td>\n      <td>421.0</td>\n      <td>...</td>\n      <td>10333.0</td>\n      <td>0.234</td>\n      <td>0.0</td>\n      <td>0.0</td>\n      <td>0.0</td>\n      <td>0.0</td>\n      <td>0.0</td>\n      <td>1.017409e+09</td>\n      <td>478.584</td>\n      <td>315.811</td>\n    </tr>\n    <tr>\n      <th>...</th>\n      <td>...</td>\n      <td>...</td>\n      <td>...</td>\n      <td>...</td>\n      <td>...</td>\n      <td>...</td>\n      <td>...</td>\n      <td>...</td>\n      <td>...</td>\n      <td>...</td>\n      <td>...</td>\n      <td>...</td>\n      <td>...</td>\n      <td>...</td>\n      <td>...</td>\n      <td>...</td>\n      <td>...</td>\n      <td>...</td>\n      <td>...</td>\n      <td>...</td>\n      <td>...</td>\n    </tr>\n    <tr>\n      <th>2425</th>\n      <td>1.0</td>\n      <td>2020-02-20</td>\n      <td>387.0</td>\n      <td>85.0</td>\n      <td>24.571</td>\n      <td>4.0</td>\n      <td>1.0</td>\n      <td>0.429</td>\n      <td>0.0</td>\n      <td>11.0</td>\n      <td>...</td>\n      <td>1745.0</td>\n      <td>0.158</td>\n      <td>0.0</td>\n      <td>0.0</td>\n      <td>0.0</td>\n      <td>0.0</td>\n      <td>0.0</td>\n      <td>9.589631e+08</td>\n      <td>334.757</td>\n      <td>220.434</td>\n    </tr>\n    <tr>\n      <th>2426</th>\n      <td>1.0</td>\n      <td>2020-02-21</td>\n      <td>527.0</td>\n      <td>140.0</td>\n      <td>41.572</td>\n      <td>6.0</td>\n      <td>2.0</td>\n      <td>0.715</td>\n      <td>0.0</td>\n      <td>1.0</td>\n      <td>...</td>\n      <td>2074.0</td>\n      <td>0.184</td>\n      <td>0.0</td>\n      <td>0.0</td>\n      <td>0.0</td>\n      <td>0.0</td>\n      <td>0.0</td>\n      <td>9.589631e+08</td>\n      <td>334.757</td>\n      <td>220.434</td>\n    </tr>\n    <tr>\n      <th>2427</th>\n      <td>1.0</td>\n      <td>2020-02-22</td>\n      <td>827.0</td>\n      <td>300.0</td>\n      <td>82.000</td>\n      <td>7.0</td>\n      <td>1.0</td>\n      <td>0.715</td>\n      <td>0.0</td>\n      <td>0.0</td>\n      <td>...</td>\n      <td>3104.0</td>\n      <td>0.216</td>\n      <td>0.0</td>\n      <td>0.0</td>\n      <td>0.0</td>\n      <td>0.0</td>\n      <td>0.0</td>\n      <td>9.589631e+08</td>\n      <td>334.757</td>\n      <td>220.434</td>\n    </tr>\n    <tr>\n      <th>2428</th>\n      <td>1.0</td>\n      <td>2020-02-23</td>\n      <td>1110.0</td>\n      <td>283.0</td>\n      <td>120.857</td>\n      <td>12.0</td>\n      <td>5.0</td>\n      <td>1.429</td>\n      <td>0.0</td>\n      <td>1.0</td>\n      <td>...</td>\n      <td>3365.0</td>\n      <td>0.238</td>\n      <td>0.0</td>\n      <td>0.0</td>\n      <td>0.0</td>\n      <td>0.0</td>\n      <td>0.0</td>\n      <td>9.745811e+08</td>\n      <td>373.080</td>\n      <td>246.171</td>\n    </tr>\n    <tr>\n      <th>2429</th>\n      <td>1.0</td>\n      <td>2021-04-30</td>\n      <td>0.0</td>\n      <td>0.0</td>\n      <td>0.000</td>\n      <td>0.0</td>\n      <td>0.0</td>\n      <td>0.000</td>\n      <td>68.0</td>\n      <td>179.0</td>\n      <td>...</td>\n      <td>0.0</td>\n      <td>0.000</td>\n      <td>0.0</td>\n      <td>0.0</td>\n      <td>0.0</td>\n      <td>0.0</td>\n      <td>0.0</td>\n      <td>8.655541e+06</td>\n      <td>11.733</td>\n      <td>7.359</td>\n    </tr>\n  </tbody>\n</table>\n<p>486 rows × 24 columns</p>\n</div>"
     },
     "metadata": {},
     "execution_count": 117
    }
   ],
   "source": [
    "gdp_percentile_data[gdp_percentile_data['gdp_per_cap_percentile'] == 1]"
   ]
  },
  {
   "cell_type": "code",
   "execution_count": null,
   "metadata": {},
   "outputs": [],
   "source": []
  }
 ],
 "metadata": {
  "kernelspec": {
   "name": "python374jvsc74a57bd05e98c824ef30c57fed549efa009181d056e304fc9dac7ebd3cb5f873eb313ade",
   "display_name": "Python 3.7.4 64-bit ('my_environment': conda)"
  },
  "language_info": {
   "codemirror_mode": {
    "name": "ipython",
    "version": 3
   },
   "file_extension": ".py",
   "mimetype": "text/x-python",
   "name": "python",
   "nbconvert_exporter": "python",
   "pygments_lexer": "ipython3",
   "version": "3.7.4"
  }
 },
 "nbformat": 4,
 "nbformat_minor": 4
}