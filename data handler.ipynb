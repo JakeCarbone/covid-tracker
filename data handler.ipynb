{
 "cells": [
  {
   "cell_type": "markdown",
   "metadata": {},
   "source": [
    "# Exploring Our World in Data  COVID-19 data"
   ]
  },
  {
   "cell_type": "markdown",
   "metadata": {},
   "source": [
    "Imports"
   ]
  },
  {
   "cell_type": "code",
   "execution_count": 119,
   "metadata": {},
   "outputs": [],
   "source": [
    "import pandas as pd\n",
    "import numpy as np\n",
    "from tqdm import tqdm"
   ]
  },
  {
   "cell_type": "code",
   "execution_count": 120,
   "metadata": {},
   "outputs": [],
   "source": [
    "import datetime\n"
   ]
  },
  {
   "source": [
    "To seperate out the countries in this data we need country iso-3 codes. There is a data set of this all [here](https://www.iban.com/country-codes). Luckily we can download the data in one line of code with pandas read_html function."
   ],
   "cell_type": "markdown",
   "metadata": {}
  },
  {
   "cell_type": "code",
   "execution_count": 121,
   "metadata": {},
   "outputs": [],
   "source": [
    "country_codes = pd.read_html('https://www.iban.com/country-codes')[0]"
   ]
  },
  {
   "cell_type": "code",
   "execution_count": 122,
   "metadata": {},
   "outputs": [
    {
     "output_type": "execute_result",
     "data": {
      "text/plain": [
       "               Country Alpha-2 code Alpha-3 code  Numeric\n",
       "0          Afghanistan           AF          AFG        4\n",
       "1        Åland Islands           AX          ALA      248\n",
       "2              Albania           AL          ALB        8\n",
       "3              Algeria           DZ          DZA       12\n",
       "4       American Samoa           AS          ASM       16\n",
       "..                 ...          ...          ...      ...\n",
       "244  Wallis and Futuna           WF          WLF      876\n",
       "245     Western Sahara           EH          ESH      732\n",
       "246              Yemen           YE          YEM      887\n",
       "247             Zambia           ZM          ZMB      894\n",
       "248           Zimbabwe           ZW          ZWE      716\n",
       "\n",
       "[249 rows x 4 columns]"
      ],
      "text/html": "<div>\n<style scoped>\n    .dataframe tbody tr th:only-of-type {\n        vertical-align: middle;\n    }\n\n    .dataframe tbody tr th {\n        vertical-align: top;\n    }\n\n    .dataframe thead th {\n        text-align: right;\n    }\n</style>\n<table border=\"1\" class=\"dataframe\">\n  <thead>\n    <tr style=\"text-align: right;\">\n      <th></th>\n      <th>Country</th>\n      <th>Alpha-2 code</th>\n      <th>Alpha-3 code</th>\n      <th>Numeric</th>\n    </tr>\n  </thead>\n  <tbody>\n    <tr>\n      <th>0</th>\n      <td>Afghanistan</td>\n      <td>AF</td>\n      <td>AFG</td>\n      <td>4</td>\n    </tr>\n    <tr>\n      <th>1</th>\n      <td>Åland Islands</td>\n      <td>AX</td>\n      <td>ALA</td>\n      <td>248</td>\n    </tr>\n    <tr>\n      <th>2</th>\n      <td>Albania</td>\n      <td>AL</td>\n      <td>ALB</td>\n      <td>8</td>\n    </tr>\n    <tr>\n      <th>3</th>\n      <td>Algeria</td>\n      <td>DZ</td>\n      <td>DZA</td>\n      <td>12</td>\n    </tr>\n    <tr>\n      <th>4</th>\n      <td>American Samoa</td>\n      <td>AS</td>\n      <td>ASM</td>\n      <td>16</td>\n    </tr>\n    <tr>\n      <th>...</th>\n      <td>...</td>\n      <td>...</td>\n      <td>...</td>\n      <td>...</td>\n    </tr>\n    <tr>\n      <th>244</th>\n      <td>Wallis and Futuna</td>\n      <td>WF</td>\n      <td>WLF</td>\n      <td>876</td>\n    </tr>\n    <tr>\n      <th>245</th>\n      <td>Western Sahara</td>\n      <td>EH</td>\n      <td>ESH</td>\n      <td>732</td>\n    </tr>\n    <tr>\n      <th>246</th>\n      <td>Yemen</td>\n      <td>YE</td>\n      <td>YEM</td>\n      <td>887</td>\n    </tr>\n    <tr>\n      <th>247</th>\n      <td>Zambia</td>\n      <td>ZM</td>\n      <td>ZMB</td>\n      <td>894</td>\n    </tr>\n    <tr>\n      <th>248</th>\n      <td>Zimbabwe</td>\n      <td>ZW</td>\n      <td>ZWE</td>\n      <td>716</td>\n    </tr>\n  </tbody>\n</table>\n<p>249 rows × 4 columns</p>\n</div>"
     },
     "metadata": {},
     "execution_count": 122
    }
   ],
   "source": [
    "country_codes"
   ]
  },
  {
   "source": [
    "Lets save this for future use and incase the website ever goes down."
   ],
   "cell_type": "markdown",
   "metadata": {}
  },
  {
   "cell_type": "code",
   "execution_count": 123,
   "metadata": {},
   "outputs": [],
   "source": [
    "country_codes.to_csv('data/country_codes.csv', index=False)"
   ]
  },
  {
   "cell_type": "markdown",
   "metadata": {},
   "source": [
    "Using the github download link we can pull the latest OWID COVID data straight from github"
   ]
  },
  {
   "cell_type": "code",
   "execution_count": 124,
   "metadata": {},
   "outputs": [
    {
     "output_type": "execute_result",
     "data": {
      "text/plain": [
       "      iso_code continent     location        date  total_cases  new_cases  \\\n",
       "0          AFG      Asia  Afghanistan  2020-02-24          1.0        1.0   \n",
       "1          AFG      Asia  Afghanistan  2020-02-25          1.0        0.0   \n",
       "2          AFG      Asia  Afghanistan  2020-02-26          1.0        0.0   \n",
       "3          AFG      Asia  Afghanistan  2020-02-27          1.0        0.0   \n",
       "4          AFG      Asia  Afghanistan  2020-02-28          1.0        0.0   \n",
       "...        ...       ...          ...         ...          ...        ...   \n",
       "84959      ZWE    Africa     Zimbabwe  2021-04-25      38086.0       22.0   \n",
       "84960      ZWE    Africa     Zimbabwe  2021-04-26      38102.0       16.0   \n",
       "84961      ZWE    Africa     Zimbabwe  2021-04-27      38164.0       62.0   \n",
       "84962      ZWE    Africa     Zimbabwe  2021-04-28      38191.0       27.0   \n",
       "84963      ZWE    Africa     Zimbabwe  2021-04-29      38235.0       44.0   \n",
       "\n",
       "       new_cases_smoothed  total_deaths  new_deaths  new_deaths_smoothed  ...  \\\n",
       "0                     NaN           NaN         NaN                  NaN  ...   \n",
       "1                     NaN           NaN         NaN                  NaN  ...   \n",
       "2                     NaN           NaN         NaN                  NaN  ...   \n",
       "3                     NaN           NaN         NaN                  NaN  ...   \n",
       "4                     NaN           NaN         NaN                  NaN  ...   \n",
       "...                   ...           ...         ...                  ...  ...   \n",
       "84959              47.857        1557.0         1.0                0.571  ...   \n",
       "84960              34.714        1560.0         3.0                1.000  ...   \n",
       "84961              41.286        1565.0         5.0                1.571  ...   \n",
       "84962              30.143        1565.0         0.0                1.429  ...   \n",
       "84963              31.000        1567.0         2.0                1.714  ...   \n",
       "\n",
       "       gdp_per_capita  extreme_poverty  cardiovasc_death_rate  \\\n",
       "0            1803.987              NaN                597.029   \n",
       "1            1803.987              NaN                597.029   \n",
       "2            1803.987              NaN                597.029   \n",
       "3            1803.987              NaN                597.029   \n",
       "4            1803.987              NaN                597.029   \n",
       "...               ...              ...                    ...   \n",
       "84959        1899.775             21.4                307.846   \n",
       "84960        1899.775             21.4                307.846   \n",
       "84961        1899.775             21.4                307.846   \n",
       "84962        1899.775             21.4                307.846   \n",
       "84963        1899.775             21.4                307.846   \n",
       "\n",
       "       diabetes_prevalence  female_smokers  male_smokers  \\\n",
       "0                     9.59             NaN           NaN   \n",
       "1                     9.59             NaN           NaN   \n",
       "2                     9.59             NaN           NaN   \n",
       "3                     9.59             NaN           NaN   \n",
       "4                     9.59             NaN           NaN   \n",
       "...                    ...             ...           ...   \n",
       "84959                 1.82             1.6          30.7   \n",
       "84960                 1.82             1.6          30.7   \n",
       "84961                 1.82             1.6          30.7   \n",
       "84962                 1.82             1.6          30.7   \n",
       "84963                 1.82             1.6          30.7   \n",
       "\n",
       "       handwashing_facilities  hospital_beds_per_thousand  life_expectancy  \\\n",
       "0                      37.746                         0.5            64.83   \n",
       "1                      37.746                         0.5            64.83   \n",
       "2                      37.746                         0.5            64.83   \n",
       "3                      37.746                         0.5            64.83   \n",
       "4                      37.746                         0.5            64.83   \n",
       "...                       ...                         ...              ...   \n",
       "84959                  36.791                         1.7            61.49   \n",
       "84960                  36.791                         1.7            61.49   \n",
       "84961                  36.791                         1.7            61.49   \n",
       "84962                  36.791                         1.7            61.49   \n",
       "84963                  36.791                         1.7            61.49   \n",
       "\n",
       "       human_development_index  \n",
       "0                        0.511  \n",
       "1                        0.511  \n",
       "2                        0.511  \n",
       "3                        0.511  \n",
       "4                        0.511  \n",
       "...                        ...  \n",
       "84959                    0.571  \n",
       "84960                    0.571  \n",
       "84961                    0.571  \n",
       "84962                    0.571  \n",
       "84963                    0.571  \n",
       "\n",
       "[84964 rows x 59 columns]"
      ],
      "text/html": "<div>\n<style scoped>\n    .dataframe tbody tr th:only-of-type {\n        vertical-align: middle;\n    }\n\n    .dataframe tbody tr th {\n        vertical-align: top;\n    }\n\n    .dataframe thead th {\n        text-align: right;\n    }\n</style>\n<table border=\"1\" class=\"dataframe\">\n  <thead>\n    <tr style=\"text-align: right;\">\n      <th></th>\n      <th>iso_code</th>\n      <th>continent</th>\n      <th>location</th>\n      <th>date</th>\n      <th>total_cases</th>\n      <th>new_cases</th>\n      <th>new_cases_smoothed</th>\n      <th>total_deaths</th>\n      <th>new_deaths</th>\n      <th>new_deaths_smoothed</th>\n      <th>...</th>\n      <th>gdp_per_capita</th>\n      <th>extreme_poverty</th>\n      <th>cardiovasc_death_rate</th>\n      <th>diabetes_prevalence</th>\n      <th>female_smokers</th>\n      <th>male_smokers</th>\n      <th>handwashing_facilities</th>\n      <th>hospital_beds_per_thousand</th>\n      <th>life_expectancy</th>\n      <th>human_development_index</th>\n    </tr>\n  </thead>\n  <tbody>\n    <tr>\n      <th>0</th>\n      <td>AFG</td>\n      <td>Asia</td>\n      <td>Afghanistan</td>\n      <td>2020-02-24</td>\n      <td>1.0</td>\n      <td>1.0</td>\n      <td>NaN</td>\n      <td>NaN</td>\n      <td>NaN</td>\n      <td>NaN</td>\n      <td>...</td>\n      <td>1803.987</td>\n      <td>NaN</td>\n      <td>597.029</td>\n      <td>9.59</td>\n      <td>NaN</td>\n      <td>NaN</td>\n      <td>37.746</td>\n      <td>0.5</td>\n      <td>64.83</td>\n      <td>0.511</td>\n    </tr>\n    <tr>\n      <th>1</th>\n      <td>AFG</td>\n      <td>Asia</td>\n      <td>Afghanistan</td>\n      <td>2020-02-25</td>\n      <td>1.0</td>\n      <td>0.0</td>\n      <td>NaN</td>\n      <td>NaN</td>\n      <td>NaN</td>\n      <td>NaN</td>\n      <td>...</td>\n      <td>1803.987</td>\n      <td>NaN</td>\n      <td>597.029</td>\n      <td>9.59</td>\n      <td>NaN</td>\n      <td>NaN</td>\n      <td>37.746</td>\n      <td>0.5</td>\n      <td>64.83</td>\n      <td>0.511</td>\n    </tr>\n    <tr>\n      <th>2</th>\n      <td>AFG</td>\n      <td>Asia</td>\n      <td>Afghanistan</td>\n      <td>2020-02-26</td>\n      <td>1.0</td>\n      <td>0.0</td>\n      <td>NaN</td>\n      <td>NaN</td>\n      <td>NaN</td>\n      <td>NaN</td>\n      <td>...</td>\n      <td>1803.987</td>\n      <td>NaN</td>\n      <td>597.029</td>\n      <td>9.59</td>\n      <td>NaN</td>\n      <td>NaN</td>\n      <td>37.746</td>\n      <td>0.5</td>\n      <td>64.83</td>\n      <td>0.511</td>\n    </tr>\n    <tr>\n      <th>3</th>\n      <td>AFG</td>\n      <td>Asia</td>\n      <td>Afghanistan</td>\n      <td>2020-02-27</td>\n      <td>1.0</td>\n      <td>0.0</td>\n      <td>NaN</td>\n      <td>NaN</td>\n      <td>NaN</td>\n      <td>NaN</td>\n      <td>...</td>\n      <td>1803.987</td>\n      <td>NaN</td>\n      <td>597.029</td>\n      <td>9.59</td>\n      <td>NaN</td>\n      <td>NaN</td>\n      <td>37.746</td>\n      <td>0.5</td>\n      <td>64.83</td>\n      <td>0.511</td>\n    </tr>\n    <tr>\n      <th>4</th>\n      <td>AFG</td>\n      <td>Asia</td>\n      <td>Afghanistan</td>\n      <td>2020-02-28</td>\n      <td>1.0</td>\n      <td>0.0</td>\n      <td>NaN</td>\n      <td>NaN</td>\n      <td>NaN</td>\n      <td>NaN</td>\n      <td>...</td>\n      <td>1803.987</td>\n      <td>NaN</td>\n      <td>597.029</td>\n      <td>9.59</td>\n      <td>NaN</td>\n      <td>NaN</td>\n      <td>37.746</td>\n      <td>0.5</td>\n      <td>64.83</td>\n      <td>0.511</td>\n    </tr>\n    <tr>\n      <th>...</th>\n      <td>...</td>\n      <td>...</td>\n      <td>...</td>\n      <td>...</td>\n      <td>...</td>\n      <td>...</td>\n      <td>...</td>\n      <td>...</td>\n      <td>...</td>\n      <td>...</td>\n      <td>...</td>\n      <td>...</td>\n      <td>...</td>\n      <td>...</td>\n      <td>...</td>\n      <td>...</td>\n      <td>...</td>\n      <td>...</td>\n      <td>...</td>\n      <td>...</td>\n      <td>...</td>\n    </tr>\n    <tr>\n      <th>84959</th>\n      <td>ZWE</td>\n      <td>Africa</td>\n      <td>Zimbabwe</td>\n      <td>2021-04-25</td>\n      <td>38086.0</td>\n      <td>22.0</td>\n      <td>47.857</td>\n      <td>1557.0</td>\n      <td>1.0</td>\n      <td>0.571</td>\n      <td>...</td>\n      <td>1899.775</td>\n      <td>21.4</td>\n      <td>307.846</td>\n      <td>1.82</td>\n      <td>1.6</td>\n      <td>30.7</td>\n      <td>36.791</td>\n      <td>1.7</td>\n      <td>61.49</td>\n      <td>0.571</td>\n    </tr>\n    <tr>\n      <th>84960</th>\n      <td>ZWE</td>\n      <td>Africa</td>\n      <td>Zimbabwe</td>\n      <td>2021-04-26</td>\n      <td>38102.0</td>\n      <td>16.0</td>\n      <td>34.714</td>\n      <td>1560.0</td>\n      <td>3.0</td>\n      <td>1.000</td>\n      <td>...</td>\n      <td>1899.775</td>\n      <td>21.4</td>\n      <td>307.846</td>\n      <td>1.82</td>\n      <td>1.6</td>\n      <td>30.7</td>\n      <td>36.791</td>\n      <td>1.7</td>\n      <td>61.49</td>\n      <td>0.571</td>\n    </tr>\n    <tr>\n      <th>84961</th>\n      <td>ZWE</td>\n      <td>Africa</td>\n      <td>Zimbabwe</td>\n      <td>2021-04-27</td>\n      <td>38164.0</td>\n      <td>62.0</td>\n      <td>41.286</td>\n      <td>1565.0</td>\n      <td>5.0</td>\n      <td>1.571</td>\n      <td>...</td>\n      <td>1899.775</td>\n      <td>21.4</td>\n      <td>307.846</td>\n      <td>1.82</td>\n      <td>1.6</td>\n      <td>30.7</td>\n      <td>36.791</td>\n      <td>1.7</td>\n      <td>61.49</td>\n      <td>0.571</td>\n    </tr>\n    <tr>\n      <th>84962</th>\n      <td>ZWE</td>\n      <td>Africa</td>\n      <td>Zimbabwe</td>\n      <td>2021-04-28</td>\n      <td>38191.0</td>\n      <td>27.0</td>\n      <td>30.143</td>\n      <td>1565.0</td>\n      <td>0.0</td>\n      <td>1.429</td>\n      <td>...</td>\n      <td>1899.775</td>\n      <td>21.4</td>\n      <td>307.846</td>\n      <td>1.82</td>\n      <td>1.6</td>\n      <td>30.7</td>\n      <td>36.791</td>\n      <td>1.7</td>\n      <td>61.49</td>\n      <td>0.571</td>\n    </tr>\n    <tr>\n      <th>84963</th>\n      <td>ZWE</td>\n      <td>Africa</td>\n      <td>Zimbabwe</td>\n      <td>2021-04-29</td>\n      <td>38235.0</td>\n      <td>44.0</td>\n      <td>31.000</td>\n      <td>1567.0</td>\n      <td>2.0</td>\n      <td>1.714</td>\n      <td>...</td>\n      <td>1899.775</td>\n      <td>21.4</td>\n      <td>307.846</td>\n      <td>1.82</td>\n      <td>1.6</td>\n      <td>30.7</td>\n      <td>36.791</td>\n      <td>1.7</td>\n      <td>61.49</td>\n      <td>0.571</td>\n    </tr>\n  </tbody>\n</table>\n<p>84964 rows × 59 columns</p>\n</div>"
     },
     "metadata": {},
     "execution_count": 124
    }
   ],
   "source": [
    "data_link = 'https://github.com/owid/covid-19-data/raw/master/public/data/owid-covid-data.csv'\n",
    "\n",
    "df = pd.read_csv(data_link)\n",
    "\n",
    "df"
   ]
  },
  {
   "cell_type": "code",
   "execution_count": 125,
   "metadata": {},
   "outputs": [],
   "source": [
    "def interpret_date(value):\n",
    "    year, month, day = value.split('-')\n",
    "\n",
    "    return datetime.datetime(int(year), int(month), int(day))"
   ]
  },
  {
   "cell_type": "code",
   "execution_count": 126,
   "metadata": {},
   "outputs": [],
   "source": [
    "df['date'] = df['date'].apply(interpret_date)\n",
    "\n",
    "df = df.sort_values('date')"
   ]
  },
  {
   "cell_type": "code",
   "execution_count": 127,
   "metadata": {},
   "outputs": [
    {
     "output_type": "execute_result",
     "data": {
      "text/plain": [
       "      iso_code      continent    location       date  total_cases  new_cases  \\\n",
       "3054       ARG  South America   Argentina 2020-01-01          NaN        NaN   \n",
       "49363      MEX  North America      Mexico 2020-01-01          NaN        NaN   \n",
       "3055       ARG  South America   Argentina 2020-01-02          NaN        NaN   \n",
       "49364      MEX  North America      Mexico 2020-01-02          NaN        NaN   \n",
       "3056       ARG  South America   Argentina 2020-01-03          NaN        NaN   \n",
       "...        ...            ...         ...        ...          ...        ...   \n",
       "52540      MOZ         Africa  Mozambique 2021-04-29      69864.0       60.0   \n",
       "52939      MMR           Asia     Myanmar 2021-04-29     142800.0       10.0   \n",
       "50790      MCO         Europe      Monaco 2021-04-29       2452.0        5.0   \n",
       "84963      ZWE         Africa    Zimbabwe 2021-04-29      38235.0       44.0   \n",
       "38087      ISR           Asia      Israel 2021-04-30          NaN        NaN   \n",
       "\n",
       "       new_cases_smoothed  total_deaths  new_deaths  new_deaths_smoothed  ...  \\\n",
       "3054                  NaN           NaN         NaN                  NaN  ...   \n",
       "49363                 NaN           NaN         NaN                  NaN  ...   \n",
       "3055                  NaN           NaN         NaN                  NaN  ...   \n",
       "49364                 NaN           NaN         NaN                  NaN  ...   \n",
       "3056                  NaN           NaN         NaN                  NaN  ...   \n",
       "...                   ...           ...         ...                  ...  ...   \n",
       "52540              48.714         814.0         0.0                1.286  ...   \n",
       "52939              18.000        3209.0         0.0                0.429  ...   \n",
       "50790               4.143          32.0         0.0                0.143  ...   \n",
       "84963              31.000        1567.0         2.0                1.714  ...   \n",
       "38087                 NaN           NaN         NaN                  NaN  ...   \n",
       "\n",
       "       gdp_per_capita  extreme_poverty  cardiovasc_death_rate  \\\n",
       "3054        18933.907              0.6                191.032   \n",
       "49363       17336.469              2.5                152.783   \n",
       "3055        18933.907              0.6                191.032   \n",
       "49364       17336.469              2.5                152.783   \n",
       "3056        18933.907              0.6                191.032   \n",
       "...               ...              ...                    ...   \n",
       "52540        1136.103             62.9                329.942   \n",
       "52939        5591.597              6.4                202.104   \n",
       "50790             NaN              NaN                    NaN   \n",
       "84963        1899.775             21.4                307.846   \n",
       "38087       33132.320              0.5                 93.320   \n",
       "\n",
       "       diabetes_prevalence  female_smokers  male_smokers  \\\n",
       "3054                  5.50            16.2          27.7   \n",
       "49363                13.06             6.9          21.4   \n",
       "3055                  5.50            16.2          27.7   \n",
       "49364                13.06             6.9          21.4   \n",
       "3056                  5.50            16.2          27.7   \n",
       "...                    ...             ...           ...   \n",
       "52540                 3.30             5.1          29.1   \n",
       "52939                 4.61             6.3          35.2   \n",
       "50790                 5.46             NaN           NaN   \n",
       "84963                 1.82             1.6          30.7   \n",
       "38087                 6.74            15.4          35.4   \n",
       "\n",
       "       handwashing_facilities  hospital_beds_per_thousand  life_expectancy  \\\n",
       "3054                      NaN                        5.00            76.67   \n",
       "49363                  87.847                        1.38            75.05   \n",
       "3055                      NaN                        5.00            76.67   \n",
       "49364                  87.847                        1.38            75.05   \n",
       "3056                      NaN                        5.00            76.67   \n",
       "...                       ...                         ...              ...   \n",
       "52540                  12.227                        0.70            60.85   \n",
       "52939                  79.287                        0.90            67.13   \n",
       "50790                     NaN                       13.80            86.75   \n",
       "84963                  36.791                        1.70            61.49   \n",
       "38087                     NaN                        2.99            82.97   \n",
       "\n",
       "       human_development_index  \n",
       "3054                     0.845  \n",
       "49363                    0.779  \n",
       "3055                     0.845  \n",
       "49364                    0.779  \n",
       "3056                     0.845  \n",
       "...                        ...  \n",
       "52540                    0.456  \n",
       "52939                    0.583  \n",
       "50790                      NaN  \n",
       "84963                    0.571  \n",
       "38087                    0.919  \n",
       "\n",
       "[84964 rows x 59 columns]"
      ],
      "text/html": "<div>\n<style scoped>\n    .dataframe tbody tr th:only-of-type {\n        vertical-align: middle;\n    }\n\n    .dataframe tbody tr th {\n        vertical-align: top;\n    }\n\n    .dataframe thead th {\n        text-align: right;\n    }\n</style>\n<table border=\"1\" class=\"dataframe\">\n  <thead>\n    <tr style=\"text-align: right;\">\n      <th></th>\n      <th>iso_code</th>\n      <th>continent</th>\n      <th>location</th>\n      <th>date</th>\n      <th>total_cases</th>\n      <th>new_cases</th>\n      <th>new_cases_smoothed</th>\n      <th>total_deaths</th>\n      <th>new_deaths</th>\n      <th>new_deaths_smoothed</th>\n      <th>...</th>\n      <th>gdp_per_capita</th>\n      <th>extreme_poverty</th>\n      <th>cardiovasc_death_rate</th>\n      <th>diabetes_prevalence</th>\n      <th>female_smokers</th>\n      <th>male_smokers</th>\n      <th>handwashing_facilities</th>\n      <th>hospital_beds_per_thousand</th>\n      <th>life_expectancy</th>\n      <th>human_development_index</th>\n    </tr>\n  </thead>\n  <tbody>\n    <tr>\n      <th>3054</th>\n      <td>ARG</td>\n      <td>South America</td>\n      <td>Argentina</td>\n      <td>2020-01-01</td>\n      <td>NaN</td>\n      <td>NaN</td>\n      <td>NaN</td>\n      <td>NaN</td>\n      <td>NaN</td>\n      <td>NaN</td>\n      <td>...</td>\n      <td>18933.907</td>\n      <td>0.6</td>\n      <td>191.032</td>\n      <td>5.50</td>\n      <td>16.2</td>\n      <td>27.7</td>\n      <td>NaN</td>\n      <td>5.00</td>\n      <td>76.67</td>\n      <td>0.845</td>\n    </tr>\n    <tr>\n      <th>49363</th>\n      <td>MEX</td>\n      <td>North America</td>\n      <td>Mexico</td>\n      <td>2020-01-01</td>\n      <td>NaN</td>\n      <td>NaN</td>\n      <td>NaN</td>\n      <td>NaN</td>\n      <td>NaN</td>\n      <td>NaN</td>\n      <td>...</td>\n      <td>17336.469</td>\n      <td>2.5</td>\n      <td>152.783</td>\n      <td>13.06</td>\n      <td>6.9</td>\n      <td>21.4</td>\n      <td>87.847</td>\n      <td>1.38</td>\n      <td>75.05</td>\n      <td>0.779</td>\n    </tr>\n    <tr>\n      <th>3055</th>\n      <td>ARG</td>\n      <td>South America</td>\n      <td>Argentina</td>\n      <td>2020-01-02</td>\n      <td>NaN</td>\n      <td>NaN</td>\n      <td>NaN</td>\n      <td>NaN</td>\n      <td>NaN</td>\n      <td>NaN</td>\n      <td>...</td>\n      <td>18933.907</td>\n      <td>0.6</td>\n      <td>191.032</td>\n      <td>5.50</td>\n      <td>16.2</td>\n      <td>27.7</td>\n      <td>NaN</td>\n      <td>5.00</td>\n      <td>76.67</td>\n      <td>0.845</td>\n    </tr>\n    <tr>\n      <th>49364</th>\n      <td>MEX</td>\n      <td>North America</td>\n      <td>Mexico</td>\n      <td>2020-01-02</td>\n      <td>NaN</td>\n      <td>NaN</td>\n      <td>NaN</td>\n      <td>NaN</td>\n      <td>NaN</td>\n      <td>NaN</td>\n      <td>...</td>\n      <td>17336.469</td>\n      <td>2.5</td>\n      <td>152.783</td>\n      <td>13.06</td>\n      <td>6.9</td>\n      <td>21.4</td>\n      <td>87.847</td>\n      <td>1.38</td>\n      <td>75.05</td>\n      <td>0.779</td>\n    </tr>\n    <tr>\n      <th>3056</th>\n      <td>ARG</td>\n      <td>South America</td>\n      <td>Argentina</td>\n      <td>2020-01-03</td>\n      <td>NaN</td>\n      <td>NaN</td>\n      <td>NaN</td>\n      <td>NaN</td>\n      <td>NaN</td>\n      <td>NaN</td>\n      <td>...</td>\n      <td>18933.907</td>\n      <td>0.6</td>\n      <td>191.032</td>\n      <td>5.50</td>\n      <td>16.2</td>\n      <td>27.7</td>\n      <td>NaN</td>\n      <td>5.00</td>\n      <td>76.67</td>\n      <td>0.845</td>\n    </tr>\n    <tr>\n      <th>...</th>\n      <td>...</td>\n      <td>...</td>\n      <td>...</td>\n      <td>...</td>\n      <td>...</td>\n      <td>...</td>\n      <td>...</td>\n      <td>...</td>\n      <td>...</td>\n      <td>...</td>\n      <td>...</td>\n      <td>...</td>\n      <td>...</td>\n      <td>...</td>\n      <td>...</td>\n      <td>...</td>\n      <td>...</td>\n      <td>...</td>\n      <td>...</td>\n      <td>...</td>\n      <td>...</td>\n    </tr>\n    <tr>\n      <th>52540</th>\n      <td>MOZ</td>\n      <td>Africa</td>\n      <td>Mozambique</td>\n      <td>2021-04-29</td>\n      <td>69864.0</td>\n      <td>60.0</td>\n      <td>48.714</td>\n      <td>814.0</td>\n      <td>0.0</td>\n      <td>1.286</td>\n      <td>...</td>\n      <td>1136.103</td>\n      <td>62.9</td>\n      <td>329.942</td>\n      <td>3.30</td>\n      <td>5.1</td>\n      <td>29.1</td>\n      <td>12.227</td>\n      <td>0.70</td>\n      <td>60.85</td>\n      <td>0.456</td>\n    </tr>\n    <tr>\n      <th>52939</th>\n      <td>MMR</td>\n      <td>Asia</td>\n      <td>Myanmar</td>\n      <td>2021-04-29</td>\n      <td>142800.0</td>\n      <td>10.0</td>\n      <td>18.000</td>\n      <td>3209.0</td>\n      <td>0.0</td>\n      <td>0.429</td>\n      <td>...</td>\n      <td>5591.597</td>\n      <td>6.4</td>\n      <td>202.104</td>\n      <td>4.61</td>\n      <td>6.3</td>\n      <td>35.2</td>\n      <td>79.287</td>\n      <td>0.90</td>\n      <td>67.13</td>\n      <td>0.583</td>\n    </tr>\n    <tr>\n      <th>50790</th>\n      <td>MCO</td>\n      <td>Europe</td>\n      <td>Monaco</td>\n      <td>2021-04-29</td>\n      <td>2452.0</td>\n      <td>5.0</td>\n      <td>4.143</td>\n      <td>32.0</td>\n      <td>0.0</td>\n      <td>0.143</td>\n      <td>...</td>\n      <td>NaN</td>\n      <td>NaN</td>\n      <td>NaN</td>\n      <td>5.46</td>\n      <td>NaN</td>\n      <td>NaN</td>\n      <td>NaN</td>\n      <td>13.80</td>\n      <td>86.75</td>\n      <td>NaN</td>\n    </tr>\n    <tr>\n      <th>84963</th>\n      <td>ZWE</td>\n      <td>Africa</td>\n      <td>Zimbabwe</td>\n      <td>2021-04-29</td>\n      <td>38235.0</td>\n      <td>44.0</td>\n      <td>31.000</td>\n      <td>1567.0</td>\n      <td>2.0</td>\n      <td>1.714</td>\n      <td>...</td>\n      <td>1899.775</td>\n      <td>21.4</td>\n      <td>307.846</td>\n      <td>1.82</td>\n      <td>1.6</td>\n      <td>30.7</td>\n      <td>36.791</td>\n      <td>1.70</td>\n      <td>61.49</td>\n      <td>0.571</td>\n    </tr>\n    <tr>\n      <th>38087</th>\n      <td>ISR</td>\n      <td>Asia</td>\n      <td>Israel</td>\n      <td>2021-04-30</td>\n      <td>NaN</td>\n      <td>NaN</td>\n      <td>NaN</td>\n      <td>NaN</td>\n      <td>NaN</td>\n      <td>NaN</td>\n      <td>...</td>\n      <td>33132.320</td>\n      <td>0.5</td>\n      <td>93.320</td>\n      <td>6.74</td>\n      <td>15.4</td>\n      <td>35.4</td>\n      <td>NaN</td>\n      <td>2.99</td>\n      <td>82.97</td>\n      <td>0.919</td>\n    </tr>\n  </tbody>\n</table>\n<p>84964 rows × 59 columns</p>\n</div>"
     },
     "metadata": {},
     "execution_count": 127
    }
   ],
   "source": [
    "df"
   ]
  },
  {
   "source": [
    "## Analysing the countries in the data set"
   ],
   "cell_type": "markdown",
   "metadata": {}
  },
  {
   "cell_type": "code",
   "execution_count": 128,
   "metadata": {},
   "outputs": [],
   "source": [
    "country_iso_3_codes = list(country_codes['Alpha-3 code'])"
   ]
  },
  {
   "cell_type": "code",
   "execution_count": 129,
   "metadata": {},
   "outputs": [],
   "source": [
    "country_df = df[df['iso_code'].isin(country_iso_3_codes)]"
   ]
  },
  {
   "cell_type": "code",
   "execution_count": 130,
   "metadata": {},
   "outputs": [
    {
     "output_type": "execute_result",
     "data": {
      "text/plain": [
       "      iso_code      continent    location       date  total_cases  new_cases  \\\n",
       "3054       ARG  South America   Argentina 2020-01-01          NaN        NaN   \n",
       "49363      MEX  North America      Mexico 2020-01-01          NaN        NaN   \n",
       "3055       ARG  South America   Argentina 2020-01-02          NaN        NaN   \n",
       "49364      MEX  North America      Mexico 2020-01-02          NaN        NaN   \n",
       "3056       ARG  South America   Argentina 2020-01-03          NaN        NaN   \n",
       "...        ...            ...         ...        ...          ...        ...   \n",
       "52540      MOZ         Africa  Mozambique 2021-04-29      69864.0       60.0   \n",
       "52939      MMR           Asia     Myanmar 2021-04-29     142800.0       10.0   \n",
       "50790      MCO         Europe      Monaco 2021-04-29       2452.0        5.0   \n",
       "84963      ZWE         Africa    Zimbabwe 2021-04-29      38235.0       44.0   \n",
       "38087      ISR           Asia      Israel 2021-04-30          NaN        NaN   \n",
       "\n",
       "       new_cases_smoothed  total_deaths  new_deaths  new_deaths_smoothed  ...  \\\n",
       "3054                  NaN           NaN         NaN                  NaN  ...   \n",
       "49363                 NaN           NaN         NaN                  NaN  ...   \n",
       "3055                  NaN           NaN         NaN                  NaN  ...   \n",
       "49364                 NaN           NaN         NaN                  NaN  ...   \n",
       "3056                  NaN           NaN         NaN                  NaN  ...   \n",
       "...                   ...           ...         ...                  ...  ...   \n",
       "52540              48.714         814.0         0.0                1.286  ...   \n",
       "52939              18.000        3209.0         0.0                0.429  ...   \n",
       "50790               4.143          32.0         0.0                0.143  ...   \n",
       "84963              31.000        1567.0         2.0                1.714  ...   \n",
       "38087                 NaN           NaN         NaN                  NaN  ...   \n",
       "\n",
       "       gdp_per_capita  extreme_poverty  cardiovasc_death_rate  \\\n",
       "3054        18933.907              0.6                191.032   \n",
       "49363       17336.469              2.5                152.783   \n",
       "3055        18933.907              0.6                191.032   \n",
       "49364       17336.469              2.5                152.783   \n",
       "3056        18933.907              0.6                191.032   \n",
       "...               ...              ...                    ...   \n",
       "52540        1136.103             62.9                329.942   \n",
       "52939        5591.597              6.4                202.104   \n",
       "50790             NaN              NaN                    NaN   \n",
       "84963        1899.775             21.4                307.846   \n",
       "38087       33132.320              0.5                 93.320   \n",
       "\n",
       "       diabetes_prevalence  female_smokers  male_smokers  \\\n",
       "3054                  5.50            16.2          27.7   \n",
       "49363                13.06             6.9          21.4   \n",
       "3055                  5.50            16.2          27.7   \n",
       "49364                13.06             6.9          21.4   \n",
       "3056                  5.50            16.2          27.7   \n",
       "...                    ...             ...           ...   \n",
       "52540                 3.30             5.1          29.1   \n",
       "52939                 4.61             6.3          35.2   \n",
       "50790                 5.46             NaN           NaN   \n",
       "84963                 1.82             1.6          30.7   \n",
       "38087                 6.74            15.4          35.4   \n",
       "\n",
       "       handwashing_facilities  hospital_beds_per_thousand  life_expectancy  \\\n",
       "3054                      NaN                        5.00            76.67   \n",
       "49363                  87.847                        1.38            75.05   \n",
       "3055                      NaN                        5.00            76.67   \n",
       "49364                  87.847                        1.38            75.05   \n",
       "3056                      NaN                        5.00            76.67   \n",
       "...                       ...                         ...              ...   \n",
       "52540                  12.227                        0.70            60.85   \n",
       "52939                  79.287                        0.90            67.13   \n",
       "50790                     NaN                       13.80            86.75   \n",
       "84963                  36.791                        1.70            61.49   \n",
       "38087                     NaN                        2.99            82.97   \n",
       "\n",
       "       human_development_index  \n",
       "3054                     0.845  \n",
       "49363                    0.779  \n",
       "3055                     0.845  \n",
       "49364                    0.779  \n",
       "3056                     0.845  \n",
       "...                        ...  \n",
       "52540                    0.456  \n",
       "52939                    0.583  \n",
       "50790                      NaN  \n",
       "84963                    0.571  \n",
       "38087                    0.919  \n",
       "\n",
       "[80350 rows x 59 columns]"
      ],
      "text/html": "<div>\n<style scoped>\n    .dataframe tbody tr th:only-of-type {\n        vertical-align: middle;\n    }\n\n    .dataframe tbody tr th {\n        vertical-align: top;\n    }\n\n    .dataframe thead th {\n        text-align: right;\n    }\n</style>\n<table border=\"1\" class=\"dataframe\">\n  <thead>\n    <tr style=\"text-align: right;\">\n      <th></th>\n      <th>iso_code</th>\n      <th>continent</th>\n      <th>location</th>\n      <th>date</th>\n      <th>total_cases</th>\n      <th>new_cases</th>\n      <th>new_cases_smoothed</th>\n      <th>total_deaths</th>\n      <th>new_deaths</th>\n      <th>new_deaths_smoothed</th>\n      <th>...</th>\n      <th>gdp_per_capita</th>\n      <th>extreme_poverty</th>\n      <th>cardiovasc_death_rate</th>\n      <th>diabetes_prevalence</th>\n      <th>female_smokers</th>\n      <th>male_smokers</th>\n      <th>handwashing_facilities</th>\n      <th>hospital_beds_per_thousand</th>\n      <th>life_expectancy</th>\n      <th>human_development_index</th>\n    </tr>\n  </thead>\n  <tbody>\n    <tr>\n      <th>3054</th>\n      <td>ARG</td>\n      <td>South America</td>\n      <td>Argentina</td>\n      <td>2020-01-01</td>\n      <td>NaN</td>\n      <td>NaN</td>\n      <td>NaN</td>\n      <td>NaN</td>\n      <td>NaN</td>\n      <td>NaN</td>\n      <td>...</td>\n      <td>18933.907</td>\n      <td>0.6</td>\n      <td>191.032</td>\n      <td>5.50</td>\n      <td>16.2</td>\n      <td>27.7</td>\n      <td>NaN</td>\n      <td>5.00</td>\n      <td>76.67</td>\n      <td>0.845</td>\n    </tr>\n    <tr>\n      <th>49363</th>\n      <td>MEX</td>\n      <td>North America</td>\n      <td>Mexico</td>\n      <td>2020-01-01</td>\n      <td>NaN</td>\n      <td>NaN</td>\n      <td>NaN</td>\n      <td>NaN</td>\n      <td>NaN</td>\n      <td>NaN</td>\n      <td>...</td>\n      <td>17336.469</td>\n      <td>2.5</td>\n      <td>152.783</td>\n      <td>13.06</td>\n      <td>6.9</td>\n      <td>21.4</td>\n      <td>87.847</td>\n      <td>1.38</td>\n      <td>75.05</td>\n      <td>0.779</td>\n    </tr>\n    <tr>\n      <th>3055</th>\n      <td>ARG</td>\n      <td>South America</td>\n      <td>Argentina</td>\n      <td>2020-01-02</td>\n      <td>NaN</td>\n      <td>NaN</td>\n      <td>NaN</td>\n      <td>NaN</td>\n      <td>NaN</td>\n      <td>NaN</td>\n      <td>...</td>\n      <td>18933.907</td>\n      <td>0.6</td>\n      <td>191.032</td>\n      <td>5.50</td>\n      <td>16.2</td>\n      <td>27.7</td>\n      <td>NaN</td>\n      <td>5.00</td>\n      <td>76.67</td>\n      <td>0.845</td>\n    </tr>\n    <tr>\n      <th>49364</th>\n      <td>MEX</td>\n      <td>North America</td>\n      <td>Mexico</td>\n      <td>2020-01-02</td>\n      <td>NaN</td>\n      <td>NaN</td>\n      <td>NaN</td>\n      <td>NaN</td>\n      <td>NaN</td>\n      <td>NaN</td>\n      <td>...</td>\n      <td>17336.469</td>\n      <td>2.5</td>\n      <td>152.783</td>\n      <td>13.06</td>\n      <td>6.9</td>\n      <td>21.4</td>\n      <td>87.847</td>\n      <td>1.38</td>\n      <td>75.05</td>\n      <td>0.779</td>\n    </tr>\n    <tr>\n      <th>3056</th>\n      <td>ARG</td>\n      <td>South America</td>\n      <td>Argentina</td>\n      <td>2020-01-03</td>\n      <td>NaN</td>\n      <td>NaN</td>\n      <td>NaN</td>\n      <td>NaN</td>\n      <td>NaN</td>\n      <td>NaN</td>\n      <td>...</td>\n      <td>18933.907</td>\n      <td>0.6</td>\n      <td>191.032</td>\n      <td>5.50</td>\n      <td>16.2</td>\n      <td>27.7</td>\n      <td>NaN</td>\n      <td>5.00</td>\n      <td>76.67</td>\n      <td>0.845</td>\n    </tr>\n    <tr>\n      <th>...</th>\n      <td>...</td>\n      <td>...</td>\n      <td>...</td>\n      <td>...</td>\n      <td>...</td>\n      <td>...</td>\n      <td>...</td>\n      <td>...</td>\n      <td>...</td>\n      <td>...</td>\n      <td>...</td>\n      <td>...</td>\n      <td>...</td>\n      <td>...</td>\n      <td>...</td>\n      <td>...</td>\n      <td>...</td>\n      <td>...</td>\n      <td>...</td>\n      <td>...</td>\n      <td>...</td>\n    </tr>\n    <tr>\n      <th>52540</th>\n      <td>MOZ</td>\n      <td>Africa</td>\n      <td>Mozambique</td>\n      <td>2021-04-29</td>\n      <td>69864.0</td>\n      <td>60.0</td>\n      <td>48.714</td>\n      <td>814.0</td>\n      <td>0.0</td>\n      <td>1.286</td>\n      <td>...</td>\n      <td>1136.103</td>\n      <td>62.9</td>\n      <td>329.942</td>\n      <td>3.30</td>\n      <td>5.1</td>\n      <td>29.1</td>\n      <td>12.227</td>\n      <td>0.70</td>\n      <td>60.85</td>\n      <td>0.456</td>\n    </tr>\n    <tr>\n      <th>52939</th>\n      <td>MMR</td>\n      <td>Asia</td>\n      <td>Myanmar</td>\n      <td>2021-04-29</td>\n      <td>142800.0</td>\n      <td>10.0</td>\n      <td>18.000</td>\n      <td>3209.0</td>\n      <td>0.0</td>\n      <td>0.429</td>\n      <td>...</td>\n      <td>5591.597</td>\n      <td>6.4</td>\n      <td>202.104</td>\n      <td>4.61</td>\n      <td>6.3</td>\n      <td>35.2</td>\n      <td>79.287</td>\n      <td>0.90</td>\n      <td>67.13</td>\n      <td>0.583</td>\n    </tr>\n    <tr>\n      <th>50790</th>\n      <td>MCO</td>\n      <td>Europe</td>\n      <td>Monaco</td>\n      <td>2021-04-29</td>\n      <td>2452.0</td>\n      <td>5.0</td>\n      <td>4.143</td>\n      <td>32.0</td>\n      <td>0.0</td>\n      <td>0.143</td>\n      <td>...</td>\n      <td>NaN</td>\n      <td>NaN</td>\n      <td>NaN</td>\n      <td>5.46</td>\n      <td>NaN</td>\n      <td>NaN</td>\n      <td>NaN</td>\n      <td>13.80</td>\n      <td>86.75</td>\n      <td>NaN</td>\n    </tr>\n    <tr>\n      <th>84963</th>\n      <td>ZWE</td>\n      <td>Africa</td>\n      <td>Zimbabwe</td>\n      <td>2021-04-29</td>\n      <td>38235.0</td>\n      <td>44.0</td>\n      <td>31.000</td>\n      <td>1567.0</td>\n      <td>2.0</td>\n      <td>1.714</td>\n      <td>...</td>\n      <td>1899.775</td>\n      <td>21.4</td>\n      <td>307.846</td>\n      <td>1.82</td>\n      <td>1.6</td>\n      <td>30.7</td>\n      <td>36.791</td>\n      <td>1.70</td>\n      <td>61.49</td>\n      <td>0.571</td>\n    </tr>\n    <tr>\n      <th>38087</th>\n      <td>ISR</td>\n      <td>Asia</td>\n      <td>Israel</td>\n      <td>2021-04-30</td>\n      <td>NaN</td>\n      <td>NaN</td>\n      <td>NaN</td>\n      <td>NaN</td>\n      <td>NaN</td>\n      <td>NaN</td>\n      <td>...</td>\n      <td>33132.320</td>\n      <td>0.5</td>\n      <td>93.320</td>\n      <td>6.74</td>\n      <td>15.4</td>\n      <td>35.4</td>\n      <td>NaN</td>\n      <td>2.99</td>\n      <td>82.97</td>\n      <td>0.919</td>\n    </tr>\n  </tbody>\n</table>\n<p>80350 rows × 59 columns</p>\n</div>"
     },
     "metadata": {},
     "execution_count": 130
    }
   ],
   "source": [
    "country_df"
   ]
  },
  {
   "cell_type": "code",
   "execution_count": 131,
   "metadata": {},
   "outputs": [],
   "source": [
    "country_data_header = ['iso_code',\n",
    " 'continent',\n",
    " 'location',\n",
    " 'population',\n",
    " 'population_density',\n",
    " 'median_age',\n",
    " 'aged_65_older',\n",
    " 'aged_70_older',\n",
    " 'gdp_per_capita',\n",
    " 'extreme_poverty',\n",
    " 'cardiovasc_death_rate',\n",
    " 'diabetes_prevalence',\n",
    " 'female_smokers',\n",
    " 'male_smokers',\n",
    " 'handwashing_facilities',\n",
    " 'hospital_beds_per_thousand',\n",
    " 'life_expectancy',\n",
    " 'human_development_index']"
   ]
  },
  {
   "cell_type": "code",
   "execution_count": 132,
   "metadata": {},
   "outputs": [
    {
     "output_type": "execute_result",
     "data": {
      "text/plain": [
       "    iso_code continent                      location  population  \\\n",
       "0        QAT      Asia                         Qatar   2881060.0   \n",
       "1        MAC      Asia                         Macao    649342.0   \n",
       "2        LUX    Europe                    Luxembourg    625976.0   \n",
       "3        SGP      Asia                     Singapore   5850343.0   \n",
       "4        BRN      Asia                        Brunei    437483.0   \n",
       "..       ...       ...                           ...         ...   \n",
       "183      NER    Africa                         Niger  24206636.0   \n",
       "184      COD    Africa  Democratic Republic of Congo  89561404.0   \n",
       "185      LBR    Africa                       Liberia   5057677.0   \n",
       "186      BDI    Africa                       Burundi  11890781.0   \n",
       "187      CAF    Africa      Central African Republic   4829764.0   \n",
       "\n",
       "     population_density  median_age  aged_65_older  aged_70_older  \\\n",
       "0               227.322        31.9          1.307          0.617   \n",
       "1             20546.766        39.2          9.798          4.991   \n",
       "2               231.447        39.7         14.312          9.842   \n",
       "3              7915.731        42.4         12.922          7.049   \n",
       "4                81.347        32.4          4.591          2.382   \n",
       "..                  ...         ...            ...            ...   \n",
       "183              16.955        15.1          2.553          1.378   \n",
       "184              35.879        17.0          3.020          1.745   \n",
       "185              49.127        19.2          3.057          1.756   \n",
       "186             423.062        17.5          2.562          1.504   \n",
       "187               7.479        18.3          3.655          2.251   \n",
       "\n",
       "     gdp_per_capita  extreme_poverty  cardiovasc_death_rate  \\\n",
       "0        116935.600              NaN                176.690   \n",
       "1        104861.851              NaN                    NaN   \n",
       "2         94277.965              0.2                128.275   \n",
       "3         85535.383              NaN                 92.243   \n",
       "4         71809.251              NaN                201.285   \n",
       "..              ...              ...                    ...   \n",
       "183         926.000             44.5                238.339   \n",
       "184         808.133             77.1                318.949   \n",
       "185         752.788             38.6                272.509   \n",
       "186         702.225             71.7                293.068   \n",
       "187         661.240              NaN                435.727   \n",
       "\n",
       "     diabetes_prevalence  female_smokers  male_smokers  \\\n",
       "0                  16.52             0.8          26.9   \n",
       "1                    NaN             NaN           NaN   \n",
       "2                   4.42            20.9          26.0   \n",
       "3                  10.99             5.2          28.3   \n",
       "4                  12.79             2.0          30.9   \n",
       "..                   ...             ...           ...   \n",
       "183                 2.42             0.1          15.4   \n",
       "184                 6.10             NaN           NaN   \n",
       "185                 2.42             1.5          18.1   \n",
       "186                 6.05             NaN           NaN   \n",
       "187                 6.10             NaN           NaN   \n",
       "\n",
       "     handwashing_facilities  hospital_beds_per_thousand  life_expectancy  \\\n",
       "0                       NaN                        1.20            80.23   \n",
       "1                       NaN                         NaN            84.24   \n",
       "2                       NaN                        4.51            82.25   \n",
       "3                       NaN                        2.40            83.62   \n",
       "4                       NaN                        2.70            75.86   \n",
       "..                      ...                         ...              ...   \n",
       "183                   8.978                        0.30            62.42   \n",
       "184                   4.472                         NaN            60.68   \n",
       "185                   1.188                        0.80            64.10   \n",
       "186                   6.144                        0.80            61.58   \n",
       "187                  16.603                        1.00            53.28   \n",
       "\n",
       "     human_development_index  \n",
       "0                      0.848  \n",
       "1                        NaN  \n",
       "2                      0.916  \n",
       "3                      0.938  \n",
       "4                      0.838  \n",
       "..                       ...  \n",
       "183                    0.394  \n",
       "184                    0.480  \n",
       "185                    0.480  \n",
       "186                    0.433  \n",
       "187                    0.397  \n",
       "\n",
       "[188 rows x 18 columns]"
      ],
      "text/html": "<div>\n<style scoped>\n    .dataframe tbody tr th:only-of-type {\n        vertical-align: middle;\n    }\n\n    .dataframe tbody tr th {\n        vertical-align: top;\n    }\n\n    .dataframe thead th {\n        text-align: right;\n    }\n</style>\n<table border=\"1\" class=\"dataframe\">\n  <thead>\n    <tr style=\"text-align: right;\">\n      <th></th>\n      <th>iso_code</th>\n      <th>continent</th>\n      <th>location</th>\n      <th>population</th>\n      <th>population_density</th>\n      <th>median_age</th>\n      <th>aged_65_older</th>\n      <th>aged_70_older</th>\n      <th>gdp_per_capita</th>\n      <th>extreme_poverty</th>\n      <th>cardiovasc_death_rate</th>\n      <th>diabetes_prevalence</th>\n      <th>female_smokers</th>\n      <th>male_smokers</th>\n      <th>handwashing_facilities</th>\n      <th>hospital_beds_per_thousand</th>\n      <th>life_expectancy</th>\n      <th>human_development_index</th>\n    </tr>\n  </thead>\n  <tbody>\n    <tr>\n      <th>0</th>\n      <td>QAT</td>\n      <td>Asia</td>\n      <td>Qatar</td>\n      <td>2881060.0</td>\n      <td>227.322</td>\n      <td>31.9</td>\n      <td>1.307</td>\n      <td>0.617</td>\n      <td>116935.600</td>\n      <td>NaN</td>\n      <td>176.690</td>\n      <td>16.52</td>\n      <td>0.8</td>\n      <td>26.9</td>\n      <td>NaN</td>\n      <td>1.20</td>\n      <td>80.23</td>\n      <td>0.848</td>\n    </tr>\n    <tr>\n      <th>1</th>\n      <td>MAC</td>\n      <td>Asia</td>\n      <td>Macao</td>\n      <td>649342.0</td>\n      <td>20546.766</td>\n      <td>39.2</td>\n      <td>9.798</td>\n      <td>4.991</td>\n      <td>104861.851</td>\n      <td>NaN</td>\n      <td>NaN</td>\n      <td>NaN</td>\n      <td>NaN</td>\n      <td>NaN</td>\n      <td>NaN</td>\n      <td>NaN</td>\n      <td>84.24</td>\n      <td>NaN</td>\n    </tr>\n    <tr>\n      <th>2</th>\n      <td>LUX</td>\n      <td>Europe</td>\n      <td>Luxembourg</td>\n      <td>625976.0</td>\n      <td>231.447</td>\n      <td>39.7</td>\n      <td>14.312</td>\n      <td>9.842</td>\n      <td>94277.965</td>\n      <td>0.2</td>\n      <td>128.275</td>\n      <td>4.42</td>\n      <td>20.9</td>\n      <td>26.0</td>\n      <td>NaN</td>\n      <td>4.51</td>\n      <td>82.25</td>\n      <td>0.916</td>\n    </tr>\n    <tr>\n      <th>3</th>\n      <td>SGP</td>\n      <td>Asia</td>\n      <td>Singapore</td>\n      <td>5850343.0</td>\n      <td>7915.731</td>\n      <td>42.4</td>\n      <td>12.922</td>\n      <td>7.049</td>\n      <td>85535.383</td>\n      <td>NaN</td>\n      <td>92.243</td>\n      <td>10.99</td>\n      <td>5.2</td>\n      <td>28.3</td>\n      <td>NaN</td>\n      <td>2.40</td>\n      <td>83.62</td>\n      <td>0.938</td>\n    </tr>\n    <tr>\n      <th>4</th>\n      <td>BRN</td>\n      <td>Asia</td>\n      <td>Brunei</td>\n      <td>437483.0</td>\n      <td>81.347</td>\n      <td>32.4</td>\n      <td>4.591</td>\n      <td>2.382</td>\n      <td>71809.251</td>\n      <td>NaN</td>\n      <td>201.285</td>\n      <td>12.79</td>\n      <td>2.0</td>\n      <td>30.9</td>\n      <td>NaN</td>\n      <td>2.70</td>\n      <td>75.86</td>\n      <td>0.838</td>\n    </tr>\n    <tr>\n      <th>...</th>\n      <td>...</td>\n      <td>...</td>\n      <td>...</td>\n      <td>...</td>\n      <td>...</td>\n      <td>...</td>\n      <td>...</td>\n      <td>...</td>\n      <td>...</td>\n      <td>...</td>\n      <td>...</td>\n      <td>...</td>\n      <td>...</td>\n      <td>...</td>\n      <td>...</td>\n      <td>...</td>\n      <td>...</td>\n      <td>...</td>\n    </tr>\n    <tr>\n      <th>183</th>\n      <td>NER</td>\n      <td>Africa</td>\n      <td>Niger</td>\n      <td>24206636.0</td>\n      <td>16.955</td>\n      <td>15.1</td>\n      <td>2.553</td>\n      <td>1.378</td>\n      <td>926.000</td>\n      <td>44.5</td>\n      <td>238.339</td>\n      <td>2.42</td>\n      <td>0.1</td>\n      <td>15.4</td>\n      <td>8.978</td>\n      <td>0.30</td>\n      <td>62.42</td>\n      <td>0.394</td>\n    </tr>\n    <tr>\n      <th>184</th>\n      <td>COD</td>\n      <td>Africa</td>\n      <td>Democratic Republic of Congo</td>\n      <td>89561404.0</td>\n      <td>35.879</td>\n      <td>17.0</td>\n      <td>3.020</td>\n      <td>1.745</td>\n      <td>808.133</td>\n      <td>77.1</td>\n      <td>318.949</td>\n      <td>6.10</td>\n      <td>NaN</td>\n      <td>NaN</td>\n      <td>4.472</td>\n      <td>NaN</td>\n      <td>60.68</td>\n      <td>0.480</td>\n    </tr>\n    <tr>\n      <th>185</th>\n      <td>LBR</td>\n      <td>Africa</td>\n      <td>Liberia</td>\n      <td>5057677.0</td>\n      <td>49.127</td>\n      <td>19.2</td>\n      <td>3.057</td>\n      <td>1.756</td>\n      <td>752.788</td>\n      <td>38.6</td>\n      <td>272.509</td>\n      <td>2.42</td>\n      <td>1.5</td>\n      <td>18.1</td>\n      <td>1.188</td>\n      <td>0.80</td>\n      <td>64.10</td>\n      <td>0.480</td>\n    </tr>\n    <tr>\n      <th>186</th>\n      <td>BDI</td>\n      <td>Africa</td>\n      <td>Burundi</td>\n      <td>11890781.0</td>\n      <td>423.062</td>\n      <td>17.5</td>\n      <td>2.562</td>\n      <td>1.504</td>\n      <td>702.225</td>\n      <td>71.7</td>\n      <td>293.068</td>\n      <td>6.05</td>\n      <td>NaN</td>\n      <td>NaN</td>\n      <td>6.144</td>\n      <td>0.80</td>\n      <td>61.58</td>\n      <td>0.433</td>\n    </tr>\n    <tr>\n      <th>187</th>\n      <td>CAF</td>\n      <td>Africa</td>\n      <td>Central African Republic</td>\n      <td>4829764.0</td>\n      <td>7.479</td>\n      <td>18.3</td>\n      <td>3.655</td>\n      <td>2.251</td>\n      <td>661.240</td>\n      <td>NaN</td>\n      <td>435.727</td>\n      <td>6.10</td>\n      <td>NaN</td>\n      <td>NaN</td>\n      <td>16.603</td>\n      <td>1.00</td>\n      <td>53.28</td>\n      <td>0.397</td>\n    </tr>\n  </tbody>\n</table>\n<p>188 rows × 18 columns</p>\n</div>"
     },
     "metadata": {},
     "execution_count": 132
    }
   ],
   "source": [
    "country_data = country_df.drop_duplicates(subset = 'location')[country_data_header].sort_values('gdp_per_capita', ascending=False).reset_index(drop=True).dropna(subset=['gdp_per_capita'])\n",
    "\n",
    "country_data"
   ]
  },
  {
   "source": [
    "We now have a dataset with all our country specific data. To analyse this data by country gdp level we need to sort the dataset by gdp per capita and seperate it out into four sections; 1, 2, 3, 4 where 1 is the top perctile etc"
   ],
   "cell_type": "markdown",
   "metadata": {}
  },
  {
   "cell_type": "code",
   "execution_count": 133,
   "metadata": {},
   "outputs": [],
   "source": [
    "gdp_percentile_list = []\n",
    "number_of_countries = len(country_data)\n",
    "number_of_sections = 4\n",
    "section = 1\n",
    "for index, row in country_data.iterrows():\n",
    "    if index < (section/number_of_sections)*number_of_countries:\n",
    "        gdp_percentile_list.append(section)\n",
    "    else:\n",
    "        section += 1\n",
    "        gdp_percentile_list.append(section)"
   ]
  },
  {
   "cell_type": "code",
   "execution_count": 134,
   "metadata": {},
   "outputs": [
    {
     "output_type": "execute_result",
     "data": {
      "text/plain": [
       "    iso_code continent                      location  population  \\\n",
       "0        QAT      Asia                         Qatar   2881060.0   \n",
       "1        MAC      Asia                         Macao    649342.0   \n",
       "2        LUX    Europe                    Luxembourg    625976.0   \n",
       "3        SGP      Asia                     Singapore   5850343.0   \n",
       "4        BRN      Asia                        Brunei    437483.0   \n",
       "..       ...       ...                           ...         ...   \n",
       "183      NER    Africa                         Niger  24206636.0   \n",
       "184      COD    Africa  Democratic Republic of Congo  89561404.0   \n",
       "185      LBR    Africa                       Liberia   5057677.0   \n",
       "186      BDI    Africa                       Burundi  11890781.0   \n",
       "187      CAF    Africa      Central African Republic   4829764.0   \n",
       "\n",
       "     population_density  median_age  aged_65_older  aged_70_older  \\\n",
       "0               227.322        31.9          1.307          0.617   \n",
       "1             20546.766        39.2          9.798          4.991   \n",
       "2               231.447        39.7         14.312          9.842   \n",
       "3              7915.731        42.4         12.922          7.049   \n",
       "4                81.347        32.4          4.591          2.382   \n",
       "..                  ...         ...            ...            ...   \n",
       "183              16.955        15.1          2.553          1.378   \n",
       "184              35.879        17.0          3.020          1.745   \n",
       "185              49.127        19.2          3.057          1.756   \n",
       "186             423.062        17.5          2.562          1.504   \n",
       "187               7.479        18.3          3.655          2.251   \n",
       "\n",
       "     gdp_per_capita  extreme_poverty  cardiovasc_death_rate  \\\n",
       "0        116935.600              NaN                176.690   \n",
       "1        104861.851              NaN                    NaN   \n",
       "2         94277.965              0.2                128.275   \n",
       "3         85535.383              NaN                 92.243   \n",
       "4         71809.251              NaN                201.285   \n",
       "..              ...              ...                    ...   \n",
       "183         926.000             44.5                238.339   \n",
       "184         808.133             77.1                318.949   \n",
       "185         752.788             38.6                272.509   \n",
       "186         702.225             71.7                293.068   \n",
       "187         661.240              NaN                435.727   \n",
       "\n",
       "     diabetes_prevalence  female_smokers  male_smokers  \\\n",
       "0                  16.52             0.8          26.9   \n",
       "1                    NaN             NaN           NaN   \n",
       "2                   4.42            20.9          26.0   \n",
       "3                  10.99             5.2          28.3   \n",
       "4                  12.79             2.0          30.9   \n",
       "..                   ...             ...           ...   \n",
       "183                 2.42             0.1          15.4   \n",
       "184                 6.10             NaN           NaN   \n",
       "185                 2.42             1.5          18.1   \n",
       "186                 6.05             NaN           NaN   \n",
       "187                 6.10             NaN           NaN   \n",
       "\n",
       "     handwashing_facilities  hospital_beds_per_thousand  life_expectancy  \\\n",
       "0                       NaN                        1.20            80.23   \n",
       "1                       NaN                         NaN            84.24   \n",
       "2                       NaN                        4.51            82.25   \n",
       "3                       NaN                        2.40            83.62   \n",
       "4                       NaN                        2.70            75.86   \n",
       "..                      ...                         ...              ...   \n",
       "183                   8.978                        0.30            62.42   \n",
       "184                   4.472                         NaN            60.68   \n",
       "185                   1.188                        0.80            64.10   \n",
       "186                   6.144                        0.80            61.58   \n",
       "187                  16.603                        1.00            53.28   \n",
       "\n",
       "     human_development_index  gdp_per_cap_percentile  \n",
       "0                      0.848                       1  \n",
       "1                        NaN                       1  \n",
       "2                      0.916                       1  \n",
       "3                      0.938                       1  \n",
       "4                      0.838                       1  \n",
       "..                       ...                     ...  \n",
       "183                    0.394                       4  \n",
       "184                    0.480                       4  \n",
       "185                    0.480                       4  \n",
       "186                    0.433                       4  \n",
       "187                    0.397                       4  \n",
       "\n",
       "[188 rows x 19 columns]"
      ],
      "text/html": "<div>\n<style scoped>\n    .dataframe tbody tr th:only-of-type {\n        vertical-align: middle;\n    }\n\n    .dataframe tbody tr th {\n        vertical-align: top;\n    }\n\n    .dataframe thead th {\n        text-align: right;\n    }\n</style>\n<table border=\"1\" class=\"dataframe\">\n  <thead>\n    <tr style=\"text-align: right;\">\n      <th></th>\n      <th>iso_code</th>\n      <th>continent</th>\n      <th>location</th>\n      <th>population</th>\n      <th>population_density</th>\n      <th>median_age</th>\n      <th>aged_65_older</th>\n      <th>aged_70_older</th>\n      <th>gdp_per_capita</th>\n      <th>extreme_poverty</th>\n      <th>cardiovasc_death_rate</th>\n      <th>diabetes_prevalence</th>\n      <th>female_smokers</th>\n      <th>male_smokers</th>\n      <th>handwashing_facilities</th>\n      <th>hospital_beds_per_thousand</th>\n      <th>life_expectancy</th>\n      <th>human_development_index</th>\n      <th>gdp_per_cap_percentile</th>\n    </tr>\n  </thead>\n  <tbody>\n    <tr>\n      <th>0</th>\n      <td>QAT</td>\n      <td>Asia</td>\n      <td>Qatar</td>\n      <td>2881060.0</td>\n      <td>227.322</td>\n      <td>31.9</td>\n      <td>1.307</td>\n      <td>0.617</td>\n      <td>116935.600</td>\n      <td>NaN</td>\n      <td>176.690</td>\n      <td>16.52</td>\n      <td>0.8</td>\n      <td>26.9</td>\n      <td>NaN</td>\n      <td>1.20</td>\n      <td>80.23</td>\n      <td>0.848</td>\n      <td>1</td>\n    </tr>\n    <tr>\n      <th>1</th>\n      <td>MAC</td>\n      <td>Asia</td>\n      <td>Macao</td>\n      <td>649342.0</td>\n      <td>20546.766</td>\n      <td>39.2</td>\n      <td>9.798</td>\n      <td>4.991</td>\n      <td>104861.851</td>\n      <td>NaN</td>\n      <td>NaN</td>\n      <td>NaN</td>\n      <td>NaN</td>\n      <td>NaN</td>\n      <td>NaN</td>\n      <td>NaN</td>\n      <td>84.24</td>\n      <td>NaN</td>\n      <td>1</td>\n    </tr>\n    <tr>\n      <th>2</th>\n      <td>LUX</td>\n      <td>Europe</td>\n      <td>Luxembourg</td>\n      <td>625976.0</td>\n      <td>231.447</td>\n      <td>39.7</td>\n      <td>14.312</td>\n      <td>9.842</td>\n      <td>94277.965</td>\n      <td>0.2</td>\n      <td>128.275</td>\n      <td>4.42</td>\n      <td>20.9</td>\n      <td>26.0</td>\n      <td>NaN</td>\n      <td>4.51</td>\n      <td>82.25</td>\n      <td>0.916</td>\n      <td>1</td>\n    </tr>\n    <tr>\n      <th>3</th>\n      <td>SGP</td>\n      <td>Asia</td>\n      <td>Singapore</td>\n      <td>5850343.0</td>\n      <td>7915.731</td>\n      <td>42.4</td>\n      <td>12.922</td>\n      <td>7.049</td>\n      <td>85535.383</td>\n      <td>NaN</td>\n      <td>92.243</td>\n      <td>10.99</td>\n      <td>5.2</td>\n      <td>28.3</td>\n      <td>NaN</td>\n      <td>2.40</td>\n      <td>83.62</td>\n      <td>0.938</td>\n      <td>1</td>\n    </tr>\n    <tr>\n      <th>4</th>\n      <td>BRN</td>\n      <td>Asia</td>\n      <td>Brunei</td>\n      <td>437483.0</td>\n      <td>81.347</td>\n      <td>32.4</td>\n      <td>4.591</td>\n      <td>2.382</td>\n      <td>71809.251</td>\n      <td>NaN</td>\n      <td>201.285</td>\n      <td>12.79</td>\n      <td>2.0</td>\n      <td>30.9</td>\n      <td>NaN</td>\n      <td>2.70</td>\n      <td>75.86</td>\n      <td>0.838</td>\n      <td>1</td>\n    </tr>\n    <tr>\n      <th>...</th>\n      <td>...</td>\n      <td>...</td>\n      <td>...</td>\n      <td>...</td>\n      <td>...</td>\n      <td>...</td>\n      <td>...</td>\n      <td>...</td>\n      <td>...</td>\n      <td>...</td>\n      <td>...</td>\n      <td>...</td>\n      <td>...</td>\n      <td>...</td>\n      <td>...</td>\n      <td>...</td>\n      <td>...</td>\n      <td>...</td>\n      <td>...</td>\n    </tr>\n    <tr>\n      <th>183</th>\n      <td>NER</td>\n      <td>Africa</td>\n      <td>Niger</td>\n      <td>24206636.0</td>\n      <td>16.955</td>\n      <td>15.1</td>\n      <td>2.553</td>\n      <td>1.378</td>\n      <td>926.000</td>\n      <td>44.5</td>\n      <td>238.339</td>\n      <td>2.42</td>\n      <td>0.1</td>\n      <td>15.4</td>\n      <td>8.978</td>\n      <td>0.30</td>\n      <td>62.42</td>\n      <td>0.394</td>\n      <td>4</td>\n    </tr>\n    <tr>\n      <th>184</th>\n      <td>COD</td>\n      <td>Africa</td>\n      <td>Democratic Republic of Congo</td>\n      <td>89561404.0</td>\n      <td>35.879</td>\n      <td>17.0</td>\n      <td>3.020</td>\n      <td>1.745</td>\n      <td>808.133</td>\n      <td>77.1</td>\n      <td>318.949</td>\n      <td>6.10</td>\n      <td>NaN</td>\n      <td>NaN</td>\n      <td>4.472</td>\n      <td>NaN</td>\n      <td>60.68</td>\n      <td>0.480</td>\n      <td>4</td>\n    </tr>\n    <tr>\n      <th>185</th>\n      <td>LBR</td>\n      <td>Africa</td>\n      <td>Liberia</td>\n      <td>5057677.0</td>\n      <td>49.127</td>\n      <td>19.2</td>\n      <td>3.057</td>\n      <td>1.756</td>\n      <td>752.788</td>\n      <td>38.6</td>\n      <td>272.509</td>\n      <td>2.42</td>\n      <td>1.5</td>\n      <td>18.1</td>\n      <td>1.188</td>\n      <td>0.80</td>\n      <td>64.10</td>\n      <td>0.480</td>\n      <td>4</td>\n    </tr>\n    <tr>\n      <th>186</th>\n      <td>BDI</td>\n      <td>Africa</td>\n      <td>Burundi</td>\n      <td>11890781.0</td>\n      <td>423.062</td>\n      <td>17.5</td>\n      <td>2.562</td>\n      <td>1.504</td>\n      <td>702.225</td>\n      <td>71.7</td>\n      <td>293.068</td>\n      <td>6.05</td>\n      <td>NaN</td>\n      <td>NaN</td>\n      <td>6.144</td>\n      <td>0.80</td>\n      <td>61.58</td>\n      <td>0.433</td>\n      <td>4</td>\n    </tr>\n    <tr>\n      <th>187</th>\n      <td>CAF</td>\n      <td>Africa</td>\n      <td>Central African Republic</td>\n      <td>4829764.0</td>\n      <td>7.479</td>\n      <td>18.3</td>\n      <td>3.655</td>\n      <td>2.251</td>\n      <td>661.240</td>\n      <td>NaN</td>\n      <td>435.727</td>\n      <td>6.10</td>\n      <td>NaN</td>\n      <td>NaN</td>\n      <td>16.603</td>\n      <td>1.00</td>\n      <td>53.28</td>\n      <td>0.397</td>\n      <td>4</td>\n    </tr>\n  </tbody>\n</table>\n<p>188 rows × 19 columns</p>\n</div>"
     },
     "metadata": {},
     "execution_count": 134
    }
   ],
   "source": [
    "country_data['gdp_per_cap_percentile'] = gdp_percentile_list\n",
    "\n",
    "country_data"
   ]
  },
  {
   "cell_type": "code",
   "execution_count": 135,
   "metadata": {},
   "outputs": [],
   "source": [
    "country_data.to_csv('data/country_data.csv', index=False)"
   ]
  },
  {
   "source": [
    "Testing that worked okay. Each of the percentile sections should have the same number of countries in them"
   ],
   "cell_type": "markdown",
   "metadata": {}
  },
  {
   "cell_type": "code",
   "execution_count": 136,
   "metadata": {},
   "outputs": [
    {
     "output_type": "stream",
     "name": "stdout",
     "text": [
      "1 47\n2 47\n3 47\n4 47\n"
     ]
    }
   ],
   "source": [
    "for option in country_data['gdp_per_cap_percentile'].drop_duplicates():\n",
    "    print(option, len(country_data[country_data['gdp_per_cap_percentile'] == option]))"
   ]
  },
  {
   "source": [
    "Finally lets apply this back to the country df, which is the dataset with all the country specific coviid data"
   ],
   "cell_type": "markdown",
   "metadata": {}
  },
  {
   "cell_type": "code",
   "execution_count": 137,
   "metadata": {},
   "outputs": [],
   "source": [
    "gdp_percentile_dict = country_data.set_index('iso_code').to_dict('dict')['gdp_per_cap_percentile']"
   ]
  },
  {
   "cell_type": "code",
   "execution_count": 138,
   "metadata": {},
   "outputs": [],
   "source": [
    "def get_gdp_percentile(iso_code):\n",
    "    try: return int(round(gdp_percentile_dict[iso_code]))\n",
    "    except: return np.nan"
   ]
  },
  {
   "cell_type": "code",
   "execution_count": 139,
   "metadata": {},
   "outputs": [
    {
     "output_type": "stream",
     "name": "stderr",
     "text": [
      "ipykernel_launcher:1: SettingWithCopyWarning: \nA value is trying to be set on a copy of a slice from a DataFrame.\nTry using .loc[row_indexer,col_indexer] = value instead\n\nSee the caveats in the documentation: https://pandas.pydata.org/pandas-docs/stable/user_guide/indexing.html#returning-a-view-versus-a-copy\n"
     ]
    },
    {
     "output_type": "execute_result",
     "data": {
      "text/plain": [
       "      iso_code      continent    location       date  total_cases  new_cases  \\\n",
       "3054       ARG  South America   Argentina 2020-01-01          NaN        NaN   \n",
       "49363      MEX  North America      Mexico 2020-01-01          NaN        NaN   \n",
       "3055       ARG  South America   Argentina 2020-01-02          NaN        NaN   \n",
       "49364      MEX  North America      Mexico 2020-01-02          NaN        NaN   \n",
       "3056       ARG  South America   Argentina 2020-01-03          NaN        NaN   \n",
       "...        ...            ...         ...        ...          ...        ...   \n",
       "52540      MOZ         Africa  Mozambique 2021-04-29      69864.0       60.0   \n",
       "52939      MMR           Asia     Myanmar 2021-04-29     142800.0       10.0   \n",
       "50790      MCO         Europe      Monaco 2021-04-29       2452.0        5.0   \n",
       "84963      ZWE         Africa    Zimbabwe 2021-04-29      38235.0       44.0   \n",
       "38087      ISR           Asia      Israel 2021-04-30          NaN        NaN   \n",
       "\n",
       "       new_cases_smoothed  total_deaths  new_deaths  new_deaths_smoothed  ...  \\\n",
       "3054                  NaN           NaN         NaN                  NaN  ...   \n",
       "49363                 NaN           NaN         NaN                  NaN  ...   \n",
       "3055                  NaN           NaN         NaN                  NaN  ...   \n",
       "49364                 NaN           NaN         NaN                  NaN  ...   \n",
       "3056                  NaN           NaN         NaN                  NaN  ...   \n",
       "...                   ...           ...         ...                  ...  ...   \n",
       "52540              48.714         814.0         0.0                1.286  ...   \n",
       "52939              18.000        3209.0         0.0                0.429  ...   \n",
       "50790               4.143          32.0         0.0                0.143  ...   \n",
       "84963              31.000        1567.0         2.0                1.714  ...   \n",
       "38087                 NaN           NaN         NaN                  NaN  ...   \n",
       "\n",
       "       extreme_poverty  cardiovasc_death_rate  diabetes_prevalence  \\\n",
       "3054               0.6                191.032                 5.50   \n",
       "49363              2.5                152.783                13.06   \n",
       "3055               0.6                191.032                 5.50   \n",
       "49364              2.5                152.783                13.06   \n",
       "3056               0.6                191.032                 5.50   \n",
       "...                ...                    ...                  ...   \n",
       "52540             62.9                329.942                 3.30   \n",
       "52939              6.4                202.104                 4.61   \n",
       "50790              NaN                    NaN                 5.46   \n",
       "84963             21.4                307.846                 1.82   \n",
       "38087              0.5                 93.320                 6.74   \n",
       "\n",
       "       female_smokers  male_smokers  handwashing_facilities  \\\n",
       "3054             16.2          27.7                     NaN   \n",
       "49363             6.9          21.4                  87.847   \n",
       "3055             16.2          27.7                     NaN   \n",
       "49364             6.9          21.4                  87.847   \n",
       "3056             16.2          27.7                     NaN   \n",
       "...               ...           ...                     ...   \n",
       "52540             5.1          29.1                  12.227   \n",
       "52939             6.3          35.2                  79.287   \n",
       "50790             NaN           NaN                     NaN   \n",
       "84963             1.6          30.7                  36.791   \n",
       "38087            15.4          35.4                     NaN   \n",
       "\n",
       "       hospital_beds_per_thousand  life_expectancy  human_development_index  \\\n",
       "3054                         5.00            76.67                    0.845   \n",
       "49363                        1.38            75.05                    0.779   \n",
       "3055                         5.00            76.67                    0.845   \n",
       "49364                        1.38            75.05                    0.779   \n",
       "3056                         5.00            76.67                    0.845   \n",
       "...                           ...              ...                      ...   \n",
       "52540                        0.70            60.85                    0.456   \n",
       "52939                        0.90            67.13                    0.583   \n",
       "50790                       13.80            86.75                      NaN   \n",
       "84963                        1.70            61.49                    0.571   \n",
       "38087                        2.99            82.97                    0.919   \n",
       "\n",
       "       gdp_per_cap_percentile  \n",
       "3054                      2.0  \n",
       "49363                     2.0  \n",
       "3055                      2.0  \n",
       "49364                     2.0  \n",
       "3056                      2.0  \n",
       "...                       ...  \n",
       "52540                     4.0  \n",
       "52939                     3.0  \n",
       "50790                     NaN  \n",
       "84963                     4.0  \n",
       "38087                     1.0  \n",
       "\n",
       "[80350 rows x 60 columns]"
      ],
      "text/html": "<div>\n<style scoped>\n    .dataframe tbody tr th:only-of-type {\n        vertical-align: middle;\n    }\n\n    .dataframe tbody tr th {\n        vertical-align: top;\n    }\n\n    .dataframe thead th {\n        text-align: right;\n    }\n</style>\n<table border=\"1\" class=\"dataframe\">\n  <thead>\n    <tr style=\"text-align: right;\">\n      <th></th>\n      <th>iso_code</th>\n      <th>continent</th>\n      <th>location</th>\n      <th>date</th>\n      <th>total_cases</th>\n      <th>new_cases</th>\n      <th>new_cases_smoothed</th>\n      <th>total_deaths</th>\n      <th>new_deaths</th>\n      <th>new_deaths_smoothed</th>\n      <th>...</th>\n      <th>extreme_poverty</th>\n      <th>cardiovasc_death_rate</th>\n      <th>diabetes_prevalence</th>\n      <th>female_smokers</th>\n      <th>male_smokers</th>\n      <th>handwashing_facilities</th>\n      <th>hospital_beds_per_thousand</th>\n      <th>life_expectancy</th>\n      <th>human_development_index</th>\n      <th>gdp_per_cap_percentile</th>\n    </tr>\n  </thead>\n  <tbody>\n    <tr>\n      <th>3054</th>\n      <td>ARG</td>\n      <td>South America</td>\n      <td>Argentina</td>\n      <td>2020-01-01</td>\n      <td>NaN</td>\n      <td>NaN</td>\n      <td>NaN</td>\n      <td>NaN</td>\n      <td>NaN</td>\n      <td>NaN</td>\n      <td>...</td>\n      <td>0.6</td>\n      <td>191.032</td>\n      <td>5.50</td>\n      <td>16.2</td>\n      <td>27.7</td>\n      <td>NaN</td>\n      <td>5.00</td>\n      <td>76.67</td>\n      <td>0.845</td>\n      <td>2.0</td>\n    </tr>\n    <tr>\n      <th>49363</th>\n      <td>MEX</td>\n      <td>North America</td>\n      <td>Mexico</td>\n      <td>2020-01-01</td>\n      <td>NaN</td>\n      <td>NaN</td>\n      <td>NaN</td>\n      <td>NaN</td>\n      <td>NaN</td>\n      <td>NaN</td>\n      <td>...</td>\n      <td>2.5</td>\n      <td>152.783</td>\n      <td>13.06</td>\n      <td>6.9</td>\n      <td>21.4</td>\n      <td>87.847</td>\n      <td>1.38</td>\n      <td>75.05</td>\n      <td>0.779</td>\n      <td>2.0</td>\n    </tr>\n    <tr>\n      <th>3055</th>\n      <td>ARG</td>\n      <td>South America</td>\n      <td>Argentina</td>\n      <td>2020-01-02</td>\n      <td>NaN</td>\n      <td>NaN</td>\n      <td>NaN</td>\n      <td>NaN</td>\n      <td>NaN</td>\n      <td>NaN</td>\n      <td>...</td>\n      <td>0.6</td>\n      <td>191.032</td>\n      <td>5.50</td>\n      <td>16.2</td>\n      <td>27.7</td>\n      <td>NaN</td>\n      <td>5.00</td>\n      <td>76.67</td>\n      <td>0.845</td>\n      <td>2.0</td>\n    </tr>\n    <tr>\n      <th>49364</th>\n      <td>MEX</td>\n      <td>North America</td>\n      <td>Mexico</td>\n      <td>2020-01-02</td>\n      <td>NaN</td>\n      <td>NaN</td>\n      <td>NaN</td>\n      <td>NaN</td>\n      <td>NaN</td>\n      <td>NaN</td>\n      <td>...</td>\n      <td>2.5</td>\n      <td>152.783</td>\n      <td>13.06</td>\n      <td>6.9</td>\n      <td>21.4</td>\n      <td>87.847</td>\n      <td>1.38</td>\n      <td>75.05</td>\n      <td>0.779</td>\n      <td>2.0</td>\n    </tr>\n    <tr>\n      <th>3056</th>\n      <td>ARG</td>\n      <td>South America</td>\n      <td>Argentina</td>\n      <td>2020-01-03</td>\n      <td>NaN</td>\n      <td>NaN</td>\n      <td>NaN</td>\n      <td>NaN</td>\n      <td>NaN</td>\n      <td>NaN</td>\n      <td>...</td>\n      <td>0.6</td>\n      <td>191.032</td>\n      <td>5.50</td>\n      <td>16.2</td>\n      <td>27.7</td>\n      <td>NaN</td>\n      <td>5.00</td>\n      <td>76.67</td>\n      <td>0.845</td>\n      <td>2.0</td>\n    </tr>\n    <tr>\n      <th>...</th>\n      <td>...</td>\n      <td>...</td>\n      <td>...</td>\n      <td>...</td>\n      <td>...</td>\n      <td>...</td>\n      <td>...</td>\n      <td>...</td>\n      <td>...</td>\n      <td>...</td>\n      <td>...</td>\n      <td>...</td>\n      <td>...</td>\n      <td>...</td>\n      <td>...</td>\n      <td>...</td>\n      <td>...</td>\n      <td>...</td>\n      <td>...</td>\n      <td>...</td>\n      <td>...</td>\n    </tr>\n    <tr>\n      <th>52540</th>\n      <td>MOZ</td>\n      <td>Africa</td>\n      <td>Mozambique</td>\n      <td>2021-04-29</td>\n      <td>69864.0</td>\n      <td>60.0</td>\n      <td>48.714</td>\n      <td>814.0</td>\n      <td>0.0</td>\n      <td>1.286</td>\n      <td>...</td>\n      <td>62.9</td>\n      <td>329.942</td>\n      <td>3.30</td>\n      <td>5.1</td>\n      <td>29.1</td>\n      <td>12.227</td>\n      <td>0.70</td>\n      <td>60.85</td>\n      <td>0.456</td>\n      <td>4.0</td>\n    </tr>\n    <tr>\n      <th>52939</th>\n      <td>MMR</td>\n      <td>Asia</td>\n      <td>Myanmar</td>\n      <td>2021-04-29</td>\n      <td>142800.0</td>\n      <td>10.0</td>\n      <td>18.000</td>\n      <td>3209.0</td>\n      <td>0.0</td>\n      <td>0.429</td>\n      <td>...</td>\n      <td>6.4</td>\n      <td>202.104</td>\n      <td>4.61</td>\n      <td>6.3</td>\n      <td>35.2</td>\n      <td>79.287</td>\n      <td>0.90</td>\n      <td>67.13</td>\n      <td>0.583</td>\n      <td>3.0</td>\n    </tr>\n    <tr>\n      <th>50790</th>\n      <td>MCO</td>\n      <td>Europe</td>\n      <td>Monaco</td>\n      <td>2021-04-29</td>\n      <td>2452.0</td>\n      <td>5.0</td>\n      <td>4.143</td>\n      <td>32.0</td>\n      <td>0.0</td>\n      <td>0.143</td>\n      <td>...</td>\n      <td>NaN</td>\n      <td>NaN</td>\n      <td>5.46</td>\n      <td>NaN</td>\n      <td>NaN</td>\n      <td>NaN</td>\n      <td>13.80</td>\n      <td>86.75</td>\n      <td>NaN</td>\n      <td>NaN</td>\n    </tr>\n    <tr>\n      <th>84963</th>\n      <td>ZWE</td>\n      <td>Africa</td>\n      <td>Zimbabwe</td>\n      <td>2021-04-29</td>\n      <td>38235.0</td>\n      <td>44.0</td>\n      <td>31.000</td>\n      <td>1567.0</td>\n      <td>2.0</td>\n      <td>1.714</td>\n      <td>...</td>\n      <td>21.4</td>\n      <td>307.846</td>\n      <td>1.82</td>\n      <td>1.6</td>\n      <td>30.7</td>\n      <td>36.791</td>\n      <td>1.70</td>\n      <td>61.49</td>\n      <td>0.571</td>\n      <td>4.0</td>\n    </tr>\n    <tr>\n      <th>38087</th>\n      <td>ISR</td>\n      <td>Asia</td>\n      <td>Israel</td>\n      <td>2021-04-30</td>\n      <td>NaN</td>\n      <td>NaN</td>\n      <td>NaN</td>\n      <td>NaN</td>\n      <td>NaN</td>\n      <td>NaN</td>\n      <td>...</td>\n      <td>0.5</td>\n      <td>93.320</td>\n      <td>6.74</td>\n      <td>15.4</td>\n      <td>35.4</td>\n      <td>NaN</td>\n      <td>2.99</td>\n      <td>82.97</td>\n      <td>0.919</td>\n      <td>1.0</td>\n    </tr>\n  </tbody>\n</table>\n<p>80350 rows × 60 columns</p>\n</div>"
     },
     "metadata": {},
     "execution_count": 139
    }
   ],
   "source": [
    "country_df['gdp_per_cap_percentile'] = country_df['iso_code'].apply(get_gdp_percentile)\n",
    "\n",
    "country_df"
   ]
  },
  {
   "cell_type": "code",
   "execution_count": 140,
   "metadata": {},
   "outputs": [],
   "source": [
    "country_df.to_csv('data/country_covid_data.csv', index=False)"
   ]
  },
  {
   "source": [
    "## Aggregating covid data"
   ],
   "cell_type": "markdown",
   "metadata": {}
  },
  {
   "source": [
    "Finally we can look at the covid data by country gdp per capita percentile"
   ],
   "cell_type": "markdown",
   "metadata": {}
  },
  {
   "cell_type": "code",
   "execution_count": 145,
   "metadata": {},
   "outputs": [],
   "source": [
    "covid_fields = [\n",
    " 'total_cases',\n",
    " 'new_cases',\n",
    " 'new_cases_smoothed',\n",
    " 'total_deaths',\n",
    " 'new_deaths',\n",
    " 'new_deaths_smoothed',\n",
    " 'icu_patients',\n",
    " 'hosp_patients',\n",
    " 'weekly_icu_admissions',\n",
    " 'weekly_hosp_admissions',\n",
    " 'new_tests',\n",
    " 'total_tests',\n",
    " 'new_tests_smoothed',\n",
    " 'positive_rate',\n",
    "#  'tests_units',\n",
    " 'total_vaccinations',\n",
    " 'people_vaccinated',\n",
    " 'people_fully_vaccinated',\n",
    " 'new_vaccinations',\n",
    " 'new_vaccinations_smoothed',\n",
    "#  'population',\n",
    "#  'aged_65_older',\n",
    "#  'aged_70_older',\n",
    " ]"
   ]
  },
  {
   "cell_type": "code",
   "execution_count": 146,
   "metadata": {},
   "outputs": [],
   "source": [
    "percentile_options = list(country_df['gdp_per_cap_percentile'].drop_duplicates())\n",
    "\n",
    "dates = list(country_df['date'].drop_duplicates())"
   ]
  },
  {
   "cell_type": "code",
   "execution_count": 153,
   "metadata": {},
   "outputs": [],
   "source": [
    "def prep_numbers(value):\n",
    "    try: return float(value)\n",
    "    except: return np.nan"
   ]
  },
  {
   "cell_type": "code",
   "execution_count": 160,
   "metadata": {},
   "outputs": [
    {
     "output_type": "stream",
     "name": "stderr",
     "text": [
      "100%|██████████| 5/5 [01:18<00:00, 15.67s/it]\n"
     ]
    }
   ],
   "source": [
    "new_data = []\n",
    "new_header = ['gdp_per_cap_percentile', 'date'] + covid_fields\n",
    "for percentile_option in tqdm(percentile_options):\n",
    "    df_temp = country_df[country_df['gdp_per_cap_percentile'] == percentile_option]\n",
    "\n",
    "    for date in dates:\n",
    "        new_row = [percentile_option, date]\n",
    "        df_temp_date = df_temp[df_temp['date'] == date]\n",
    "\n",
    "        for field in covid_fields:\n",
    "            new_value = df_temp_date[field].apply(prep_numbers).dropna().sum()\n",
    "            new_row.append(new_value)\n",
    "\n",
    "        # if len(df_temp_date) == 47: \n",
    "        new_data.append(new_row)\n",
    "\n",
    "gdp_percentile_data = pd.DataFrame(new_data, columns = new_header)"
   ]
  },
  {
   "cell_type": "code",
   "execution_count": 161,
   "metadata": {},
   "outputs": [
    {
     "output_type": "execute_result",
     "data": {
      "text/plain": [
       "      gdp_per_cap_percentile       date  total_cases  new_cases  \\\n",
       "1458                     1.0 2020-01-01          0.0        0.0   \n",
       "1459                     1.0 2020-01-02          0.0        0.0   \n",
       "1460                     1.0 2020-01-03          0.0        0.0   \n",
       "1461                     1.0 2020-01-04          0.0        0.0   \n",
       "1462                     1.0 2020-01-05          0.0        0.0   \n",
       "...                      ...        ...          ...        ...   \n",
       "1939                     1.0 2021-04-26   66451508.0   130172.0   \n",
       "1940                     1.0 2021-04-27   66635182.0   183674.0   \n",
       "1941                     1.0 2021-04-28   66828797.0   193615.0   \n",
       "1942                     1.0 2021-04-29   67022797.0   194000.0   \n",
       "1943                     1.0 2021-04-30          0.0        0.0   \n",
       "\n",
       "      new_cases_smoothed  total_deaths  new_deaths  new_deaths_smoothed  \\\n",
       "1458               0.000           0.0         0.0                0.000   \n",
       "1459               0.000           0.0         0.0                0.000   \n",
       "1460               0.000           0.0         0.0                0.000   \n",
       "1461               0.000           0.0         0.0                0.000   \n",
       "1462               0.000           0.0         0.0                0.000   \n",
       "...                  ...           ...         ...                  ...   \n",
       "1939          181197.714     1292961.0      1986.0             2100.286   \n",
       "1940          177025.429     1295235.0      2274.0             2066.142   \n",
       "1941          173852.284     1297684.0      2449.0             2043.711   \n",
       "1942          169758.857     1300055.0      2371.0             2030.999   \n",
       "1943               0.000           0.0         0.0                0.000   \n",
       "\n",
       "      icu_patients  hosp_patients  ...  weekly_hosp_admissions  new_tests  \\\n",
       "1458           0.0            0.0  ...                     0.0        0.0   \n",
       "1459           0.0            0.0  ...                     0.0        0.0   \n",
       "1460           0.0            0.0  ...                     0.0        0.0   \n",
       "1461           0.0            0.0  ...                     0.0        0.0   \n",
       "1462           0.0            0.0  ...                     0.0        0.0   \n",
       "...            ...            ...  ...                     ...        ...   \n",
       "1939        1741.0         6244.0  ...                     0.0  3354661.0   \n",
       "1940        1724.0         6256.0  ...                     0.0  2973066.0   \n",
       "1941        1712.0         4623.0  ...                     0.0  2677807.0   \n",
       "1942        1527.0         4541.0  ...                     0.0  1117756.0   \n",
       "1943          68.0          179.0  ...                     0.0        0.0   \n",
       "\n",
       "      total_tests  new_tests_smoothed  positive_rate  total_vaccinations  \\\n",
       "1458          0.0                 0.0          0.000                 0.0   \n",
       "1459          0.0                 0.0          0.000                 0.0   \n",
       "1460          0.0                 0.0          0.000                 0.0   \n",
       "1461          0.0                 0.0          0.000                 0.0   \n",
       "1462          0.0                 0.0          0.000                 0.0   \n",
       "...           ...                 ...            ...                 ...   \n",
       "1939  859024804.0           4378780.0          1.522         434241716.0   \n",
       "1940  851401588.0           3854851.0          1.349         449267144.0   \n",
       "1941  409311545.0           2613186.0          1.316         453293411.0   \n",
       "1942  206243972.0            936665.0          0.777         365882835.0   \n",
       "1943          0.0                 0.0          0.000                 0.0   \n",
       "\n",
       "      people_vaccinated  people_fully_vaccinated  new_vaccinations  \\\n",
       "1458                0.0                      0.0               0.0   \n",
       "1459                0.0                      0.0               0.0   \n",
       "1460                0.0                      0.0               0.0   \n",
       "1461                0.0                      0.0               0.0   \n",
       "1462                0.0                      0.0               0.0   \n",
       "...                 ...                      ...               ...   \n",
       "1939        273153477.0              145133078.0         5266982.0   \n",
       "1940        279934855.0              147917254.0         5602969.0   \n",
       "1941        281715030.0              149708666.0         7025874.0   \n",
       "1942        223122223.0              127254245.0         5679976.0   \n",
       "1943                0.0                      0.0               0.0   \n",
       "\n",
       "      new_vaccinations_smoothed  \n",
       "1458                        0.0  \n",
       "1459                        0.0  \n",
       "1460                        0.0  \n",
       "1461                        0.0  \n",
       "1462                        0.0  \n",
       "...                         ...  \n",
       "1939                  6254104.0  \n",
       "1940                  6337949.0  \n",
       "1941                  6362007.0  \n",
       "1942                  4979875.0  \n",
       "1943                        0.0  \n",
       "\n",
       "[486 rows x 21 columns]"
      ],
      "text/html": "<div>\n<style scoped>\n    .dataframe tbody tr th:only-of-type {\n        vertical-align: middle;\n    }\n\n    .dataframe tbody tr th {\n        vertical-align: top;\n    }\n\n    .dataframe thead th {\n        text-align: right;\n    }\n</style>\n<table border=\"1\" class=\"dataframe\">\n  <thead>\n    <tr style=\"text-align: right;\">\n      <th></th>\n      <th>gdp_per_cap_percentile</th>\n      <th>date</th>\n      <th>total_cases</th>\n      <th>new_cases</th>\n      <th>new_cases_smoothed</th>\n      <th>total_deaths</th>\n      <th>new_deaths</th>\n      <th>new_deaths_smoothed</th>\n      <th>icu_patients</th>\n      <th>hosp_patients</th>\n      <th>...</th>\n      <th>weekly_hosp_admissions</th>\n      <th>new_tests</th>\n      <th>total_tests</th>\n      <th>new_tests_smoothed</th>\n      <th>positive_rate</th>\n      <th>total_vaccinations</th>\n      <th>people_vaccinated</th>\n      <th>people_fully_vaccinated</th>\n      <th>new_vaccinations</th>\n      <th>new_vaccinations_smoothed</th>\n    </tr>\n  </thead>\n  <tbody>\n    <tr>\n      <th>1458</th>\n      <td>1.0</td>\n      <td>2020-01-01</td>\n      <td>0.0</td>\n      <td>0.0</td>\n      <td>0.000</td>\n      <td>0.0</td>\n      <td>0.0</td>\n      <td>0.000</td>\n      <td>0.0</td>\n      <td>0.0</td>\n      <td>...</td>\n      <td>0.0</td>\n      <td>0.0</td>\n      <td>0.0</td>\n      <td>0.0</td>\n      <td>0.000</td>\n      <td>0.0</td>\n      <td>0.0</td>\n      <td>0.0</td>\n      <td>0.0</td>\n      <td>0.0</td>\n    </tr>\n    <tr>\n      <th>1459</th>\n      <td>1.0</td>\n      <td>2020-01-02</td>\n      <td>0.0</td>\n      <td>0.0</td>\n      <td>0.000</td>\n      <td>0.0</td>\n      <td>0.0</td>\n      <td>0.000</td>\n      <td>0.0</td>\n      <td>0.0</td>\n      <td>...</td>\n      <td>0.0</td>\n      <td>0.0</td>\n      <td>0.0</td>\n      <td>0.0</td>\n      <td>0.000</td>\n      <td>0.0</td>\n      <td>0.0</td>\n      <td>0.0</td>\n      <td>0.0</td>\n      <td>0.0</td>\n    </tr>\n    <tr>\n      <th>1460</th>\n      <td>1.0</td>\n      <td>2020-01-03</td>\n      <td>0.0</td>\n      <td>0.0</td>\n      <td>0.000</td>\n      <td>0.0</td>\n      <td>0.0</td>\n      <td>0.000</td>\n      <td>0.0</td>\n      <td>0.0</td>\n      <td>...</td>\n      <td>0.0</td>\n      <td>0.0</td>\n      <td>0.0</td>\n      <td>0.0</td>\n      <td>0.000</td>\n      <td>0.0</td>\n      <td>0.0</td>\n      <td>0.0</td>\n      <td>0.0</td>\n      <td>0.0</td>\n    </tr>\n    <tr>\n      <th>1461</th>\n      <td>1.0</td>\n      <td>2020-01-04</td>\n      <td>0.0</td>\n      <td>0.0</td>\n      <td>0.000</td>\n      <td>0.0</td>\n      <td>0.0</td>\n      <td>0.000</td>\n      <td>0.0</td>\n      <td>0.0</td>\n      <td>...</td>\n      <td>0.0</td>\n      <td>0.0</td>\n      <td>0.0</td>\n      <td>0.0</td>\n      <td>0.000</td>\n      <td>0.0</td>\n      <td>0.0</td>\n      <td>0.0</td>\n      <td>0.0</td>\n      <td>0.0</td>\n    </tr>\n    <tr>\n      <th>1462</th>\n      <td>1.0</td>\n      <td>2020-01-05</td>\n      <td>0.0</td>\n      <td>0.0</td>\n      <td>0.000</td>\n      <td>0.0</td>\n      <td>0.0</td>\n      <td>0.000</td>\n      <td>0.0</td>\n      <td>0.0</td>\n      <td>...</td>\n      <td>0.0</td>\n      <td>0.0</td>\n      <td>0.0</td>\n      <td>0.0</td>\n      <td>0.000</td>\n      <td>0.0</td>\n      <td>0.0</td>\n      <td>0.0</td>\n      <td>0.0</td>\n      <td>0.0</td>\n    </tr>\n    <tr>\n      <th>...</th>\n      <td>...</td>\n      <td>...</td>\n      <td>...</td>\n      <td>...</td>\n      <td>...</td>\n      <td>...</td>\n      <td>...</td>\n      <td>...</td>\n      <td>...</td>\n      <td>...</td>\n      <td>...</td>\n      <td>...</td>\n      <td>...</td>\n      <td>...</td>\n      <td>...</td>\n      <td>...</td>\n      <td>...</td>\n      <td>...</td>\n      <td>...</td>\n      <td>...</td>\n      <td>...</td>\n    </tr>\n    <tr>\n      <th>1939</th>\n      <td>1.0</td>\n      <td>2021-04-26</td>\n      <td>66451508.0</td>\n      <td>130172.0</td>\n      <td>181197.714</td>\n      <td>1292961.0</td>\n      <td>1986.0</td>\n      <td>2100.286</td>\n      <td>1741.0</td>\n      <td>6244.0</td>\n      <td>...</td>\n      <td>0.0</td>\n      <td>3354661.0</td>\n      <td>859024804.0</td>\n      <td>4378780.0</td>\n      <td>1.522</td>\n      <td>434241716.0</td>\n      <td>273153477.0</td>\n      <td>145133078.0</td>\n      <td>5266982.0</td>\n      <td>6254104.0</td>\n    </tr>\n    <tr>\n      <th>1940</th>\n      <td>1.0</td>\n      <td>2021-04-27</td>\n      <td>66635182.0</td>\n      <td>183674.0</td>\n      <td>177025.429</td>\n      <td>1295235.0</td>\n      <td>2274.0</td>\n      <td>2066.142</td>\n      <td>1724.0</td>\n      <td>6256.0</td>\n      <td>...</td>\n      <td>0.0</td>\n      <td>2973066.0</td>\n      <td>851401588.0</td>\n      <td>3854851.0</td>\n      <td>1.349</td>\n      <td>449267144.0</td>\n      <td>279934855.0</td>\n      <td>147917254.0</td>\n      <td>5602969.0</td>\n      <td>6337949.0</td>\n    </tr>\n    <tr>\n      <th>1941</th>\n      <td>1.0</td>\n      <td>2021-04-28</td>\n      <td>66828797.0</td>\n      <td>193615.0</td>\n      <td>173852.284</td>\n      <td>1297684.0</td>\n      <td>2449.0</td>\n      <td>2043.711</td>\n      <td>1712.0</td>\n      <td>4623.0</td>\n      <td>...</td>\n      <td>0.0</td>\n      <td>2677807.0</td>\n      <td>409311545.0</td>\n      <td>2613186.0</td>\n      <td>1.316</td>\n      <td>453293411.0</td>\n      <td>281715030.0</td>\n      <td>149708666.0</td>\n      <td>7025874.0</td>\n      <td>6362007.0</td>\n    </tr>\n    <tr>\n      <th>1942</th>\n      <td>1.0</td>\n      <td>2021-04-29</td>\n      <td>67022797.0</td>\n      <td>194000.0</td>\n      <td>169758.857</td>\n      <td>1300055.0</td>\n      <td>2371.0</td>\n      <td>2030.999</td>\n      <td>1527.0</td>\n      <td>4541.0</td>\n      <td>...</td>\n      <td>0.0</td>\n      <td>1117756.0</td>\n      <td>206243972.0</td>\n      <td>936665.0</td>\n      <td>0.777</td>\n      <td>365882835.0</td>\n      <td>223122223.0</td>\n      <td>127254245.0</td>\n      <td>5679976.0</td>\n      <td>4979875.0</td>\n    </tr>\n    <tr>\n      <th>1943</th>\n      <td>1.0</td>\n      <td>2021-04-30</td>\n      <td>0.0</td>\n      <td>0.0</td>\n      <td>0.000</td>\n      <td>0.0</td>\n      <td>0.0</td>\n      <td>0.000</td>\n      <td>68.0</td>\n      <td>179.0</td>\n      <td>...</td>\n      <td>0.0</td>\n      <td>0.0</td>\n      <td>0.0</td>\n      <td>0.0</td>\n      <td>0.000</td>\n      <td>0.0</td>\n      <td>0.0</td>\n      <td>0.0</td>\n      <td>0.0</td>\n      <td>0.0</td>\n    </tr>\n  </tbody>\n</table>\n<p>486 rows × 21 columns</p>\n</div>"
     },
     "metadata": {},
     "execution_count": 161
    }
   ],
   "source": [
    "gdp_percentile_data[gdp_percentile_data['gdp_per_cap_percentile'] == 1]"
   ]
  },
  {
   "cell_type": "code",
   "execution_count": 164,
   "metadata": {},
   "outputs": [],
   "source": [
    "gdp_percentile_data.to_csv('data/gdp_percentile_data.csv', index=False)"
   ]
  },
  {
   "cell_type": "code",
   "execution_count": null,
   "metadata": {},
   "outputs": [],
   "source": []
  }
 ],
 "metadata": {
  "kernelspec": {
   "name": "python374jvsc74a57bd05e98c824ef30c57fed549efa009181d056e304fc9dac7ebd3cb5f873eb313ade",
   "display_name": "Python 3.7.4 64-bit ('my_environment': conda)"
  },
  "language_info": {
   "codemirror_mode": {
    "name": "ipython",
    "version": 3
   },
   "file_extension": ".py",
   "mimetype": "text/x-python",
   "name": "python",
   "nbconvert_exporter": "python",
   "pygments_lexer": "ipython3",
   "version": "3.7.4"
  }
 },
 "nbformat": 4,
 "nbformat_minor": 4
}