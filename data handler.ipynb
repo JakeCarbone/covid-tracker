{
 "cells": [
  {
   "cell_type": "markdown",
   "metadata": {},
   "source": [
    "# Exploring Our World in Data  COVID-19 data"
   ]
  },
  {
   "cell_type": "markdown",
   "metadata": {},
   "source": [
    "Imports"
   ]
  },
  {
   "cell_type": "code",
   "execution_count": 97,
   "metadata": {},
   "outputs": [],
   "source": [
    "import pandas as pd\n",
    "import numpy as np\n",
    "from tqdm import tqdm"
   ]
  },
  {
   "cell_type": "code",
   "execution_count": 98,
   "metadata": {},
   "outputs": [],
   "source": [
    "import datetime\n"
   ]
  },
  {
   "source": [
    "To seperate out the countries in this data we need country iso-3 codes. There is a data set of this all [here](https://www.iban.com/country-codes). Luckily we can download the data in one line of code with pandas' read_html function."
   ],
   "cell_type": "markdown",
   "metadata": {}
  },
  {
   "cell_type": "code",
   "execution_count": 99,
   "metadata": {},
   "outputs": [],
   "source": [
    "# country_codes = pd.read_html('https://www.iban.com/country-codes')[0]\n",
    "\n",
    "# As I have already downloaded and saved the data I can now just load it in with this code\n",
    "country_codes = pd.read_csv('data/country_codes.csv')"
   ]
  },
  {
   "cell_type": "code",
   "execution_count": 100,
   "metadata": {},
   "outputs": [
    {
     "output_type": "execute_result",
     "data": {
      "text/plain": [
       "               Country Alpha-2 code Alpha-3 code  Numeric\n",
       "0          Afghanistan           AF          AFG        4\n",
       "1        Åland Islands           AX          ALA      248\n",
       "2              Albania           AL          ALB        8\n",
       "3              Algeria           DZ          DZA       12\n",
       "4       American Samoa           AS          ASM       16\n",
       "..                 ...          ...          ...      ...\n",
       "244  Wallis and Futuna           WF          WLF      876\n",
       "245     Western Sahara           EH          ESH      732\n",
       "246              Yemen           YE          YEM      887\n",
       "247             Zambia           ZM          ZMB      894\n",
       "248           Zimbabwe           ZW          ZWE      716\n",
       "\n",
       "[249 rows x 4 columns]"
      ],
      "text/html": "<div>\n<style scoped>\n    .dataframe tbody tr th:only-of-type {\n        vertical-align: middle;\n    }\n\n    .dataframe tbody tr th {\n        vertical-align: top;\n    }\n\n    .dataframe thead th {\n        text-align: right;\n    }\n</style>\n<table border=\"1\" class=\"dataframe\">\n  <thead>\n    <tr style=\"text-align: right;\">\n      <th></th>\n      <th>Country</th>\n      <th>Alpha-2 code</th>\n      <th>Alpha-3 code</th>\n      <th>Numeric</th>\n    </tr>\n  </thead>\n  <tbody>\n    <tr>\n      <th>0</th>\n      <td>Afghanistan</td>\n      <td>AF</td>\n      <td>AFG</td>\n      <td>4</td>\n    </tr>\n    <tr>\n      <th>1</th>\n      <td>Åland Islands</td>\n      <td>AX</td>\n      <td>ALA</td>\n      <td>248</td>\n    </tr>\n    <tr>\n      <th>2</th>\n      <td>Albania</td>\n      <td>AL</td>\n      <td>ALB</td>\n      <td>8</td>\n    </tr>\n    <tr>\n      <th>3</th>\n      <td>Algeria</td>\n      <td>DZ</td>\n      <td>DZA</td>\n      <td>12</td>\n    </tr>\n    <tr>\n      <th>4</th>\n      <td>American Samoa</td>\n      <td>AS</td>\n      <td>ASM</td>\n      <td>16</td>\n    </tr>\n    <tr>\n      <th>...</th>\n      <td>...</td>\n      <td>...</td>\n      <td>...</td>\n      <td>...</td>\n    </tr>\n    <tr>\n      <th>244</th>\n      <td>Wallis and Futuna</td>\n      <td>WF</td>\n      <td>WLF</td>\n      <td>876</td>\n    </tr>\n    <tr>\n      <th>245</th>\n      <td>Western Sahara</td>\n      <td>EH</td>\n      <td>ESH</td>\n      <td>732</td>\n    </tr>\n    <tr>\n      <th>246</th>\n      <td>Yemen</td>\n      <td>YE</td>\n      <td>YEM</td>\n      <td>887</td>\n    </tr>\n    <tr>\n      <th>247</th>\n      <td>Zambia</td>\n      <td>ZM</td>\n      <td>ZMB</td>\n      <td>894</td>\n    </tr>\n    <tr>\n      <th>248</th>\n      <td>Zimbabwe</td>\n      <td>ZW</td>\n      <td>ZWE</td>\n      <td>716</td>\n    </tr>\n  </tbody>\n</table>\n<p>249 rows × 4 columns</p>\n</div>"
     },
     "metadata": {},
     "execution_count": 100
    }
   ],
   "source": [
    "country_codes"
   ]
  },
  {
   "source": [
    "Lets save this for future use and incase the website ever goes down."
   ],
   "cell_type": "markdown",
   "metadata": {}
  },
  {
   "cell_type": "code",
   "execution_count": 101,
   "metadata": {},
   "outputs": [],
   "source": [
    "country_codes.to_csv('data/country_codes.csv', index=False)"
   ]
  },
  {
   "cell_type": "markdown",
   "metadata": {},
   "source": [
    "Using the github download link we can pull the latest OWID COVID data straight from github"
   ]
  },
  {
   "cell_type": "code",
   "execution_count": 102,
   "metadata": {},
   "outputs": [
    {
     "output_type": "execute_result",
     "data": {
      "text/plain": [
       "      iso_code continent     location        date  total_cases  new_cases  \\\n",
       "0          AFG      Asia  Afghanistan  2020-02-24          1.0        1.0   \n",
       "1          AFG      Asia  Afghanistan  2020-02-25          1.0        0.0   \n",
       "2          AFG      Asia  Afghanistan  2020-02-26          1.0        0.0   \n",
       "3          AFG      Asia  Afghanistan  2020-02-27          1.0        0.0   \n",
       "4          AFG      Asia  Afghanistan  2020-02-28          1.0        0.0   \n",
       "...        ...       ...          ...         ...          ...        ...   \n",
       "95473      ZWE    Africa     Zimbabwe  2021-06-09      39432.0      111.0   \n",
       "95474      ZWE    Africa     Zimbabwe  2021-06-10      39496.0       64.0   \n",
       "95475      ZWE    Africa     Zimbabwe  2021-06-11      39688.0      192.0   \n",
       "95476      ZWE    Africa     Zimbabwe  2021-06-12      39852.0      164.0   \n",
       "95477      ZWE    Africa     Zimbabwe  2021-06-13      39959.0      107.0   \n",
       "\n",
       "       new_cases_smoothed  total_deaths  new_deaths  new_deaths_smoothed  ...  \\\n",
       "0                     NaN           NaN         NaN                  NaN  ...   \n",
       "1                     NaN           NaN         NaN                  NaN  ...   \n",
       "2                     NaN           NaN         NaN                  NaN  ...   \n",
       "3                     NaN           NaN         NaN                  NaN  ...   \n",
       "4                     NaN           NaN         NaN                  NaN  ...   \n",
       "...                   ...           ...         ...                  ...  ...   \n",
       "95473              57.286        1622.0         5.0                3.286  ...   \n",
       "95474              57.714        1626.0         4.0                3.143  ...   \n",
       "95475              77.714        1629.0         3.0                3.429  ...   \n",
       "95476              97.714        1632.0         3.0                3.857  ...   \n",
       "95477             110.000        1632.0         0.0                3.714  ...   \n",
       "\n",
       "       extreme_poverty  cardiovasc_death_rate  diabetes_prevalence  \\\n",
       "0                  NaN                597.029                 9.59   \n",
       "1                  NaN                597.029                 9.59   \n",
       "2                  NaN                597.029                 9.59   \n",
       "3                  NaN                597.029                 9.59   \n",
       "4                  NaN                597.029                 9.59   \n",
       "...                ...                    ...                  ...   \n",
       "95473             21.4                307.846                 1.82   \n",
       "95474             21.4                307.846                 1.82   \n",
       "95475             21.4                307.846                 1.82   \n",
       "95476             21.4                307.846                 1.82   \n",
       "95477             21.4                307.846                 1.82   \n",
       "\n",
       "       female_smokers  male_smokers  handwashing_facilities  \\\n",
       "0                 NaN           NaN                  37.746   \n",
       "1                 NaN           NaN                  37.746   \n",
       "2                 NaN           NaN                  37.746   \n",
       "3                 NaN           NaN                  37.746   \n",
       "4                 NaN           NaN                  37.746   \n",
       "...               ...           ...                     ...   \n",
       "95473             1.6          30.7                  36.791   \n",
       "95474             1.6          30.7                  36.791   \n",
       "95475             1.6          30.7                  36.791   \n",
       "95476             1.6          30.7                  36.791   \n",
       "95477             1.6          30.7                  36.791   \n",
       "\n",
       "       hospital_beds_per_thousand  life_expectancy  human_development_index  \\\n",
       "0                             0.5            64.83                    0.511   \n",
       "1                             0.5            64.83                    0.511   \n",
       "2                             0.5            64.83                    0.511   \n",
       "3                             0.5            64.83                    0.511   \n",
       "4                             0.5            64.83                    0.511   \n",
       "...                           ...              ...                      ...   \n",
       "95473                         1.7            61.49                    0.571   \n",
       "95474                         1.7            61.49                    0.571   \n",
       "95475                         1.7            61.49                    0.571   \n",
       "95476                         1.7            61.49                    0.571   \n",
       "95477                         1.7            61.49                    0.571   \n",
       "\n",
       "       excess_mortality  \n",
       "0                   NaN  \n",
       "1                   NaN  \n",
       "2                   NaN  \n",
       "3                   NaN  \n",
       "4                   NaN  \n",
       "...                 ...  \n",
       "95473               NaN  \n",
       "95474               NaN  \n",
       "95475               NaN  \n",
       "95476               NaN  \n",
       "95477               NaN  \n",
       "\n",
       "[95478 rows x 60 columns]"
      ],
      "text/html": "<div>\n<style scoped>\n    .dataframe tbody tr th:only-of-type {\n        vertical-align: middle;\n    }\n\n    .dataframe tbody tr th {\n        vertical-align: top;\n    }\n\n    .dataframe thead th {\n        text-align: right;\n    }\n</style>\n<table border=\"1\" class=\"dataframe\">\n  <thead>\n    <tr style=\"text-align: right;\">\n      <th></th>\n      <th>iso_code</th>\n      <th>continent</th>\n      <th>location</th>\n      <th>date</th>\n      <th>total_cases</th>\n      <th>new_cases</th>\n      <th>new_cases_smoothed</th>\n      <th>total_deaths</th>\n      <th>new_deaths</th>\n      <th>new_deaths_smoothed</th>\n      <th>...</th>\n      <th>extreme_poverty</th>\n      <th>cardiovasc_death_rate</th>\n      <th>diabetes_prevalence</th>\n      <th>female_smokers</th>\n      <th>male_smokers</th>\n      <th>handwashing_facilities</th>\n      <th>hospital_beds_per_thousand</th>\n      <th>life_expectancy</th>\n      <th>human_development_index</th>\n      <th>excess_mortality</th>\n    </tr>\n  </thead>\n  <tbody>\n    <tr>\n      <th>0</th>\n      <td>AFG</td>\n      <td>Asia</td>\n      <td>Afghanistan</td>\n      <td>2020-02-24</td>\n      <td>1.0</td>\n      <td>1.0</td>\n      <td>NaN</td>\n      <td>NaN</td>\n      <td>NaN</td>\n      <td>NaN</td>\n      <td>...</td>\n      <td>NaN</td>\n      <td>597.029</td>\n      <td>9.59</td>\n      <td>NaN</td>\n      <td>NaN</td>\n      <td>37.746</td>\n      <td>0.5</td>\n      <td>64.83</td>\n      <td>0.511</td>\n      <td>NaN</td>\n    </tr>\n    <tr>\n      <th>1</th>\n      <td>AFG</td>\n      <td>Asia</td>\n      <td>Afghanistan</td>\n      <td>2020-02-25</td>\n      <td>1.0</td>\n      <td>0.0</td>\n      <td>NaN</td>\n      <td>NaN</td>\n      <td>NaN</td>\n      <td>NaN</td>\n      <td>...</td>\n      <td>NaN</td>\n      <td>597.029</td>\n      <td>9.59</td>\n      <td>NaN</td>\n      <td>NaN</td>\n      <td>37.746</td>\n      <td>0.5</td>\n      <td>64.83</td>\n      <td>0.511</td>\n      <td>NaN</td>\n    </tr>\n    <tr>\n      <th>2</th>\n      <td>AFG</td>\n      <td>Asia</td>\n      <td>Afghanistan</td>\n      <td>2020-02-26</td>\n      <td>1.0</td>\n      <td>0.0</td>\n      <td>NaN</td>\n      <td>NaN</td>\n      <td>NaN</td>\n      <td>NaN</td>\n      <td>...</td>\n      <td>NaN</td>\n      <td>597.029</td>\n      <td>9.59</td>\n      <td>NaN</td>\n      <td>NaN</td>\n      <td>37.746</td>\n      <td>0.5</td>\n      <td>64.83</td>\n      <td>0.511</td>\n      <td>NaN</td>\n    </tr>\n    <tr>\n      <th>3</th>\n      <td>AFG</td>\n      <td>Asia</td>\n      <td>Afghanistan</td>\n      <td>2020-02-27</td>\n      <td>1.0</td>\n      <td>0.0</td>\n      <td>NaN</td>\n      <td>NaN</td>\n      <td>NaN</td>\n      <td>NaN</td>\n      <td>...</td>\n      <td>NaN</td>\n      <td>597.029</td>\n      <td>9.59</td>\n      <td>NaN</td>\n      <td>NaN</td>\n      <td>37.746</td>\n      <td>0.5</td>\n      <td>64.83</td>\n      <td>0.511</td>\n      <td>NaN</td>\n    </tr>\n    <tr>\n      <th>4</th>\n      <td>AFG</td>\n      <td>Asia</td>\n      <td>Afghanistan</td>\n      <td>2020-02-28</td>\n      <td>1.0</td>\n      <td>0.0</td>\n      <td>NaN</td>\n      <td>NaN</td>\n      <td>NaN</td>\n      <td>NaN</td>\n      <td>...</td>\n      <td>NaN</td>\n      <td>597.029</td>\n      <td>9.59</td>\n      <td>NaN</td>\n      <td>NaN</td>\n      <td>37.746</td>\n      <td>0.5</td>\n      <td>64.83</td>\n      <td>0.511</td>\n      <td>NaN</td>\n    </tr>\n    <tr>\n      <th>...</th>\n      <td>...</td>\n      <td>...</td>\n      <td>...</td>\n      <td>...</td>\n      <td>...</td>\n      <td>...</td>\n      <td>...</td>\n      <td>...</td>\n      <td>...</td>\n      <td>...</td>\n      <td>...</td>\n      <td>...</td>\n      <td>...</td>\n      <td>...</td>\n      <td>...</td>\n      <td>...</td>\n      <td>...</td>\n      <td>...</td>\n      <td>...</td>\n      <td>...</td>\n      <td>...</td>\n    </tr>\n    <tr>\n      <th>95473</th>\n      <td>ZWE</td>\n      <td>Africa</td>\n      <td>Zimbabwe</td>\n      <td>2021-06-09</td>\n      <td>39432.0</td>\n      <td>111.0</td>\n      <td>57.286</td>\n      <td>1622.0</td>\n      <td>5.0</td>\n      <td>3.286</td>\n      <td>...</td>\n      <td>21.4</td>\n      <td>307.846</td>\n      <td>1.82</td>\n      <td>1.6</td>\n      <td>30.7</td>\n      <td>36.791</td>\n      <td>1.7</td>\n      <td>61.49</td>\n      <td>0.571</td>\n      <td>NaN</td>\n    </tr>\n    <tr>\n      <th>95474</th>\n      <td>ZWE</td>\n      <td>Africa</td>\n      <td>Zimbabwe</td>\n      <td>2021-06-10</td>\n      <td>39496.0</td>\n      <td>64.0</td>\n      <td>57.714</td>\n      <td>1626.0</td>\n      <td>4.0</td>\n      <td>3.143</td>\n      <td>...</td>\n      <td>21.4</td>\n      <td>307.846</td>\n      <td>1.82</td>\n      <td>1.6</td>\n      <td>30.7</td>\n      <td>36.791</td>\n      <td>1.7</td>\n      <td>61.49</td>\n      <td>0.571</td>\n      <td>NaN</td>\n    </tr>\n    <tr>\n      <th>95475</th>\n      <td>ZWE</td>\n      <td>Africa</td>\n      <td>Zimbabwe</td>\n      <td>2021-06-11</td>\n      <td>39688.0</td>\n      <td>192.0</td>\n      <td>77.714</td>\n      <td>1629.0</td>\n      <td>3.0</td>\n      <td>3.429</td>\n      <td>...</td>\n      <td>21.4</td>\n      <td>307.846</td>\n      <td>1.82</td>\n      <td>1.6</td>\n      <td>30.7</td>\n      <td>36.791</td>\n      <td>1.7</td>\n      <td>61.49</td>\n      <td>0.571</td>\n      <td>NaN</td>\n    </tr>\n    <tr>\n      <th>95476</th>\n      <td>ZWE</td>\n      <td>Africa</td>\n      <td>Zimbabwe</td>\n      <td>2021-06-12</td>\n      <td>39852.0</td>\n      <td>164.0</td>\n      <td>97.714</td>\n      <td>1632.0</td>\n      <td>3.0</td>\n      <td>3.857</td>\n      <td>...</td>\n      <td>21.4</td>\n      <td>307.846</td>\n      <td>1.82</td>\n      <td>1.6</td>\n      <td>30.7</td>\n      <td>36.791</td>\n      <td>1.7</td>\n      <td>61.49</td>\n      <td>0.571</td>\n      <td>NaN</td>\n    </tr>\n    <tr>\n      <th>95477</th>\n      <td>ZWE</td>\n      <td>Africa</td>\n      <td>Zimbabwe</td>\n      <td>2021-06-13</td>\n      <td>39959.0</td>\n      <td>107.0</td>\n      <td>110.000</td>\n      <td>1632.0</td>\n      <td>0.0</td>\n      <td>3.714</td>\n      <td>...</td>\n      <td>21.4</td>\n      <td>307.846</td>\n      <td>1.82</td>\n      <td>1.6</td>\n      <td>30.7</td>\n      <td>36.791</td>\n      <td>1.7</td>\n      <td>61.49</td>\n      <td>0.571</td>\n      <td>NaN</td>\n    </tr>\n  </tbody>\n</table>\n<p>95478 rows × 60 columns</p>\n</div>"
     },
     "metadata": {},
     "execution_count": 102
    }
   ],
   "source": [
    "data_link = 'https://github.com/owid/covid-19-data/raw/master/public/data/owid-covid-data.csv'\n",
    "\n",
    "df = pd.read_csv(data_link)\n",
    "\n",
    "df"
   ]
  },
  {
   "cell_type": "code",
   "execution_count": 103,
   "metadata": {},
   "outputs": [],
   "source": [
    "def interpret_date(value):\n",
    "    year, month, day = value.split('-')\n",
    "\n",
    "    return datetime.date(int(year), int(month), int(day))"
   ]
  },
  {
   "cell_type": "code",
   "execution_count": 104,
   "metadata": {},
   "outputs": [],
   "source": [
    "df['date'] = df['date'].apply(interpret_date)\n",
    "\n",
    "df = df.sort_values('date')"
   ]
  },
  {
   "cell_type": "code",
   "execution_count": 105,
   "metadata": {},
   "outputs": [
    {
     "output_type": "execute_result",
     "data": {
      "text/plain": [
       "      iso_code      continent              location        date  total_cases  \\\n",
       "55550      MEX  North America                Mexico  2020-01-01          NaN   \n",
       "3412       ARG  South America             Argentina  2020-01-01          NaN   \n",
       "3413       ARG  South America             Argentina  2020-01-02          NaN   \n",
       "55551      MEX  North America                Mexico  2020-01-02          NaN   \n",
       "3414       ARG  South America             Argentina  2020-01-03          NaN   \n",
       "...        ...            ...                   ...         ...          ...   \n",
       "38026      HND  North America              Honduras  2021-06-13     247728.0   \n",
       "89987      ARE           Asia  United Arab Emirates  2021-06-13     597986.0   \n",
       "37566      HTI  North America                 Haiti  2021-06-13      16079.0   \n",
       "39976      IND           Asia                 India  2021-06-13   29510410.0   \n",
       "42987      ISR           Asia                Israel  2021-06-14          NaN   \n",
       "\n",
       "       new_cases  new_cases_smoothed  total_deaths  new_deaths  \\\n",
       "55550        NaN                 NaN           NaN         NaN   \n",
       "3412         NaN                 NaN           NaN         NaN   \n",
       "3413         NaN                 NaN           NaN         NaN   \n",
       "55551        NaN                 NaN           NaN         NaN   \n",
       "3414         NaN                 NaN           NaN         NaN   \n",
       "...          ...                 ...           ...         ...   \n",
       "38026      654.0             843.143        6631.0        25.0   \n",
       "89987     1969.0            2130.714        1726.0         2.0   \n",
       "37566        0.0             113.857         346.0         0.0   \n",
       "39976    70421.0           85776.429      374305.0      3921.0   \n",
       "42987        NaN                 NaN           NaN         NaN   \n",
       "\n",
       "       new_deaths_smoothed  ...  extreme_poverty  cardiovasc_death_rate  \\\n",
       "55550                  NaN  ...              2.5                152.783   \n",
       "3412                   NaN  ...              0.6                191.032   \n",
       "3413                   NaN  ...              0.6                191.032   \n",
       "55551                  NaN  ...              2.5                152.783   \n",
       "3414                   NaN  ...              0.6                191.032   \n",
       "...                    ...  ...              ...                    ...   \n",
       "38026               21.714  ...             16.0                240.208   \n",
       "89987                3.857  ...              NaN                317.840   \n",
       "37566                3.286  ...             23.5                430.548   \n",
       "39976             3588.429  ...             21.2                282.280   \n",
       "42987                  NaN  ...              0.5                 93.320   \n",
       "\n",
       "       diabetes_prevalence  female_smokers  male_smokers  \\\n",
       "55550                13.06             6.9          21.4   \n",
       "3412                  5.50            16.2          27.7   \n",
       "3413                  5.50            16.2          27.7   \n",
       "55551                13.06             6.9          21.4   \n",
       "3414                  5.50            16.2          27.7   \n",
       "...                    ...             ...           ...   \n",
       "38026                 7.21             2.0           NaN   \n",
       "89987                17.26             1.2          37.4   \n",
       "37566                 6.65             2.9          23.1   \n",
       "39976                10.39             1.9          20.6   \n",
       "42987                 6.74            15.4          35.4   \n",
       "\n",
       "       handwashing_facilities  hospital_beds_per_thousand  life_expectancy  \\\n",
       "55550                  87.847                        1.38            75.05   \n",
       "3412                      NaN                        5.00            76.67   \n",
       "3413                      NaN                        5.00            76.67   \n",
       "55551                  87.847                        1.38            75.05   \n",
       "3414                      NaN                        5.00            76.67   \n",
       "...                       ...                         ...              ...   \n",
       "38026                  84.169                        0.70            75.27   \n",
       "89987                     NaN                        1.20            77.97   \n",
       "37566                  22.863                        0.70            64.00   \n",
       "39976                  59.550                        0.53            69.66   \n",
       "42987                     NaN                        2.99            82.97   \n",
       "\n",
       "       human_development_index  excess_mortality  \n",
       "55550                    0.779               NaN  \n",
       "3412                     0.845               NaN  \n",
       "3413                     0.845               NaN  \n",
       "55551                    0.779               NaN  \n",
       "3414                     0.845               NaN  \n",
       "...                        ...               ...  \n",
       "38026                    0.634               NaN  \n",
       "89987                    0.890               NaN  \n",
       "37566                    0.510               NaN  \n",
       "39976                    0.645               NaN  \n",
       "42987                    0.919               NaN  \n",
       "\n",
       "[95478 rows x 60 columns]"
      ],
      "text/html": "<div>\n<style scoped>\n    .dataframe tbody tr th:only-of-type {\n        vertical-align: middle;\n    }\n\n    .dataframe tbody tr th {\n        vertical-align: top;\n    }\n\n    .dataframe thead th {\n        text-align: right;\n    }\n</style>\n<table border=\"1\" class=\"dataframe\">\n  <thead>\n    <tr style=\"text-align: right;\">\n      <th></th>\n      <th>iso_code</th>\n      <th>continent</th>\n      <th>location</th>\n      <th>date</th>\n      <th>total_cases</th>\n      <th>new_cases</th>\n      <th>new_cases_smoothed</th>\n      <th>total_deaths</th>\n      <th>new_deaths</th>\n      <th>new_deaths_smoothed</th>\n      <th>...</th>\n      <th>extreme_poverty</th>\n      <th>cardiovasc_death_rate</th>\n      <th>diabetes_prevalence</th>\n      <th>female_smokers</th>\n      <th>male_smokers</th>\n      <th>handwashing_facilities</th>\n      <th>hospital_beds_per_thousand</th>\n      <th>life_expectancy</th>\n      <th>human_development_index</th>\n      <th>excess_mortality</th>\n    </tr>\n  </thead>\n  <tbody>\n    <tr>\n      <th>55550</th>\n      <td>MEX</td>\n      <td>North America</td>\n      <td>Mexico</td>\n      <td>2020-01-01</td>\n      <td>NaN</td>\n      <td>NaN</td>\n      <td>NaN</td>\n      <td>NaN</td>\n      <td>NaN</td>\n      <td>NaN</td>\n      <td>...</td>\n      <td>2.5</td>\n      <td>152.783</td>\n      <td>13.06</td>\n      <td>6.9</td>\n      <td>21.4</td>\n      <td>87.847</td>\n      <td>1.38</td>\n      <td>75.05</td>\n      <td>0.779</td>\n      <td>NaN</td>\n    </tr>\n    <tr>\n      <th>3412</th>\n      <td>ARG</td>\n      <td>South America</td>\n      <td>Argentina</td>\n      <td>2020-01-01</td>\n      <td>NaN</td>\n      <td>NaN</td>\n      <td>NaN</td>\n      <td>NaN</td>\n      <td>NaN</td>\n      <td>NaN</td>\n      <td>...</td>\n      <td>0.6</td>\n      <td>191.032</td>\n      <td>5.50</td>\n      <td>16.2</td>\n      <td>27.7</td>\n      <td>NaN</td>\n      <td>5.00</td>\n      <td>76.67</td>\n      <td>0.845</td>\n      <td>NaN</td>\n    </tr>\n    <tr>\n      <th>3413</th>\n      <td>ARG</td>\n      <td>South America</td>\n      <td>Argentina</td>\n      <td>2020-01-02</td>\n      <td>NaN</td>\n      <td>NaN</td>\n      <td>NaN</td>\n      <td>NaN</td>\n      <td>NaN</td>\n      <td>NaN</td>\n      <td>...</td>\n      <td>0.6</td>\n      <td>191.032</td>\n      <td>5.50</td>\n      <td>16.2</td>\n      <td>27.7</td>\n      <td>NaN</td>\n      <td>5.00</td>\n      <td>76.67</td>\n      <td>0.845</td>\n      <td>NaN</td>\n    </tr>\n    <tr>\n      <th>55551</th>\n      <td>MEX</td>\n      <td>North America</td>\n      <td>Mexico</td>\n      <td>2020-01-02</td>\n      <td>NaN</td>\n      <td>NaN</td>\n      <td>NaN</td>\n      <td>NaN</td>\n      <td>NaN</td>\n      <td>NaN</td>\n      <td>...</td>\n      <td>2.5</td>\n      <td>152.783</td>\n      <td>13.06</td>\n      <td>6.9</td>\n      <td>21.4</td>\n      <td>87.847</td>\n      <td>1.38</td>\n      <td>75.05</td>\n      <td>0.779</td>\n      <td>NaN</td>\n    </tr>\n    <tr>\n      <th>3414</th>\n      <td>ARG</td>\n      <td>South America</td>\n      <td>Argentina</td>\n      <td>2020-01-03</td>\n      <td>NaN</td>\n      <td>NaN</td>\n      <td>NaN</td>\n      <td>NaN</td>\n      <td>NaN</td>\n      <td>NaN</td>\n      <td>...</td>\n      <td>0.6</td>\n      <td>191.032</td>\n      <td>5.50</td>\n      <td>16.2</td>\n      <td>27.7</td>\n      <td>NaN</td>\n      <td>5.00</td>\n      <td>76.67</td>\n      <td>0.845</td>\n      <td>NaN</td>\n    </tr>\n    <tr>\n      <th>...</th>\n      <td>...</td>\n      <td>...</td>\n      <td>...</td>\n      <td>...</td>\n      <td>...</td>\n      <td>...</td>\n      <td>...</td>\n      <td>...</td>\n      <td>...</td>\n      <td>...</td>\n      <td>...</td>\n      <td>...</td>\n      <td>...</td>\n      <td>...</td>\n      <td>...</td>\n      <td>...</td>\n      <td>...</td>\n      <td>...</td>\n      <td>...</td>\n      <td>...</td>\n      <td>...</td>\n    </tr>\n    <tr>\n      <th>38026</th>\n      <td>HND</td>\n      <td>North America</td>\n      <td>Honduras</td>\n      <td>2021-06-13</td>\n      <td>247728.0</td>\n      <td>654.0</td>\n      <td>843.143</td>\n      <td>6631.0</td>\n      <td>25.0</td>\n      <td>21.714</td>\n      <td>...</td>\n      <td>16.0</td>\n      <td>240.208</td>\n      <td>7.21</td>\n      <td>2.0</td>\n      <td>NaN</td>\n      <td>84.169</td>\n      <td>0.70</td>\n      <td>75.27</td>\n      <td>0.634</td>\n      <td>NaN</td>\n    </tr>\n    <tr>\n      <th>89987</th>\n      <td>ARE</td>\n      <td>Asia</td>\n      <td>United Arab Emirates</td>\n      <td>2021-06-13</td>\n      <td>597986.0</td>\n      <td>1969.0</td>\n      <td>2130.714</td>\n      <td>1726.0</td>\n      <td>2.0</td>\n      <td>3.857</td>\n      <td>...</td>\n      <td>NaN</td>\n      <td>317.840</td>\n      <td>17.26</td>\n      <td>1.2</td>\n      <td>37.4</td>\n      <td>NaN</td>\n      <td>1.20</td>\n      <td>77.97</td>\n      <td>0.890</td>\n      <td>NaN</td>\n    </tr>\n    <tr>\n      <th>37566</th>\n      <td>HTI</td>\n      <td>North America</td>\n      <td>Haiti</td>\n      <td>2021-06-13</td>\n      <td>16079.0</td>\n      <td>0.0</td>\n      <td>113.857</td>\n      <td>346.0</td>\n      <td>0.0</td>\n      <td>3.286</td>\n      <td>...</td>\n      <td>23.5</td>\n      <td>430.548</td>\n      <td>6.65</td>\n      <td>2.9</td>\n      <td>23.1</td>\n      <td>22.863</td>\n      <td>0.70</td>\n      <td>64.00</td>\n      <td>0.510</td>\n      <td>NaN</td>\n    </tr>\n    <tr>\n      <th>39976</th>\n      <td>IND</td>\n      <td>Asia</td>\n      <td>India</td>\n      <td>2021-06-13</td>\n      <td>29510410.0</td>\n      <td>70421.0</td>\n      <td>85776.429</td>\n      <td>374305.0</td>\n      <td>3921.0</td>\n      <td>3588.429</td>\n      <td>...</td>\n      <td>21.2</td>\n      <td>282.280</td>\n      <td>10.39</td>\n      <td>1.9</td>\n      <td>20.6</td>\n      <td>59.550</td>\n      <td>0.53</td>\n      <td>69.66</td>\n      <td>0.645</td>\n      <td>NaN</td>\n    </tr>\n    <tr>\n      <th>42987</th>\n      <td>ISR</td>\n      <td>Asia</td>\n      <td>Israel</td>\n      <td>2021-06-14</td>\n      <td>NaN</td>\n      <td>NaN</td>\n      <td>NaN</td>\n      <td>NaN</td>\n      <td>NaN</td>\n      <td>NaN</td>\n      <td>...</td>\n      <td>0.5</td>\n      <td>93.320</td>\n      <td>6.74</td>\n      <td>15.4</td>\n      <td>35.4</td>\n      <td>NaN</td>\n      <td>2.99</td>\n      <td>82.97</td>\n      <td>0.919</td>\n      <td>NaN</td>\n    </tr>\n  </tbody>\n</table>\n<p>95478 rows × 60 columns</p>\n</div>"
     },
     "metadata": {},
     "execution_count": 105
    }
   ],
   "source": [
    "df"
   ]
  },
  {
   "source": [
    "## Analysing the countries in the data set"
   ],
   "cell_type": "markdown",
   "metadata": {}
  },
  {
   "cell_type": "code",
   "execution_count": 106,
   "metadata": {},
   "outputs": [],
   "source": [
    "country_iso_3_codes = list(country_codes['Alpha-3 code'])"
   ]
  },
  {
   "cell_type": "code",
   "execution_count": 107,
   "metadata": {},
   "outputs": [],
   "source": [
    "country_df = df[df['iso_code'].isin(country_iso_3_codes)]"
   ]
  },
  {
   "cell_type": "code",
   "execution_count": 108,
   "metadata": {},
   "outputs": [
    {
     "output_type": "execute_result",
     "data": {
      "text/plain": [
       "      iso_code      continent              location        date  total_cases  \\\n",
       "55550      MEX  North America                Mexico  2020-01-01          NaN   \n",
       "3412       ARG  South America             Argentina  2020-01-01          NaN   \n",
       "3413       ARG  South America             Argentina  2020-01-02          NaN   \n",
       "55551      MEX  North America                Mexico  2020-01-02          NaN   \n",
       "3414       ARG  South America             Argentina  2020-01-03          NaN   \n",
       "...        ...            ...                   ...         ...          ...   \n",
       "38026      HND  North America              Honduras  2021-06-13     247728.0   \n",
       "89987      ARE           Asia  United Arab Emirates  2021-06-13     597986.0   \n",
       "37566      HTI  North America                 Haiti  2021-06-13      16079.0   \n",
       "39976      IND           Asia                 India  2021-06-13   29510410.0   \n",
       "42987      ISR           Asia                Israel  2021-06-14          NaN   \n",
       "\n",
       "       new_cases  new_cases_smoothed  total_deaths  new_deaths  \\\n",
       "55550        NaN                 NaN           NaN         NaN   \n",
       "3412         NaN                 NaN           NaN         NaN   \n",
       "3413         NaN                 NaN           NaN         NaN   \n",
       "55551        NaN                 NaN           NaN         NaN   \n",
       "3414         NaN                 NaN           NaN         NaN   \n",
       "...          ...                 ...           ...         ...   \n",
       "38026      654.0             843.143        6631.0        25.0   \n",
       "89987     1969.0            2130.714        1726.0         2.0   \n",
       "37566        0.0             113.857         346.0         0.0   \n",
       "39976    70421.0           85776.429      374305.0      3921.0   \n",
       "42987        NaN                 NaN           NaN         NaN   \n",
       "\n",
       "       new_deaths_smoothed  ...  extreme_poverty  cardiovasc_death_rate  \\\n",
       "55550                  NaN  ...              2.5                152.783   \n",
       "3412                   NaN  ...              0.6                191.032   \n",
       "3413                   NaN  ...              0.6                191.032   \n",
       "55551                  NaN  ...              2.5                152.783   \n",
       "3414                   NaN  ...              0.6                191.032   \n",
       "...                    ...  ...              ...                    ...   \n",
       "38026               21.714  ...             16.0                240.208   \n",
       "89987                3.857  ...              NaN                317.840   \n",
       "37566                3.286  ...             23.5                430.548   \n",
       "39976             3588.429  ...             21.2                282.280   \n",
       "42987                  NaN  ...              0.5                 93.320   \n",
       "\n",
       "       diabetes_prevalence  female_smokers  male_smokers  \\\n",
       "55550                13.06             6.9          21.4   \n",
       "3412                  5.50            16.2          27.7   \n",
       "3413                  5.50            16.2          27.7   \n",
       "55551                13.06             6.9          21.4   \n",
       "3414                  5.50            16.2          27.7   \n",
       "...                    ...             ...           ...   \n",
       "38026                 7.21             2.0           NaN   \n",
       "89987                17.26             1.2          37.4   \n",
       "37566                 6.65             2.9          23.1   \n",
       "39976                10.39             1.9          20.6   \n",
       "42987                 6.74            15.4          35.4   \n",
       "\n",
       "       handwashing_facilities  hospital_beds_per_thousand  life_expectancy  \\\n",
       "55550                  87.847                        1.38            75.05   \n",
       "3412                      NaN                        5.00            76.67   \n",
       "3413                      NaN                        5.00            76.67   \n",
       "55551                  87.847                        1.38            75.05   \n",
       "3414                      NaN                        5.00            76.67   \n",
       "...                       ...                         ...              ...   \n",
       "38026                  84.169                        0.70            75.27   \n",
       "89987                     NaN                        1.20            77.97   \n",
       "37566                  22.863                        0.70            64.00   \n",
       "39976                  59.550                        0.53            69.66   \n",
       "42987                     NaN                        2.99            82.97   \n",
       "\n",
       "       human_development_index  excess_mortality  \n",
       "55550                    0.779               NaN  \n",
       "3412                     0.845               NaN  \n",
       "3413                     0.845               NaN  \n",
       "55551                    0.779               NaN  \n",
       "3414                     0.845               NaN  \n",
       "...                        ...               ...  \n",
       "38026                    0.634               NaN  \n",
       "89987                    0.890               NaN  \n",
       "37566                    0.510               NaN  \n",
       "39976                    0.645               NaN  \n",
       "42987                    0.919               NaN  \n",
       "\n",
       "[90380 rows x 60 columns]"
      ],
      "text/html": "<div>\n<style scoped>\n    .dataframe tbody tr th:only-of-type {\n        vertical-align: middle;\n    }\n\n    .dataframe tbody tr th {\n        vertical-align: top;\n    }\n\n    .dataframe thead th {\n        text-align: right;\n    }\n</style>\n<table border=\"1\" class=\"dataframe\">\n  <thead>\n    <tr style=\"text-align: right;\">\n      <th></th>\n      <th>iso_code</th>\n      <th>continent</th>\n      <th>location</th>\n      <th>date</th>\n      <th>total_cases</th>\n      <th>new_cases</th>\n      <th>new_cases_smoothed</th>\n      <th>total_deaths</th>\n      <th>new_deaths</th>\n      <th>new_deaths_smoothed</th>\n      <th>...</th>\n      <th>extreme_poverty</th>\n      <th>cardiovasc_death_rate</th>\n      <th>diabetes_prevalence</th>\n      <th>female_smokers</th>\n      <th>male_smokers</th>\n      <th>handwashing_facilities</th>\n      <th>hospital_beds_per_thousand</th>\n      <th>life_expectancy</th>\n      <th>human_development_index</th>\n      <th>excess_mortality</th>\n    </tr>\n  </thead>\n  <tbody>\n    <tr>\n      <th>55550</th>\n      <td>MEX</td>\n      <td>North America</td>\n      <td>Mexico</td>\n      <td>2020-01-01</td>\n      <td>NaN</td>\n      <td>NaN</td>\n      <td>NaN</td>\n      <td>NaN</td>\n      <td>NaN</td>\n      <td>NaN</td>\n      <td>...</td>\n      <td>2.5</td>\n      <td>152.783</td>\n      <td>13.06</td>\n      <td>6.9</td>\n      <td>21.4</td>\n      <td>87.847</td>\n      <td>1.38</td>\n      <td>75.05</td>\n      <td>0.779</td>\n      <td>NaN</td>\n    </tr>\n    <tr>\n      <th>3412</th>\n      <td>ARG</td>\n      <td>South America</td>\n      <td>Argentina</td>\n      <td>2020-01-01</td>\n      <td>NaN</td>\n      <td>NaN</td>\n      <td>NaN</td>\n      <td>NaN</td>\n      <td>NaN</td>\n      <td>NaN</td>\n      <td>...</td>\n      <td>0.6</td>\n      <td>191.032</td>\n      <td>5.50</td>\n      <td>16.2</td>\n      <td>27.7</td>\n      <td>NaN</td>\n      <td>5.00</td>\n      <td>76.67</td>\n      <td>0.845</td>\n      <td>NaN</td>\n    </tr>\n    <tr>\n      <th>3413</th>\n      <td>ARG</td>\n      <td>South America</td>\n      <td>Argentina</td>\n      <td>2020-01-02</td>\n      <td>NaN</td>\n      <td>NaN</td>\n      <td>NaN</td>\n      <td>NaN</td>\n      <td>NaN</td>\n      <td>NaN</td>\n      <td>...</td>\n      <td>0.6</td>\n      <td>191.032</td>\n      <td>5.50</td>\n      <td>16.2</td>\n      <td>27.7</td>\n      <td>NaN</td>\n      <td>5.00</td>\n      <td>76.67</td>\n      <td>0.845</td>\n      <td>NaN</td>\n    </tr>\n    <tr>\n      <th>55551</th>\n      <td>MEX</td>\n      <td>North America</td>\n      <td>Mexico</td>\n      <td>2020-01-02</td>\n      <td>NaN</td>\n      <td>NaN</td>\n      <td>NaN</td>\n      <td>NaN</td>\n      <td>NaN</td>\n      <td>NaN</td>\n      <td>...</td>\n      <td>2.5</td>\n      <td>152.783</td>\n      <td>13.06</td>\n      <td>6.9</td>\n      <td>21.4</td>\n      <td>87.847</td>\n      <td>1.38</td>\n      <td>75.05</td>\n      <td>0.779</td>\n      <td>NaN</td>\n    </tr>\n    <tr>\n      <th>3414</th>\n      <td>ARG</td>\n      <td>South America</td>\n      <td>Argentina</td>\n      <td>2020-01-03</td>\n      <td>NaN</td>\n      <td>NaN</td>\n      <td>NaN</td>\n      <td>NaN</td>\n      <td>NaN</td>\n      <td>NaN</td>\n      <td>...</td>\n      <td>0.6</td>\n      <td>191.032</td>\n      <td>5.50</td>\n      <td>16.2</td>\n      <td>27.7</td>\n      <td>NaN</td>\n      <td>5.00</td>\n      <td>76.67</td>\n      <td>0.845</td>\n      <td>NaN</td>\n    </tr>\n    <tr>\n      <th>...</th>\n      <td>...</td>\n      <td>...</td>\n      <td>...</td>\n      <td>...</td>\n      <td>...</td>\n      <td>...</td>\n      <td>...</td>\n      <td>...</td>\n      <td>...</td>\n      <td>...</td>\n      <td>...</td>\n      <td>...</td>\n      <td>...</td>\n      <td>...</td>\n      <td>...</td>\n      <td>...</td>\n      <td>...</td>\n      <td>...</td>\n      <td>...</td>\n      <td>...</td>\n      <td>...</td>\n    </tr>\n    <tr>\n      <th>38026</th>\n      <td>HND</td>\n      <td>North America</td>\n      <td>Honduras</td>\n      <td>2021-06-13</td>\n      <td>247728.0</td>\n      <td>654.0</td>\n      <td>843.143</td>\n      <td>6631.0</td>\n      <td>25.0</td>\n      <td>21.714</td>\n      <td>...</td>\n      <td>16.0</td>\n      <td>240.208</td>\n      <td>7.21</td>\n      <td>2.0</td>\n      <td>NaN</td>\n      <td>84.169</td>\n      <td>0.70</td>\n      <td>75.27</td>\n      <td>0.634</td>\n      <td>NaN</td>\n    </tr>\n    <tr>\n      <th>89987</th>\n      <td>ARE</td>\n      <td>Asia</td>\n      <td>United Arab Emirates</td>\n      <td>2021-06-13</td>\n      <td>597986.0</td>\n      <td>1969.0</td>\n      <td>2130.714</td>\n      <td>1726.0</td>\n      <td>2.0</td>\n      <td>3.857</td>\n      <td>...</td>\n      <td>NaN</td>\n      <td>317.840</td>\n      <td>17.26</td>\n      <td>1.2</td>\n      <td>37.4</td>\n      <td>NaN</td>\n      <td>1.20</td>\n      <td>77.97</td>\n      <td>0.890</td>\n      <td>NaN</td>\n    </tr>\n    <tr>\n      <th>37566</th>\n      <td>HTI</td>\n      <td>North America</td>\n      <td>Haiti</td>\n      <td>2021-06-13</td>\n      <td>16079.0</td>\n      <td>0.0</td>\n      <td>113.857</td>\n      <td>346.0</td>\n      <td>0.0</td>\n      <td>3.286</td>\n      <td>...</td>\n      <td>23.5</td>\n      <td>430.548</td>\n      <td>6.65</td>\n      <td>2.9</td>\n      <td>23.1</td>\n      <td>22.863</td>\n      <td>0.70</td>\n      <td>64.00</td>\n      <td>0.510</td>\n      <td>NaN</td>\n    </tr>\n    <tr>\n      <th>39976</th>\n      <td>IND</td>\n      <td>Asia</td>\n      <td>India</td>\n      <td>2021-06-13</td>\n      <td>29510410.0</td>\n      <td>70421.0</td>\n      <td>85776.429</td>\n      <td>374305.0</td>\n      <td>3921.0</td>\n      <td>3588.429</td>\n      <td>...</td>\n      <td>21.2</td>\n      <td>282.280</td>\n      <td>10.39</td>\n      <td>1.9</td>\n      <td>20.6</td>\n      <td>59.550</td>\n      <td>0.53</td>\n      <td>69.66</td>\n      <td>0.645</td>\n      <td>NaN</td>\n    </tr>\n    <tr>\n      <th>42987</th>\n      <td>ISR</td>\n      <td>Asia</td>\n      <td>Israel</td>\n      <td>2021-06-14</td>\n      <td>NaN</td>\n      <td>NaN</td>\n      <td>NaN</td>\n      <td>NaN</td>\n      <td>NaN</td>\n      <td>NaN</td>\n      <td>...</td>\n      <td>0.5</td>\n      <td>93.320</td>\n      <td>6.74</td>\n      <td>15.4</td>\n      <td>35.4</td>\n      <td>NaN</td>\n      <td>2.99</td>\n      <td>82.97</td>\n      <td>0.919</td>\n      <td>NaN</td>\n    </tr>\n  </tbody>\n</table>\n<p>90380 rows × 60 columns</p>\n</div>"
     },
     "metadata": {},
     "execution_count": 108
    }
   ],
   "source": [
    "country_df"
   ]
  },
  {
   "source": [
    "This is a header with all the values I want for the data on the countries"
   ],
   "cell_type": "markdown",
   "metadata": {}
  },
  {
   "cell_type": "code",
   "execution_count": 109,
   "metadata": {},
   "outputs": [],
   "source": [
    "country_data_header = ['iso_code',\n",
    " 'continent',\n",
    " 'location',\n",
    " 'population',\n",
    " 'population_density',\n",
    " 'median_age',\n",
    " 'aged_65_older',\n",
    " 'aged_70_older',\n",
    " 'gdp_per_capita',\n",
    " 'extreme_poverty',\n",
    " 'cardiovasc_death_rate',\n",
    " 'diabetes_prevalence',\n",
    " 'female_smokers',\n",
    " 'male_smokers',\n",
    " 'handwashing_facilities',\n",
    " 'hospital_beds_per_thousand',\n",
    " 'life_expectancy',\n",
    " 'human_development_index']"
   ]
  },
  {
   "source": [
    "Now we can pull these columns from the OWID data and drop all the duplicates"
   ],
   "cell_type": "markdown",
   "metadata": {}
  },
  {
   "cell_type": "code",
   "execution_count": 110,
   "metadata": {},
   "outputs": [
    {
     "output_type": "execute_result",
     "data": {
      "text/plain": [
       "    iso_code continent                      location  population  \\\n",
       "0        QAT      Asia                         Qatar   2881060.0   \n",
       "1        MAC      Asia                         Macao    649342.0   \n",
       "2        LUX    Europe                    Luxembourg    625976.0   \n",
       "3        SGP      Asia                     Singapore   5850343.0   \n",
       "4        BRN      Asia                        Brunei    437483.0   \n",
       "..       ...       ...                           ...         ...   \n",
       "187      NER    Africa                         Niger  24206636.0   \n",
       "188      COD    Africa  Democratic Republic of Congo  89561404.0   \n",
       "189      LBR    Africa                       Liberia   5057677.0   \n",
       "190      BDI    Africa                       Burundi  11890781.0   \n",
       "191      CAF    Africa      Central African Republic   4829764.0   \n",
       "\n",
       "     population_density  median_age  aged_65_older  aged_70_older  \\\n",
       "0               227.322        31.9          1.307          0.617   \n",
       "1             20546.766        39.2          9.798          4.991   \n",
       "2               231.447        39.7         14.312          9.842   \n",
       "3              7915.731        42.4         12.922          7.049   \n",
       "4                81.347        32.4          4.591          2.382   \n",
       "..                  ...         ...            ...            ...   \n",
       "187              16.955        15.1          2.553          1.378   \n",
       "188              35.879        17.0          3.020          1.745   \n",
       "189              49.127        19.2          3.057          1.756   \n",
       "190             423.062        17.5          2.562          1.504   \n",
       "191               7.479        18.3          3.655          2.251   \n",
       "\n",
       "     gdp_per_capita  extreme_poverty  cardiovasc_death_rate  \\\n",
       "0        116935.600              NaN                176.690   \n",
       "1        104861.851              NaN                    NaN   \n",
       "2         94277.965              0.2                128.275   \n",
       "3         85535.383              NaN                 92.243   \n",
       "4         71809.251              NaN                201.285   \n",
       "..              ...              ...                    ...   \n",
       "187         926.000             44.5                238.339   \n",
       "188         808.133             77.1                318.949   \n",
       "189         752.788             38.6                272.509   \n",
       "190         702.225             71.7                293.068   \n",
       "191         661.240              NaN                435.727   \n",
       "\n",
       "     diabetes_prevalence  female_smokers  male_smokers  \\\n",
       "0                  16.52             0.8          26.9   \n",
       "1                    NaN             NaN           NaN   \n",
       "2                   4.42            20.9          26.0   \n",
       "3                  10.99             5.2          28.3   \n",
       "4                  12.79             2.0          30.9   \n",
       "..                   ...             ...           ...   \n",
       "187                 2.42             0.1          15.4   \n",
       "188                 6.10             NaN           NaN   \n",
       "189                 2.42             1.5          18.1   \n",
       "190                 6.05             NaN           NaN   \n",
       "191                 6.10             NaN           NaN   \n",
       "\n",
       "     handwashing_facilities  hospital_beds_per_thousand  life_expectancy  \\\n",
       "0                       NaN                        1.20            80.23   \n",
       "1                       NaN                         NaN            84.24   \n",
       "2                       NaN                        4.51            82.25   \n",
       "3                       NaN                        2.40            83.62   \n",
       "4                       NaN                        2.70            75.86   \n",
       "..                      ...                         ...              ...   \n",
       "187                   8.978                        0.30            62.42   \n",
       "188                   4.472                         NaN            60.68   \n",
       "189                   1.188                        0.80            64.10   \n",
       "190                   6.144                        0.80            61.58   \n",
       "191                  16.603                        1.00            53.28   \n",
       "\n",
       "     human_development_index  \n",
       "0                      0.848  \n",
       "1                        NaN  \n",
       "2                      0.916  \n",
       "3                      0.938  \n",
       "4                      0.838  \n",
       "..                       ...  \n",
       "187                    0.394  \n",
       "188                    0.480  \n",
       "189                    0.480  \n",
       "190                    0.433  \n",
       "191                    0.397  \n",
       "\n",
       "[192 rows x 18 columns]"
      ],
      "text/html": "<div>\n<style scoped>\n    .dataframe tbody tr th:only-of-type {\n        vertical-align: middle;\n    }\n\n    .dataframe tbody tr th {\n        vertical-align: top;\n    }\n\n    .dataframe thead th {\n        text-align: right;\n    }\n</style>\n<table border=\"1\" class=\"dataframe\">\n  <thead>\n    <tr style=\"text-align: right;\">\n      <th></th>\n      <th>iso_code</th>\n      <th>continent</th>\n      <th>location</th>\n      <th>population</th>\n      <th>population_density</th>\n      <th>median_age</th>\n      <th>aged_65_older</th>\n      <th>aged_70_older</th>\n      <th>gdp_per_capita</th>\n      <th>extreme_poverty</th>\n      <th>cardiovasc_death_rate</th>\n      <th>diabetes_prevalence</th>\n      <th>female_smokers</th>\n      <th>male_smokers</th>\n      <th>handwashing_facilities</th>\n      <th>hospital_beds_per_thousand</th>\n      <th>life_expectancy</th>\n      <th>human_development_index</th>\n    </tr>\n  </thead>\n  <tbody>\n    <tr>\n      <th>0</th>\n      <td>QAT</td>\n      <td>Asia</td>\n      <td>Qatar</td>\n      <td>2881060.0</td>\n      <td>227.322</td>\n      <td>31.9</td>\n      <td>1.307</td>\n      <td>0.617</td>\n      <td>116935.600</td>\n      <td>NaN</td>\n      <td>176.690</td>\n      <td>16.52</td>\n      <td>0.8</td>\n      <td>26.9</td>\n      <td>NaN</td>\n      <td>1.20</td>\n      <td>80.23</td>\n      <td>0.848</td>\n    </tr>\n    <tr>\n      <th>1</th>\n      <td>MAC</td>\n      <td>Asia</td>\n      <td>Macao</td>\n      <td>649342.0</td>\n      <td>20546.766</td>\n      <td>39.2</td>\n      <td>9.798</td>\n      <td>4.991</td>\n      <td>104861.851</td>\n      <td>NaN</td>\n      <td>NaN</td>\n      <td>NaN</td>\n      <td>NaN</td>\n      <td>NaN</td>\n      <td>NaN</td>\n      <td>NaN</td>\n      <td>84.24</td>\n      <td>NaN</td>\n    </tr>\n    <tr>\n      <th>2</th>\n      <td>LUX</td>\n      <td>Europe</td>\n      <td>Luxembourg</td>\n      <td>625976.0</td>\n      <td>231.447</td>\n      <td>39.7</td>\n      <td>14.312</td>\n      <td>9.842</td>\n      <td>94277.965</td>\n      <td>0.2</td>\n      <td>128.275</td>\n      <td>4.42</td>\n      <td>20.9</td>\n      <td>26.0</td>\n      <td>NaN</td>\n      <td>4.51</td>\n      <td>82.25</td>\n      <td>0.916</td>\n    </tr>\n    <tr>\n      <th>3</th>\n      <td>SGP</td>\n      <td>Asia</td>\n      <td>Singapore</td>\n      <td>5850343.0</td>\n      <td>7915.731</td>\n      <td>42.4</td>\n      <td>12.922</td>\n      <td>7.049</td>\n      <td>85535.383</td>\n      <td>NaN</td>\n      <td>92.243</td>\n      <td>10.99</td>\n      <td>5.2</td>\n      <td>28.3</td>\n      <td>NaN</td>\n      <td>2.40</td>\n      <td>83.62</td>\n      <td>0.938</td>\n    </tr>\n    <tr>\n      <th>4</th>\n      <td>BRN</td>\n      <td>Asia</td>\n      <td>Brunei</td>\n      <td>437483.0</td>\n      <td>81.347</td>\n      <td>32.4</td>\n      <td>4.591</td>\n      <td>2.382</td>\n      <td>71809.251</td>\n      <td>NaN</td>\n      <td>201.285</td>\n      <td>12.79</td>\n      <td>2.0</td>\n      <td>30.9</td>\n      <td>NaN</td>\n      <td>2.70</td>\n      <td>75.86</td>\n      <td>0.838</td>\n    </tr>\n    <tr>\n      <th>...</th>\n      <td>...</td>\n      <td>...</td>\n      <td>...</td>\n      <td>...</td>\n      <td>...</td>\n      <td>...</td>\n      <td>...</td>\n      <td>...</td>\n      <td>...</td>\n      <td>...</td>\n      <td>...</td>\n      <td>...</td>\n      <td>...</td>\n      <td>...</td>\n      <td>...</td>\n      <td>...</td>\n      <td>...</td>\n      <td>...</td>\n    </tr>\n    <tr>\n      <th>187</th>\n      <td>NER</td>\n      <td>Africa</td>\n      <td>Niger</td>\n      <td>24206636.0</td>\n      <td>16.955</td>\n      <td>15.1</td>\n      <td>2.553</td>\n      <td>1.378</td>\n      <td>926.000</td>\n      <td>44.5</td>\n      <td>238.339</td>\n      <td>2.42</td>\n      <td>0.1</td>\n      <td>15.4</td>\n      <td>8.978</td>\n      <td>0.30</td>\n      <td>62.42</td>\n      <td>0.394</td>\n    </tr>\n    <tr>\n      <th>188</th>\n      <td>COD</td>\n      <td>Africa</td>\n      <td>Democratic Republic of Congo</td>\n      <td>89561404.0</td>\n      <td>35.879</td>\n      <td>17.0</td>\n      <td>3.020</td>\n      <td>1.745</td>\n      <td>808.133</td>\n      <td>77.1</td>\n      <td>318.949</td>\n      <td>6.10</td>\n      <td>NaN</td>\n      <td>NaN</td>\n      <td>4.472</td>\n      <td>NaN</td>\n      <td>60.68</td>\n      <td>0.480</td>\n    </tr>\n    <tr>\n      <th>189</th>\n      <td>LBR</td>\n      <td>Africa</td>\n      <td>Liberia</td>\n      <td>5057677.0</td>\n      <td>49.127</td>\n      <td>19.2</td>\n      <td>3.057</td>\n      <td>1.756</td>\n      <td>752.788</td>\n      <td>38.6</td>\n      <td>272.509</td>\n      <td>2.42</td>\n      <td>1.5</td>\n      <td>18.1</td>\n      <td>1.188</td>\n      <td>0.80</td>\n      <td>64.10</td>\n      <td>0.480</td>\n    </tr>\n    <tr>\n      <th>190</th>\n      <td>BDI</td>\n      <td>Africa</td>\n      <td>Burundi</td>\n      <td>11890781.0</td>\n      <td>423.062</td>\n      <td>17.5</td>\n      <td>2.562</td>\n      <td>1.504</td>\n      <td>702.225</td>\n      <td>71.7</td>\n      <td>293.068</td>\n      <td>6.05</td>\n      <td>NaN</td>\n      <td>NaN</td>\n      <td>6.144</td>\n      <td>0.80</td>\n      <td>61.58</td>\n      <td>0.433</td>\n    </tr>\n    <tr>\n      <th>191</th>\n      <td>CAF</td>\n      <td>Africa</td>\n      <td>Central African Republic</td>\n      <td>4829764.0</td>\n      <td>7.479</td>\n      <td>18.3</td>\n      <td>3.655</td>\n      <td>2.251</td>\n      <td>661.240</td>\n      <td>NaN</td>\n      <td>435.727</td>\n      <td>6.10</td>\n      <td>NaN</td>\n      <td>NaN</td>\n      <td>16.603</td>\n      <td>1.00</td>\n      <td>53.28</td>\n      <td>0.397</td>\n    </tr>\n  </tbody>\n</table>\n<p>192 rows × 18 columns</p>\n</div>"
     },
     "metadata": {},
     "execution_count": 110
    }
   ],
   "source": [
    "country_data = country_df.drop_duplicates(subset = 'location')[country_data_header].sort_values('gdp_per_capita', ascending=False).reset_index(drop=True).dropna(subset=['gdp_per_capita'])\n",
    "\n",
    "country_data"
   ]
  },
  {
   "source": [
    "We now have a dataset with all our country specific data. To analyse this data by country gdp level we need to sort the dataset by gdp per capita and seperate it out into four sections; 1, 2, 3, 4 where 1 is the top perctile etc"
   ],
   "cell_type": "markdown",
   "metadata": {}
  },
  {
   "cell_type": "code",
   "execution_count": 111,
   "metadata": {},
   "outputs": [],
   "source": [
    "gdp_percentile_list = []\n",
    "number_of_countries = len(country_data)\n",
    "number_of_sections = 4\n",
    "section = 1\n",
    "for index, row in country_data.iterrows():\n",
    "    if index < (section/number_of_sections)*number_of_countries:\n",
    "        gdp_percentile_list.append(section)\n",
    "    else:\n",
    "        section += 1\n",
    "        gdp_percentile_list.append(section)"
   ]
  },
  {
   "cell_type": "code",
   "execution_count": 112,
   "metadata": {},
   "outputs": [
    {
     "output_type": "execute_result",
     "data": {
      "text/plain": [
       "    iso_code continent                      location  population  \\\n",
       "0        QAT      Asia                         Qatar   2881060.0   \n",
       "1        MAC      Asia                         Macao    649342.0   \n",
       "2        LUX    Europe                    Luxembourg    625976.0   \n",
       "3        SGP      Asia                     Singapore   5850343.0   \n",
       "4        BRN      Asia                        Brunei    437483.0   \n",
       "..       ...       ...                           ...         ...   \n",
       "187      NER    Africa                         Niger  24206636.0   \n",
       "188      COD    Africa  Democratic Republic of Congo  89561404.0   \n",
       "189      LBR    Africa                       Liberia   5057677.0   \n",
       "190      BDI    Africa                       Burundi  11890781.0   \n",
       "191      CAF    Africa      Central African Republic   4829764.0   \n",
       "\n",
       "     population_density  median_age  aged_65_older  aged_70_older  \\\n",
       "0               227.322        31.9          1.307          0.617   \n",
       "1             20546.766        39.2          9.798          4.991   \n",
       "2               231.447        39.7         14.312          9.842   \n",
       "3              7915.731        42.4         12.922          7.049   \n",
       "4                81.347        32.4          4.591          2.382   \n",
       "..                  ...         ...            ...            ...   \n",
       "187              16.955        15.1          2.553          1.378   \n",
       "188              35.879        17.0          3.020          1.745   \n",
       "189              49.127        19.2          3.057          1.756   \n",
       "190             423.062        17.5          2.562          1.504   \n",
       "191               7.479        18.3          3.655          2.251   \n",
       "\n",
       "     gdp_per_capita  extreme_poverty  cardiovasc_death_rate  \\\n",
       "0        116935.600              NaN                176.690   \n",
       "1        104861.851              NaN                    NaN   \n",
       "2         94277.965              0.2                128.275   \n",
       "3         85535.383              NaN                 92.243   \n",
       "4         71809.251              NaN                201.285   \n",
       "..              ...              ...                    ...   \n",
       "187         926.000             44.5                238.339   \n",
       "188         808.133             77.1                318.949   \n",
       "189         752.788             38.6                272.509   \n",
       "190         702.225             71.7                293.068   \n",
       "191         661.240              NaN                435.727   \n",
       "\n",
       "     diabetes_prevalence  female_smokers  male_smokers  \\\n",
       "0                  16.52             0.8          26.9   \n",
       "1                    NaN             NaN           NaN   \n",
       "2                   4.42            20.9          26.0   \n",
       "3                  10.99             5.2          28.3   \n",
       "4                  12.79             2.0          30.9   \n",
       "..                   ...             ...           ...   \n",
       "187                 2.42             0.1          15.4   \n",
       "188                 6.10             NaN           NaN   \n",
       "189                 2.42             1.5          18.1   \n",
       "190                 6.05             NaN           NaN   \n",
       "191                 6.10             NaN           NaN   \n",
       "\n",
       "     handwashing_facilities  hospital_beds_per_thousand  life_expectancy  \\\n",
       "0                       NaN                        1.20            80.23   \n",
       "1                       NaN                         NaN            84.24   \n",
       "2                       NaN                        4.51            82.25   \n",
       "3                       NaN                        2.40            83.62   \n",
       "4                       NaN                        2.70            75.86   \n",
       "..                      ...                         ...              ...   \n",
       "187                   8.978                        0.30            62.42   \n",
       "188                   4.472                         NaN            60.68   \n",
       "189                   1.188                        0.80            64.10   \n",
       "190                   6.144                        0.80            61.58   \n",
       "191                  16.603                        1.00            53.28   \n",
       "\n",
       "     human_development_index  gdp_per_cap_percentile  \n",
       "0                      0.848                       1  \n",
       "1                        NaN                       1  \n",
       "2                      0.916                       1  \n",
       "3                      0.938                       1  \n",
       "4                      0.838                       1  \n",
       "..                       ...                     ...  \n",
       "187                    0.394                       4  \n",
       "188                    0.480                       4  \n",
       "189                    0.480                       4  \n",
       "190                    0.433                       4  \n",
       "191                    0.397                       4  \n",
       "\n",
       "[192 rows x 19 columns]"
      ],
      "text/html": "<div>\n<style scoped>\n    .dataframe tbody tr th:only-of-type {\n        vertical-align: middle;\n    }\n\n    .dataframe tbody tr th {\n        vertical-align: top;\n    }\n\n    .dataframe thead th {\n        text-align: right;\n    }\n</style>\n<table border=\"1\" class=\"dataframe\">\n  <thead>\n    <tr style=\"text-align: right;\">\n      <th></th>\n      <th>iso_code</th>\n      <th>continent</th>\n      <th>location</th>\n      <th>population</th>\n      <th>population_density</th>\n      <th>median_age</th>\n      <th>aged_65_older</th>\n      <th>aged_70_older</th>\n      <th>gdp_per_capita</th>\n      <th>extreme_poverty</th>\n      <th>cardiovasc_death_rate</th>\n      <th>diabetes_prevalence</th>\n      <th>female_smokers</th>\n      <th>male_smokers</th>\n      <th>handwashing_facilities</th>\n      <th>hospital_beds_per_thousand</th>\n      <th>life_expectancy</th>\n      <th>human_development_index</th>\n      <th>gdp_per_cap_percentile</th>\n    </tr>\n  </thead>\n  <tbody>\n    <tr>\n      <th>0</th>\n      <td>QAT</td>\n      <td>Asia</td>\n      <td>Qatar</td>\n      <td>2881060.0</td>\n      <td>227.322</td>\n      <td>31.9</td>\n      <td>1.307</td>\n      <td>0.617</td>\n      <td>116935.600</td>\n      <td>NaN</td>\n      <td>176.690</td>\n      <td>16.52</td>\n      <td>0.8</td>\n      <td>26.9</td>\n      <td>NaN</td>\n      <td>1.20</td>\n      <td>80.23</td>\n      <td>0.848</td>\n      <td>1</td>\n    </tr>\n    <tr>\n      <th>1</th>\n      <td>MAC</td>\n      <td>Asia</td>\n      <td>Macao</td>\n      <td>649342.0</td>\n      <td>20546.766</td>\n      <td>39.2</td>\n      <td>9.798</td>\n      <td>4.991</td>\n      <td>104861.851</td>\n      <td>NaN</td>\n      <td>NaN</td>\n      <td>NaN</td>\n      <td>NaN</td>\n      <td>NaN</td>\n      <td>NaN</td>\n      <td>NaN</td>\n      <td>84.24</td>\n      <td>NaN</td>\n      <td>1</td>\n    </tr>\n    <tr>\n      <th>2</th>\n      <td>LUX</td>\n      <td>Europe</td>\n      <td>Luxembourg</td>\n      <td>625976.0</td>\n      <td>231.447</td>\n      <td>39.7</td>\n      <td>14.312</td>\n      <td>9.842</td>\n      <td>94277.965</td>\n      <td>0.2</td>\n      <td>128.275</td>\n      <td>4.42</td>\n      <td>20.9</td>\n      <td>26.0</td>\n      <td>NaN</td>\n      <td>4.51</td>\n      <td>82.25</td>\n      <td>0.916</td>\n      <td>1</td>\n    </tr>\n    <tr>\n      <th>3</th>\n      <td>SGP</td>\n      <td>Asia</td>\n      <td>Singapore</td>\n      <td>5850343.0</td>\n      <td>7915.731</td>\n      <td>42.4</td>\n      <td>12.922</td>\n      <td>7.049</td>\n      <td>85535.383</td>\n      <td>NaN</td>\n      <td>92.243</td>\n      <td>10.99</td>\n      <td>5.2</td>\n      <td>28.3</td>\n      <td>NaN</td>\n      <td>2.40</td>\n      <td>83.62</td>\n      <td>0.938</td>\n      <td>1</td>\n    </tr>\n    <tr>\n      <th>4</th>\n      <td>BRN</td>\n      <td>Asia</td>\n      <td>Brunei</td>\n      <td>437483.0</td>\n      <td>81.347</td>\n      <td>32.4</td>\n      <td>4.591</td>\n      <td>2.382</td>\n      <td>71809.251</td>\n      <td>NaN</td>\n      <td>201.285</td>\n      <td>12.79</td>\n      <td>2.0</td>\n      <td>30.9</td>\n      <td>NaN</td>\n      <td>2.70</td>\n      <td>75.86</td>\n      <td>0.838</td>\n      <td>1</td>\n    </tr>\n    <tr>\n      <th>...</th>\n      <td>...</td>\n      <td>...</td>\n      <td>...</td>\n      <td>...</td>\n      <td>...</td>\n      <td>...</td>\n      <td>...</td>\n      <td>...</td>\n      <td>...</td>\n      <td>...</td>\n      <td>...</td>\n      <td>...</td>\n      <td>...</td>\n      <td>...</td>\n      <td>...</td>\n      <td>...</td>\n      <td>...</td>\n      <td>...</td>\n      <td>...</td>\n    </tr>\n    <tr>\n      <th>187</th>\n      <td>NER</td>\n      <td>Africa</td>\n      <td>Niger</td>\n      <td>24206636.0</td>\n      <td>16.955</td>\n      <td>15.1</td>\n      <td>2.553</td>\n      <td>1.378</td>\n      <td>926.000</td>\n      <td>44.5</td>\n      <td>238.339</td>\n      <td>2.42</td>\n      <td>0.1</td>\n      <td>15.4</td>\n      <td>8.978</td>\n      <td>0.30</td>\n      <td>62.42</td>\n      <td>0.394</td>\n      <td>4</td>\n    </tr>\n    <tr>\n      <th>188</th>\n      <td>COD</td>\n      <td>Africa</td>\n      <td>Democratic Republic of Congo</td>\n      <td>89561404.0</td>\n      <td>35.879</td>\n      <td>17.0</td>\n      <td>3.020</td>\n      <td>1.745</td>\n      <td>808.133</td>\n      <td>77.1</td>\n      <td>318.949</td>\n      <td>6.10</td>\n      <td>NaN</td>\n      <td>NaN</td>\n      <td>4.472</td>\n      <td>NaN</td>\n      <td>60.68</td>\n      <td>0.480</td>\n      <td>4</td>\n    </tr>\n    <tr>\n      <th>189</th>\n      <td>LBR</td>\n      <td>Africa</td>\n      <td>Liberia</td>\n      <td>5057677.0</td>\n      <td>49.127</td>\n      <td>19.2</td>\n      <td>3.057</td>\n      <td>1.756</td>\n      <td>752.788</td>\n      <td>38.6</td>\n      <td>272.509</td>\n      <td>2.42</td>\n      <td>1.5</td>\n      <td>18.1</td>\n      <td>1.188</td>\n      <td>0.80</td>\n      <td>64.10</td>\n      <td>0.480</td>\n      <td>4</td>\n    </tr>\n    <tr>\n      <th>190</th>\n      <td>BDI</td>\n      <td>Africa</td>\n      <td>Burundi</td>\n      <td>11890781.0</td>\n      <td>423.062</td>\n      <td>17.5</td>\n      <td>2.562</td>\n      <td>1.504</td>\n      <td>702.225</td>\n      <td>71.7</td>\n      <td>293.068</td>\n      <td>6.05</td>\n      <td>NaN</td>\n      <td>NaN</td>\n      <td>6.144</td>\n      <td>0.80</td>\n      <td>61.58</td>\n      <td>0.433</td>\n      <td>4</td>\n    </tr>\n    <tr>\n      <th>191</th>\n      <td>CAF</td>\n      <td>Africa</td>\n      <td>Central African Republic</td>\n      <td>4829764.0</td>\n      <td>7.479</td>\n      <td>18.3</td>\n      <td>3.655</td>\n      <td>2.251</td>\n      <td>661.240</td>\n      <td>NaN</td>\n      <td>435.727</td>\n      <td>6.10</td>\n      <td>NaN</td>\n      <td>NaN</td>\n      <td>16.603</td>\n      <td>1.00</td>\n      <td>53.28</td>\n      <td>0.397</td>\n      <td>4</td>\n    </tr>\n  </tbody>\n</table>\n<p>192 rows × 19 columns</p>\n</div>"
     },
     "metadata": {},
     "execution_count": 112
    }
   ],
   "source": [
    "country_data['gdp_per_cap_percentile'] = gdp_percentile_list\n",
    "\n",
    "country_data"
   ]
  },
  {
   "cell_type": "code",
   "execution_count": 113,
   "metadata": {},
   "outputs": [],
   "source": [
    "country_data.to_csv('data/country_data.csv', index=False)"
   ]
  },
  {
   "source": [
    "Testing that worked okay. Each of the percentile sections should have the same number of countries in them"
   ],
   "cell_type": "markdown",
   "metadata": {}
  },
  {
   "cell_type": "code",
   "execution_count": 114,
   "metadata": {},
   "outputs": [
    {
     "output_type": "stream",
     "name": "stdout",
     "text": [
      "1 48\n2 48\n3 48\n4 48\n"
     ]
    }
   ],
   "source": [
    "for option in country_data['gdp_per_cap_percentile'].drop_duplicates():\n",
    "    print(option, len(country_data[country_data['gdp_per_cap_percentile'] == option]))"
   ]
  },
  {
   "source": [
    "Finally lets apply this back to the country df, which is the dataset with all the country specific coviid data"
   ],
   "cell_type": "markdown",
   "metadata": {}
  },
  {
   "cell_type": "code",
   "execution_count": 115,
   "metadata": {},
   "outputs": [],
   "source": [
    "gdp_percentile_dict = country_data.set_index('iso_code').to_dict('dict')['gdp_per_cap_percentile']"
   ]
  },
  {
   "cell_type": "code",
   "execution_count": 116,
   "metadata": {},
   "outputs": [],
   "source": [
    "def get_gdp_percentile(iso_code):\n",
    "    try: return int(round(gdp_percentile_dict[iso_code]))\n",
    "    except: return np.nan"
   ]
  },
  {
   "cell_type": "code",
   "execution_count": 117,
   "metadata": {},
   "outputs": [
    {
     "output_type": "stream",
     "name": "stderr",
     "text": [
      "ipykernel_launcher:1: SettingWithCopyWarning: \nA value is trying to be set on a copy of a slice from a DataFrame.\nTry using .loc[row_indexer,col_indexer] = value instead\n\nSee the caveats in the documentation: https://pandas.pydata.org/pandas-docs/stable/user_guide/indexing.html#returning-a-view-versus-a-copy\n"
     ]
    },
    {
     "output_type": "execute_result",
     "data": {
      "text/plain": [
       "      iso_code      continent              location        date  total_cases  \\\n",
       "55550      MEX  North America                Mexico  2020-01-01          NaN   \n",
       "3412       ARG  South America             Argentina  2020-01-01          NaN   \n",
       "3413       ARG  South America             Argentina  2020-01-02          NaN   \n",
       "55551      MEX  North America                Mexico  2020-01-02          NaN   \n",
       "3414       ARG  South America             Argentina  2020-01-03          NaN   \n",
       "...        ...            ...                   ...         ...          ...   \n",
       "38026      HND  North America              Honduras  2021-06-13     247728.0   \n",
       "89987      ARE           Asia  United Arab Emirates  2021-06-13     597986.0   \n",
       "37566      HTI  North America                 Haiti  2021-06-13      16079.0   \n",
       "39976      IND           Asia                 India  2021-06-13   29510410.0   \n",
       "42987      ISR           Asia                Israel  2021-06-14          NaN   \n",
       "\n",
       "       new_cases  new_cases_smoothed  total_deaths  new_deaths  \\\n",
       "55550        NaN                 NaN           NaN         NaN   \n",
       "3412         NaN                 NaN           NaN         NaN   \n",
       "3413         NaN                 NaN           NaN         NaN   \n",
       "55551        NaN                 NaN           NaN         NaN   \n",
       "3414         NaN                 NaN           NaN         NaN   \n",
       "...          ...                 ...           ...         ...   \n",
       "38026      654.0             843.143        6631.0        25.0   \n",
       "89987     1969.0            2130.714        1726.0         2.0   \n",
       "37566        0.0             113.857         346.0         0.0   \n",
       "39976    70421.0           85776.429      374305.0      3921.0   \n",
       "42987        NaN                 NaN           NaN         NaN   \n",
       "\n",
       "       new_deaths_smoothed  ...  cardiovasc_death_rate  diabetes_prevalence  \\\n",
       "55550                  NaN  ...                152.783                13.06   \n",
       "3412                   NaN  ...                191.032                 5.50   \n",
       "3413                   NaN  ...                191.032                 5.50   \n",
       "55551                  NaN  ...                152.783                13.06   \n",
       "3414                   NaN  ...                191.032                 5.50   \n",
       "...                    ...  ...                    ...                  ...   \n",
       "38026               21.714  ...                240.208                 7.21   \n",
       "89987                3.857  ...                317.840                17.26   \n",
       "37566                3.286  ...                430.548                 6.65   \n",
       "39976             3588.429  ...                282.280                10.39   \n",
       "42987                  NaN  ...                 93.320                 6.74   \n",
       "\n",
       "       female_smokers  male_smokers  handwashing_facilities  \\\n",
       "55550             6.9          21.4                  87.847   \n",
       "3412             16.2          27.7                     NaN   \n",
       "3413             16.2          27.7                     NaN   \n",
       "55551             6.9          21.4                  87.847   \n",
       "3414             16.2          27.7                     NaN   \n",
       "...               ...           ...                     ...   \n",
       "38026             2.0           NaN                  84.169   \n",
       "89987             1.2          37.4                     NaN   \n",
       "37566             2.9          23.1                  22.863   \n",
       "39976             1.9          20.6                  59.550   \n",
       "42987            15.4          35.4                     NaN   \n",
       "\n",
       "       hospital_beds_per_thousand  life_expectancy  human_development_index  \\\n",
       "55550                        1.38            75.05                    0.779   \n",
       "3412                         5.00            76.67                    0.845   \n",
       "3413                         5.00            76.67                    0.845   \n",
       "55551                        1.38            75.05                    0.779   \n",
       "3414                         5.00            76.67                    0.845   \n",
       "...                           ...              ...                      ...   \n",
       "38026                        0.70            75.27                    0.634   \n",
       "89987                        1.20            77.97                    0.890   \n",
       "37566                        0.70            64.00                    0.510   \n",
       "39976                        0.53            69.66                    0.645   \n",
       "42987                        2.99            82.97                    0.919   \n",
       "\n",
       "       excess_mortality  gdp_per_cap_percentile  \n",
       "55550               NaN                     2.0  \n",
       "3412                NaN                     2.0  \n",
       "3413                NaN                     2.0  \n",
       "55551               NaN                     2.0  \n",
       "3414                NaN                     2.0  \n",
       "...                 ...                     ...  \n",
       "38026               NaN                     3.0  \n",
       "89987               NaN                     1.0  \n",
       "37566               NaN                     4.0  \n",
       "39976               NaN                     3.0  \n",
       "42987               NaN                     1.0  \n",
       "\n",
       "[90380 rows x 61 columns]"
      ],
      "text/html": "<div>\n<style scoped>\n    .dataframe tbody tr th:only-of-type {\n        vertical-align: middle;\n    }\n\n    .dataframe tbody tr th {\n        vertical-align: top;\n    }\n\n    .dataframe thead th {\n        text-align: right;\n    }\n</style>\n<table border=\"1\" class=\"dataframe\">\n  <thead>\n    <tr style=\"text-align: right;\">\n      <th></th>\n      <th>iso_code</th>\n      <th>continent</th>\n      <th>location</th>\n      <th>date</th>\n      <th>total_cases</th>\n      <th>new_cases</th>\n      <th>new_cases_smoothed</th>\n      <th>total_deaths</th>\n      <th>new_deaths</th>\n      <th>new_deaths_smoothed</th>\n      <th>...</th>\n      <th>cardiovasc_death_rate</th>\n      <th>diabetes_prevalence</th>\n      <th>female_smokers</th>\n      <th>male_smokers</th>\n      <th>handwashing_facilities</th>\n      <th>hospital_beds_per_thousand</th>\n      <th>life_expectancy</th>\n      <th>human_development_index</th>\n      <th>excess_mortality</th>\n      <th>gdp_per_cap_percentile</th>\n    </tr>\n  </thead>\n  <tbody>\n    <tr>\n      <th>55550</th>\n      <td>MEX</td>\n      <td>North America</td>\n      <td>Mexico</td>\n      <td>2020-01-01</td>\n      <td>NaN</td>\n      <td>NaN</td>\n      <td>NaN</td>\n      <td>NaN</td>\n      <td>NaN</td>\n      <td>NaN</td>\n      <td>...</td>\n      <td>152.783</td>\n      <td>13.06</td>\n      <td>6.9</td>\n      <td>21.4</td>\n      <td>87.847</td>\n      <td>1.38</td>\n      <td>75.05</td>\n      <td>0.779</td>\n      <td>NaN</td>\n      <td>2.0</td>\n    </tr>\n    <tr>\n      <th>3412</th>\n      <td>ARG</td>\n      <td>South America</td>\n      <td>Argentina</td>\n      <td>2020-01-01</td>\n      <td>NaN</td>\n      <td>NaN</td>\n      <td>NaN</td>\n      <td>NaN</td>\n      <td>NaN</td>\n      <td>NaN</td>\n      <td>...</td>\n      <td>191.032</td>\n      <td>5.50</td>\n      <td>16.2</td>\n      <td>27.7</td>\n      <td>NaN</td>\n      <td>5.00</td>\n      <td>76.67</td>\n      <td>0.845</td>\n      <td>NaN</td>\n      <td>2.0</td>\n    </tr>\n    <tr>\n      <th>3413</th>\n      <td>ARG</td>\n      <td>South America</td>\n      <td>Argentina</td>\n      <td>2020-01-02</td>\n      <td>NaN</td>\n      <td>NaN</td>\n      <td>NaN</td>\n      <td>NaN</td>\n      <td>NaN</td>\n      <td>NaN</td>\n      <td>...</td>\n      <td>191.032</td>\n      <td>5.50</td>\n      <td>16.2</td>\n      <td>27.7</td>\n      <td>NaN</td>\n      <td>5.00</td>\n      <td>76.67</td>\n      <td>0.845</td>\n      <td>NaN</td>\n      <td>2.0</td>\n    </tr>\n    <tr>\n      <th>55551</th>\n      <td>MEX</td>\n      <td>North America</td>\n      <td>Mexico</td>\n      <td>2020-01-02</td>\n      <td>NaN</td>\n      <td>NaN</td>\n      <td>NaN</td>\n      <td>NaN</td>\n      <td>NaN</td>\n      <td>NaN</td>\n      <td>...</td>\n      <td>152.783</td>\n      <td>13.06</td>\n      <td>6.9</td>\n      <td>21.4</td>\n      <td>87.847</td>\n      <td>1.38</td>\n      <td>75.05</td>\n      <td>0.779</td>\n      <td>NaN</td>\n      <td>2.0</td>\n    </tr>\n    <tr>\n      <th>3414</th>\n      <td>ARG</td>\n      <td>South America</td>\n      <td>Argentina</td>\n      <td>2020-01-03</td>\n      <td>NaN</td>\n      <td>NaN</td>\n      <td>NaN</td>\n      <td>NaN</td>\n      <td>NaN</td>\n      <td>NaN</td>\n      <td>...</td>\n      <td>191.032</td>\n      <td>5.50</td>\n      <td>16.2</td>\n      <td>27.7</td>\n      <td>NaN</td>\n      <td>5.00</td>\n      <td>76.67</td>\n      <td>0.845</td>\n      <td>NaN</td>\n      <td>2.0</td>\n    </tr>\n    <tr>\n      <th>...</th>\n      <td>...</td>\n      <td>...</td>\n      <td>...</td>\n      <td>...</td>\n      <td>...</td>\n      <td>...</td>\n      <td>...</td>\n      <td>...</td>\n      <td>...</td>\n      <td>...</td>\n      <td>...</td>\n      <td>...</td>\n      <td>...</td>\n      <td>...</td>\n      <td>...</td>\n      <td>...</td>\n      <td>...</td>\n      <td>...</td>\n      <td>...</td>\n      <td>...</td>\n      <td>...</td>\n    </tr>\n    <tr>\n      <th>38026</th>\n      <td>HND</td>\n      <td>North America</td>\n      <td>Honduras</td>\n      <td>2021-06-13</td>\n      <td>247728.0</td>\n      <td>654.0</td>\n      <td>843.143</td>\n      <td>6631.0</td>\n      <td>25.0</td>\n      <td>21.714</td>\n      <td>...</td>\n      <td>240.208</td>\n      <td>7.21</td>\n      <td>2.0</td>\n      <td>NaN</td>\n      <td>84.169</td>\n      <td>0.70</td>\n      <td>75.27</td>\n      <td>0.634</td>\n      <td>NaN</td>\n      <td>3.0</td>\n    </tr>\n    <tr>\n      <th>89987</th>\n      <td>ARE</td>\n      <td>Asia</td>\n      <td>United Arab Emirates</td>\n      <td>2021-06-13</td>\n      <td>597986.0</td>\n      <td>1969.0</td>\n      <td>2130.714</td>\n      <td>1726.0</td>\n      <td>2.0</td>\n      <td>3.857</td>\n      <td>...</td>\n      <td>317.840</td>\n      <td>17.26</td>\n      <td>1.2</td>\n      <td>37.4</td>\n      <td>NaN</td>\n      <td>1.20</td>\n      <td>77.97</td>\n      <td>0.890</td>\n      <td>NaN</td>\n      <td>1.0</td>\n    </tr>\n    <tr>\n      <th>37566</th>\n      <td>HTI</td>\n      <td>North America</td>\n      <td>Haiti</td>\n      <td>2021-06-13</td>\n      <td>16079.0</td>\n      <td>0.0</td>\n      <td>113.857</td>\n      <td>346.0</td>\n      <td>0.0</td>\n      <td>3.286</td>\n      <td>...</td>\n      <td>430.548</td>\n      <td>6.65</td>\n      <td>2.9</td>\n      <td>23.1</td>\n      <td>22.863</td>\n      <td>0.70</td>\n      <td>64.00</td>\n      <td>0.510</td>\n      <td>NaN</td>\n      <td>4.0</td>\n    </tr>\n    <tr>\n      <th>39976</th>\n      <td>IND</td>\n      <td>Asia</td>\n      <td>India</td>\n      <td>2021-06-13</td>\n      <td>29510410.0</td>\n      <td>70421.0</td>\n      <td>85776.429</td>\n      <td>374305.0</td>\n      <td>3921.0</td>\n      <td>3588.429</td>\n      <td>...</td>\n      <td>282.280</td>\n      <td>10.39</td>\n      <td>1.9</td>\n      <td>20.6</td>\n      <td>59.550</td>\n      <td>0.53</td>\n      <td>69.66</td>\n      <td>0.645</td>\n      <td>NaN</td>\n      <td>3.0</td>\n    </tr>\n    <tr>\n      <th>42987</th>\n      <td>ISR</td>\n      <td>Asia</td>\n      <td>Israel</td>\n      <td>2021-06-14</td>\n      <td>NaN</td>\n      <td>NaN</td>\n      <td>NaN</td>\n      <td>NaN</td>\n      <td>NaN</td>\n      <td>NaN</td>\n      <td>...</td>\n      <td>93.320</td>\n      <td>6.74</td>\n      <td>15.4</td>\n      <td>35.4</td>\n      <td>NaN</td>\n      <td>2.99</td>\n      <td>82.97</td>\n      <td>0.919</td>\n      <td>NaN</td>\n      <td>1.0</td>\n    </tr>\n  </tbody>\n</table>\n<p>90380 rows × 61 columns</p>\n</div>"
     },
     "metadata": {},
     "execution_count": 117
    }
   ],
   "source": [
    "country_df['gdp_per_cap_percentile'] = country_df['iso_code'].apply(get_gdp_percentile)\n",
    "\n",
    "country_df"
   ]
  },
  {
   "cell_type": "code",
   "execution_count": 118,
   "metadata": {},
   "outputs": [],
   "source": [
    "country_df.to_csv('data/country_covid_data.csv', index=False)"
   ]
  },
  {
   "source": [
    "## Aggregating covid data"
   ],
   "cell_type": "markdown",
   "metadata": {}
  },
  {
   "source": [
    "Finally we can look at the covid data by country gdp per capita percentile"
   ],
   "cell_type": "markdown",
   "metadata": {}
  },
  {
   "cell_type": "code",
   "execution_count": null,
   "metadata": {},
   "outputs": [],
   "source": []
  },
  {
   "cell_type": "code",
   "execution_count": 119,
   "metadata": {},
   "outputs": [],
   "source": [
    "covid_fields = [\n",
    " 'total_cases',\n",
    " 'new_cases',\n",
    " 'new_cases_smoothed',\n",
    " 'total_deaths',\n",
    " 'new_deaths',\n",
    " 'new_deaths_smoothed',\n",
    " 'icu_patients',\n",
    " 'hosp_patients',\n",
    " 'weekly_icu_admissions',\n",
    " 'weekly_hosp_admissions',\n",
    " 'new_tests',\n",
    " 'total_tests',\n",
    " 'new_tests_smoothed',\n",
    " 'positive_rate',\n",
    "#  'tests_units',\n",
    " 'total_vaccinations',\n",
    " 'people_vaccinated',\n",
    " 'people_fully_vaccinated',\n",
    " 'new_vaccinations',\n",
    " 'new_vaccinations_smoothed',\n",
    "#  'population',\n",
    "#  'aged_65_older',\n",
    "#  'aged_70_older',\n",
    " ]"
   ]
  },
  {
   "cell_type": "code",
   "execution_count": 120,
   "metadata": {},
   "outputs": [],
   "source": [
    "cummalitive_covid_fields = ['total_cases',\n",
    " 'total_deaths',\n",
    " 'total_tests',\n",
    " 'total_vaccinations',\n",
    " 'people_vaccinated',\n",
    " 'people_fully_vaccinated']\n",
    "\n",
    "changing_covid_fields = [\n",
    " 'new_cases',\n",
    " 'new_cases_smoothed',\n",
    " 'new_deaths',\n",
    " 'new_deaths_smoothed',\n",
    " 'icu_patients',\n",
    " 'hosp_patients',\n",
    " 'weekly_icu_admissions',\n",
    " 'weekly_hosp_admissions',\n",
    " 'new_tests',\n",
    " 'new_tests_smoothed',\n",
    " 'positive_rate',\n",
    " 'new_vaccinations']"
   ]
  },
  {
   "cell_type": "code",
   "execution_count": 121,
   "metadata": {},
   "outputs": [],
   "source": [
    "percentile_options = list(country_df['gdp_per_cap_percentile'].drop_duplicates())\n",
    "\n",
    "dates = list(country_df['date'].drop_duplicates())"
   ]
  },
  {
   "cell_type": "code",
   "execution_count": 122,
   "metadata": {},
   "outputs": [],
   "source": [
    "countries = list(country_df['location'].drop_duplicates())"
   ]
  },
  {
   "source": [
    "As the streamgraph uses total vaccines per date we need to fill in any dates for countries with missing data for that date"
   ],
   "cell_type": "markdown",
   "metadata": {}
  },
  {
   "cell_type": "code",
   "execution_count": 123,
   "metadata": {},
   "outputs": [
    {
     "output_type": "stream",
     "name": "stderr",
     "text": [
      "100%|██████████| 218/218 [01:35<00:00,  2.28it/s]\n"
     ]
    }
   ],
   "source": [
    "new_data = []\n",
    "for country in tqdm(countries):\n",
    "    df_temp = country_df[country_df['location'] == country]\n",
    "    country_dates = list(df_temp['date'].drop_duplicates())\n",
    "\n",
    "    country_data_started = False\n",
    "    for date in dates:\n",
    "        try:\n",
    "            row = df_temp[df_temp['date']==date].iloc[0]\n",
    "            country_data_started = True\n",
    "\n",
    "            new_data.append(list(row))\n",
    "\n",
    "            last_row = row.copy()\n",
    "        except:\n",
    "            if country_data_started:\n",
    "                # print(country, 'Missing data on date:', date)\n",
    "\n",
    "                row = last_row.copy()\n",
    "\n",
    "                row['date'] = date\n",
    "\n",
    "                for field in changing_covid_fields:\n",
    "                    row[field] = 0\n",
    "\n",
    "                new_data.append(list(row))\n",
    "\n",
    "            else:\n",
    "                pass\n",
    "\n",
    "new_country_df = pd.DataFrame(new_data, columns = list(country_df))"
   ]
  },
  {
   "cell_type": "code",
   "execution_count": 124,
   "metadata": {},
   "outputs": [],
   "source": [
    "country_df = new_country_df"
   ]
  },
  {
   "source": [
    "Running test on data"
   ],
   "cell_type": "markdown",
   "metadata": {}
  },
  {
   "cell_type": "code",
   "execution_count": 125,
   "metadata": {
    "tags": []
   },
   "outputs": [],
   "source": [
    "for country in country_df['location'].drop_duplicates().sort_values():\n",
    "    df_temp = country_df[country_df['location']==country]\n",
    "    old_value = 0\n",
    "\n",
    "    date_start = df_temp['date'].min()\n",
    "\n",
    "    day = date_start\n",
    "\n",
    "    # print('Data starts at:', day)\n",
    "    for index, row in df_temp.iterrows():\n",
    "        value = row['total_vaccinations']\n",
    "        date = row['date']\n",
    "\n",
    "        if date != day:\n",
    "            print(country, 'missing date:', day + datetime.timedelta(days=1))\n",
    "\n",
    "        if value < old_value:\n",
    "            print(country, 'decreases on', date)\n",
    "\n",
    "        old_value = value\n",
    "        day = day + datetime.timedelta(days=1)\n",
    "\n",
    "    last_date = dates[-1]\n",
    "    date_end = df_temp['date'].max()\n",
    "\n",
    "    if last_date != date_end:\n",
    "        print(country, 'data ends in', date_end)"
   ]
  },
  {
   "source": [
    "Agregating the data to the level of the percentile group"
   ],
   "cell_type": "markdown",
   "metadata": {}
  },
  {
   "cell_type": "code",
   "execution_count": 126,
   "metadata": {},
   "outputs": [],
   "source": [
    "def prep_numbers(value):\n",
    "    try: \n",
    "        return float(value)\n",
    "    except: \n",
    "        print('Failed to prep', value)\n",
    "        return np.nan"
   ]
  },
  {
   "cell_type": "code",
   "execution_count": 127,
   "metadata": {},
   "outputs": [],
   "source": [
    "def gdp_stringifyer(value):\n",
    "    option_dict = {\n",
    "        1: \"High\",\n",
    "        2: \"Upper middle\",\n",
    "        3: \"Lower middle\",\n",
    "        4: \"Low\"\n",
    "    }\n",
    "\n",
    "    try: return option_dict[int(value)]\n",
    "    except: return np.nan"
   ]
  },
  {
   "cell_type": "code",
   "execution_count": 128,
   "metadata": {},
   "outputs": [
    {
     "output_type": "execute_result",
     "data": {
      "text/plain": [
       "[1.0, 2.0, 3.0, 4.0]"
      ]
     },
     "metadata": {},
     "execution_count": 128
    }
   ],
   "source": [
    "list(country_df['gdp_per_cap_percentile'].drop_duplicates().dropna().sort_values())"
   ]
  },
  {
   "cell_type": "code",
   "execution_count": 129,
   "metadata": {},
   "outputs": [],
   "source": [
    "country_df['gdp_per_cap_percentile'] = country_df['gdp_per_cap_percentile'].apply(gdp_stringifyer)"
   ]
  },
  {
   "cell_type": "code",
   "execution_count": 130,
   "metadata": {},
   "outputs": [],
   "source": [
    "percentile_options = list(country_df['gdp_per_cap_percentile'].drop_duplicates().dropna().sort_values())"
   ]
  },
  {
   "cell_type": "code",
   "execution_count": 131,
   "metadata": {
    "tags": []
   },
   "outputs": [
    {
     "output_type": "stream",
     "name": "stderr",
     "text": [
      "100%|██████████| 4/4 [00:13<00:00,  3.43s/it]\n"
     ]
    }
   ],
   "source": [
    "new_data = []\n",
    "new_header = ['gdp_per_cap_percentile', 'date'] + covid_fields\n",
    "total_vaccines_list = []\n",
    "for percentile_option in tqdm(percentile_options):\n",
    "    # print(percentile_option)\n",
    "    percentile_option_df = country_df[country_df['gdp_per_cap_percentile'] == percentile_option].copy()\n",
    "\n",
    "    countries_found = []\n",
    "    for date in dates:\n",
    "        new_row = [percentile_option, date].copy()\n",
    "        percentile_option_date_df = percentile_option_df[percentile_option_df['date'] == date].copy()\n",
    "\n",
    "        # print(list(percentile_option_date_df['date'].drop_duplicates()))\n",
    "\n",
    "        countries_found_for_date = list(percentile_option_date_df['location'].drop_duplicates())\n",
    "\n",
    "        for c in countries_found_for_date:\n",
    "            if c not in countries_found:\n",
    "                countries_found.append(c)\n",
    "\n",
    "        for j in countries_found:\n",
    "            if j not in countries_found_for_date:\n",
    "                print(j, 'not found in', percentile_option, 'on date:', date)\n",
    "\n",
    "        for field in covid_fields:\n",
    "            try:\n",
    "                new_value = percentile_option_date_df[field].sum()\n",
    "            except:\n",
    "                print(percentile_option_date_df)\n",
    "                new_value = percentile_option_date_df[field].sum()\n",
    "\n",
    "\n",
    "            new_row.append(new_value)\n",
    "\n",
    "        # if len(df_temp_date) == 47: \n",
    "        new_data.append(new_row)\n",
    "\n",
    "gdp_percentile_data = pd.DataFrame(new_data, columns = new_header)"
   ]
  },
  {
   "cell_type": "code",
   "execution_count": 132,
   "metadata": {},
   "outputs": [
    {
     "output_type": "execute_result",
     "data": {
      "text/plain": [
       "     gdp_per_cap_percentile        date  total_cases  new_cases  \\\n",
       "0                      High  2020-01-01          0.0        0.0   \n",
       "1                      High  2020-01-02          0.0        0.0   \n",
       "2                      High  2020-01-03          0.0        0.0   \n",
       "3                      High  2020-01-04          0.0        0.0   \n",
       "4                      High  2020-01-05          0.0        0.0   \n",
       "...                     ...         ...          ...        ...   \n",
       "2119           Upper middle  2021-06-10   57075515.0   226610.0   \n",
       "2120           Upper middle  2021-06-11   57293532.0   218017.0   \n",
       "2121           Upper middle  2021-06-12   57491720.0   198188.0   \n",
       "2122           Upper middle  2021-06-13   57636067.0   144347.0   \n",
       "2123           Upper middle  2021-06-14   57636067.0        0.0   \n",
       "\n",
       "      new_cases_smoothed  total_deaths  new_deaths  new_deaths_smoothed  \\\n",
       "0                  0.000           0.0         0.0                0.000   \n",
       "1                  0.000           0.0         0.0                0.000   \n",
       "2                  0.000           0.0         0.0                0.000   \n",
       "3                  0.000           0.0         0.0                0.000   \n",
       "4                  0.000           0.0         0.0                0.000   \n",
       "...                  ...           ...         ...                  ...   \n",
       "2119          177598.570     1497650.0      5577.0             4471.998   \n",
       "2120          184192.143     1502802.0      5152.0             4627.287   \n",
       "2121          186199.999     1507394.0      4592.0             4677.144   \n",
       "2122          186905.284     1510475.0      3081.0             4693.569   \n",
       "2123               0.000     1510475.0         0.0                0.000   \n",
       "\n",
       "      icu_patients  hosp_patients  ...  weekly_hosp_admissions  new_tests  \\\n",
       "0              0.0            0.0  ...                     0.0        0.0   \n",
       "1              0.0            0.0  ...                     0.0        0.0   \n",
       "2              0.0            0.0  ...                     0.0        0.0   \n",
       "3              0.0            0.0  ...                     0.0        0.0   \n",
       "4              0.0            0.0  ...                     0.0        0.0   \n",
       "...            ...            ...  ...                     ...        ...   \n",
       "2119           0.0            0.0  ...                     0.0  1059319.0   \n",
       "2120           0.0            0.0  ...                     0.0    72844.0   \n",
       "2121           0.0            0.0  ...                     0.0        0.0   \n",
       "2122           0.0            0.0  ...                     0.0        0.0   \n",
       "2123           0.0            0.0  ...                     0.0        0.0   \n",
       "\n",
       "      total_tests  new_tests_smoothed  positive_rate  total_vaccinations  \\\n",
       "0             0.0                 0.0          0.000        0.000000e+00   \n",
       "1             0.0                 0.0          0.000        0.000000e+00   \n",
       "2             0.0                 0.0          0.000        0.000000e+00   \n",
       "3             0.0                 0.0          0.000        0.000000e+00   \n",
       "4             0.0                 0.0          0.000        0.000000e+00   \n",
       "...           ...                 ...            ...                 ...   \n",
       "2119  298328662.0            978512.0          0.919        1.131704e+09   \n",
       "2120   32283416.0             78793.0          0.000        1.163483e+09   \n",
       "2121          0.0                 0.0          0.000        1.044817e+09   \n",
       "2122          0.0                 0.0          0.000        1.125746e+09   \n",
       "2123          0.0                 0.0          0.000        1.125746e+09   \n",
       "\n",
       "      people_vaccinated  people_fully_vaccinated  new_vaccinations  \\\n",
       "0                   0.0                      0.0               0.0   \n",
       "1                   0.0                      0.0               0.0   \n",
       "2                   0.0                      0.0               0.0   \n",
       "3                   0.0                      0.0               0.0   \n",
       "4                   0.0                      0.0               0.0   \n",
       "...                 ...                      ...               ...   \n",
       "2119        807209420.0              327974350.0        24603905.0   \n",
       "2120        194989847.0              108425773.0        22390812.0   \n",
       "2121        103655323.0               62044459.0        17403799.0   \n",
       "2122        152435181.0               79743078.0        15723501.0   \n",
       "2123        152435181.0               79743078.0               0.0   \n",
       "\n",
       "      new_vaccinations_smoothed  \n",
       "0                           0.0  \n",
       "1                           0.0  \n",
       "2                           0.0  \n",
       "3                           0.0  \n",
       "4                           0.0  \n",
       "...                         ...  \n",
       "2119                 21341777.0  \n",
       "2120                 20993205.0  \n",
       "2121                 19926265.0  \n",
       "2122                 19718368.0  \n",
       "2123                 19718368.0  \n",
       "\n",
       "[2124 rows x 21 columns]"
      ],
      "text/html": "<div>\n<style scoped>\n    .dataframe tbody tr th:only-of-type {\n        vertical-align: middle;\n    }\n\n    .dataframe tbody tr th {\n        vertical-align: top;\n    }\n\n    .dataframe thead th {\n        text-align: right;\n    }\n</style>\n<table border=\"1\" class=\"dataframe\">\n  <thead>\n    <tr style=\"text-align: right;\">\n      <th></th>\n      <th>gdp_per_cap_percentile</th>\n      <th>date</th>\n      <th>total_cases</th>\n      <th>new_cases</th>\n      <th>new_cases_smoothed</th>\n      <th>total_deaths</th>\n      <th>new_deaths</th>\n      <th>new_deaths_smoothed</th>\n      <th>icu_patients</th>\n      <th>hosp_patients</th>\n      <th>...</th>\n      <th>weekly_hosp_admissions</th>\n      <th>new_tests</th>\n      <th>total_tests</th>\n      <th>new_tests_smoothed</th>\n      <th>positive_rate</th>\n      <th>total_vaccinations</th>\n      <th>people_vaccinated</th>\n      <th>people_fully_vaccinated</th>\n      <th>new_vaccinations</th>\n      <th>new_vaccinations_smoothed</th>\n    </tr>\n  </thead>\n  <tbody>\n    <tr>\n      <th>0</th>\n      <td>High</td>\n      <td>2020-01-01</td>\n      <td>0.0</td>\n      <td>0.0</td>\n      <td>0.000</td>\n      <td>0.0</td>\n      <td>0.0</td>\n      <td>0.000</td>\n      <td>0.0</td>\n      <td>0.0</td>\n      <td>...</td>\n      <td>0.0</td>\n      <td>0.0</td>\n      <td>0.0</td>\n      <td>0.0</td>\n      <td>0.000</td>\n      <td>0.000000e+00</td>\n      <td>0.0</td>\n      <td>0.0</td>\n      <td>0.0</td>\n      <td>0.0</td>\n    </tr>\n    <tr>\n      <th>1</th>\n      <td>High</td>\n      <td>2020-01-02</td>\n      <td>0.0</td>\n      <td>0.0</td>\n      <td>0.000</td>\n      <td>0.0</td>\n      <td>0.0</td>\n      <td>0.000</td>\n      <td>0.0</td>\n      <td>0.0</td>\n      <td>...</td>\n      <td>0.0</td>\n      <td>0.0</td>\n      <td>0.0</td>\n      <td>0.0</td>\n      <td>0.000</td>\n      <td>0.000000e+00</td>\n      <td>0.0</td>\n      <td>0.0</td>\n      <td>0.0</td>\n      <td>0.0</td>\n    </tr>\n    <tr>\n      <th>2</th>\n      <td>High</td>\n      <td>2020-01-03</td>\n      <td>0.0</td>\n      <td>0.0</td>\n      <td>0.000</td>\n      <td>0.0</td>\n      <td>0.0</td>\n      <td>0.000</td>\n      <td>0.0</td>\n      <td>0.0</td>\n      <td>...</td>\n      <td>0.0</td>\n      <td>0.0</td>\n      <td>0.0</td>\n      <td>0.0</td>\n      <td>0.000</td>\n      <td>0.000000e+00</td>\n      <td>0.0</td>\n      <td>0.0</td>\n      <td>0.0</td>\n      <td>0.0</td>\n    </tr>\n    <tr>\n      <th>3</th>\n      <td>High</td>\n      <td>2020-01-04</td>\n      <td>0.0</td>\n      <td>0.0</td>\n      <td>0.000</td>\n      <td>0.0</td>\n      <td>0.0</td>\n      <td>0.000</td>\n      <td>0.0</td>\n      <td>0.0</td>\n      <td>...</td>\n      <td>0.0</td>\n      <td>0.0</td>\n      <td>0.0</td>\n      <td>0.0</td>\n      <td>0.000</td>\n      <td>0.000000e+00</td>\n      <td>0.0</td>\n      <td>0.0</td>\n      <td>0.0</td>\n      <td>0.0</td>\n    </tr>\n    <tr>\n      <th>4</th>\n      <td>High</td>\n      <td>2020-01-05</td>\n      <td>0.0</td>\n      <td>0.0</td>\n      <td>0.000</td>\n      <td>0.0</td>\n      <td>0.0</td>\n      <td>0.000</td>\n      <td>0.0</td>\n      <td>0.0</td>\n      <td>...</td>\n      <td>0.0</td>\n      <td>0.0</td>\n      <td>0.0</td>\n      <td>0.0</td>\n      <td>0.000</td>\n      <td>0.000000e+00</td>\n      <td>0.0</td>\n      <td>0.0</td>\n      <td>0.0</td>\n      <td>0.0</td>\n    </tr>\n    <tr>\n      <th>...</th>\n      <td>...</td>\n      <td>...</td>\n      <td>...</td>\n      <td>...</td>\n      <td>...</td>\n      <td>...</td>\n      <td>...</td>\n      <td>...</td>\n      <td>...</td>\n      <td>...</td>\n      <td>...</td>\n      <td>...</td>\n      <td>...</td>\n      <td>...</td>\n      <td>...</td>\n      <td>...</td>\n      <td>...</td>\n      <td>...</td>\n      <td>...</td>\n      <td>...</td>\n      <td>...</td>\n    </tr>\n    <tr>\n      <th>2119</th>\n      <td>Upper middle</td>\n      <td>2021-06-10</td>\n      <td>57075515.0</td>\n      <td>226610.0</td>\n      <td>177598.570</td>\n      <td>1497650.0</td>\n      <td>5577.0</td>\n      <td>4471.998</td>\n      <td>0.0</td>\n      <td>0.0</td>\n      <td>...</td>\n      <td>0.0</td>\n      <td>1059319.0</td>\n      <td>298328662.0</td>\n      <td>978512.0</td>\n      <td>0.919</td>\n      <td>1.131704e+09</td>\n      <td>807209420.0</td>\n      <td>327974350.0</td>\n      <td>24603905.0</td>\n      <td>21341777.0</td>\n    </tr>\n    <tr>\n      <th>2120</th>\n      <td>Upper middle</td>\n      <td>2021-06-11</td>\n      <td>57293532.0</td>\n      <td>218017.0</td>\n      <td>184192.143</td>\n      <td>1502802.0</td>\n      <td>5152.0</td>\n      <td>4627.287</td>\n      <td>0.0</td>\n      <td>0.0</td>\n      <td>...</td>\n      <td>0.0</td>\n      <td>72844.0</td>\n      <td>32283416.0</td>\n      <td>78793.0</td>\n      <td>0.000</td>\n      <td>1.163483e+09</td>\n      <td>194989847.0</td>\n      <td>108425773.0</td>\n      <td>22390812.0</td>\n      <td>20993205.0</td>\n    </tr>\n    <tr>\n      <th>2121</th>\n      <td>Upper middle</td>\n      <td>2021-06-12</td>\n      <td>57491720.0</td>\n      <td>198188.0</td>\n      <td>186199.999</td>\n      <td>1507394.0</td>\n      <td>4592.0</td>\n      <td>4677.144</td>\n      <td>0.0</td>\n      <td>0.0</td>\n      <td>...</td>\n      <td>0.0</td>\n      <td>0.0</td>\n      <td>0.0</td>\n      <td>0.0</td>\n      <td>0.000</td>\n      <td>1.044817e+09</td>\n      <td>103655323.0</td>\n      <td>62044459.0</td>\n      <td>17403799.0</td>\n      <td>19926265.0</td>\n    </tr>\n    <tr>\n      <th>2122</th>\n      <td>Upper middle</td>\n      <td>2021-06-13</td>\n      <td>57636067.0</td>\n      <td>144347.0</td>\n      <td>186905.284</td>\n      <td>1510475.0</td>\n      <td>3081.0</td>\n      <td>4693.569</td>\n      <td>0.0</td>\n      <td>0.0</td>\n      <td>...</td>\n      <td>0.0</td>\n      <td>0.0</td>\n      <td>0.0</td>\n      <td>0.0</td>\n      <td>0.000</td>\n      <td>1.125746e+09</td>\n      <td>152435181.0</td>\n      <td>79743078.0</td>\n      <td>15723501.0</td>\n      <td>19718368.0</td>\n    </tr>\n    <tr>\n      <th>2123</th>\n      <td>Upper middle</td>\n      <td>2021-06-14</td>\n      <td>57636067.0</td>\n      <td>0.0</td>\n      <td>0.000</td>\n      <td>1510475.0</td>\n      <td>0.0</td>\n      <td>0.000</td>\n      <td>0.0</td>\n      <td>0.0</td>\n      <td>...</td>\n      <td>0.0</td>\n      <td>0.0</td>\n      <td>0.0</td>\n      <td>0.0</td>\n      <td>0.000</td>\n      <td>1.125746e+09</td>\n      <td>152435181.0</td>\n      <td>79743078.0</td>\n      <td>0.0</td>\n      <td>19718368.0</td>\n    </tr>\n  </tbody>\n</table>\n<p>2124 rows × 21 columns</p>\n</div>"
     },
     "metadata": {},
     "execution_count": 132
    }
   ],
   "source": [
    "gdp_percentile_data#.head(5)"
   ]
  },
  {
   "cell_type": "code",
   "execution_count": 133,
   "metadata": {},
   "outputs": [],
   "source": [
    "gdp_percentile_data.to_csv('data/gdp_percentile_data.csv', index=False)"
   ]
  },
  {
   "source": [
    "Running tests"
   ],
   "cell_type": "markdown",
   "metadata": {}
  },
  {
   "cell_type": "code",
   "execution_count": 134,
   "metadata": {
    "tags": []
   },
   "outputs": [
    {
     "output_type": "stream",
     "name": "stdout",
     "text": [
      "High decreases on 2020-12-22\n",
      "High decreases on 2020-12-24\n",
      "High decreases on 2020-12-27\n",
      "High decreases on 2020-12-29\n",
      "High decreases on 2020-12-31\n",
      "High decreases on 2021-01-03\n",
      "High decreases on 2021-01-09\n",
      "High decreases on 2021-01-16\n",
      "High decreases on 2021-02-15\n",
      "High decreases on 2021-02-19\n",
      "High decreases on 2021-03-05\n",
      "High decreases on 2021-03-12\n",
      "High decreases on 2021-03-19\n",
      "High decreases on 2021-03-27\n",
      "High decreases on 2021-04-02\n",
      "High decreases on 2021-04-04\n",
      "High decreases on 2021-04-10\n",
      "High decreases on 2021-04-17\n",
      "High decreases on 2021-04-20\n",
      "High decreases on 2021-04-24\n",
      "High decreases on 2021-04-26\n",
      "High decreases on 2021-04-30\n",
      "High decreases on 2021-05-03\n",
      "High decreases on 2021-05-07\n",
      "High decreases on 2021-05-14\n",
      "High decreases on 2021-05-17\n",
      "High decreases on 2021-05-18\n",
      "High decreases on 2021-05-21\n",
      "High decreases on 2021-05-22\n",
      "High decreases on 2021-05-24\n",
      "High decreases on 2021-05-27\n",
      "High decreases on 2021-05-28\n",
      "High decreases on 2021-05-31\n",
      "High decreases on 2021-06-04\n",
      "High decreases on 2021-06-08\n",
      "High decreases on 2021-06-10\n",
      "High decreases on 2021-06-11\n",
      "High decreases on 2021-06-12\n",
      "High decreases on 2021-06-13\n",
      "High decreases on 2021-06-14\n",
      "Low decreases on 2021-01-29\n",
      "Low decreases on 2021-02-02\n",
      "Low decreases on 2021-02-05\n",
      "Low decreases on 2021-02-08\n",
      "Low decreases on 2021-02-11\n",
      "Low decreases on 2021-02-19\n",
      "Low decreases on 2021-02-21\n",
      "Low decreases on 2021-02-26\n",
      "Low decreases on 2021-03-01\n",
      "Low decreases on 2021-03-03\n",
      "Low decreases on 2021-03-05\n",
      "Low decreases on 2021-03-08\n",
      "Low decreases on 2021-03-10\n",
      "Low decreases on 2021-03-12\n",
      "Low decreases on 2021-03-15\n",
      "Low decreases on 2021-03-17\n",
      "Low decreases on 2021-03-19\n",
      "Low decreases on 2021-03-21\n",
      "Low decreases on 2021-03-23\n",
      "Low decreases on 2021-03-25\n",
      "Low decreases on 2021-03-26\n",
      "Low decreases on 2021-03-27\n",
      "Low decreases on 2021-03-28\n",
      "Low decreases on 2021-03-30\n",
      "Low decreases on 2021-04-01\n",
      "Low decreases on 2021-04-02\n",
      "Low decreases on 2021-04-06\n",
      "Low decreases on 2021-04-09\n",
      "Low decreases on 2021-04-12\n",
      "Low decreases on 2021-04-13\n",
      "Low decreases on 2021-04-14\n",
      "Low decreases on 2021-04-16\n",
      "Low decreases on 2021-04-17\n",
      "Low decreases on 2021-04-19\n",
      "Low decreases on 2021-04-21\n",
      "Low decreases on 2021-04-23\n",
      "Low decreases on 2021-04-29\n",
      "Low decreases on 2021-04-30\n",
      "Low decreases on 2021-05-07\n",
      "Low decreases on 2021-05-09\n",
      "Low decreases on 2021-05-10\n",
      "Low decreases on 2021-05-13\n",
      "Low decreases on 2021-05-14\n",
      "Low decreases on 2021-05-15\n",
      "Low decreases on 2021-05-19\n",
      "Low decreases on 2021-05-21\n",
      "Low decreases on 2021-05-23\n",
      "Low decreases on 2021-05-25\n",
      "Low decreases on 2021-05-26\n",
      "Low decreases on 2021-05-28\n",
      "Low decreases on 2021-05-30\n",
      "Low decreases on 2021-06-01\n",
      "Low decreases on 2021-06-02\n",
      "Low decreases on 2021-06-04\n",
      "Low decreases on 2021-06-07\n",
      "Low decreases on 2021-06-09\n",
      "Low decreases on 2021-06-11\n",
      "Low decreases on 2021-06-13\n",
      "Lower middle decreases on 2021-02-07\n",
      "Lower middle decreases on 2021-02-12\n",
      "Lower middle decreases on 2021-02-14\n",
      "Lower middle decreases on 2021-02-19\n",
      "Lower middle decreases on 2021-02-21\n",
      "Lower middle decreases on 2021-02-28\n",
      "Lower middle decreases on 2021-03-04\n",
      "Lower middle decreases on 2021-03-06\n",
      "Lower middle decreases on 2021-03-07\n",
      "Lower middle decreases on 2021-03-14\n",
      "Lower middle decreases on 2021-03-18\n",
      "Lower middle decreases on 2021-03-21\n",
      "Lower middle decreases on 2021-03-24\n",
      "Lower middle decreases on 2021-03-28\n",
      "Lower middle decreases on 2021-03-29\n",
      "Lower middle decreases on 2021-04-03\n",
      "Lower middle decreases on 2021-04-05\n",
      "Lower middle decreases on 2021-04-07\n",
      "Lower middle decreases on 2021-04-09\n",
      "Lower middle decreases on 2021-04-11\n",
      "Lower middle decreases on 2021-04-16\n",
      "Lower middle decreases on 2021-04-18\n",
      "Lower middle decreases on 2021-04-20\n",
      "Lower middle decreases on 2021-04-23\n",
      "Lower middle decreases on 2021-04-24\n",
      "Lower middle decreases on 2021-04-29\n",
      "Lower middle decreases on 2021-05-01\n",
      "Lower middle decreases on 2021-05-03\n",
      "Lower middle decreases on 2021-05-05\n",
      "Lower middle decreases on 2021-05-08\n",
      "Lower middle decreases on 2021-05-10\n",
      "Lower middle decreases on 2021-05-12\n",
      "Lower middle decreases on 2021-05-15\n",
      "Lower middle decreases on 2021-05-19\n",
      "Lower middle decreases on 2021-05-21\n",
      "Lower middle decreases on 2021-05-26\n",
      "Lower middle decreases on 2021-05-28\n",
      "Lower middle decreases on 2021-06-02\n",
      "Lower middle decreases on 2021-06-03\n",
      "Lower middle decreases on 2021-06-04\n",
      "Lower middle decreases on 2021-06-06\n",
      "Lower middle decreases on 2021-06-10\n",
      "Lower middle decreases on 2021-06-13\n",
      "Upper middle decreases on 2020-12-16\n",
      "Upper middle decreases on 2020-12-23\n",
      "Upper middle decreases on 2021-01-01\n",
      "Upper middle decreases on 2021-01-03\n",
      "Upper middle decreases on 2021-01-10\n",
      "Upper middle decreases on 2021-01-14\n",
      "Upper middle decreases on 2021-01-16\n",
      "Upper middle decreases on 2021-01-17\n",
      "Upper middle decreases on 2021-01-21\n",
      "Upper middle decreases on 2021-01-28\n",
      "Upper middle decreases on 2021-02-01\n",
      "Upper middle decreases on 2021-02-04\n",
      "Upper middle decreases on 2021-02-05\n",
      "Upper middle decreases on 2021-02-08\n",
      "Upper middle decreases on 2021-02-10\n",
      "Upper middle decreases on 2021-02-14\n",
      "Upper middle decreases on 2021-02-23\n",
      "Upper middle decreases on 2021-02-25\n",
      "Upper middle decreases on 2021-02-27\n",
      "Upper middle decreases on 2021-03-01\n",
      "Upper middle decreases on 2021-03-05\n",
      "Upper middle decreases on 2021-03-06\n",
      "Upper middle decreases on 2021-03-07\n",
      "Upper middle decreases on 2021-03-12\n",
      "Upper middle decreases on 2021-03-15\n",
      "Upper middle decreases on 2021-03-16\n",
      "Upper middle decreases on 2021-03-21\n",
      "Upper middle decreases on 2021-03-25\n",
      "Upper middle decreases on 2021-03-27\n",
      "Upper middle decreases on 2021-03-28\n",
      "Upper middle decreases on 2021-04-01\n",
      "Upper middle decreases on 2021-04-03\n",
      "Upper middle decreases on 2021-04-06\n",
      "Upper middle decreases on 2021-04-11\n",
      "Upper middle decreases on 2021-04-15\n",
      "Upper middle decreases on 2021-04-24\n",
      "Upper middle decreases on 2021-04-26\n",
      "Upper middle decreases on 2021-05-02\n",
      "Upper middle decreases on 2021-05-04\n",
      "Upper middle decreases on 2021-05-08\n",
      "Upper middle decreases on 2021-05-09\n",
      "Upper middle decreases on 2021-05-14\n",
      "Upper middle decreases on 2021-05-18\n",
      "Upper middle decreases on 2021-05-21\n",
      "Upper middle decreases on 2021-05-27\n",
      "Upper middle decreases on 2021-06-07\n",
      "Upper middle decreases on 2021-06-12\n"
     ]
    }
   ],
   "source": [
    "for country in gdp_percentile_data['gdp_per_cap_percentile'].drop_duplicates().sort_values():\n",
    "    df_temp = gdp_percentile_data[gdp_percentile_data['gdp_per_cap_percentile']==country]\n",
    "    old_value = 0\n",
    "\n",
    "    date_start = df_temp['date'].min()\n",
    "\n",
    "    day = date_start\n",
    "\n",
    "    # print('Data starts at:', day)\n",
    "    for index, row in df_temp.iterrows():\n",
    "        value = row['total_vaccinations']\n",
    "        date = row['date']\n",
    "\n",
    "        if date != day:\n",
    "            print(country, 'missing date:', day)\n",
    "\n",
    "        if value < old_value:\n",
    "            print(country, 'decreases on', date)\n",
    "\n",
    "        old_value = value\n",
    "        day = day + datetime.timedelta(days=1)"
   ]
  },
  {
   "source": [
    "## Rearanging data to work in the d3 streamgraph"
   ],
   "cell_type": "markdown",
   "metadata": {}
  },
  {
   "cell_type": "code",
   "execution_count": 135,
   "metadata": {},
   "outputs": [
    {
     "output_type": "execute_result",
     "data": {
      "text/plain": [
       "['gdp_per_cap_percentile',\n",
       " 'date',\n",
       " 'total_cases',\n",
       " 'new_cases',\n",
       " 'new_cases_smoothed',\n",
       " 'total_deaths',\n",
       " 'new_deaths',\n",
       " 'new_deaths_smoothed',\n",
       " 'icu_patients',\n",
       " 'hosp_patients',\n",
       " 'weekly_icu_admissions',\n",
       " 'weekly_hosp_admissions',\n",
       " 'new_tests',\n",
       " 'total_tests',\n",
       " 'new_tests_smoothed',\n",
       " 'positive_rate',\n",
       " 'total_vaccinations',\n",
       " 'people_vaccinated',\n",
       " 'people_fully_vaccinated',\n",
       " 'new_vaccinations',\n",
       " 'new_vaccinations_smoothed']"
      ]
     },
     "metadata": {},
     "execution_count": 135
    }
   ],
   "source": [
    "list(gdp_percentile_data)"
   ]
  },
  {
   "cell_type": "code",
   "execution_count": 136,
   "metadata": {},
   "outputs": [],
   "source": [
    "value_type = 'new_vaccinations'"
   ]
  },
  {
   "cell_type": "code",
   "execution_count": 137,
   "metadata": {},
   "outputs": [
    {
     "output_type": "execute_result",
     "data": {
      "text/plain": [
       "  gdp_per_cap_percentile        date  total_cases  new_cases  \\\n",
       "0                   High  2020-01-01          0.0        0.0   \n",
       "1                   High  2020-01-02          0.0        0.0   \n",
       "2                   High  2020-01-03          0.0        0.0   \n",
       "3                   High  2020-01-04          0.0        0.0   \n",
       "4                   High  2020-01-05          0.0        0.0   \n",
       "\n",
       "   new_cases_smoothed  total_deaths  new_deaths  new_deaths_smoothed  \\\n",
       "0                 0.0           0.0         0.0                  0.0   \n",
       "1                 0.0           0.0         0.0                  0.0   \n",
       "2                 0.0           0.0         0.0                  0.0   \n",
       "3                 0.0           0.0         0.0                  0.0   \n",
       "4                 0.0           0.0         0.0                  0.0   \n",
       "\n",
       "   icu_patients  hosp_patients  ...  weekly_hosp_admissions  new_tests  \\\n",
       "0           0.0            0.0  ...                     0.0        0.0   \n",
       "1           0.0            0.0  ...                     0.0        0.0   \n",
       "2           0.0            0.0  ...                     0.0        0.0   \n",
       "3           0.0            0.0  ...                     0.0        0.0   \n",
       "4           0.0            0.0  ...                     0.0        0.0   \n",
       "\n",
       "   total_tests  new_tests_smoothed  positive_rate  total_vaccinations  \\\n",
       "0          0.0                 0.0            0.0                 0.0   \n",
       "1          0.0                 0.0            0.0                 0.0   \n",
       "2          0.0                 0.0            0.0                 0.0   \n",
       "3          0.0                 0.0            0.0                 0.0   \n",
       "4          0.0                 0.0            0.0                 0.0   \n",
       "\n",
       "   people_vaccinated  people_fully_vaccinated  new_vaccinations  \\\n",
       "0                0.0                      0.0               0.0   \n",
       "1                0.0                      0.0               0.0   \n",
       "2                0.0                      0.0               0.0   \n",
       "3                0.0                      0.0               0.0   \n",
       "4                0.0                      0.0               0.0   \n",
       "\n",
       "   new_vaccinations_smoothed  \n",
       "0                        0.0  \n",
       "1                        0.0  \n",
       "2                        0.0  \n",
       "3                        0.0  \n",
       "4                        0.0  \n",
       "\n",
       "[5 rows x 21 columns]"
      ],
      "text/html": "<div>\n<style scoped>\n    .dataframe tbody tr th:only-of-type {\n        vertical-align: middle;\n    }\n\n    .dataframe tbody tr th {\n        vertical-align: top;\n    }\n\n    .dataframe thead th {\n        text-align: right;\n    }\n</style>\n<table border=\"1\" class=\"dataframe\">\n  <thead>\n    <tr style=\"text-align: right;\">\n      <th></th>\n      <th>gdp_per_cap_percentile</th>\n      <th>date</th>\n      <th>total_cases</th>\n      <th>new_cases</th>\n      <th>new_cases_smoothed</th>\n      <th>total_deaths</th>\n      <th>new_deaths</th>\n      <th>new_deaths_smoothed</th>\n      <th>icu_patients</th>\n      <th>hosp_patients</th>\n      <th>...</th>\n      <th>weekly_hosp_admissions</th>\n      <th>new_tests</th>\n      <th>total_tests</th>\n      <th>new_tests_smoothed</th>\n      <th>positive_rate</th>\n      <th>total_vaccinations</th>\n      <th>people_vaccinated</th>\n      <th>people_fully_vaccinated</th>\n      <th>new_vaccinations</th>\n      <th>new_vaccinations_smoothed</th>\n    </tr>\n  </thead>\n  <tbody>\n    <tr>\n      <th>0</th>\n      <td>High</td>\n      <td>2020-01-01</td>\n      <td>0.0</td>\n      <td>0.0</td>\n      <td>0.0</td>\n      <td>0.0</td>\n      <td>0.0</td>\n      <td>0.0</td>\n      <td>0.0</td>\n      <td>0.0</td>\n      <td>...</td>\n      <td>0.0</td>\n      <td>0.0</td>\n      <td>0.0</td>\n      <td>0.0</td>\n      <td>0.0</td>\n      <td>0.0</td>\n      <td>0.0</td>\n      <td>0.0</td>\n      <td>0.0</td>\n      <td>0.0</td>\n    </tr>\n    <tr>\n      <th>1</th>\n      <td>High</td>\n      <td>2020-01-02</td>\n      <td>0.0</td>\n      <td>0.0</td>\n      <td>0.0</td>\n      <td>0.0</td>\n      <td>0.0</td>\n      <td>0.0</td>\n      <td>0.0</td>\n      <td>0.0</td>\n      <td>...</td>\n      <td>0.0</td>\n      <td>0.0</td>\n      <td>0.0</td>\n      <td>0.0</td>\n      <td>0.0</td>\n      <td>0.0</td>\n      <td>0.0</td>\n      <td>0.0</td>\n      <td>0.0</td>\n      <td>0.0</td>\n    </tr>\n    <tr>\n      <th>2</th>\n      <td>High</td>\n      <td>2020-01-03</td>\n      <td>0.0</td>\n      <td>0.0</td>\n      <td>0.0</td>\n      <td>0.0</td>\n      <td>0.0</td>\n      <td>0.0</td>\n      <td>0.0</td>\n      <td>0.0</td>\n      <td>...</td>\n      <td>0.0</td>\n      <td>0.0</td>\n      <td>0.0</td>\n      <td>0.0</td>\n      <td>0.0</td>\n      <td>0.0</td>\n      <td>0.0</td>\n      <td>0.0</td>\n      <td>0.0</td>\n      <td>0.0</td>\n    </tr>\n    <tr>\n      <th>3</th>\n      <td>High</td>\n      <td>2020-01-04</td>\n      <td>0.0</td>\n      <td>0.0</td>\n      <td>0.0</td>\n      <td>0.0</td>\n      <td>0.0</td>\n      <td>0.0</td>\n      <td>0.0</td>\n      <td>0.0</td>\n      <td>...</td>\n      <td>0.0</td>\n      <td>0.0</td>\n      <td>0.0</td>\n      <td>0.0</td>\n      <td>0.0</td>\n      <td>0.0</td>\n      <td>0.0</td>\n      <td>0.0</td>\n      <td>0.0</td>\n      <td>0.0</td>\n    </tr>\n    <tr>\n      <th>4</th>\n      <td>High</td>\n      <td>2020-01-05</td>\n      <td>0.0</td>\n      <td>0.0</td>\n      <td>0.0</td>\n      <td>0.0</td>\n      <td>0.0</td>\n      <td>0.0</td>\n      <td>0.0</td>\n      <td>0.0</td>\n      <td>...</td>\n      <td>0.0</td>\n      <td>0.0</td>\n      <td>0.0</td>\n      <td>0.0</td>\n      <td>0.0</td>\n      <td>0.0</td>\n      <td>0.0</td>\n      <td>0.0</td>\n      <td>0.0</td>\n      <td>0.0</td>\n    </tr>\n  </tbody>\n</table>\n<p>5 rows × 21 columns</p>\n</div>"
     },
     "metadata": {},
     "execution_count": 137
    }
   ],
   "source": [
    "gdp_percentile_data.head(5)"
   ]
  },
  {
   "cell_type": "code",
   "execution_count": 138,
   "metadata": {},
   "outputs": [],
   "source": [
    "dates = list(gdp_percentile_data['date'].sort_values().drop_duplicates())\n",
    "wealth_groups = list(gdp_percentile_data['gdp_per_cap_percentile'].sort_values().drop_duplicates().dropna())"
   ]
  },
  {
   "cell_type": "code",
   "execution_count": 139,
   "metadata": {},
   "outputs": [],
   "source": [
    "new_data = []\n",
    "new_header = ['date'] + wealth_groups\n",
    "new_values = [[0,0,0,0]]\n",
    "for row_num, date in enumerate(dates):\n",
    "    new_row = [date]\n",
    "    date_df = gdp_percentile_data[gdp_percentile_data['date'] == date]\n",
    "\n",
    "    last_values_row = new_values[row_num]\n",
    "    new_values_row = []\n",
    "    for col_num, group in enumerate(wealth_groups):\n",
    "        group_date_df = date_df[date_df['gdp_per_cap_percentile'] == group]\n",
    "\n",
    "        last_value = last_values_row[col_num]\n",
    "        value = list(group_date_df[value_type])[0]\n",
    "        new_value = value + last_value\n",
    "\n",
    "        new_values_row.append(new_value)\n",
    "        \n",
    "        new_row.append(new_value)\n",
    "\n",
    "    \n",
    "    new_values.append(new_values_row)\n",
    "    new_data.append(new_row)\n",
    "\n",
    "stream_graph_data = pd.DataFrame(new_data, columns = new_header)"
   ]
  },
  {
   "cell_type": "code",
   "execution_count": 140,
   "metadata": {},
   "outputs": [],
   "source": [
    "stream_graph_data = stream_graph_data[stream_graph_data['date'] >= datetime.date(2020, 12, 8)]"
   ]
  },
  {
   "cell_type": "code",
   "execution_count": 141,
   "metadata": {},
   "outputs": [
    {
     "output_type": "execute_result",
     "data": {
      "text/plain": [
       "           date         High         Low  Lower middle  Upper middle\n",
       "342  2020-12-08          0.0         0.0           0.0  0.000000e+00\n",
       "343  2020-12-09          0.0         0.0           0.0  0.000000e+00\n",
       "344  2020-12-10          0.0         0.0           0.0  0.000000e+00\n",
       "345  2020-12-11          0.0         0.0           0.0  0.000000e+00\n",
       "346  2020-12-12          0.0         0.0           0.0  0.000000e+00\n",
       "..          ...          ...         ...           ...           ...\n",
       "526  2021-06-10  683672622.0  13751477.0   284064069.0  1.024871e+09\n",
       "527  2021-06-11  690139558.0  13919360.0   288619235.0  1.047261e+09\n",
       "528  2021-06-12  695083687.0  14045766.0   291851685.0  1.064665e+09\n",
       "529  2021-06-13  697634973.0  14162066.0   295633192.0  1.080389e+09\n",
       "530  2021-06-14  697634973.0  14162066.0   295633192.0  1.080389e+09\n",
       "\n",
       "[189 rows x 5 columns]"
      ],
      "text/html": "<div>\n<style scoped>\n    .dataframe tbody tr th:only-of-type {\n        vertical-align: middle;\n    }\n\n    .dataframe tbody tr th {\n        vertical-align: top;\n    }\n\n    .dataframe thead th {\n        text-align: right;\n    }\n</style>\n<table border=\"1\" class=\"dataframe\">\n  <thead>\n    <tr style=\"text-align: right;\">\n      <th></th>\n      <th>date</th>\n      <th>High</th>\n      <th>Low</th>\n      <th>Lower middle</th>\n      <th>Upper middle</th>\n    </tr>\n  </thead>\n  <tbody>\n    <tr>\n      <th>342</th>\n      <td>2020-12-08</td>\n      <td>0.0</td>\n      <td>0.0</td>\n      <td>0.0</td>\n      <td>0.000000e+00</td>\n    </tr>\n    <tr>\n      <th>343</th>\n      <td>2020-12-09</td>\n      <td>0.0</td>\n      <td>0.0</td>\n      <td>0.0</td>\n      <td>0.000000e+00</td>\n    </tr>\n    <tr>\n      <th>344</th>\n      <td>2020-12-10</td>\n      <td>0.0</td>\n      <td>0.0</td>\n      <td>0.0</td>\n      <td>0.000000e+00</td>\n    </tr>\n    <tr>\n      <th>345</th>\n      <td>2020-12-11</td>\n      <td>0.0</td>\n      <td>0.0</td>\n      <td>0.0</td>\n      <td>0.000000e+00</td>\n    </tr>\n    <tr>\n      <th>346</th>\n      <td>2020-12-12</td>\n      <td>0.0</td>\n      <td>0.0</td>\n      <td>0.0</td>\n      <td>0.000000e+00</td>\n    </tr>\n    <tr>\n      <th>...</th>\n      <td>...</td>\n      <td>...</td>\n      <td>...</td>\n      <td>...</td>\n      <td>...</td>\n    </tr>\n    <tr>\n      <th>526</th>\n      <td>2021-06-10</td>\n      <td>683672622.0</td>\n      <td>13751477.0</td>\n      <td>284064069.0</td>\n      <td>1.024871e+09</td>\n    </tr>\n    <tr>\n      <th>527</th>\n      <td>2021-06-11</td>\n      <td>690139558.0</td>\n      <td>13919360.0</td>\n      <td>288619235.0</td>\n      <td>1.047261e+09</td>\n    </tr>\n    <tr>\n      <th>528</th>\n      <td>2021-06-12</td>\n      <td>695083687.0</td>\n      <td>14045766.0</td>\n      <td>291851685.0</td>\n      <td>1.064665e+09</td>\n    </tr>\n    <tr>\n      <th>529</th>\n      <td>2021-06-13</td>\n      <td>697634973.0</td>\n      <td>14162066.0</td>\n      <td>295633192.0</td>\n      <td>1.080389e+09</td>\n    </tr>\n    <tr>\n      <th>530</th>\n      <td>2021-06-14</td>\n      <td>697634973.0</td>\n      <td>14162066.0</td>\n      <td>295633192.0</td>\n      <td>1.080389e+09</td>\n    </tr>\n  </tbody>\n</table>\n<p>189 rows × 5 columns</p>\n</div>"
     },
     "metadata": {},
     "execution_count": 141
    }
   ],
   "source": [
    "stream_graph_data"
   ]
  },
  {
   "cell_type": "code",
   "execution_count": 142,
   "metadata": {},
   "outputs": [],
   "source": [
    "stream_graph_data.to_csv('data/vaccine_stream_data.csv', index = False)"
   ]
  },
  {
   "source": [
    "## Testing stream data"
   ],
   "cell_type": "markdown",
   "metadata": {}
  },
  {
   "source": [
    "Running a test to see if the values ever decrease. They should not"
   ],
   "cell_type": "markdown",
   "metadata": {}
  },
  {
   "cell_type": "code",
   "execution_count": 143,
   "metadata": {},
   "outputs": [],
   "source": [
    "for wealth_group in wealth_groups:\n",
    "    old_value = 0\n",
    "    for index, row in stream_graph_data.iterrows():\n",
    "        value = row[wealth_group]\n",
    "        date = row['date']\n",
    "\n",
    "        if value < old_value:\n",
    "            print(wealth_group, 'decreases on', date)\n",
    "\n",
    "        old_value = value"
   ]
  },
  {
   "cell_type": "code",
   "execution_count": null,
   "metadata": {},
   "outputs": [],
   "source": []
  }
 ],
 "metadata": {
  "kernelspec": {
   "name": "python374jvsc74a57bd05e98c824ef30c57fed549efa009181d056e304fc9dac7ebd3cb5f873eb313ade",
   "display_name": "Python 3.7.4 64-bit ('my_environment': conda)"
  },
  "language_info": {
   "codemirror_mode": {
    "name": "ipython",
    "version": 3
   },
   "file_extension": ".py",
   "mimetype": "text/x-python",
   "name": "python",
   "nbconvert_exporter": "python",
   "pygments_lexer": "ipython3",
   "version": "3.7.4"
  },
  "metadata": {
   "interpreter": {
    "hash": "3bb1bf59519017508f4066f9e8be1ba5da2eeff26afa7cdd8bc0ff3a90a7fbbf"
   }
  }
 },
 "nbformat": 4,
 "nbformat_minor": 4
}